{
 "cells": [
  {
   "cell_type": "markdown",
   "metadata": {},
   "source": [
    "# 8. Фильтрация данных в DataFrame"
   ]
  },
  {
   "cell_type": "code",
   "execution_count": 1,
   "metadata": {},
   "outputs": [],
   "source": [
    "import pandas as pd\n",
    "\n",
    "melb_data = pd.read_csv('data/melb_data.csv', sep=',')"
   ]
  },
  {
   "cell_type": "markdown",
   "metadata": {},
   "source": [
    "Часто возникает необходимость исследовать определённую группу объектов по какому-то условию, например найти здания с ценой меньше 1 миллиона или выделить из всей таблицы помещения с двумя комнатами.\n",
    "\n",
    "Такие задачи называются задачами фильтрации.\n",
    "\n",
    "Под фильтрацией в DataFrame подразумевается получение новой таблицы путём вырезания строк, не удовлетворяющих поставленному условию. \n",
    "\n",
    "Разберём классический способ фильтрации в DataFrame — фильтрацию с помощью масок.\n",
    "\n",
    "Маской называется Series, которая состоит из булевых значений, при этом значения True соответствуют тем индексам, для которых заданное условие выполняется, в противном случае ставится значение False (например, цена > 2 млн).\n",
    "\n",
    "Создадим маску и положим её в переменную с именем mask. Синтаксис очень прост:"
   ]
  },
  {
   "cell_type": "code",
   "execution_count": 2,
   "metadata": {},
   "outputs": [
    {
     "data": {
      "text/plain": [
       "0        False\n",
       "1        False\n",
       "2        False\n",
       "3        False\n",
       "4        False\n",
       "         ...  \n",
       "13575    False\n",
       "13576    False\n",
       "13577    False\n",
       "13578     True\n",
       "13579    False\n",
       "Name: Price, Length: 13580, dtype: bool"
      ]
     },
     "metadata": {},
     "output_type": "display_data"
    }
   ],
   "source": [
    "mask = melb_data['Price'] > 2000000\n",
    "display(mask)"
   ]
  },
  {
   "cell_type": "markdown",
   "metadata": {},
   "source": [
    "Для фильтрации нужно просто подставить переменную mask в индексацию DataFrame. Маска показывает, какие строки нужно оставлять в результирующем наборе, а какие — убирать (выведем первые пять строк отфильтрованной таблицы):"
   ]
  },
  {
   "cell_type": "code",
   "execution_count": 3,
   "metadata": {},
   "outputs": [
    {
     "data": {
      "text/html": [
       "<div>\n",
       "<style scoped>\n",
       "    .dataframe tbody tr th:only-of-type {\n",
       "        vertical-align: middle;\n",
       "    }\n",
       "\n",
       "    .dataframe tbody tr th {\n",
       "        vertical-align: top;\n",
       "    }\n",
       "\n",
       "    .dataframe thead th {\n",
       "        text-align: right;\n",
       "    }\n",
       "</style>\n",
       "<table border=\"1\" class=\"dataframe\">\n",
       "  <thead>\n",
       "    <tr style=\"text-align: right;\">\n",
       "      <th></th>\n",
       "      <th>index</th>\n",
       "      <th>Suburb</th>\n",
       "      <th>Address</th>\n",
       "      <th>Rooms</th>\n",
       "      <th>Type</th>\n",
       "      <th>Price</th>\n",
       "      <th>Method</th>\n",
       "      <th>SellerG</th>\n",
       "      <th>Date</th>\n",
       "      <th>Distance</th>\n",
       "      <th>...</th>\n",
       "      <th>Car</th>\n",
       "      <th>Landsize</th>\n",
       "      <th>BuildingArea</th>\n",
       "      <th>YearBuilt</th>\n",
       "      <th>CouncilArea</th>\n",
       "      <th>Lattitude</th>\n",
       "      <th>Longtitude</th>\n",
       "      <th>Regionname</th>\n",
       "      <th>Propertycount</th>\n",
       "      <th>Coordinates</th>\n",
       "    </tr>\n",
       "  </thead>\n",
       "  <tbody>\n",
       "    <tr>\n",
       "      <th>80</th>\n",
       "      <td>80</td>\n",
       "      <td>Albert Park</td>\n",
       "      <td>112 Beaconsfield Pde</td>\n",
       "      <td>3</td>\n",
       "      <td>h</td>\n",
       "      <td>2850000.0</td>\n",
       "      <td>PI</td>\n",
       "      <td>Buxton</td>\n",
       "      <td>4/03/2017</td>\n",
       "      <td>3.3</td>\n",
       "      <td>...</td>\n",
       "      <td>0.0</td>\n",
       "      <td>211.0</td>\n",
       "      <td>198.0</td>\n",
       "      <td>1890.0</td>\n",
       "      <td>Port Phillip</td>\n",
       "      <td>-37.8481</td>\n",
       "      <td>144.9499</td>\n",
       "      <td>Southern Metropolitan</td>\n",
       "      <td>3280.0</td>\n",
       "      <td>-37.8481, 144.9499</td>\n",
       "    </tr>\n",
       "    <tr>\n",
       "      <th>85</th>\n",
       "      <td>85</td>\n",
       "      <td>Albert Park</td>\n",
       "      <td>104 Richardson St</td>\n",
       "      <td>4</td>\n",
       "      <td>h</td>\n",
       "      <td>2300000.0</td>\n",
       "      <td>S</td>\n",
       "      <td>Marshall</td>\n",
       "      <td>7/05/2016</td>\n",
       "      <td>3.3</td>\n",
       "      <td>...</td>\n",
       "      <td>1.0</td>\n",
       "      <td>153.0</td>\n",
       "      <td>180.0</td>\n",
       "      <td>1880.0</td>\n",
       "      <td>Port Phillip</td>\n",
       "      <td>-37.8447</td>\n",
       "      <td>144.9523</td>\n",
       "      <td>Southern Metropolitan</td>\n",
       "      <td>3280.0</td>\n",
       "      <td>-37.8447, 144.9523</td>\n",
       "    </tr>\n",
       "    <tr>\n",
       "      <th>88</th>\n",
       "      <td>88</td>\n",
       "      <td>Albert Park</td>\n",
       "      <td>29 Faussett St</td>\n",
       "      <td>2</td>\n",
       "      <td>h</td>\n",
       "      <td>2120000.0</td>\n",
       "      <td>S</td>\n",
       "      <td>Greg</td>\n",
       "      <td>10/09/2016</td>\n",
       "      <td>3.3</td>\n",
       "      <td>...</td>\n",
       "      <td>1.0</td>\n",
       "      <td>199.0</td>\n",
       "      <td>107.0</td>\n",
       "      <td>1900.0</td>\n",
       "      <td>Port Phillip</td>\n",
       "      <td>-37.8422</td>\n",
       "      <td>144.9554</td>\n",
       "      <td>Southern Metropolitan</td>\n",
       "      <td>3280.0</td>\n",
       "      <td>-37.8422, 144.9554</td>\n",
       "    </tr>\n",
       "    <tr>\n",
       "      <th>92</th>\n",
       "      <td>92</td>\n",
       "      <td>Albert Park</td>\n",
       "      <td>2 Dundas Pl</td>\n",
       "      <td>3</td>\n",
       "      <td>h</td>\n",
       "      <td>2615000.0</td>\n",
       "      <td>S</td>\n",
       "      <td>Cayzer</td>\n",
       "      <td>10/12/2016</td>\n",
       "      <td>3.3</td>\n",
       "      <td>...</td>\n",
       "      <td>1.0</td>\n",
       "      <td>177.0</td>\n",
       "      <td>181.0</td>\n",
       "      <td>1880.0</td>\n",
       "      <td>Port Phillip</td>\n",
       "      <td>-37.8415</td>\n",
       "      <td>144.9585</td>\n",
       "      <td>Southern Metropolitan</td>\n",
       "      <td>3280.0</td>\n",
       "      <td>-37.8415, 144.9585</td>\n",
       "    </tr>\n",
       "    <tr>\n",
       "      <th>93</th>\n",
       "      <td>93</td>\n",
       "      <td>Albert Park</td>\n",
       "      <td>23 Finlay St</td>\n",
       "      <td>5</td>\n",
       "      <td>h</td>\n",
       "      <td>2100000.0</td>\n",
       "      <td>S</td>\n",
       "      <td>Greg</td>\n",
       "      <td>10/12/2016</td>\n",
       "      <td>3.3</td>\n",
       "      <td>...</td>\n",
       "      <td>1.0</td>\n",
       "      <td>237.0</td>\n",
       "      <td>126.0</td>\n",
       "      <td>1970.0</td>\n",
       "      <td>Port Phillip</td>\n",
       "      <td>-37.8436</td>\n",
       "      <td>144.9557</td>\n",
       "      <td>Southern Metropolitan</td>\n",
       "      <td>3280.0</td>\n",
       "      <td>-37.8436, 144.9557</td>\n",
       "    </tr>\n",
       "  </tbody>\n",
       "</table>\n",
       "<p>5 rows × 23 columns</p>\n",
       "</div>"
      ],
      "text/plain": [
       "    index       Suburb               Address  Rooms Type      Price Method  \\\n",
       "80     80  Albert Park  112 Beaconsfield Pde      3    h  2850000.0     PI   \n",
       "85     85  Albert Park     104 Richardson St      4    h  2300000.0      S   \n",
       "88     88  Albert Park        29 Faussett St      2    h  2120000.0      S   \n",
       "92     92  Albert Park           2 Dundas Pl      3    h  2615000.0      S   \n",
       "93     93  Albert Park          23 Finlay St      5    h  2100000.0      S   \n",
       "\n",
       "     SellerG        Date  Distance  ...  Car  Landsize  BuildingArea  \\\n",
       "80    Buxton   4/03/2017       3.3  ...  0.0     211.0         198.0   \n",
       "85  Marshall   7/05/2016       3.3  ...  1.0     153.0         180.0   \n",
       "88      Greg  10/09/2016       3.3  ...  1.0     199.0         107.0   \n",
       "92    Cayzer  10/12/2016       3.3  ...  1.0     177.0         181.0   \n",
       "93      Greg  10/12/2016       3.3  ...  1.0     237.0         126.0   \n",
       "\n",
       "    YearBuilt   CouncilArea  Lattitude  Longtitude             Regionname  \\\n",
       "80     1890.0  Port Phillip   -37.8481    144.9499  Southern Metropolitan   \n",
       "85     1880.0  Port Phillip   -37.8447    144.9523  Southern Metropolitan   \n",
       "88     1900.0  Port Phillip   -37.8422    144.9554  Southern Metropolitan   \n",
       "92     1880.0  Port Phillip   -37.8415    144.9585  Southern Metropolitan   \n",
       "93     1970.0  Port Phillip   -37.8436    144.9557  Southern Metropolitan   \n",
       "\n",
       "    Propertycount         Coordinates  \n",
       "80         3280.0  -37.8481, 144.9499  \n",
       "85         3280.0  -37.8447, 144.9523  \n",
       "88         3280.0  -37.8422, 144.9554  \n",
       "92         3280.0  -37.8415, 144.9585  \n",
       "93         3280.0  -37.8436, 144.9557  \n",
       "\n",
       "[5 rows x 23 columns]"
      ]
     },
     "metadata": {},
     "output_type": "display_data"
    }
   ],
   "source": [
    "display(melb_data[mask].head())"
   ]
  },
  {
   "cell_type": "markdown",
   "metadata": {},
   "source": [
    "Примечание. В результате выполнения фильтрации возвращается новый DataFrame, полученный из исходного, при этом исходная таблица melb_data остаётся без изменений.\n",
    "\n",
    "Также вовсе не обязательно заносить маску в отдельную переменную — можно сразу вставлять условие в операцию индексации DataFrame, например:"
   ]
  },
  {
   "cell_type": "code",
   "execution_count": 4,
   "metadata": {},
   "outputs": [
    {
     "data": {
      "text/html": [
       "<div>\n",
       "<style scoped>\n",
       "    .dataframe tbody tr th:only-of-type {\n",
       "        vertical-align: middle;\n",
       "    }\n",
       "\n",
       "    .dataframe tbody tr th {\n",
       "        vertical-align: top;\n",
       "    }\n",
       "\n",
       "    .dataframe thead th {\n",
       "        text-align: right;\n",
       "    }\n",
       "</style>\n",
       "<table border=\"1\" class=\"dataframe\">\n",
       "  <thead>\n",
       "    <tr style=\"text-align: right;\">\n",
       "      <th></th>\n",
       "      <th>index</th>\n",
       "      <th>Suburb</th>\n",
       "      <th>Address</th>\n",
       "      <th>Rooms</th>\n",
       "      <th>Type</th>\n",
       "      <th>Price</th>\n",
       "      <th>Method</th>\n",
       "      <th>SellerG</th>\n",
       "      <th>Date</th>\n",
       "      <th>Distance</th>\n",
       "      <th>...</th>\n",
       "      <th>Car</th>\n",
       "      <th>Landsize</th>\n",
       "      <th>BuildingArea</th>\n",
       "      <th>YearBuilt</th>\n",
       "      <th>CouncilArea</th>\n",
       "      <th>Lattitude</th>\n",
       "      <th>Longtitude</th>\n",
       "      <th>Regionname</th>\n",
       "      <th>Propertycount</th>\n",
       "      <th>Coordinates</th>\n",
       "    </tr>\n",
       "  </thead>\n",
       "  <tbody>\n",
       "    <tr>\n",
       "      <th>80</th>\n",
       "      <td>80</td>\n",
       "      <td>Albert Park</td>\n",
       "      <td>112 Beaconsfield Pde</td>\n",
       "      <td>3</td>\n",
       "      <td>h</td>\n",
       "      <td>2850000.0</td>\n",
       "      <td>PI</td>\n",
       "      <td>Buxton</td>\n",
       "      <td>4/03/2017</td>\n",
       "      <td>3.3</td>\n",
       "      <td>...</td>\n",
       "      <td>0.0</td>\n",
       "      <td>211.0</td>\n",
       "      <td>198.0</td>\n",
       "      <td>1890.0</td>\n",
       "      <td>Port Phillip</td>\n",
       "      <td>-37.8481</td>\n",
       "      <td>144.9499</td>\n",
       "      <td>Southern Metropolitan</td>\n",
       "      <td>3280.0</td>\n",
       "      <td>-37.8481, 144.9499</td>\n",
       "    </tr>\n",
       "    <tr>\n",
       "      <th>85</th>\n",
       "      <td>85</td>\n",
       "      <td>Albert Park</td>\n",
       "      <td>104 Richardson St</td>\n",
       "      <td>4</td>\n",
       "      <td>h</td>\n",
       "      <td>2300000.0</td>\n",
       "      <td>S</td>\n",
       "      <td>Marshall</td>\n",
       "      <td>7/05/2016</td>\n",
       "      <td>3.3</td>\n",
       "      <td>...</td>\n",
       "      <td>1.0</td>\n",
       "      <td>153.0</td>\n",
       "      <td>180.0</td>\n",
       "      <td>1880.0</td>\n",
       "      <td>Port Phillip</td>\n",
       "      <td>-37.8447</td>\n",
       "      <td>144.9523</td>\n",
       "      <td>Southern Metropolitan</td>\n",
       "      <td>3280.0</td>\n",
       "      <td>-37.8447, 144.9523</td>\n",
       "    </tr>\n",
       "    <tr>\n",
       "      <th>88</th>\n",
       "      <td>88</td>\n",
       "      <td>Albert Park</td>\n",
       "      <td>29 Faussett St</td>\n",
       "      <td>2</td>\n",
       "      <td>h</td>\n",
       "      <td>2120000.0</td>\n",
       "      <td>S</td>\n",
       "      <td>Greg</td>\n",
       "      <td>10/09/2016</td>\n",
       "      <td>3.3</td>\n",
       "      <td>...</td>\n",
       "      <td>1.0</td>\n",
       "      <td>199.0</td>\n",
       "      <td>107.0</td>\n",
       "      <td>1900.0</td>\n",
       "      <td>Port Phillip</td>\n",
       "      <td>-37.8422</td>\n",
       "      <td>144.9554</td>\n",
       "      <td>Southern Metropolitan</td>\n",
       "      <td>3280.0</td>\n",
       "      <td>-37.8422, 144.9554</td>\n",
       "    </tr>\n",
       "    <tr>\n",
       "      <th>92</th>\n",
       "      <td>92</td>\n",
       "      <td>Albert Park</td>\n",
       "      <td>2 Dundas Pl</td>\n",
       "      <td>3</td>\n",
       "      <td>h</td>\n",
       "      <td>2615000.0</td>\n",
       "      <td>S</td>\n",
       "      <td>Cayzer</td>\n",
       "      <td>10/12/2016</td>\n",
       "      <td>3.3</td>\n",
       "      <td>...</td>\n",
       "      <td>1.0</td>\n",
       "      <td>177.0</td>\n",
       "      <td>181.0</td>\n",
       "      <td>1880.0</td>\n",
       "      <td>Port Phillip</td>\n",
       "      <td>-37.8415</td>\n",
       "      <td>144.9585</td>\n",
       "      <td>Southern Metropolitan</td>\n",
       "      <td>3280.0</td>\n",
       "      <td>-37.8415, 144.9585</td>\n",
       "    </tr>\n",
       "    <tr>\n",
       "      <th>93</th>\n",
       "      <td>93</td>\n",
       "      <td>Albert Park</td>\n",
       "      <td>23 Finlay St</td>\n",
       "      <td>5</td>\n",
       "      <td>h</td>\n",
       "      <td>2100000.0</td>\n",
       "      <td>S</td>\n",
       "      <td>Greg</td>\n",
       "      <td>10/12/2016</td>\n",
       "      <td>3.3</td>\n",
       "      <td>...</td>\n",
       "      <td>1.0</td>\n",
       "      <td>237.0</td>\n",
       "      <td>126.0</td>\n",
       "      <td>1970.0</td>\n",
       "      <td>Port Phillip</td>\n",
       "      <td>-37.8436</td>\n",
       "      <td>144.9557</td>\n",
       "      <td>Southern Metropolitan</td>\n",
       "      <td>3280.0</td>\n",
       "      <td>-37.8436, 144.9557</td>\n",
       "    </tr>\n",
       "  </tbody>\n",
       "</table>\n",
       "<p>5 rows × 23 columns</p>\n",
       "</div>"
      ],
      "text/plain": [
       "    index       Suburb               Address  Rooms Type      Price Method  \\\n",
       "80     80  Albert Park  112 Beaconsfield Pde      3    h  2850000.0     PI   \n",
       "85     85  Albert Park     104 Richardson St      4    h  2300000.0      S   \n",
       "88     88  Albert Park        29 Faussett St      2    h  2120000.0      S   \n",
       "92     92  Albert Park           2 Dundas Pl      3    h  2615000.0      S   \n",
       "93     93  Albert Park          23 Finlay St      5    h  2100000.0      S   \n",
       "\n",
       "     SellerG        Date  Distance  ...  Car  Landsize  BuildingArea  \\\n",
       "80    Buxton   4/03/2017       3.3  ...  0.0     211.0         198.0   \n",
       "85  Marshall   7/05/2016       3.3  ...  1.0     153.0         180.0   \n",
       "88      Greg  10/09/2016       3.3  ...  1.0     199.0         107.0   \n",
       "92    Cayzer  10/12/2016       3.3  ...  1.0     177.0         181.0   \n",
       "93      Greg  10/12/2016       3.3  ...  1.0     237.0         126.0   \n",
       "\n",
       "    YearBuilt   CouncilArea  Lattitude  Longtitude             Regionname  \\\n",
       "80     1890.0  Port Phillip   -37.8481    144.9499  Southern Metropolitan   \n",
       "85     1880.0  Port Phillip   -37.8447    144.9523  Southern Metropolitan   \n",
       "88     1900.0  Port Phillip   -37.8422    144.9554  Southern Metropolitan   \n",
       "92     1880.0  Port Phillip   -37.8415    144.9585  Southern Metropolitan   \n",
       "93     1970.0  Port Phillip   -37.8436    144.9557  Southern Metropolitan   \n",
       "\n",
       "    Propertycount         Coordinates  \n",
       "80         3280.0  -37.8481, 144.9499  \n",
       "85         3280.0  -37.8447, 144.9523  \n",
       "88         3280.0  -37.8422, 144.9554  \n",
       "92         3280.0  -37.8415, 144.9585  \n",
       "93         3280.0  -37.8436, 144.9557  \n",
       "\n",
       "[5 rows x 23 columns]"
      ]
     },
     "execution_count": 4,
     "metadata": {},
     "output_type": "execute_result"
    }
   ],
   "source": [
    "melb_data[melb_data['Price'] > 2000000].head()"
   ]
  },
  {
   "cell_type": "markdown",
   "metadata": {},
   "source": [
    "Найдём количество зданий с тремя комнатами. Для этого отфильтруем таблицу по условию: обратимся к результирующей таблице по столбцу Rooms и найдём число строк в ней с помощью атрибута shape:"
   ]
  },
  {
   "cell_type": "code",
   "execution_count": 5,
   "metadata": {},
   "outputs": [
    {
     "data": {
      "text/plain": [
       "5881"
      ]
     },
     "execution_count": 5,
     "metadata": {},
     "output_type": "execute_result"
    }
   ],
   "source": [
    "melb_data[melb_data['Rooms'] == 3].shape[0]"
   ]
  },
  {
   "cell_type": "markdown",
   "metadata": {},
   "source": [
    "Примечание от Киселева А.Н.: есть более эффективный способ подсчета таких данных:"
   ]
  },
  {
   "cell_type": "code",
   "execution_count": 6,
   "metadata": {},
   "outputs": [
    {
     "data": {
      "text/plain": [
       "5881"
      ]
     },
     "execution_count": 6,
     "metadata": {},
     "output_type": "execute_result"
    }
   ],
   "source": [
    "sum(melb_data['Rooms'] == 3)"
   ]
  },
  {
   "cell_type": "markdown",
   "metadata": {},
   "source": [
    "Условия можно комбинировать, используя операторы & (логическое И) и | (логическое ИЛИ). Условия при этом заключаются в скобки."
   ]
  },
  {
   "cell_type": "markdown",
   "metadata": {},
   "source": [
    "Усложним прошлый пример и найдём число трёхкомнатных домов с ценой менее 300 тысяч:"
   ]
  },
  {
   "cell_type": "code",
   "execution_count": 7,
   "metadata": {},
   "outputs": [
    {
     "data": {
      "text/html": [
       "<div>\n",
       "<style scoped>\n",
       "    .dataframe tbody tr th:only-of-type {\n",
       "        vertical-align: middle;\n",
       "    }\n",
       "\n",
       "    .dataframe tbody tr th {\n",
       "        vertical-align: top;\n",
       "    }\n",
       "\n",
       "    .dataframe thead th {\n",
       "        text-align: right;\n",
       "    }\n",
       "</style>\n",
       "<table border=\"1\" class=\"dataframe\">\n",
       "  <thead>\n",
       "    <tr style=\"text-align: right;\">\n",
       "      <th></th>\n",
       "      <th>index</th>\n",
       "      <th>Suburb</th>\n",
       "      <th>Address</th>\n",
       "      <th>Rooms</th>\n",
       "      <th>Type</th>\n",
       "      <th>Price</th>\n",
       "      <th>Method</th>\n",
       "      <th>SellerG</th>\n",
       "      <th>Date</th>\n",
       "      <th>Distance</th>\n",
       "      <th>...</th>\n",
       "      <th>Car</th>\n",
       "      <th>Landsize</th>\n",
       "      <th>BuildingArea</th>\n",
       "      <th>YearBuilt</th>\n",
       "      <th>CouncilArea</th>\n",
       "      <th>Lattitude</th>\n",
       "      <th>Longtitude</th>\n",
       "      <th>Regionname</th>\n",
       "      <th>Propertycount</th>\n",
       "      <th>Coordinates</th>\n",
       "    </tr>\n",
       "  </thead>\n",
       "  <tbody>\n",
       "    <tr>\n",
       "      <th>10394</th>\n",
       "      <td>10394</td>\n",
       "      <td>Melton</td>\n",
       "      <td>14 Musk Ct</td>\n",
       "      <td>3</td>\n",
       "      <td>h</td>\n",
       "      <td>295000.0</td>\n",
       "      <td>SP</td>\n",
       "      <td>PRDNationwide</td>\n",
       "      <td>27/05/2017</td>\n",
       "      <td>31.7</td>\n",
       "      <td>...</td>\n",
       "      <td>4.0</td>\n",
       "      <td>600.0</td>\n",
       "      <td>122.86</td>\n",
       "      <td>1975.0</td>\n",
       "      <td>Melton</td>\n",
       "      <td>-37.68734</td>\n",
       "      <td>144.58001</td>\n",
       "      <td>Western Victoria</td>\n",
       "      <td>3600.0</td>\n",
       "      <td>-37.68734, 144.58001</td>\n",
       "    </tr>\n",
       "    <tr>\n",
       "      <th>10576</th>\n",
       "      <td>10576</td>\n",
       "      <td>Bacchus Marsh</td>\n",
       "      <td>4 Lidgett St</td>\n",
       "      <td>3</td>\n",
       "      <td>h</td>\n",
       "      <td>285000.0</td>\n",
       "      <td>S</td>\n",
       "      <td>Ryder</td>\n",
       "      <td>8/07/2017</td>\n",
       "      <td>37.5</td>\n",
       "      <td>...</td>\n",
       "      <td>2.0</td>\n",
       "      <td>612.0</td>\n",
       "      <td>126.00</td>\n",
       "      <td>1970.0</td>\n",
       "      <td>Moorabool</td>\n",
       "      <td>-37.67344</td>\n",
       "      <td>144.43181</td>\n",
       "      <td>Western Victoria</td>\n",
       "      <td>2871.0</td>\n",
       "      <td>-37.67344, 144.43181</td>\n",
       "    </tr>\n",
       "    <tr>\n",
       "      <th>13227</th>\n",
       "      <td>13227</td>\n",
       "      <td>Melton</td>\n",
       "      <td>118 Barries Rd</td>\n",
       "      <td>3</td>\n",
       "      <td>h</td>\n",
       "      <td>283000.0</td>\n",
       "      <td>S</td>\n",
       "      <td>FN</td>\n",
       "      <td>23/09/2017</td>\n",
       "      <td>31.7</td>\n",
       "      <td>...</td>\n",
       "      <td>0.0</td>\n",
       "      <td>362.0</td>\n",
       "      <td>19.00</td>\n",
       "      <td>1976.0</td>\n",
       "      <td>NaN</td>\n",
       "      <td>-37.68755</td>\n",
       "      <td>144.56887</td>\n",
       "      <td>Western Victoria</td>\n",
       "      <td>3600.0</td>\n",
       "      <td>-37.68755, 144.56887</td>\n",
       "    </tr>\n",
       "  </tbody>\n",
       "</table>\n",
       "<p>3 rows × 23 columns</p>\n",
       "</div>"
      ],
      "text/plain": [
       "       index         Suburb         Address  Rooms Type     Price Method  \\\n",
       "10394  10394         Melton      14 Musk Ct      3    h  295000.0     SP   \n",
       "10576  10576  Bacchus Marsh    4 Lidgett St      3    h  285000.0      S   \n",
       "13227  13227         Melton  118 Barries Rd      3    h  283000.0      S   \n",
       "\n",
       "             SellerG        Date  Distance  ...  Car  Landsize  BuildingArea  \\\n",
       "10394  PRDNationwide  27/05/2017      31.7  ...  4.0     600.0        122.86   \n",
       "10576          Ryder   8/07/2017      37.5  ...  2.0     612.0        126.00   \n",
       "13227             FN  23/09/2017      31.7  ...  0.0     362.0         19.00   \n",
       "\n",
       "       YearBuilt  CouncilArea  Lattitude  Longtitude        Regionname  \\\n",
       "10394     1975.0       Melton  -37.68734   144.58001  Western Victoria   \n",
       "10576     1970.0    Moorabool  -37.67344   144.43181  Western Victoria   \n",
       "13227     1976.0          NaN  -37.68755   144.56887  Western Victoria   \n",
       "\n",
       "       Propertycount           Coordinates  \n",
       "10394         3600.0  -37.68734, 144.58001  \n",
       "10576         2871.0  -37.67344, 144.43181  \n",
       "13227         3600.0  -37.68755, 144.56887  \n",
       "\n",
       "[3 rows x 23 columns]"
      ]
     },
     "execution_count": 7,
     "metadata": {},
     "output_type": "execute_result"
    }
   ],
   "source": [
    "melb_data[(melb_data['Rooms'] == 3) & (melb_data['Price'] < 300000)]"
   ]
  },
  {
   "cell_type": "markdown",
   "metadata": {},
   "source": [
    "Таких зданий оказалось всего три. Немного «ослабим» условие: теперь нас будут интересовать дома с ценой менее 300 тысяч, у которых либо число комнат равно 3 либо площадь домов более 100 квадратных метров:"
   ]
  },
  {
   "cell_type": "code",
   "execution_count": 8,
   "metadata": {},
   "outputs": [
    {
     "data": {
      "text/html": [
       "<div>\n",
       "<style scoped>\n",
       "    .dataframe tbody tr th:only-of-type {\n",
       "        vertical-align: middle;\n",
       "    }\n",
       "\n",
       "    .dataframe tbody tr th {\n",
       "        vertical-align: top;\n",
       "    }\n",
       "\n",
       "    .dataframe thead th {\n",
       "        text-align: right;\n",
       "    }\n",
       "</style>\n",
       "<table border=\"1\" class=\"dataframe\">\n",
       "  <thead>\n",
       "    <tr style=\"text-align: right;\">\n",
       "      <th></th>\n",
       "      <th>index</th>\n",
       "      <th>Suburb</th>\n",
       "      <th>Address</th>\n",
       "      <th>Rooms</th>\n",
       "      <th>Type</th>\n",
       "      <th>Price</th>\n",
       "      <th>Method</th>\n",
       "      <th>SellerG</th>\n",
       "      <th>Date</th>\n",
       "      <th>Distance</th>\n",
       "      <th>...</th>\n",
       "      <th>Car</th>\n",
       "      <th>Landsize</th>\n",
       "      <th>BuildingArea</th>\n",
       "      <th>YearBuilt</th>\n",
       "      <th>CouncilArea</th>\n",
       "      <th>Lattitude</th>\n",
       "      <th>Longtitude</th>\n",
       "      <th>Regionname</th>\n",
       "      <th>Propertycount</th>\n",
       "      <th>Coordinates</th>\n",
       "    </tr>\n",
       "  </thead>\n",
       "  <tbody>\n",
       "    <tr>\n",
       "      <th>491</th>\n",
       "      <td>491</td>\n",
       "      <td>Balaclava</td>\n",
       "      <td>3/88 Grosvenor St</td>\n",
       "      <td>1</td>\n",
       "      <td>u</td>\n",
       "      <td>280000.0</td>\n",
       "      <td>VB</td>\n",
       "      <td>hockingstuart</td>\n",
       "      <td>7/05/2016</td>\n",
       "      <td>6.6</td>\n",
       "      <td>...</td>\n",
       "      <td>1.0</td>\n",
       "      <td>0.0</td>\n",
       "      <td>126.0</td>\n",
       "      <td>1970.0</td>\n",
       "      <td>Port Phillip</td>\n",
       "      <td>-37.87330</td>\n",
       "      <td>144.99700</td>\n",
       "      <td>Southern Metropolitan</td>\n",
       "      <td>2952.0</td>\n",
       "      <td>-37.8733, 144.997</td>\n",
       "    </tr>\n",
       "    <tr>\n",
       "      <th>977</th>\n",
       "      <td>977</td>\n",
       "      <td>Box Hill</td>\n",
       "      <td>1/7 Glenmore St</td>\n",
       "      <td>1</td>\n",
       "      <td>u</td>\n",
       "      <td>288000.0</td>\n",
       "      <td>SP</td>\n",
       "      <td>hockingstuart</td>\n",
       "      <td>12/06/2016</td>\n",
       "      <td>13.1</td>\n",
       "      <td>...</td>\n",
       "      <td>1.0</td>\n",
       "      <td>774.0</td>\n",
       "      <td>126.0</td>\n",
       "      <td>1970.0</td>\n",
       "      <td>Whitehorse</td>\n",
       "      <td>-37.82410</td>\n",
       "      <td>145.12620</td>\n",
       "      <td>Eastern Metropolitan</td>\n",
       "      <td>4605.0</td>\n",
       "      <td>-37.8241, 145.1262</td>\n",
       "    </tr>\n",
       "    <tr>\n",
       "      <th>1370</th>\n",
       "      <td>1370</td>\n",
       "      <td>Brunswick</td>\n",
       "      <td>10/150 Brunswick Rd</td>\n",
       "      <td>1</td>\n",
       "      <td>u</td>\n",
       "      <td>240000.0</td>\n",
       "      <td>PI</td>\n",
       "      <td>Hodges</td>\n",
       "      <td>27/11/2016</td>\n",
       "      <td>5.2</td>\n",
       "      <td>...</td>\n",
       "      <td>1.0</td>\n",
       "      <td>0.0</td>\n",
       "      <td>126.0</td>\n",
       "      <td>1970.0</td>\n",
       "      <td>Moreland</td>\n",
       "      <td>-37.77760</td>\n",
       "      <td>144.96330</td>\n",
       "      <td>Northern Metropolitan</td>\n",
       "      <td>11918.0</td>\n",
       "      <td>-37.7776, 144.9633</td>\n",
       "    </tr>\n",
       "    <tr>\n",
       "      <th>1706</th>\n",
       "      <td>1706</td>\n",
       "      <td>Carnegie</td>\n",
       "      <td>3/21 Jersey Pde</td>\n",
       "      <td>1</td>\n",
       "      <td>u</td>\n",
       "      <td>255000.0</td>\n",
       "      <td>S</td>\n",
       "      <td>Ray</td>\n",
       "      <td>4/03/2017</td>\n",
       "      <td>11.4</td>\n",
       "      <td>...</td>\n",
       "      <td>1.0</td>\n",
       "      <td>0.0</td>\n",
       "      <td>126.0</td>\n",
       "      <td>1970.0</td>\n",
       "      <td>Glen Eira</td>\n",
       "      <td>-37.88750</td>\n",
       "      <td>145.05990</td>\n",
       "      <td>Southern Metropolitan</td>\n",
       "      <td>7822.0</td>\n",
       "      <td>-37.8875, 145.0599</td>\n",
       "    </tr>\n",
       "    <tr>\n",
       "      <th>1724</th>\n",
       "      <td>1724</td>\n",
       "      <td>Carnegie</td>\n",
       "      <td>10/68 Woornack Rd</td>\n",
       "      <td>1</td>\n",
       "      <td>u</td>\n",
       "      <td>260000.0</td>\n",
       "      <td>VB</td>\n",
       "      <td>Gary</td>\n",
       "      <td>7/05/2016</td>\n",
       "      <td>11.4</td>\n",
       "      <td>...</td>\n",
       "      <td>1.0</td>\n",
       "      <td>0.0</td>\n",
       "      <td>126.0</td>\n",
       "      <td>1968.0</td>\n",
       "      <td>Glen Eira</td>\n",
       "      <td>-37.89830</td>\n",
       "      <td>145.06270</td>\n",
       "      <td>Southern Metropolitan</td>\n",
       "      <td>7822.0</td>\n",
       "      <td>-37.8983, 145.0627</td>\n",
       "    </tr>\n",
       "    <tr>\n",
       "      <th>...</th>\n",
       "      <td>...</td>\n",
       "      <td>...</td>\n",
       "      <td>...</td>\n",
       "      <td>...</td>\n",
       "      <td>...</td>\n",
       "      <td>...</td>\n",
       "      <td>...</td>\n",
       "      <td>...</td>\n",
       "      <td>...</td>\n",
       "      <td>...</td>\n",
       "      <td>...</td>\n",
       "      <td>...</td>\n",
       "      <td>...</td>\n",
       "      <td>...</td>\n",
       "      <td>...</td>\n",
       "      <td>...</td>\n",
       "      <td>...</td>\n",
       "      <td>...</td>\n",
       "      <td>...</td>\n",
       "      <td>...</td>\n",
       "      <td>...</td>\n",
       "    </tr>\n",
       "    <tr>\n",
       "      <th>12010</th>\n",
       "      <td>12010</td>\n",
       "      <td>Frankston</td>\n",
       "      <td>4/93 Dandenong Rd E</td>\n",
       "      <td>2</td>\n",
       "      <td>u</td>\n",
       "      <td>266000.0</td>\n",
       "      <td>S</td>\n",
       "      <td>Buxton</td>\n",
       "      <td>29/07/2017</td>\n",
       "      <td>38.0</td>\n",
       "      <td>...</td>\n",
       "      <td>1.0</td>\n",
       "      <td>0.0</td>\n",
       "      <td>126.0</td>\n",
       "      <td>1968.0</td>\n",
       "      <td>Frankston</td>\n",
       "      <td>-38.13275</td>\n",
       "      <td>145.13099</td>\n",
       "      <td>South-Eastern Metropolitan</td>\n",
       "      <td>17055.0</td>\n",
       "      <td>-38.13275, 145.13099</td>\n",
       "    </tr>\n",
       "    <tr>\n",
       "      <th>12059</th>\n",
       "      <td>12059</td>\n",
       "      <td>Kingsville</td>\n",
       "      <td>5/35 Kingsville St</td>\n",
       "      <td>1</td>\n",
       "      <td>u</td>\n",
       "      <td>216000.0</td>\n",
       "      <td>SP</td>\n",
       "      <td>Jas</td>\n",
       "      <td>29/07/2017</td>\n",
       "      <td>6.4</td>\n",
       "      <td>...</td>\n",
       "      <td>1.0</td>\n",
       "      <td>0.0</td>\n",
       "      <td>126.0</td>\n",
       "      <td>1970.0</td>\n",
       "      <td>Maribyrnong</td>\n",
       "      <td>-37.80893</td>\n",
       "      <td>144.87878</td>\n",
       "      <td>Western Metropolitan</td>\n",
       "      <td>1808.0</td>\n",
       "      <td>-37.80893, 144.87878</td>\n",
       "    </tr>\n",
       "    <tr>\n",
       "      <th>12493</th>\n",
       "      <td>12493</td>\n",
       "      <td>Epping</td>\n",
       "      <td>10/81 Rufus St</td>\n",
       "      <td>2</td>\n",
       "      <td>u</td>\n",
       "      <td>291000.0</td>\n",
       "      <td>S</td>\n",
       "      <td>HAR</td>\n",
       "      <td>9/09/2017</td>\n",
       "      <td>19.6</td>\n",
       "      <td>...</td>\n",
       "      <td>1.0</td>\n",
       "      <td>161.0</td>\n",
       "      <td>126.0</td>\n",
       "      <td>1970.0</td>\n",
       "      <td>NaN</td>\n",
       "      <td>-37.64888</td>\n",
       "      <td>145.02313</td>\n",
       "      <td>Northern Metropolitan</td>\n",
       "      <td>10926.0</td>\n",
       "      <td>-37.64888, 145.02313</td>\n",
       "    </tr>\n",
       "    <tr>\n",
       "      <th>12666</th>\n",
       "      <td>12666</td>\n",
       "      <td>Brunswick</td>\n",
       "      <td>4/831 Park St</td>\n",
       "      <td>1</td>\n",
       "      <td>u</td>\n",
       "      <td>170000.0</td>\n",
       "      <td>VB</td>\n",
       "      <td>Nelson</td>\n",
       "      <td>16/09/2017</td>\n",
       "      <td>5.2</td>\n",
       "      <td>...</td>\n",
       "      <td>0.0</td>\n",
       "      <td>1250.0</td>\n",
       "      <td>126.0</td>\n",
       "      <td>1970.0</td>\n",
       "      <td>NaN</td>\n",
       "      <td>-37.77685</td>\n",
       "      <td>144.95188</td>\n",
       "      <td>Northern Metropolitan</td>\n",
       "      <td>11918.0</td>\n",
       "      <td>-37.77685, 144.95188</td>\n",
       "    </tr>\n",
       "    <tr>\n",
       "      <th>13227</th>\n",
       "      <td>13227</td>\n",
       "      <td>Melton</td>\n",
       "      <td>118 Barries Rd</td>\n",
       "      <td>3</td>\n",
       "      <td>h</td>\n",
       "      <td>283000.0</td>\n",
       "      <td>S</td>\n",
       "      <td>FN</td>\n",
       "      <td>23/09/2017</td>\n",
       "      <td>31.7</td>\n",
       "      <td>...</td>\n",
       "      <td>0.0</td>\n",
       "      <td>362.0</td>\n",
       "      <td>19.0</td>\n",
       "      <td>1976.0</td>\n",
       "      <td>NaN</td>\n",
       "      <td>-37.68755</td>\n",
       "      <td>144.56887</td>\n",
       "      <td>Western Victoria</td>\n",
       "      <td>3600.0</td>\n",
       "      <td>-37.68755, 144.56887</td>\n",
       "    </tr>\n",
       "  </tbody>\n",
       "</table>\n",
       "<p>68 rows × 23 columns</p>\n",
       "</div>"
      ],
      "text/plain": [
       "       index      Suburb              Address  Rooms Type     Price Method  \\\n",
       "491      491   Balaclava    3/88 Grosvenor St      1    u  280000.0     VB   \n",
       "977      977    Box Hill      1/7 Glenmore St      1    u  288000.0     SP   \n",
       "1370    1370   Brunswick  10/150 Brunswick Rd      1    u  240000.0     PI   \n",
       "1706    1706    Carnegie      3/21 Jersey Pde      1    u  255000.0      S   \n",
       "1724    1724    Carnegie    10/68 Woornack Rd      1    u  260000.0     VB   \n",
       "...      ...         ...                  ...    ...  ...       ...    ...   \n",
       "12010  12010   Frankston  4/93 Dandenong Rd E      2    u  266000.0      S   \n",
       "12059  12059  Kingsville   5/35 Kingsville St      1    u  216000.0     SP   \n",
       "12493  12493      Epping       10/81 Rufus St      2    u  291000.0      S   \n",
       "12666  12666   Brunswick        4/831 Park St      1    u  170000.0     VB   \n",
       "13227  13227      Melton       118 Barries Rd      3    h  283000.0      S   \n",
       "\n",
       "             SellerG        Date  Distance  ...  Car  Landsize  BuildingArea  \\\n",
       "491    hockingstuart   7/05/2016       6.6  ...  1.0       0.0         126.0   \n",
       "977    hockingstuart  12/06/2016      13.1  ...  1.0     774.0         126.0   \n",
       "1370          Hodges  27/11/2016       5.2  ...  1.0       0.0         126.0   \n",
       "1706             Ray   4/03/2017      11.4  ...  1.0       0.0         126.0   \n",
       "1724            Gary   7/05/2016      11.4  ...  1.0       0.0         126.0   \n",
       "...              ...         ...       ...  ...  ...       ...           ...   \n",
       "12010         Buxton  29/07/2017      38.0  ...  1.0       0.0         126.0   \n",
       "12059            Jas  29/07/2017       6.4  ...  1.0       0.0         126.0   \n",
       "12493            HAR   9/09/2017      19.6  ...  1.0     161.0         126.0   \n",
       "12666         Nelson  16/09/2017       5.2  ...  0.0    1250.0         126.0   \n",
       "13227             FN  23/09/2017      31.7  ...  0.0     362.0          19.0   \n",
       "\n",
       "       YearBuilt   CouncilArea  Lattitude  Longtitude  \\\n",
       "491       1970.0  Port Phillip  -37.87330   144.99700   \n",
       "977       1970.0    Whitehorse  -37.82410   145.12620   \n",
       "1370      1970.0      Moreland  -37.77760   144.96330   \n",
       "1706      1970.0     Glen Eira  -37.88750   145.05990   \n",
       "1724      1968.0     Glen Eira  -37.89830   145.06270   \n",
       "...          ...           ...        ...         ...   \n",
       "12010     1968.0     Frankston  -38.13275   145.13099   \n",
       "12059     1970.0   Maribyrnong  -37.80893   144.87878   \n",
       "12493     1970.0           NaN  -37.64888   145.02313   \n",
       "12666     1970.0           NaN  -37.77685   144.95188   \n",
       "13227     1976.0           NaN  -37.68755   144.56887   \n",
       "\n",
       "                       Regionname  Propertycount           Coordinates  \n",
       "491         Southern Metropolitan         2952.0     -37.8733, 144.997  \n",
       "977          Eastern Metropolitan         4605.0    -37.8241, 145.1262  \n",
       "1370        Northern Metropolitan        11918.0    -37.7776, 144.9633  \n",
       "1706        Southern Metropolitan         7822.0    -37.8875, 145.0599  \n",
       "1724        Southern Metropolitan         7822.0    -37.8983, 145.0627  \n",
       "...                           ...            ...                   ...  \n",
       "12010  South-Eastern Metropolitan        17055.0  -38.13275, 145.13099  \n",
       "12059        Western Metropolitan         1808.0  -37.80893, 144.87878  \n",
       "12493       Northern Metropolitan        10926.0  -37.64888, 145.02313  \n",
       "12666       Northern Metropolitan        11918.0  -37.77685, 144.95188  \n",
       "13227            Western Victoria         3600.0  -37.68755, 144.56887  \n",
       "\n",
       "[68 rows x 23 columns]"
      ]
     },
     "execution_count": 8,
     "metadata": {},
     "output_type": "execute_result"
    }
   ],
   "source": [
    "melb_data[(melb_data['Price'] < 300000) & ((melb_data['Rooms'] == 3) | (melb_data['BuildingArea'] > 100))]"
   ]
  },
  {
   "cell_type": "markdown",
   "metadata": {},
   "source": [
    "Примечание. Обратите внимание, что использование привычных операторов and и or будет неверным и приведёт к ошибке, так как они выполняют логические операции между двумя булевыми числами. В нашем случае слева и справа от оператора стоят маски (объекты Series), для которых логическую операцию надо совершить поэлементно, а операторы and и or для такого не предназначены."
   ]
  },
  {
   "cell_type": "markdown",
   "metadata": {},
   "source": [
    "Фильтрацию часто сочетают со статистическими методами. Давайте найдём максимальное количество комнат в таунхаусах. Так как в результате фильтрации получается DataFrame, то обратимся к нему по столбцу Rooms и найдём максимальное значение:\n",
    "\n"
   ]
  },
  {
   "cell_type": "code",
   "execution_count": 9,
   "metadata": {},
   "outputs": [
    {
     "data": {
      "text/plain": [
       "5"
      ]
     },
     "execution_count": 9,
     "metadata": {},
     "output_type": "execute_result"
    }
   ],
   "source": [
    "melb_data[melb_data['Type'] == 't']['Rooms'].max()"
   ]
  },
  {
   "cell_type": "markdown",
   "metadata": {},
   "source": [
    "А теперь более сложный трюк: найдём медианную площадь здания у объектов, чья цена выше средней. Для того чтобы оградить наш код от нагромождений, предварительно создадим переменную со средней ценой:"
   ]
  },
  {
   "cell_type": "code",
   "execution_count": 10,
   "metadata": {},
   "outputs": [
    {
     "data": {
      "text/plain": [
       "126.0"
      ]
     },
     "execution_count": 10,
     "metadata": {},
     "output_type": "execute_result"
    }
   ],
   "source": [
    "mean_price = melb_data['Price'].mean()\n",
    "melb_data[melb_data['Price'] > mean_price]['BuildingArea'].median()"
   ]
  },
  {
   "cell_type": "markdown",
   "metadata": {},
   "source": [
    "Фильтрация находит применение в очистке данных.\n",
    "\n",
    "Под очисткой данных понимается удаление из данных аномальных значений (выбросов), пропусков и данных, которые не несут информацию.\n",
    "\n",
    "Причин появления таких дефектов в данных множество: неправильная передача по сети, неверная выгрузка из базы, человеческий фактор и т. д.\n",
    "\n",
    "→ Проблема аномальных значений состоит в том, что если мы обучаем модель на данных, содержащих выбросы, то мы имеем немалый шанс получить менее верный прогноз, чего нам, конечно же, не хотелось бы.\n",
    "\n",
    "✍ Мы будем подробнее говорить о том, как правильно исследовать данные на выбросы, в модуле про очистку данных, а пока предлагаем закрепить ваши знания по фильтрации данных с помощью заданий ниже ↓"
   ]
  },
  {
   "cell_type": "markdown",
   "metadata": {},
   "source": [
    "### Задание 8.1\n",
    "У скольких объектов недвижимости из таблицы melb_data отсутствуют ванные комнаты?\n"
   ]
  },
  {
   "cell_type": "code",
   "execution_count": 11,
   "metadata": {},
   "outputs": [
    {
     "data": {
      "text/plain": [
       "34"
      ]
     },
     "execution_count": 11,
     "metadata": {},
     "output_type": "execute_result"
    }
   ],
   "source": [
    "sum(melb_data['Bathroom'] == 0)"
   ]
  },
  {
   "cell_type": "markdown",
   "metadata": {},
   "source": [
    "Ответ: 34"
   ]
  },
  {
   "cell_type": "markdown",
   "metadata": {},
   "source": [
    "### Задание 8.2\n",
    "Сколько в таблице melb_data объектов недвижимости, которые были проданы риелторской компанией Nelson и стоимость которых составила больше 3 миллионов?"
   ]
  },
  {
   "cell_type": "code",
   "execution_count": 12,
   "metadata": {},
   "outputs": [
    {
     "data": {
      "text/plain": [
       "5"
      ]
     },
     "execution_count": 12,
     "metadata": {},
     "output_type": "execute_result"
    }
   ],
   "source": [
    "sum((melb_data['SellerG'] == 'Nelson') * (melb_data['Price'] > 3000000))"
   ]
  },
  {
   "cell_type": "markdown",
   "metadata": {},
   "source": [
    "Ответ: 5"
   ]
  },
  {
   "cell_type": "markdown",
   "metadata": {},
   "source": [
    "### Задание 8.3\n",
    "Какова минимальная стоимость участка без здания (площадь здания равна 0) в таблице melb_data?"
   ]
  },
  {
   "cell_type": "code",
   "execution_count": 13,
   "metadata": {},
   "outputs": [
    {
     "data": {
      "text/plain": [
       "412500.0"
      ]
     },
     "execution_count": 13,
     "metadata": {},
     "output_type": "execute_result"
    }
   ],
   "source": [
    "melb_data[melb_data['BuildingArea'] == 0]['Price'].min()"
   ]
  },
  {
   "cell_type": "markdown",
   "metadata": {},
   "source": [
    "Ответ: 412500"
   ]
  },
  {
   "cell_type": "markdown",
   "metadata": {},
   "source": [
    "### Задание 8.4\n",
    "Какова средняя цена объектов недвижимости в таблице melb_data с ценой менее одного миллиона, в которых либо количество комнат больше пяти, либо здание моложе 2015 года?"
   ]
  },
  {
   "cell_type": "code",
   "execution_count": 24,
   "metadata": {},
   "outputs": [
    {
     "data": {
      "text/plain": [
       "673681.6344773588"
      ]
     },
     "execution_count": 24,
     "metadata": {},
     "output_type": "execute_result"
    }
   ],
   "source": [
    "melb_data[(melb_data['Price'] < 1000000) & ((melb_data['Rooms'] > 5) ^ (melb_data['YearBuilt'] < 2015))]['Price'].mean()"
   ]
  },
  {
   "cell_type": "markdown",
   "metadata": {},
   "source": [
    "Правильный ответ на платформе: 769239. Задал вопрос в Slack, что я делаю не так."
   ]
  },
  {
   "cell_type": "markdown",
   "metadata": {},
   "source": [
    "### Задание 8.5\n",
    "В каком районе Мельбурна чаще всего продаются виллы и коттеджи (тип здания — h) с ценой меньше трёх миллионов?\n",
    "- Northern Metropolitan\n",
    "- Southern Metropolitan\n",
    "- Eastern Victoria\n",
    "- Northern Victoria"
   ]
  },
  {
   "cell_type": "code",
   "execution_count": 29,
   "metadata": {},
   "outputs": [
    {
     "data": {
      "text/plain": [
       "Northern Metropolitan         2737\n",
       "Southern Metropolitan         2520\n",
       "Western Metropolitan          2286\n",
       "Eastern Metropolitan          1167\n",
       "South-Eastern Metropolitan     387\n",
       "Eastern Victoria                50\n",
       "Northern Victoria               41\n",
       "Western Victoria                32\n",
       "Name: Regionname, dtype: int64"
      ]
     },
     "execution_count": 29,
     "metadata": {},
     "output_type": "execute_result"
    }
   ],
   "source": [
    "melb_data[(melb_data['Type'] == 'h') & (melb_data['Price'] < 3000000)]['Regionname'].value_counts()"
   ]
  },
  {
   "cell_type": "code",
   "execution_count": null,
   "metadata": {},
   "outputs": [],
   "source": []
  }
 ],
 "metadata": {
  "kernelspec": {
   "display_name": "Python 3.9.12 ('base')",
   "language": "python",
   "name": "python3"
  },
  "language_info": {
   "codemirror_mode": {
    "name": "ipython",
    "version": 3
   },
   "file_extension": ".py",
   "mimetype": "text/x-python",
   "name": "python",
   "nbconvert_exporter": "python",
   "pygments_lexer": "ipython3",
   "version": "3.9.12"
  },
  "orig_nbformat": 4,
  "vscode": {
   "interpreter": {
    "hash": "c85ce5e063f82c52011c1c6414d7519d9975c8984a5fd91991e796841fee6f1b"
   }
  }
 },
 "nbformat": 4,
 "nbformat_minor": 2
}
