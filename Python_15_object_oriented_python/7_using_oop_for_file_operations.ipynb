{
 "cells": [
  {
   "cell_type": "markdown",
   "metadata": {},
   "source": [
    "## 7. Применение ООП для работы с файлами\n",
    "\n",
    "✍ В этом юните мы с вами поговорим об основных принципах работы с файлами в языке Python — какие встроенные методы используются для открытия, закрытия, чтения, построчного чтения и так далее.\n",
    "\n",
    "На самом деле файлы, как и всё в Python, являются объектами класса. Причём этот класс встроен в Python. У файлов есть свои атрибуты и методы.\n",
    "\n",
    "Давайте на примере работы с файлами разберём, как работают классы, реализованные «под капотом» в Python ↓\n",
    "\n",
    "## ПУТЬ К ФАЙЛУ\n",
    "\n",
    "Путь (от англ. path) — набор символов, показывающий расположение файла или каталога в файловой системе.\n",
    "\n",
    "В операционных системах UNIX разделительным знаком при записи пути является «/» (слеш), в Windows — «\\» (обратный слеш). Эти знаки служат для разделения названия каталогов, составляющих путь к файлу. Все вы видели, например, такой путь на ОС Windows: C:\\Program Files. Это и есть путь до папки Program Files.\n",
    "\n",
    "Существует два типа пути:\n",
    "- абсолютный;\n",
    "- относительный.\n",
    "\n",
    "Абсолютный путь всегда считается от «корня», той папки, откуда потом «вырастают» все остальные папки. Для Windows это диск С:, D: и т. д., для Unix это “/”. Абсолютный путь всегда уникальный.\n",
    "\n",
    "Абсолютный путь — это путь, который указывает на одно и то же место в файловой системе, вне зависимости от текущего рабочего каталога или других обстоятельств. Его ещё называют полным.\n",
    "\n",
    "![](img/FPW_C3.4._1.png)\n",
    "\n",
    "[Источник: lh3.googleusercontent.com](https://lh3.googleusercontent.com/rTqfwlvs20uk_PzMGX51IIwydk4jZsgqreynXhBU65SHpeLcvSIpikaB_51afwhHPj5oeRj_sJnuEBIAij2W45nMNfNgz4EGt6WPJNzLskwZjtqKdaWAVZjFKVwMprwERIsrMSyl)\n",
    "\n",
    "Относительный путь — это путь по отношению к текущему рабочему каталогу пользователя.\n",
    "\n",
    "Чтобы поработать с путями, есть модуль os. Функция os.chdir() позволяет нам изменить директорию, которую мы в данный момент используем. Если вам нужно знать, какой путь вы в данный момент используете, для этого нужно вызвать os.getcwd().\n",
    "\n",
    "Примечание: Все дальнейшие пути указаны для конкретной машины на ОС Linux. У вас эти результаты будут отличаться."
   ]
  },
  {
   "cell_type": "code",
   "execution_count": 1,
   "metadata": {},
   "outputs": [],
   "source": [
    "import os"
   ]
  },
  {
   "cell_type": "code",
   "execution_count": 2,
   "metadata": {},
   "outputs": [
    {
     "name": "stdout",
     "output_type": "stream",
     "text": [
      "/home/alexey/Learning/sf_datascience/Python_15_object_oriented_python\n"
     ]
    }
   ],
   "source": [
    "# получить текущий путь\n",
    "start_path = os.getcwd()\n",
    "print(start_path)  # /home/nbuser/library\n"
   ]
  },
  {
   "cell_type": "markdown",
   "metadata": {},
   "source": [
    "Далее попробуем подняться на директорию выше:"
   ]
  },
  {
   "cell_type": "code",
   "execution_count": 3,
   "metadata": {},
   "outputs": [
    {
     "data": {
      "text/plain": [
       "'/home/alexey/Learning/sf_datascience'"
      ]
     },
     "execution_count": 3,
     "metadata": {},
     "output_type": "execute_result"
    }
   ],
   "source": [
    "os.chdir(\"..\")  # подняться на один уровень выше\n",
    "os.getcwd()  # '/home/nbuser'\n"
   ]
  },
  {
   "cell_type": "markdown",
   "metadata": {},
   "source": [
    "Теперь вернемся в ту директорию, из которой стартовали. Изначально мы сохраняли её в переменной start_path."
   ]
  },
  {
   "cell_type": "code",
   "execution_count": 4,
   "metadata": {},
   "outputs": [
    {
     "data": {
      "text/plain": [
       "'/home/alexey/Learning/sf_datascience/Python_15_object_oriented_python'"
      ]
     },
     "execution_count": 4,
     "metadata": {},
     "output_type": "execute_result"
    }
   ],
   "source": [
    "os.chdir(start_path)\n",
    "os.getcwd()  # '/home/nbuser/library'\n"
   ]
  },
  {
   "cell_type": "markdown",
   "metadata": {},
   "source": [
    "С помощью функции os.listdir() можно получить весь список файлов, находящихся в директории. Если не указать никаких аргументов, то будет взята текущая директория."
   ]
  },
  {
   "cell_type": "code",
   "execution_count": 5,
   "metadata": {},
   "outputs": [
    {
     "name": "stdout",
     "output_type": "stream",
     "text": [
      "['5_practical_examples.ipynb', '6_knowledge_test.ipynb', 'img', '__pycache__', 'dumper.py', '4_attributes_and_methods.ipynb', '2_oop_principles.ipynb', 'archive', '7_using_oop_for_file_operations.ipynb', '1_introduction.ipynb', '3_objects_and_classes.ipynb']\n",
      "Файл отсутствует в данной директории\n"
     ]
    }
   ],
   "source": [
    "# ['SnapchatLoader', 'FBLoader', 'tmp.py', '.gitignore', 'venv', '.git']\n",
    "print(os.listdir())\n",
    "\n",
    "if 'tmp.py' not in os.listdir():\n",
    "    print(\"Файл отсутствует в данной директории\")\n"
   ]
  },
  {
   "cell_type": "markdown",
   "metadata": {},
   "source": [
    "Для того чтобы склеивать пути с учётом особенностей ОС, следует использовать функцию os.path.join(). Это связано с тем, что в разных операционных системах могут быть разные разделители каталогов, например в ОС Windows этим разделителем является «\\», а в Linux — «/», как мы и говорили в начале юнита. Поэтому, чтобы поиск файла проходил гладко в обеих системах (ведь ваш скрипт могут запускать на любой системе в связи с кросс-платформенностью Python), лучше всё-таки использовать os.path.join()."
   ]
  },
  {
   "cell_type": "code",
   "execution_count": 6,
   "metadata": {},
   "outputs": [
    {
     "name": "stdout",
     "output_type": "stream",
     "text": [
      "/home/alexey/Learning/sf_datascience/Python_15_object_oriented_python\n",
      "/home/alexey/Learning/sf_datascience/Python_15_object_oriented_python/test\n"
     ]
    }
   ],
   "source": [
    "# соединяет пути с учётом особенностей операционной системы\n",
    "print(start_path)\n",
    "print(os.path.join(start_path, 'test'))\n",
    "\n",
    "# /home/nbuser/library\n",
    "# /home/nbuser/library/test\n"
   ]
  },
  {
   "cell_type": "markdown",
   "metadata": {},
   "source": [
    "### Задание 7.1\n",
    "Путь, который указывает на одно и то же место в файловой системе, вне зависимости от текущего рабочего каталога или других обстоятельств, называется:\n",
    "\n",
    "абсолютным\n",
    "\n",
    "Путь по отношению к текущему рабочему каталогу пользователя, называется:\n",
    "\n",
    "относительным"
   ]
  },
  {
   "cell_type": "markdown",
   "metadata": {},
   "source": [
    "### Задание 7.2\n",
    "\n",
    "Соотнесите абсолютные и относительные пути.\n",
    "\n",
    "![](img/15_7_2.png)\n",
    "\n"
   ]
  },
  {
   "cell_type": "markdown",
   "metadata": {},
   "source": [
    "### Задание 7.3\n",
    "Задание на самопроверку.\n",
    "\n",
    "Сделайте функцию, которая принимает от пользователя путь и выводит всю информацию о содержимом этой папки. Для реализации используйте функцию встроенного модуля os.walk(). Если путь не указан, то сравнение начинается с текущей директории."
   ]
  },
  {
   "cell_type": "code",
   "execution_count": 12,
   "metadata": {},
   "outputs": [],
   "source": [
    "def dir_info(dir_path=None):\n",
    "    dir_path = dir_path if dir_path is not None else os.getcwd()\n",
    "    \n",
    "    folders = os.walk(dir_path)\n",
    "    \n",
    "    for info in folders:\n",
    "        print(f'Содержимое каталога {info[0]}')\n",
    "        print('Директории:')\n",
    "        for folder in info[1]:\n",
    "            print(folder)\n",
    "        print('Файлы')\n",
    "        for filename in info[2]:\n",
    "            print(filename)"
   ]
  },
  {
   "cell_type": "code",
   "execution_count": 14,
   "metadata": {},
   "outputs": [],
   "source": [
    "def walk_desc(path=None):\n",
    "    start_path = path if path is not None else os.getcwd()\n",
    "\n",
    "    for root, dirs, files in os.walk(start_path):\n",
    "        print(\"Текущая директория\", root)\n",
    "        print(\"---\")\n",
    "\n",
    "        if dirs:\n",
    "            print(\"Список папок\", dirs)\n",
    "        else:\n",
    "            print(\"Папок нет\")\n",
    "        print(\"---\")\n",
    "\n",
    "        if files:\n",
    "            print(\"Список файлов\", files)\n",
    "        else:\n",
    "            print(\"Файлов нет\")\n",
    "        print(\"---\")\n",
    "\n",
    "        if files and dirs:\n",
    "            print(\"Все пути:\")\n",
    "        for f in files:\n",
    "            print(\"Файл \", os.path.join(root, f))\n",
    "        for d in dirs:\n",
    "            print(\"Папка \", os.path.join(root, d))\n",
    "        print(\"===\")"
   ]
  },
  {
   "cell_type": "code",
   "execution_count": 13,
   "metadata": {},
   "outputs": [
    {
     "name": "stdout",
     "output_type": "stream",
     "text": [
      "Содержимое каталога /home/alexey/Learning/sf_datascience/Python_15_object_oriented_python\n",
      "Директории:\n",
      "img\n",
      "__pycache__\n",
      "archive\n",
      "Файлы\n",
      "5_practical_examples.ipynb\n",
      "6_knowledge_test.ipynb\n",
      "dumper.py\n",
      "4_attributes_and_methods.ipynb\n",
      "2_oop_principles.ipynb\n",
      "7_using_oop_for_file_operations.ipynb\n",
      "1_introduction.ipynb\n",
      "3_objects_and_classes.ipynb\n",
      "Содержимое каталога /home/alexey/Learning/sf_datascience/Python_15_object_oriented_python/img\n",
      "Директории:\n",
      "Файлы\n",
      "dst-3-unit-1-15-2.png\n",
      "dst-3-unit-1-15-1.png\n",
      "dst-3-unit-1-15-5.png\n",
      "FPW_C3.4._1.png\n",
      "dst-3-unit-1-15-5 (1).png\n",
      "dst-3-unit-1-15-4.png\n",
      "dst-3-unit-1-15-6.png\n",
      "dst-3-unit-1-15-3.png\n",
      "dst-3-unit-1-15-7.png\n",
      "15_7_2.png\n",
      "Содержимое каталога /home/alexey/Learning/sf_datascience/Python_15_object_oriented_python/__pycache__\n",
      "Директории:\n",
      "Файлы\n",
      "dumper.cpython-39.pyc\n",
      "Содержимое каталога /home/alexey/Learning/sf_datascience/Python_15_object_oriented_python/archive\n",
      "Директории:\n",
      "Файлы\n",
      "22-09-03.pkl\n"
     ]
    }
   ],
   "source": [
    "dir_info()"
   ]
  },
  {
   "cell_type": "code",
   "execution_count": 15,
   "metadata": {},
   "outputs": [
    {
     "name": "stdout",
     "output_type": "stream",
     "text": [
      "Текущая директория /home/alexey/Learning/sf_datascience/Python_15_object_oriented_python\n",
      "---\n",
      "Список папок ['img', '__pycache__', 'archive']\n",
      "---\n",
      "Список файлов ['5_practical_examples.ipynb', '6_knowledge_test.ipynb', 'dumper.py', '4_attributes_and_methods.ipynb', '2_oop_principles.ipynb', '7_using_oop_for_file_operations.ipynb', '1_introduction.ipynb', '3_objects_and_classes.ipynb']\n",
      "---\n",
      "Все пути:\n",
      "Файл  /home/alexey/Learning/sf_datascience/Python_15_object_oriented_python/5_practical_examples.ipynb\n",
      "Файл  /home/alexey/Learning/sf_datascience/Python_15_object_oriented_python/6_knowledge_test.ipynb\n",
      "Файл  /home/alexey/Learning/sf_datascience/Python_15_object_oriented_python/dumper.py\n",
      "Файл  /home/alexey/Learning/sf_datascience/Python_15_object_oriented_python/4_attributes_and_methods.ipynb\n",
      "Файл  /home/alexey/Learning/sf_datascience/Python_15_object_oriented_python/2_oop_principles.ipynb\n",
      "Файл  /home/alexey/Learning/sf_datascience/Python_15_object_oriented_python/7_using_oop_for_file_operations.ipynb\n",
      "Файл  /home/alexey/Learning/sf_datascience/Python_15_object_oriented_python/1_introduction.ipynb\n",
      "Файл  /home/alexey/Learning/sf_datascience/Python_15_object_oriented_python/3_objects_and_classes.ipynb\n",
      "Папка  /home/alexey/Learning/sf_datascience/Python_15_object_oriented_python/img\n",
      "Папка  /home/alexey/Learning/sf_datascience/Python_15_object_oriented_python/__pycache__\n",
      "Папка  /home/alexey/Learning/sf_datascience/Python_15_object_oriented_python/archive\n",
      "===\n",
      "Текущая директория /home/alexey/Learning/sf_datascience/Python_15_object_oriented_python/img\n",
      "---\n",
      "Папок нет\n",
      "---\n",
      "Список файлов ['dst-3-unit-1-15-2.png', 'dst-3-unit-1-15-1.png', 'dst-3-unit-1-15-5.png', 'FPW_C3.4._1.png', 'dst-3-unit-1-15-5 (1).png', 'dst-3-unit-1-15-4.png', 'dst-3-unit-1-15-6.png', 'dst-3-unit-1-15-3.png', 'dst-3-unit-1-15-7.png', '15_7_2.png']\n",
      "---\n",
      "Файл  /home/alexey/Learning/sf_datascience/Python_15_object_oriented_python/img/dst-3-unit-1-15-2.png\n",
      "Файл  /home/alexey/Learning/sf_datascience/Python_15_object_oriented_python/img/dst-3-unit-1-15-1.png\n",
      "Файл  /home/alexey/Learning/sf_datascience/Python_15_object_oriented_python/img/dst-3-unit-1-15-5.png\n",
      "Файл  /home/alexey/Learning/sf_datascience/Python_15_object_oriented_python/img/FPW_C3.4._1.png\n",
      "Файл  /home/alexey/Learning/sf_datascience/Python_15_object_oriented_python/img/dst-3-unit-1-15-5 (1).png\n",
      "Файл  /home/alexey/Learning/sf_datascience/Python_15_object_oriented_python/img/dst-3-unit-1-15-4.png\n",
      "Файл  /home/alexey/Learning/sf_datascience/Python_15_object_oriented_python/img/dst-3-unit-1-15-6.png\n",
      "Файл  /home/alexey/Learning/sf_datascience/Python_15_object_oriented_python/img/dst-3-unit-1-15-3.png\n",
      "Файл  /home/alexey/Learning/sf_datascience/Python_15_object_oriented_python/img/dst-3-unit-1-15-7.png\n",
      "Файл  /home/alexey/Learning/sf_datascience/Python_15_object_oriented_python/img/15_7_2.png\n",
      "===\n",
      "Текущая директория /home/alexey/Learning/sf_datascience/Python_15_object_oriented_python/__pycache__\n",
      "---\n",
      "Папок нет\n",
      "---\n",
      "Список файлов ['dumper.cpython-39.pyc']\n",
      "---\n",
      "Файл  /home/alexey/Learning/sf_datascience/Python_15_object_oriented_python/__pycache__/dumper.cpython-39.pyc\n",
      "===\n",
      "Текущая директория /home/alexey/Learning/sf_datascience/Python_15_object_oriented_python/archive\n",
      "---\n",
      "Папок нет\n",
      "---\n",
      "Список файлов ['22-09-03.pkl']\n",
      "---\n",
      "Файл  /home/alexey/Learning/sf_datascience/Python_15_object_oriented_python/archive/22-09-03.pkl\n",
      "===\n"
     ]
    }
   ],
   "source": [
    "walk_desc()"
   ]
  },
  {
   "cell_type": "markdown",
   "metadata": {},
   "source": [
    "## РАБОТА С ФАЙЛАМИ\n",
    "\n",
    "Python «из коробки» располагает достаточно широким набором инструментов для работы с файлами. Для того чтобы начать работать с файлом, надо его открыть с помощью команды специальной функции open.\n",
    "\n",
    "``` python\n",
    "f = open('path/to/file', 'filemode', encoding='utf8')\n",
    "```\n",
    "\n",
    "Результатом этой операции будет файл, в котором указатель текущей позиции поставлен на начало или конец файла.\n",
    "\n",
    "Перед тем, как мы начнём разбирать аргументы, хотелось бы заранее отметить, что указателем называется скорее метка, которая указывает на определённое место в файле. Указателей в классическом понимании программиста, как, например, в C или C++ в Python нет!\n",
    "\n",
    "Давайте по порядку разберём все аргументы:\n",
    "- path/to/file — путь к файлу может быть относительным или абсолютным. Можно указывать в Unix-стиле (path/to/file) или в Windows-стиле (path\\to\\file).\n",
    "- filemode — режим, в котором файл нужно открывать.\n",
    "\n",
    "Записывается в виде строки, может принимать следующие значения:\n",
    "- r — открыть на чтение (по умолчанию);\n",
    "- w — перезаписать и открыть на запись (если файла нет, то он создастся);\n",
    "- x — создать и открыть на запись (если уже есть — исключение);\n",
    "- a — открыть на дозапись (указатель будет поставлен в конец);\n",
    "- t — открыть в текстовом виде (по умолчанию);\n",
    "- b — открыть в бинарном виде.\n",
    "- encoding — указание, в какой кодировке файл записан (utf8, cp1251 и т. д.) По умолчанию стоит utf-8. При этом можно записывать кодировку как через дефис, так и без: utf-8 или utf8.\n",
    "\n",
    "Открытие файла на запись является блокирующей операцией, то есть она останавливает работу нашей программы до того, пока файл не откроется.\n",
    "\n",
    "Теперь давайте поговорим про то, как записывать какую-либо информацию в файл.\n",
    "\n",
    "При открытии файла внутри него ставится указатель текущей позиции для чтения. При открытии в режиме чтения ('r') или записи ('w') указатель ставится на начало, в режиме 'a' (добавление новых записей в конец файла) — в конец.\n",
    "\n",
    "Откроем файл на запись и с помощью метода write запишем в него строку. В качестве результата метод write возвращает количество записанных символов."
   ]
  },
  {
   "cell_type": "code",
   "execution_count": 16,
   "metadata": {},
   "outputs": [
    {
     "data": {
      "text/plain": [
       "21"
      ]
     },
     "execution_count": 16,
     "metadata": {},
     "output_type": "execute_result"
    }
   ],
   "source": [
    "f = open('test.txt', 'w', encoding='utf8')\n",
    "\n",
    "# Запишем в файл строку\n",
    "f.write(\"This is a test string\\n\")\n",
    "f.write(\"This is a new string\\n\")\n"
   ]
  },
  {
   "cell_type": "markdown",
   "metadata": {},
   "source": [
    "После вызова команды write ваши данные не сразу попадут и сохранятся в файл. Связано это с особенностями внутренней работы операционных систем. Если для вас критично своевременное попадание информации на жесткий диск компьютера, то после записи вызывайте f.flush() или закрывайте файл. Закрыть файл можно с помощью метода close()."
   ]
  },
  {
   "cell_type": "code",
   "execution_count": 17,
   "metadata": {},
   "outputs": [],
   "source": [
    "# обязательно нужно закрыть файл иначе он будет заблокирован ОС\n",
    "f.close()\n"
   ]
  },
  {
   "cell_type": "markdown",
   "metadata": {},
   "source": [
    "Теперь давайте посмотрим, как читать данные из файла.\n",
    "\n",
    "Откроем файл для чтения, в который только что записали две строки:"
   ]
  },
  {
   "cell_type": "code",
   "execution_count": 18,
   "metadata": {},
   "outputs": [],
   "source": [
    "f = open('test.txt', 'r', encoding='utf8')\n"
   ]
  },
  {
   "cell_type": "markdown",
   "metadata": {},
   "source": [
    "Вот его содержимое на жестком диске:\n",
    "\n",
    "This is a test string\n",
    "This is a new string"
   ]
  },
  {
   "cell_type": "markdown",
   "metadata": {},
   "source": [
    "После того, как файл открыт для чтения, мы можем читать из него данные.\n",
    "\n",
    "f.read(n) — операция, читающая с текущего места n символов, если файл открыт в t режиме, или n байт, если файл открыт в b режиме, и возвращающая прочитанную информацию."
   ]
  },
  {
   "cell_type": "code",
   "execution_count": 19,
   "metadata": {},
   "outputs": [
    {
     "name": "stdout",
     "output_type": "stream",
     "text": [
      "This is a \n"
     ]
    }
   ],
   "source": [
    "print(f.read(10))  # This is a\n"
   ]
  },
  {
   "cell_type": "markdown",
   "metadata": {},
   "source": [
    "После прочтения указатель на содержимое остается на той позиции, где чтение закончилось. Если n не указать, будет прочитано «от печки», то есть от текущего места указателя и до самого конца файла."
   ]
  },
  {
   "cell_type": "code",
   "execution_count": 20,
   "metadata": {},
   "outputs": [
    {
     "data": {
      "text/plain": [
       "'test string\\nThis is a new string\\n'"
      ]
     },
     "execution_count": 20,
     "metadata": {},
     "output_type": "execute_result"
    }
   ],
   "source": [
    "# считали остаток файла\n",
    "f.read()  # test string\\nThis is a new string\\n\n"
   ]
  },
  {
   "cell_type": "markdown",
   "metadata": {},
   "source": [
    "После работы обязательно закрываем файл:"
   ]
  },
  {
   "cell_type": "code",
   "execution_count": 21,
   "metadata": {},
   "outputs": [],
   "source": [
    "# обязательно закрываем файл\n",
    "f.close()\n"
   ]
  },
  {
   "cell_type": "markdown",
   "metadata": {},
   "source": [
    "## ЧТЕНИЕ И ЗАПИСЬ ПОСТРОЧНО\n",
    "\n",
    "Зачастую с файлами удобнее работать построчно, поэтому для этого есть отдельные методы:\n",
    "\n",
    "- writelines — записывает список строк в файл;\n",
    "- readline — считывает из файла одну строку и возвращает её;\n",
    "- readlines — считывает из файла все строки в список и возвращает их.\n",
    "\n",
    "Метод f.writelines(sequence) не будет сам за вас дописывать символ конца строки ('\\n'), поэтому при необходимости его нужно прописать вручную.\n",
    "\n"
   ]
  },
  {
   "cell_type": "code",
   "execution_count": 22,
   "metadata": {},
   "outputs": [],
   "source": [
    "with open('test.txt', 'a', encoding='utf8') as f:\n",
    "    sequence = [\"other string\\n\", \"123\\n\", \"test test\\n\"]\n",
    "    # берет строки из sequence и записывает в файл (без переносов)\n",
    "    f.writelines(sequence)\n"
   ]
  },
  {
   "cell_type": "markdown",
   "metadata": {},
   "source": [
    "Попробуем теперь построчно считать файл с помощью readlines:"
   ]
  },
  {
   "cell_type": "code",
   "execution_count": 23,
   "metadata": {},
   "outputs": [
    {
     "name": "stdout",
     "output_type": "stream",
     "text": [
      "['This is a test string\\n', 'This is a new string\\n', 'other string\\n', '123\\n', 'test test\\n']\n"
     ]
    }
   ],
   "source": [
    "with open('test.txt', 'r', encoding='utf8') as f:\n",
    "    print(f.readlines())  # считывает все строки в список и возвращает список\n"
   ]
  },
  {
   "cell_type": "code",
   "execution_count": 24,
   "metadata": {},
   "outputs": [
    {
     "name": "stdout",
     "output_type": "stream",
     "text": [
      "This is a test string\n",
      "\n",
      "This\n",
      " is a new string\n",
      "\n"
     ]
    }
   ],
   "source": [
    "with open('test.txt', 'r', encoding='utf8') as f:\n",
    "    print(f.readline()) # This is a test string\n",
    "    print(f.read(4)) # This\n",
    "    print(f.readline()) # is a new string"
   ]
  },
  {
   "cell_type": "markdown",
   "metadata": {},
   "source": [
    "## ФАЙЛ КАК ИТЕРАТОР\n",
    "\n",
    "Объект файл является итератором, поэтому его можно использовать в цикле for.\n",
    "\n",
    "Для чего это нужно?\n",
    "\n",
    "Итераторы представляют собой такой объект, который вычисляет какие-то действия на каждом шаге, а не все сразу. На примере файла это выглядит примерно так. Предположим, у вас есть огромный текстовый файл, который весит несколько гигабайт. Если попытаться разом считать его полностью с помощью f.readlines(), то он будет загружен в вашу программу, в то время как переменная, в которую будет записан файл, станет весить столько же, сколько и объём считанного файла.\n",
    "\n",
    "В большинстве задач с обработкой текста он весь сразу не нужен, поэтому мы можем, например, считывать его построчно, обрабатывать строку и забывать из нашей программы, чтобы считать новую. Тогда весь файл огромного объема не будет «висеть» в памяти компьютера.\n",
    "\n",
    "Не стоит считывать файл полностью — в большинстве задач с обработкой текста весь файл разом читать не требуется. В таком случае с файлом работают построчно."
   ]
  },
  {
   "cell_type": "code",
   "execution_count": 25,
   "metadata": {},
   "outputs": [
    {
     "name": "stdout",
     "output_type": "stream",
     "text": [
      "This is a test string\n",
      "This is a new string\n",
      "other string\n",
      "123\n",
      "test test\n"
     ]
    }
   ],
   "source": [
    "with open('test.txt') as f:\n",
    "    for line in f:\n",
    "        print(line, end='')\n"
   ]
  },
  {
   "cell_type": "markdown",
   "metadata": {},
   "source": [
    "Цикл for, как мы помним, — это цикл, который перебирает по очереди.\n",
    "\n",
    "## МЕНЕДЖЕР КОНТЕКСТА WITH\n",
    "\n",
    "После работы с файлом его необходимо закрыть с помощью метода close(). Файл освобождается для операционной системы (если он был открыт для записи), и другие приложения могут получать к нему доступ. Если не закрыть файл явно, то информация, записываемая в него, может быть утеряна, или файл может повредиться.\n",
    "\n",
    "Для явного указания места работы с файлом, а также чтобы не забывать закрывать файл после обработки, существует менеджер контекста with."
   ]
  },
  {
   "cell_type": "code",
   "execution_count": 26,
   "metadata": {},
   "outputs": [
    {
     "ename": "ValueError",
     "evalue": "read of closed file",
     "output_type": "error",
     "traceback": [
      "\u001b[0;31m---------------------------------------------------------------------------\u001b[0m",
      "\u001b[0;31mValueError\u001b[0m                                Traceback (most recent call last)",
      "\u001b[1;32m/home/alexey/Learning/sf_datascience/Python_15_object_oriented_python/7_using_oop_for_file_operations.ipynb Ячейка 40\u001b[0m in \u001b[0;36m<cell line: 6>\u001b[0;34m()\u001b[0m\n\u001b[1;32m      <a href='vscode-notebook-cell:/home/alexey/Learning/sf_datascience/Python_15_object_oriented_python/7_using_oop_for_file_operations.ipynb#X54sZmlsZQ%3D%3D?line=2'>3</a>\u001b[0m     a \u001b[39m=\u001b[39m f\u001b[39m.\u001b[39mread(\u001b[39m10\u001b[39m)\n\u001b[1;32m      <a href='vscode-notebook-cell:/home/alexey/Learning/sf_datascience/Python_15_object_oriented_python/7_using_oop_for_file_operations.ipynb#X54sZmlsZQ%3D%3D?line=3'>4</a>\u001b[0m     b \u001b[39m=\u001b[39m f\u001b[39m.\u001b[39mread(\u001b[39m23\u001b[39m)\n\u001b[0;32m----> <a href='vscode-notebook-cell:/home/alexey/Learning/sf_datascience/Python_15_object_oriented_python/7_using_oop_for_file_operations.ipynb#X54sZmlsZQ%3D%3D?line=5'>6</a>\u001b[0m f\u001b[39m.\u001b[39;49mread(\u001b[39m3\u001b[39;49m)\n",
      "\u001b[0;31mValueError\u001b[0m: read of closed file"
     ]
    }
   ],
   "source": [
    "# В блоке менеджера контекста открытый файл «жив» и с ним можно работать, при выходе из блока - файл закрывается.\n",
    "with open(\"test.txt\", 'rb') as f:\n",
    "    a = f.read(10)\n",
    "    b = f.read(23)\n",
    "\n",
    "f.read(3)  # Error!\n"
   ]
  },
  {
   "cell_type": "markdown",
   "metadata": {},
   "source": [
    "Тело менеджера контекста определяется одним отступом вправо относительно отступов ключевого слова with. Менеджер контекста неявно вызывает закрытие файла после работы, что освобождает вас от забот о том, закрыли ли вы файл или нет. Закрытие файла происходит при любом стечении обстоятельств, даже если внутри with будет ошибка. \n",
    "\n",
    "В дальнейшем мы научимся писать собственные структуры, работающие похожим образом."
   ]
  },
  {
   "cell_type": "markdown",
   "metadata": {},
   "source": [
    "### Задание 7.4\n",
    "Задание на самопроверку.\n",
    "\n",
    "Создайте любой файл на операционной системе под название input.txt и построчно перепишите его в файл output.txt."
   ]
  },
  {
   "cell_type": "code",
   "execution_count": 27,
   "metadata": {},
   "outputs": [],
   "source": [
    "with open('input.txt', 'w') as input:\n",
    "    lines = [\n",
    "        'one\\n',\n",
    "        'tho\\n',\n",
    "        'three\\n',\n",
    "        'four\\n',\n",
    "        'five\\n'\n",
    "    ]\n",
    "    \n",
    "    input.writelines(lines)\n",
    "\n",
    "with open('input.txt', 'r') as input, open('output.txt', 'w') as output:\n",
    "    lines = input.readlines()\n",
    "    output.writelines(lines)"
   ]
  },
  {
   "cell_type": "markdown",
   "metadata": {},
   "source": [
    "## Задание 7.5\n",
    "Задание на самопроверку.\n",
    "\n",
    "Дан файл numbers.txt, компоненты которого являются действительными числами (файл создайте самостоятельно и заполните любыми числам, в одной строке одно число). Найдите сумму наибольшего и наименьшего из значений и запишите результат в файл output.txt."
   ]
  },
  {
   "cell_type": "code",
   "execution_count": 36,
   "metadata": {},
   "outputs": [],
   "source": [
    "lines = []\n",
    "with open('numbers.txt', 'r') as numbers:\n",
    "    lines = numbers.readlines()\n",
    "\n",
    "numbers = list(map(float, lines))\n",
    "\n",
    "with open('output.txt', 'w') as output:\n",
    "    output.write(f'Min + Max = {min(numbers) + max(numbers)}\\n')\n"
   ]
  },
  {
   "cell_type": "markdown",
   "metadata": {},
   "source": [
    "### Задание 7.6\n",
    "Задание на самопроверку.\n",
    "\n",
    "В текстовый файл построчно записаны фамилии и имена учащихся класса и их оценки за контрольную. Подсчитайте количество учащихся, чья оценка меньше 3 баллов. Cодержание файла:"
   ]
  },
  {
   "cell_type": "markdown",
   "metadata": {},
   "source": [
    "Иванов О. 4\n",
    "\n",
    "Петров И. 3\n",
    "\n",
    "Дмитриев Н. 2\n",
    "\n",
    "Смирнова О. 4\n",
    "\n",
    "Керченских В. 5\n",
    "\n",
    "Котов Д. 2\n",
    "\n",
    "Бирюкова Н. 1\n",
    "\n",
    "Данилов П. 3\n",
    "\n",
    "Аранских В. 5\n",
    "\n",
    "Лемонов Ю. 2\n",
    "\n",
    "Олегова К. 4"
   ]
  },
  {
   "cell_type": "code",
   "execution_count": 38,
   "metadata": {},
   "outputs": [
    {
     "name": "stdout",
     "output_type": "stream",
     "text": [
      "Учеников с оценкой меньше 3: 4\n"
     ]
    }
   ],
   "source": [
    "import re\n",
    "\n",
    "regex = re.compile(r'[^0-9]')\n",
    "\n",
    "with open('pupils.txt', 'r') as pupils:\n",
    "    lines = pupils.readlines()\n",
    "    count = sum(int(regex.sub('', line)) < 3 for line in lines)\n",
    "    print(f'Учеников с оценкой меньше 3: {count}')"
   ]
  },
  {
   "cell_type": "code",
   "execution_count": 40,
   "metadata": {},
   "outputs": [],
   "source": [
    "with open('pupils.txt', 'r') as pupils, open('reversed.txt', 'w') as reversed:\n",
    "    lines = pupils.readlines()\n",
    "    lines.reverse()\n",
    "    reversed.writelines(lines)"
   ]
  },
  {
   "cell_type": "code",
   "execution_count": null,
   "metadata": {},
   "outputs": [],
   "source": []
  }
 ],
 "metadata": {
  "kernelspec": {
   "display_name": "Python 3.9.12 ('base')",
   "language": "python",
   "name": "python3"
  },
  "language_info": {
   "codemirror_mode": {
    "name": "ipython",
    "version": 3
   },
   "file_extension": ".py",
   "mimetype": "text/x-python",
   "name": "python",
   "nbconvert_exporter": "python",
   "pygments_lexer": "ipython3",
   "version": "3.9.12"
  },
  "orig_nbformat": 4,
  "vscode": {
   "interpreter": {
    "hash": "c85ce5e063f82c52011c1c6414d7519d9975c8984a5fd91991e796841fee6f1b"
   }
  }
 },
 "nbformat": 4,
 "nbformat_minor": 2
}
