{
 "cells": [
  {
   "cell_type": "markdown",
   "metadata": {},
   "source": [
    "# 9. Тонкости обработки исключений. Собственные классы исключений\n",
    " Добавить страницу в мои закладки\n",
    "Дисклеймер: этот материал попал к вам на страничку прямиком из пустыни Сахары, самого засушливого места на нашей планете. Если от сухости повествования у вас появится сухость во рту, не переживайте и не пугайтесь, это нормально. Такая уж тема, что тут поделать (чем дальше, тем суше, можно сказать). Поэтому, пожалуйста, заранее запаситесь прохладительными напитками и устраивайтесь поудобнее. Приятного прочтения!\n",
    "\n",
    "Вы уже знакомы с конструкцией try-except, научились отлавливать стандартные исключения и поднимать их при необходимости. В этом уроке мы закончим говорить об конструкции try-except, обсудим небольшие нюансы работы с ней, а также попробуем написать собственные классы-исключения.\n",
    "\n",
    "Пожалуйста, посмотрите на схему, представленную ниже.\n",
    "``` python\n",
    "BaseException\n",
    " +-- SystemExit\n",
    " +-- KeyboardInterrupt\n",
    " +-- GeneratorExit\n",
    " +-- Exception\n",
    "  \t+-- StopIteration\n",
    "  \t+-- StopAsyncIteration\n",
    "  \t+-- ArithmeticError\n",
    "  \t|\tFloatingPointError\n",
    "  \t|\tOverflowError\n",
    "  \t|\tZeroDivisionError\n",
    "  \t+-- AssertionError\n",
    "  \t+-- AttributeError\n",
    "  \t+-- BufferError\n",
    "  \t+-- EOFError\n",
    "  \t+-- ImportError\n",
    "  \t|\t+-- ModuleNotFoundError\n",
    "  \t+-- LookupError\n",
    "  \t|\t+-- IndexError\n",
    "  \t|\t+-- KeyError\n",
    "  \t+-- MemoryError\n",
    "  \t+-- NameError\n",
    "  \t|\t+-- UnboundLocalError\n",
    "  \t+-- OSError\n",
    "  \t|\t+-- BlockingIOError\n",
    "  \t|\t+-- ChildProcessError\n",
    "  \t|\t+-- ConnectionError\n",
    "  \t|\t|\t+-- BrokenPipeError\n",
    "  \t|\t|\t+-- ConnectionAbortedError\n",
    "  \t|\t|\t+-- ConnectionRefusedError\n",
    "  \t|\t|\t+-- ConnectionResetError\n",
    "  \t|\t+-- FileExistsError\n",
    "  \t|\t+-- FileNotFoundError\n",
    "  \t|\t+-- InterruptedError\n",
    "  \t|\t+-- IsADirectoryError\n",
    "  \t|\t+-- NotADirectoryError\n",
    "  \t|\t+-- PermissionError\n",
    "  \t|\t+-- ProcessLookupError\n",
    "  \t|\t+-- TimeoutError\n",
    "  \t+-- ReferenceError\n",
    "  \t+-- RuntimeError\n",
    "  \t|\t+-- NotImplementedError\n",
    "  \t|\t+-- RecursionError\n",
    "  \t+-- SyntaxError\n",
    "  \t|\t+-- IndentationError\n",
    "  \t|     \t+-- TabError\n",
    "  \t+-- SystemError\n",
    "  \t+-- TypeError\n",
    "  \t+-- ValueError\n",
    "  \t|\t+-- UnicodeError\n",
    "  \t|     \t+-- UnicodeDecodeError\n",
    "  \t|     \t+-- UnicodeEncodeError\n",
    "  \t|     \t+-- UnicodeTranslateError\n",
    "  \t+-- Warning\n",
    "       \t+-- DeprecationWarning\n",
    "       \t+-- PendingDeprecationWarning\n",
    "       \t+-- RuntimeWarning\n",
    "       \t+-- SyntaxWarning\n",
    "       \t+-- UserWarning\n",
    "       \t+-- FutureWarning\n",
    "       \t+-- ImportWarning\n",
    "       \t+-- UnicodeWarning\n",
    "       \t+-- BytesWarning\n",
    "       \t+-- ResourceWarning\n",
    "```\n",
    "\n",
    "Эта система — дерево стандартных исключений.\n",
    "\n",
    "Как нетрудно было догадаться, исключения представлены определёнными классами, которые в той или иной степени наследуются от BaseException.\n",
    "\n",
    "Классы +-- SystemExit +-- KeyboardInterrupt +-- GeneratorExit являются исключениями, которые нельзя поймать, поскольку их возникновение не зависит от выполнения программы. А все, что наследуются от Exception, можно отловить и обработать (хорошенько так). Однако некоторые из них возникают очень редко.\n",
    "\n",
    "Главное здесь — понять, что «ловить» в блоке except можно не только сам класс, но и его родителя, например:"
   ]
  },
  {
   "cell_type": "code",
   "execution_count": 1,
   "metadata": {},
   "outputs": [
    {
     "name": "stdout",
     "output_type": "stream",
     "text": [
      "Hello from arithmetic error\n"
     ]
    }
   ],
   "source": [
    "try:\n",
    "    raise ZeroDivisionError  # возбуждаем исключение ZeroDivisionError\n",
    "except ArithmeticError:  # ловим его родителя\n",
    "    print(\"Hello from arithmetic error\")\n"
   ]
  },
  {
   "cell_type": "markdown",
   "metadata": {},
   "source": [
    "Такой способ отлова будет работать прекрасно. Но делать так не стоит, потому что вы рискуете упустить детали. С другой стороны, порой даже на больших проектах можно встретить что-то подобное:\n",
    "\n",
    "``` python\n",
    "# пример из реального проекта\n",
    "try:\n",
    "    *код которые мог вызывать ошибку*\n",
    "except Exception:\n",
    "    pass\n",
    "```"
   ]
  },
  {
   "cell_type": "markdown",
   "metadata": {},
   "source": [
    "Действуя от обратного, однако, надо быть осторожным. Если, например, надо поймать несколько исключений, то идти следует вверх по дереву. Например:"
   ]
  },
  {
   "cell_type": "code",
   "execution_count": 3,
   "metadata": {},
   "outputs": [
    {
     "name": "stdout",
     "output_type": "stream",
     "text": [
      "Arithmetic error\n"
     ]
    }
   ],
   "source": [
    "try:\n",
    "    raise ZeroDivisionError\n",
    "except ArithmeticError:\n",
    "    print(\"Arithmetic error\")\n",
    "except ZeroDivisionError:\n",
    "    print(\"Zero division error\")\n"
   ]
  },
  {
   "cell_type": "markdown",
   "metadata": {},
   "source": [
    "ArithmeticError является более абстрактным (находящимся выше в иерархическом дереве, родительским) классом. Если вы хотите ловить сначала исключения-потомки, а затем родительские исключения, убедитесь, что в блоке except отлов родительского исключения стоит ниже, чем отлов исключения-потомка. Иначе говоря, ваша конструкция отлова исключений должна идти от конкретного класса к более абстрактному.\n",
    "\n",
    "Вот правильный пример для наглядности:"
   ]
  },
  {
   "cell_type": "code",
   "execution_count": 4,
   "metadata": {},
   "outputs": [
    {
     "name": "stdout",
     "output_type": "stream",
     "text": [
      "Zero division error\n"
     ]
    }
   ],
   "source": [
    "try:\n",
    "    raise ZeroDivisionError\n",
    "except ZeroDivisionError:  # сначала пытаемся поймать потомка\n",
    "    print(\"Zero division error\")\n",
    "except ArithmeticError:  # потом ловим родителя\n",
    "    print(\"Arithmetic error\")\n"
   ]
  },
  {
   "cell_type": "markdown",
   "metadata": {},
   "source": [
    "Это всё, что хотелось ещё рассказать о конструкции try-except.\n",
    "\n",
    "Если кратко обобщить, то можно сказать так: исключения — это тоже классы. Будучи классами, они могут наследоваться. «Отлавливать» можно как сам класс, так и его родителя (в любом колене). В этом случае надо убедиться в том, чтобы сначала обрабатывались более конкретные исключения, иначе они могут быть перекрыты их родителями и попросту упущены.\n",
    "\n",
    "Иногда может понадобиться написать собственное исключение. Например, вы пишете собственную игру и вам нужно обработать ситуацию, когда ваш персонаж пытается выучить способность, при этом не достигнув нужного уровня. Или пытается положить в уже заполненный инвентарь ещё какой-то предмет.\n",
    "\n",
    "Принцип написания и отлова собственного исключения следующий:"
   ]
  },
  {
   "cell_type": "code",
   "execution_count": 5,
   "metadata": {},
   "outputs": [
    {
     "name": "stdout",
     "output_type": "stream",
     "text": [
      "message\n"
     ]
    }
   ],
   "source": [
    "class MyException(Exception):  # создаём пустой класс исключения\n",
    "    pass\n",
    "\n",
    "\n",
    "try:\n",
    "    raise MyException(\"message\")  # поднимаем наше исключение\n",
    "except MyException as e:  # ловим его\n",
    "    print(e)  # выводим информацию об исключении\n"
   ]
  },
  {
   "cell_type": "markdown",
   "metadata": {},
   "source": [
    "Лучше всего, чтобы исключения были связаны между собой, то есть наследовались от общего класса исключения. Если продолжить пример с игрой из прошлого абзаца, то общим классом был бы GameplayException."
   ]
  },
  {
   "cell_type": "markdown",
   "metadata": {},
   "source": [
    "Наследуются исключения для того, чтобы можно было, продолжая всё тот же пример, отлавливать отдельно игровые исключения и отдельно исключения, касающиеся ресурсов (закончилась оперативная память, место на диске и так далее.\n",
    "\n",
    "Давайте теперь попробуем построить собственные исключения с наследованием:\n",
    "\n"
   ]
  },
  {
   "cell_type": "code",
   "execution_count": 6,
   "metadata": {},
   "outputs": [
    {
     "name": "stdout",
     "output_type": "stream",
     "text": [
      "message\n"
     ]
    }
   ],
   "source": [
    "# создаём пустой класс исключения, наследуемся от exception\n",
    "class ParentException(Exception):\n",
    "    pass\n",
    "\n",
    "\n",
    "# создаём пустой класс исключения-потомка, наследуемся от ParentException\n",
    "class ChildException(ParentException):\n",
    "    pass\n",
    "\n",
    "\n",
    "try:\n",
    "    raise ChildException(\"message\")  # поднимаем исключение-потомок\n",
    "except ParentException as e:  # ловим его родителя\n",
    "    print(e)  # выводим информацию об исключении\n"
   ]
  },
  {
   "cell_type": "markdown",
   "metadata": {},
   "source": [
    "В этом случае мы успешно обработали собственный класс-наследник, хотя он и не является ParentException. Когда исключение возникает, в каждом блоке except по порядку интерпретатор проверяет, является ли исключение наследником или самим классом отлавливаемого исключения, и если да, то выполняет код в except.\n",
    "\n",
    "Кстати говоря, класс с самописным исключением необязательно должен быть пустым. Если вы хотите добавить собственные аргументы в конструктор, дополнительно произвести какие-либо операции, то можете спокойно это делать, главное — не забыть о нескольких нюансах:"
   ]
  },
  {
   "cell_type": "code",
   "execution_count": 7,
   "metadata": {},
   "outputs": [
    {
     "name": "stdout",
     "output_type": "stream",
     "text": [
      "Errors: error\n",
      "message\n"
     ]
    }
   ],
   "source": [
    "class ParentException(Exception):\n",
    "    # допишем к нашему пустому классу конструктор, который будет печатать дополнительно в консоль информацию об ошибке.\n",
    "    def __init__(self, message, error):\n",
    "        super().__init__(message)  # помним про вызов конструктора родительского класса\n",
    "        print(f\"Errors: {error}\")  # печатаем ошибку\n",
    "\n",
    "\n",
    "# создаём пустой класс исключения-потомка, наследуемся от ParentException\n",
    "class ChildException(ParentException):\n",
    "    def __init__(self, message, error):\n",
    "        super().__init__(message, error)\n",
    "\n",
    "\n",
    "try:\n",
    "    # поднимаем исключение-потомок, передаём дополнительный аргумент\n",
    "    raise ChildException(\"message\", \"error\")\n",
    "except ParentException as e:\n",
    "    print(e)  # выводим информацию об исключении\n"
   ]
  },
  {
   "cell_type": "markdown",
   "metadata": {},
   "source": [
    "Сначала мы увидим то, что напишет нам конструктор родительского класса, а потом уже —сообщение об ошибке.\n",
    "\n",
    "Конечно же, собственный класс исключений можно модернизировать как угодно: добавлять дополнительные аргументы, писать собственные методы, наследоваться хоть до десятого колена и так далее. Суть одна — помните про иерархию и полиморфизм, остальное за вас сделает Python.\n",
    "\n",
    "Давайте подведём итоги:\n",
    "\n",
    "1. Исключения — это такие особенные классы, которые, как и любые классы, можно наследовать. Если вы хотите ловить несколько исключений, то сначала ловите потомков, а потом родителей, чтобы ничего не упустить.\n",
    "2. Чтобы создать собственный класс, нужно просто написать пустой класс и наследовать его от класса Exception, этого будет достаточно.\n",
    "3. Необязательно «отлавливать» сам класс. При необходимости можно отлавливать его родителя, это тоже будет работать, но вы можете упустить важную информацию."
   ]
  },
  {
   "cell_type": "markdown",
   "metadata": {},
   "source": [
    "### Задание 9.1\n",
    "В канале модуля в Slack обсудите со своими коллегами вопрос: почему наследоваться надо именно от класса Exception, а не от BaseException?\n",
    "\n",
    "### Задание 9.2\n",
    "Для того, чтобы грамотно отлавливать исключения и ничего не упустить, надо…\n",
    "\n",
    "- Отлавливать исключения от абстрактного к конкретному.\n",
    "- Отлавливать исключения от конкретного к абстрактному. верно\n",
    "- Отлавливать исключения в любом порядке, интерпретатор сам определит, какое именно исключение возникло и сам перейдёт в нужный блок except.\n",
    "- ОтправитьВ некоторых задачах доступны следующие действия: сохранение, сброс, показ подсказки или ответа. Соответствующие кнопки расположены рядом с кнопкой «Отправить».\n",
    "\n",
    "### Задание 9.3\n",
    "Исключения являются…\n",
    "- Объектами\n",
    "- Специальным ключевым словом\n",
    "- Классами с определённым поведением верно\n",
    "\n",
    "### Задание 9.4\n",
    "Для того, чтобы создать минимально работающий собственный класс-исключение, надо…\n",
    "-Написать любой пустой класс, наследуемый от класса BaseException.\n",
    "-Написать любой пустой класс, наследуемый от класса Exception. верно\n",
    "-Написать класс, наследованный от класса Exception, и переопределить в нём все методы и конструктор.\n",
    "\n",
    "### Задание 9.5\n",
    "Задание на самопроверку.\n",
    "\n",
    "Создайте класс Square. Добавьте в конструктор класса Square собственное исключение NonPositiveDigitException, унаследованное от ValueError, которое будет срабатывать каждый раз, когда сторона квадрата меньше или равна 0.\n",
    "\n"
   ]
  },
  {
   "cell_type": "code",
   "execution_count": 8,
   "metadata": {},
   "outputs": [],
   "source": [
    "class NonPositiveDigitException(ValueError):\n",
    "    pass\n",
    "\n",
    "class Square():\n",
    "    def __init__(self, a):\n",
    "        if a<= 0:\n",
    "            raise NonPositiveDigitException('Неправильно указана сторона квадрата')"
   ]
  },
  {
   "cell_type": "code",
   "execution_count": 13,
   "metadata": {},
   "outputs": [
    {
     "data": {
      "text/plain": [
       "<__main__.Square at 0x7fea86468340>"
      ]
     },
     "execution_count": 13,
     "metadata": {},
     "output_type": "execute_result"
    }
   ],
   "source": [
    "Square(1)"
   ]
  },
  {
   "cell_type": "code",
   "execution_count": 12,
   "metadata": {},
   "outputs": [
    {
     "ename": "NonPositiveDigitException",
     "evalue": "Неправильно указана сторона квадрата",
     "output_type": "error",
     "traceback": [
      "\u001b[0;31m---------------------------------------------------------------------------\u001b[0m",
      "\u001b[0;31mNonPositiveDigitException\u001b[0m                 Traceback (most recent call last)",
      "\u001b[1;32m/home/alexey/Learning/sf_datascience/Python_15_object_oriented_python/9_subtleties_of_exception_handling_custom_exception_classes.ipynb Ячейка 19\u001b[0m in \u001b[0;36m<cell line: 1>\u001b[0;34m()\u001b[0m\n\u001b[0;32m----> <a href='vscode-notebook-cell:/home/alexey/Learning/sf_datascience/Python_15_object_oriented_python/9_subtleties_of_exception_handling_custom_exception_classes.ipynb#X25sZmlsZQ%3D%3D?line=0'>1</a>\u001b[0m Square(\u001b[39m0\u001b[39;49m)\n",
      "\u001b[1;32m/home/alexey/Learning/sf_datascience/Python_15_object_oriented_python/9_subtleties_of_exception_handling_custom_exception_classes.ipynb Ячейка 19\u001b[0m in \u001b[0;36mSquare.__init__\u001b[0;34m(self, a)\u001b[0m\n\u001b[1;32m      <a href='vscode-notebook-cell:/home/alexey/Learning/sf_datascience/Python_15_object_oriented_python/9_subtleties_of_exception_handling_custom_exception_classes.ipynb#X25sZmlsZQ%3D%3D?line=4'>5</a>\u001b[0m \u001b[39mdef\u001b[39;00m \u001b[39m__init__\u001b[39m(\u001b[39mself\u001b[39m, a):\n\u001b[1;32m      <a href='vscode-notebook-cell:/home/alexey/Learning/sf_datascience/Python_15_object_oriented_python/9_subtleties_of_exception_handling_custom_exception_classes.ipynb#X25sZmlsZQ%3D%3D?line=5'>6</a>\u001b[0m     \u001b[39mif\u001b[39;00m a\u001b[39m<\u001b[39m\u001b[39m=\u001b[39m \u001b[39m0\u001b[39m:\n\u001b[0;32m----> <a href='vscode-notebook-cell:/home/alexey/Learning/sf_datascience/Python_15_object_oriented_python/9_subtleties_of_exception_handling_custom_exception_classes.ipynb#X25sZmlsZQ%3D%3D?line=6'>7</a>\u001b[0m         \u001b[39mraise\u001b[39;00m NonPositiveDigitException(\u001b[39m'\u001b[39m\u001b[39mНеправильно указана сторона квадрата\u001b[39m\u001b[39m'\u001b[39m)\n",
      "\u001b[0;31mNonPositiveDigitException\u001b[0m: Неправильно указана сторона квадрата"
     ]
    }
   ],
   "source": [
    "Square(0)"
   ]
  },
  {
   "cell_type": "code",
   "execution_count": null,
   "metadata": {},
   "outputs": [],
   "source": []
  }
 ],
 "metadata": {
  "kernelspec": {
   "display_name": "Python 3.9.12 ('base')",
   "language": "python",
   "name": "python3"
  },
  "language_info": {
   "codemirror_mode": {
    "name": "ipython",
    "version": 3
   },
   "file_extension": ".py",
   "mimetype": "text/x-python",
   "name": "python",
   "nbconvert_exporter": "python",
   "pygments_lexer": "ipython3",
   "version": "3.9.12"
  },
  "orig_nbformat": 4,
  "vscode": {
   "interpreter": {
    "hash": "c85ce5e063f82c52011c1c6414d7519d9975c8984a5fd91991e796841fee6f1b"
   }
  }
 },
 "nbformat": 4,
 "nbformat_minor": 2
}
