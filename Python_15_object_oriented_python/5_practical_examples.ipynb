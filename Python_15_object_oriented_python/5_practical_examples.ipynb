{
 "cells": [
  {
   "cell_type": "markdown",
   "metadata": {},
   "source": [
    "# 5. Практические примеры\n",
    "⭐️ Мы научились определять классы и создавать объекты. Основная их задача — объединять данные и действия над ними. Эти же задачи можно решать обычными функциями и коллекциями (словарями/списками).\n",
    "\n",
    "Разница в том, что для ряда задач ООП является более подходящим инструментом и позволяет решать их проще. Рассмотрим ещё несколько примеров — это поможет вам развить интуицию и понять, в каких ситуациях стоит рассматривать переход от простых функций к классам.\n",
    "\n",
    "## ОТСЛЕЖИВАНИЕ СОСТОЯНИЯ\n",
    "\n",
    "Одно из классических предписаний для классов — у каждого из множества объектов есть некоторые меняющиеся состояния. \n",
    "\n",
    "Вернёмся к примеру: есть база клиентов с основной информацией; в реальном времени нам приходит информация о покупках. Запустим промокампанию, чтобы поощрить старых клиентов, которые сделали у нас много заказов, и выдать им скидку:"
   ]
  },
  {
   "cell_type": "code",
   "execution_count": 1,
   "metadata": {},
   "outputs": [
    {
     "name": "stdout",
     "output_type": "stream",
     "text": [
      "Order price for max@gmail.com is 100\n",
      "Order price for lova@yandex.ru is 180.0\n",
      "Order price for german@sberbank.ru is 500\n",
      "Order price for german@sberbank.ru is 450.0\n"
     ]
    }
   ],
   "source": [
    "class Client():\n",
    "    # Базовые данные\n",
    "    def __init__(self, email, order_num, registration_year):\n",
    "        self.email = email\n",
    "        self.order_num = order_num\n",
    "        self.registration_year = registration_year\n",
    "        self.discount = 0\n",
    "\n",
    "    # Оформление заказа\n",
    "    def make_order(self, price):\n",
    "        self.update_discount()\n",
    "        self.order_num += 1\n",
    "        # Здесь было бы оформление заказа, но мы просто выведем его цену\n",
    "        discounted_price = price * (1 - self.discount)\n",
    "        print(f\"Order price for {self.email} is {discounted_price}\")\n",
    "\n",
    "    # Назначение скидки\n",
    "    def update_discount(self):\n",
    "        if self.registration_year < 2018 and self.order_num >= 5:\n",
    "            self.discount = 0.1\n",
    "\n",
    "\n",
    "# Применение\n",
    "\n",
    "# Сделаем подобие базы\n",
    "client_db = [\n",
    "    Client(\"max@gmail.com\", 2, 2019),\n",
    "    Client(\"lova@yandex.ru\", 10, 2015),\n",
    "    Client(\"german@sberbank.ru\", 4, 2017)\n",
    "]\n",
    "\n",
    "\n",
    "# Сгенерируем заказы\n",
    "client_db[0].make_order(100)\n",
    "# => Order price for max@gmail.com is 100\n",
    "\n",
    "client_db[1].make_order(200)\n",
    "# => Order price for lova@yandex.ru is 180.0\n",
    "\n",
    "client_db[2].make_order(500)\n",
    "# => Order price for german@sberbank.ru is 500\n",
    "\n",
    "client_db[2].make_order(500)\n",
    "# => Order price for german@sberbank.ru is 450.0\n"
   ]
  },
  {
   "cell_type": "markdown",
   "metadata": {},
   "source": [
    "Два важных момента:\n",
    "\n",
    "- У нас получился простой интерфейс. С функциями нам пришлось бы передавать много параметров или делать вложенный словарь.\n",
    "- В классах хорошо реализуется скрытая логика и естественное сохранение состояний. В примере на втором и четвёртом заказах автоматически появилась скидка."
   ]
  },
  {
   "cell_type": "markdown",
   "metadata": {},
   "source": [
    "### Задание 5.1\n",
    "Определите класс для пользователей User:\n",
    "\n",
    "- у него должны быть атрибуты email, password и balance, которые устанавливаются при инициализации;\n",
    "- у него должен быть метод login, который принимает емайл и пароль. Если они совпадают с атрибутами объекта, он возвращает True, а иначе — False;\n",
    "- должен быть метод update_balance(amount), который изменяет баланс счёта на величину amount."
   ]
  },
  {
   "cell_type": "code",
   "execution_count": 2,
   "metadata": {},
   "outputs": [],
   "source": [
    "class User():\n",
    "    def __init__(self, email, password, balance):\n",
    "        self.email = email\n",
    "        self.password = password\n",
    "        self.balance = balance\n",
    "\n",
    "    def login(self, email, password):\n",
    "        return self.email == email and self.password == password\n",
    "\n",
    "    def update_balance(self, amount):\n",
    "        self.balance += amount\n"
   ]
  },
  {
   "cell_type": "markdown",
   "metadata": {},
   "source": [
    "В случае правильного описания класса код, приведённый ниже, должен выдать следующий результат:"
   ]
  },
  {
   "cell_type": "code",
   "execution_count": 4,
   "metadata": {},
   "outputs": [
    {
     "name": "stdout",
     "output_type": "stream",
     "text": [
      "False\n",
      "True\n",
      "19700\n"
     ]
    }
   ],
   "source": [
    "user = User(\"gosha@roskino.org\", \"qwerty\", 20_000)\n",
    "print(user.login(\"gosha@roskino.org\", \"qwerty123\"))\n",
    "# => False\n",
    "print(user.login(\"gosha@roskino.org\", \"qwerty\"))\n",
    "# => True\n",
    "user.update_balance(200)\n",
    "user.update_balance(-500)\n",
    "print(user.balance)\n",
    "# => 19700\n"
   ]
  },
  {
   "cell_type": "markdown",
   "metadata": {},
   "source": [
    "## КОМБИНАЦИЯ ОПЕРАЦИЙ\n",
    "\n",
    "Классы могут пригодиться, если вы регулярно делаете над данными одну и ту же последовательность разноплановых функций. Вы можете упаковать их в класс и в дальнейшем сразу получать результат по загруженным данным.\n",
    "\n",
    "У нас есть численные данные из разных источников. Если они в виде строк, то нужно привести их к числам, а пропуски — заполнить значениями. Сделаем доступ к медиане, среднему значению и стандартному отклонению:"
   ]
  },
  {
   "cell_type": "code",
   "execution_count": 5,
   "metadata": {},
   "outputs": [
    {
     "name": "stdout",
     "output_type": "stream",
     "text": [
      "[1.0, 17.0, 4.0, 0.0, 8.0]\n",
      "6.892024376045111\n",
      "4.0\n"
     ]
    }
   ],
   "source": [
    "import statistics\n",
    "\n",
    "\n",
    "class DataFrame():\n",
    "    def __init__(self, column, fill_value=0):\n",
    "        # Инициализируем атрибуты\n",
    "        self.column = column\n",
    "        self.fill_value = fill_value\n",
    "        # Заполним пропуски\n",
    "        self.fill_missed()\n",
    "        # Конвертируем все элементы в числа\n",
    "        self.to_float()\n",
    "\n",
    "    def fill_missed(self):\n",
    "        for i, value in enumerate(self.column):\n",
    "            if value is None or value == '':\n",
    "                self.column[i] = self.fill_value\n",
    "\n",
    "    def to_float(self):\n",
    "        self.column = [float(value) for value in self.column]\n",
    "\n",
    "    def median(self):\n",
    "        return statistics.median(self.column)\n",
    "\n",
    "    def mean(self):\n",
    "        return statistics.mean(self.column)\n",
    "\n",
    "    def deviation(self):\n",
    "        return statistics.stdev(self.column)\n",
    "\n",
    "\n",
    "# Воспользуемся классом\n",
    "df = DataFrame([\"1\", 17, 4, None, 8])\n",
    "\n",
    "print(df.column)\n",
    "# => [1.0, 17.0, 4.0, 0.0, 8.0]\n",
    "print(df.deviation())\n",
    "# => 6.89\n",
    "print(df.median())\n",
    "# => 4.0\n"
   ]
  },
  {
   "cell_type": "markdown",
   "metadata": {},
   "source": [
    "Мы получили очень лаконичный интерфейс для использования класса. В __init__ мы использовали значение по умолчанию для fill_value, а методы позволяют нам определять необязательные параметры."
   ]
  },
  {
   "cell_type": "markdown",
   "metadata": {},
   "source": [
    "### Задание 5.2\n",
    "Определите класс IntDataFrame, который принимает список неотрицательных чисел и приводит к целым значениям все числа в этом списке. После этого становится доступен метод count, который считает количество ненулевых элементов, и метод unique, который возвращает число уникальных элементов."
   ]
  },
  {
   "cell_type": "code",
   "execution_count": 8,
   "metadata": {},
   "outputs": [],
   "source": [
    "class IntDataFrame():\n",
    "    def __init__(self, column):\n",
    "        self.column = [int(value) for value in column]\n",
    "    \n",
    "    def count(self):\n",
    "        return sum(0 if value == 0 else 1 for value in self.column)\n",
    "    \n",
    "    def unique(self):\n",
    "        return len(set(self.column))"
   ]
  },
  {
   "cell_type": "markdown",
   "metadata": {},
   "source": [
    "В случае правильного описания класса код, приведённый ниже, должен выдать следующий результат:"
   ]
  },
  {
   "cell_type": "code",
   "execution_count": 10,
   "metadata": {},
   "outputs": [
    {
     "name": "stdout",
     "output_type": "stream",
     "text": [
      "5\n",
      "4\n"
     ]
    }
   ],
   "source": [
    "df = IntDataFrame([4.7, 4, 3, 0, 2.4, 0.3, 4])\n",
    "\n",
    "print(df.count())\n",
    "# => 5\n",
    "print(df.unique())\n",
    "# => 4\n"
   ]
  },
  {
   "cell_type": "markdown",
   "metadata": {},
   "source": [
    "## КЛАСС-ОБЁРТКА \n",
    "\n",
    "Классы можно использовать тогда, когда у вас есть процесс, который требует сложной конфигурации, повторяющейся из раза в раз. Можно написать класс-обёртку, который сведёт этот процесс к одному-двум методам.\n",
    "\n",
    "Представим, вы делаете обработку данных и в конце каждого дня сохраняете результат в архив. Вы хотите, чтобы данные каждого дня лежали в отдельном файле для этого дня, при этом можно было бы получить данные за произвольный день. \n",
    "\n",
    "Перед запуском кода создайте папку с названием archive там же, где находится ноутбук:"
   ]
  },
  {
   "cell_type": "code",
   "execution_count": 11,
   "metadata": {},
   "outputs": [
    {
     "name": "stdout",
     "output_type": "stream",
     "text": [
      "{'perfomance': [10, 20, 10], 'clients': {'Romashka': 10, 'Vector': 34}}\n"
     ]
    }
   ],
   "source": [
    "import pickle\n",
    "from datetime import datetime\n",
    "from os import path\n",
    "\n",
    "\n",
    "class Dumper():\n",
    "    def __init__(self, archive_dir=\"archive/\"):\n",
    "        self.archive_dir = archive_dir\n",
    "\n",
    "    def dump(self, data):\n",
    "        # Библиотека pickle позволяет доставать и класть объекты в файл\n",
    "        with open(self.get_file_name(), 'wb') as file:\n",
    "            pickle.dump(data, file)\n",
    "\n",
    "    def load_for_day(self, day):\n",
    "        file_name = path.join(self.archive_dir, f\"{day}.pkl\")\n",
    "        with open(file_name, 'rb') as file:\n",
    "            sets = pickle.load(file)\n",
    "        return sets\n",
    "\n",
    "    # возвращает корректное имя для файла\n",
    "    def get_file_name(self):\n",
    "        today = datetime.now().strftime(\"%y-%m-%d\")\n",
    "        return path.join(self.archive_dir, f\"{today}.pkl\")\n",
    "\n",
    "\n",
    "# Пример использования\n",
    "\n",
    "data = {\n",
    "    'perfomance': [10, 20, 10],\n",
    "    'clients': {\"Romashka\": 10, \"Vector\": 34}\n",
    "}\n",
    "\n",
    "\n",
    "dumper = Dumper()\n",
    "\n",
    "# Сохраним данные\n",
    "dumper.dump(data)\n",
    "\n",
    "# Восстановим для сегодняшней даты\n",
    "file_name = datetime.now().strftime(\"%y-%m-%d\")\n",
    "restored_data = dumper.load_for_day(file_name)\n",
    "print(restored_data)\n",
    "# => {'perfomance': [10, 20, 10], 'clients': {'Romashka': 10, 'Vector': 34}}\n"
   ]
  },
  {
   "cell_type": "markdown",
   "metadata": {},
   "source": [
    "Сохранение и восстановление работает в пару строк. В результате мы можем приводить достаточно сложные операции к простому виду."
   ]
  },
  {
   "cell_type": "markdown",
   "metadata": {},
   "source": [
    "### Задание 5.3\n",
    "Напишите класс сборщика технических сообщений OwnLogger.\n",
    "\n",
    "- У него должен быть метод log(message, level), который записывает сообщения. Здесь сообщение message может быть любым, а level — один из \"info\", \"warning\", \"error\".\n",
    "- Также примените метод show_last(level), где level может быть \"info\", \"warning\", \"error\", \"all\". Для \"all\" он просто возвращает последнее добавленное сообщение, а для остальных — последнее поступившее сообщение соответствующего уровня.\n",
    "- При этом по умолчанию значение именно \"all\". Если подходящего сообщения нет, возвращает None."
   ]
  },
  {
   "cell_type": "code",
   "execution_count": 25,
   "metadata": {},
   "outputs": [],
   "source": [
    "class LogMessage():\n",
    "    def __init__(self, message, level):\n",
    "        self.message = message\n",
    "        self.level = level\n",
    "\n",
    "\n",
    "class OwnLogger():\n",
    "    def __init__(self):\n",
    "        self.logbook = []\n",
    "\n",
    "    def log(self, message, level):\n",
    "        self.logbook.append(LogMessage(message, level))\n",
    "\n",
    "    def show_last(self, level='all'):\n",
    "        if level == 'all':\n",
    "            return None if len(self.logbook) == 0 else self.logbook[-1].message\n",
    "        return next((self.logbook[i].message for i in range(len(self.logbook) - 1, -1, -1) if self.logbook[i].level == level), None)\n"
   ]
  },
  {
   "cell_type": "markdown",
   "metadata": {},
   "source": [
    "В случае правильного описания класса код, приведённый ниже, должен выдать следующий результат:"
   ]
  },
  {
   "cell_type": "code",
   "execution_count": 26,
   "metadata": {},
   "outputs": [
    {
     "name": "stdout",
     "output_type": "stream",
     "text": [
      "None\n",
      "Connection lost\n",
      "System started\n"
     ]
    }
   ],
   "source": [
    "logger = OwnLogger()\n",
    "logger.log(\"System started\", \"info\")\n",
    "print(logger.show_last(\"error\"))\n",
    "# => None\n",
    "# Некоторые интерпретаторы Python могут не выводить None, тогда в этой проверке у вас будет пустая строка\n",
    "logger.log(\"Connection instable\", \"warning\")\n",
    "logger.log(\"Connection lost\", \"error\")\n",
    "\n",
    "print(logger.show_last())\n",
    "# => Connection lost\n",
    "print(logger.show_last(\"info\"))\n",
    "# => System started\n"
   ]
  },
  {
   "cell_type": "markdown",
   "metadata": {},
   "source": [
    "## ИМПОРТ И ОРГАНИЗАЦИЯ КОДА\n",
    "\n",
    "Классы, как и библиотечные функции, можно импортировать в другие программы. Для этого нужно положить класс в отдельный файл в корне проекта и использовать ключевое слово import. \n",
    "\n",
    "Например, если мы положим Dumper в файл dumper.py в корне проекта, то его можно импортировать командой:"
   ]
  },
  {
   "cell_type": "code",
   "execution_count": 29,
   "metadata": {},
   "outputs": [],
   "source": [
    "from dumper import Dumper\n"
   ]
  },
  {
   "cell_type": "markdown",
   "metadata": {},
   "source": [
    "Пишем from <имя файла без .py> import <имя класса>. Имя файла должно начинаться с буквы и не совпадать с именами библиотечных модулей. Если файлов с классами много, их можно складывать в папки, предварительно положив туда пустой файл __init__.py — это требование Python.\n",
    "\n",
    "Сгруппируем классы из примеров в папке helpers. Структура файлов:\n",
    "\n",
    "helpers\n",
    "\n",
    "-- \\__init__.py\n",
    "\n",
    "-- dumper.py\n",
    "\n",
    "-- data_frame.py\n",
    "\n",
    "-- client.py\n",
    "\n",
    "Импортируем, соединяя все шаги через точку с помощью того же синтаксиса, что использовался для импорта библиотечных функций."
   ]
  },
  {
   "cell_type": "code",
   "execution_count": null,
   "metadata": {},
   "outputs": [],
   "source": [
    "from helpers.dumper import Dumper\n",
    "from helpers.data_frame import DataFrame\n",
    "from helpers.client import Client\n"
   ]
  },
  {
   "cell_type": "markdown",
   "metadata": {},
   "source": [
    "## Задание 5.4\n",
    "Пусть у вас есть папка duck, в которой лежит файл egg.py, а в нём — класс Needle. Какой командой мы можем импортировать этот класс?"
   ]
  },
  {
   "cell_type": "code",
   "execution_count": null,
   "metadata": {},
   "outputs": [],
   "source": [
    "from duck.egg import Needle\n"
   ]
  }
 ],
 "metadata": {
  "kernelspec": {
   "display_name": "Python 3.9.12 ('base')",
   "language": "python",
   "name": "python3"
  },
  "language_info": {
   "codemirror_mode": {
    "name": "ipython",
    "version": 3
   },
   "file_extension": ".py",
   "mimetype": "text/x-python",
   "name": "python",
   "nbconvert_exporter": "python",
   "pygments_lexer": "ipython3",
   "version": "3.9.12"
  },
  "orig_nbformat": 4,
  "vscode": {
   "interpreter": {
    "hash": "c85ce5e063f82c52011c1c6414d7519d9975c8984a5fd91991e796841fee6f1b"
   }
  }
 },
 "nbformat": 4,
 "nbformat_minor": 2
}
