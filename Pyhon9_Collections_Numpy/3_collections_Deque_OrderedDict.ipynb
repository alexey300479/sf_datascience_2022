{
 "cells": [
  {
   "cell_type": "markdown",
   "metadata": {},
   "source": [
    "Задание 3.2. Напечатайте словарь из температур, отсортированный по уменьшению температуры"
   ]
  },
  {
   "cell_type": "code",
   "execution_count": 18,
   "metadata": {},
   "outputs": [
    {
     "name": "stdout",
     "output_type": "stream",
     "text": [
      "OrderedDict([('2020', 1.5), ('2005', -1.6), ('2008', -1.7), ('2007', -2.4), ('2001', -2.5), ('2015', -2.7), ('2018', -2.9), ('2009', -3.5), ('2017', -3.9), ('2000', -4.4), ('2002', -4.4), ('2012', -4.9), ('2011', -5.8), ('2006', -5.9), ('2013', -6.1), ('2019', -6.5), ('2014', -6.9), ('2004', -8.2), ('2003', -9.5), ('2016', -11.2), ('2010', -12.1)])\n"
     ]
    }
   ],
   "source": [
    "temps = [\n",
    "    (\"2000\", -4.4),\n",
    "    (\"2001\", -2.5),\n",
    "    (\"2002\", -4.4),\n",
    "    (\"2003\", -9.5),\n",
    "    (\"2004\", -8.2),\n",
    "    (\"2005\", -1.6),\n",
    "    (\"2006\", -5.9),\n",
    "    (\"2007\", -2.4),\n",
    "    (\"2008\", -1.7),\n",
    "    (\"2009\", -3.5),\n",
    "    (\"2010\", -12.1),\n",
    "    (\"2011\", -5.8),\n",
    "    (\"2012\", -4.9),\n",
    "    (\"2013\", -6.1),\n",
    "    (\"2014\", -6.9),\n",
    "    (\"2015\", -2.7),\n",
    "    (\"2016\", -11.2),\n",
    "    (\"2017\", -3.9),\n",
    "    (\"2018\", -2.9),\n",
    "    (\"2019\", -6.5),\n",
    "    (\"2020\", 1.5),\n",
    "]\n",
    "\n",
    "from collections import OrderedDict\n",
    "\n",
    "temps_ordered = OrderedDict(sorted(temps, key=lambda x: -x[1]))\n",
    "\n",
    "print(temps_ordered)"
   ]
  },
  {
   "cell_type": "markdown",
   "metadata": {},
   "source": [
    "Общий код к заданиям 3.5 - 3.7"
   ]
  },
  {
   "cell_type": "code",
   "execution_count": 19,
   "metadata": {},
   "outputs": [
    {
     "name": "stdout",
     "output_type": "stream",
     "text": [
      "deque([6, 18, 4, 7, 8, 8, 5, 18, 12, 17, 13, 15, 6, 7, 9, 17, 18, 8, 4, 11, 10, 8, 2, 10, 6, 10, 10, 9])\n"
     ]
    }
   ],
   "source": [
    "from hidden import users\n",
    "# Пишите здесь команды, который помогут\n",
    "# найти ответы на вопросы\n",
    "\n",
    "from collections import deque\n",
    "queue = deque(users)\n",
    "\n",
    "print(queue)"
   ]
  },
  {
   "cell_type": "markdown",
   "metadata": {},
   "source": [
    "Задание 3.5. Извлеките элемент из начала очереди. Запишите полученное значение элемента в качестве ответа."
   ]
  },
  {
   "cell_type": "code",
   "execution_count": 20,
   "metadata": {},
   "outputs": [
    {
     "name": "stdout",
     "output_type": "stream",
     "text": [
      "6\n"
     ]
    }
   ],
   "source": [
    "print(queue.popleft())"
   ]
  },
  {
   "cell_type": "markdown",
   "metadata": {},
   "source": [
    "Задание 3.6. В уже модифицированной очереди переместите пять элементов из начала очереди в её конец. Извлеките последний элемент из очереди. Запишите полученное число в качестве ответа."
   ]
  },
  {
   "cell_type": "code",
   "execution_count": 21,
   "metadata": {},
   "outputs": [
    {
     "name": "stdout",
     "output_type": "stream",
     "text": [
      "8\n"
     ]
    }
   ],
   "source": [
    "queue.rotate(-5)\n",
    "print(queue.pop())"
   ]
  },
  {
   "cell_type": "markdown",
   "metadata": {},
   "source": [
    "Задание 3.7. Сколько задач с тем номером, что был извлечён в предыдущем задании, осталось в модифицированной очереди? Запишите ответ в числовой форме."
   ]
  },
  {
   "cell_type": "code",
   "execution_count": 22,
   "metadata": {},
   "outputs": [
    {
     "data": {
      "text/plain": [
       "3"
      ]
     },
     "execution_count": 22,
     "metadata": {},
     "output_type": "execute_result"
    }
   ],
   "source": [
    "queue.count(8)"
   ]
  }
 ],
 "metadata": {
  "kernelspec": {
   "display_name": "Python 3.9.12 ('base')",
   "language": "python",
   "name": "python3"
  },
  "language_info": {
   "codemirror_mode": {
    "name": "ipython",
    "version": 3
   },
   "file_extension": ".py",
   "mimetype": "text/x-python",
   "name": "python",
   "nbconvert_exporter": "python",
   "pygments_lexer": "ipython3",
   "version": "3.9.12"
  },
  "orig_nbformat": 4,
  "vscode": {
   "interpreter": {
    "hash": "c85ce5e063f82c52011c1c6414d7519d9975c8984a5fd91991e796841fee6f1b"
   }
  }
 },
 "nbformat": 4,
 "nbformat_minor": 2
}
