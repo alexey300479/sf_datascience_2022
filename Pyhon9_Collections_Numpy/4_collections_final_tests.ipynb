{
 "cells": [
  {
   "cell_type": "markdown",
   "metadata": {},
   "source": [
    "Задание 4.3. Напишите функцию brackets(line), которая определяет, является ли последовательность из круглых скобок правильной. Используйте структуру данных типа стек:\n",
    "- Если встречается открывающая скобка, добавьте её в стек.\n",
    "- Если встречается закрывающая скобка, удалите верхний элемент из стека.\n",
    "- Если при удалении верхнего элемента стека он оказался пуст, то строка неверна.\n",
    "- Если все элементы перебраны, а стек пуст то строка верна.\n",
    "- Если все элементы перебраны, а стек не пуст, то строка неверна."
   ]
  },
  {
   "cell_type": "code",
   "execution_count": 1,
   "metadata": {},
   "outputs": [],
   "source": [
    "from collections import deque"
   ]
  },
  {
   "cell_type": "code",
   "execution_count": 3,
   "metadata": {},
   "outputs": [
    {
     "name": "stdout",
     "output_type": "stream",
     "text": [
      "True\n",
      "True\n",
      "False\n"
     ]
    }
   ],
   "source": [
    "def brackets(line):\n",
    "    brackets = deque()\n",
    "\n",
    "    for bracket in line:\n",
    "        if bracket == \"(\":\n",
    "            brackets.append(bracket)\n",
    "        elif bracket == \")\":\n",
    "            if len(brackets) == 0:\n",
    "                return False\n",
    "\n",
    "            brackets.pop()\n",
    "\n",
    "    return len(brackets) == 0\n",
    "\n",
    "print(brackets(\"(()())\"))\n",
    "# True\n",
    "print(brackets(\"\"))\n",
    "# True\n",
    "print(brackets(\"(()()))\"))\n",
    "# False"
   ]
  },
  {
   "cell_type": "markdown",
   "metadata": {},
   "source": [
    "### Задание 4.4\n",
    "\n",
    "В переменных center, south и north хранятся списки из перечней купленных позиций в трёх торговых точках, расположенных в разных районах города.\n",
    "Вначале избавьтесь от излишней вложенности: в каждой переменной (center, south, north) должен храниться объединённый список купленных товаров без разбиения по чекам.\n",
    "\n",
    "Пример: [['Milk', 'Bread'], ['Meat']] -> ['Milk', 'Bread', 'Meat']\n",
    "\n",
    "После этого определите, в каком магазине было куплено больше всего товаров."
   ]
  },
  {
   "cell_type": "code",
   "execution_count": 4,
   "metadata": {},
   "outputs": [],
   "source": [
    "from hidden import north, center, south"
   ]
  },
  {
   "cell_type": "code",
   "execution_count": 6,
   "metadata": {},
   "outputs": [],
   "source": [
    "def serialize(items):\n",
    "    serialized = []\n",
    "    for row in items:\n",
    "        serialized.extend(iter(row))\n",
    "\n",
    "    return serialized\n"
   ]
  },
  {
   "cell_type": "code",
   "execution_count": 24,
   "metadata": {},
   "outputs": [
    {
     "name": "stdout",
     "output_type": "stream",
     "text": [
      "В магазине north куплено 500 товаров\n",
      "В магазине center куплено 548 товаров\n",
      "В магазине south куплено 478 товаров\n"
     ]
    }
   ],
   "source": [
    "from hidden import north, center, south\n",
    "\n",
    "from collections import Counter\n",
    "\n",
    "\n",
    "north_counter = Counter(serialize(north))\n",
    "north_total = sum(north_counter.values())\n",
    "center_counter = Counter(serialize(center))\n",
    "center_total = sum(center_counter.values())\n",
    "south_counter = Counter(serialize(south))\n",
    "south_total = sum(south_counter.values())\n",
    "\n",
    "print(f\"В магазине north куплено {north_total} товаров\")\n",
    "print(f\"В магазине center куплено {center_total} товаров\")\n",
    "print(f\"В магазине south куплено {south_total} товаров\")"
   ]
  },
  {
   "cell_type": "markdown",
   "metadata": {},
   "source": [
    "### Задание 4.5\n",
    "\n",
    "Теперь получите объекты-счётчики (Counter) из каждого полученного в предыдущем задании списка покупок и сохраните их в отдельные переменные (они пригодятся для выполнения следующих задач).\n",
    "Сколько раз покупали самый редкий товар в магазине north? Запишите ответ в числовой форме."
   ]
  },
  {
   "cell_type": "code",
   "execution_count": 25,
   "metadata": {},
   "outputs": [
    {
     "name": "stdout",
     "output_type": "stream",
     "text": [
      "10\n"
     ]
    }
   ],
   "source": [
    "print(min(north_counter.values()))"
   ]
  },
  {
   "cell_type": "markdown",
   "metadata": {},
   "source": [
    "### Задание 4.6\n",
    "\n",
    "Выберите товар, который в магазине center покупали чаще, чем в магазине north:"
   ]
  },
  {
   "cell_type": "code",
   "execution_count": 26,
   "metadata": {},
   "outputs": [
    {
     "data": {
      "text/plain": [
       "Counter({'Meat': 31,\n",
       "         'Cheese': 29,\n",
       "         'Milk': 21,\n",
       "         'Bread': 23,\n",
       "         'Chocolate': 2,\n",
       "         'Chips': 22,\n",
       "         'Ketchup': 19})"
      ]
     },
     "execution_count": 26,
     "metadata": {},
     "output_type": "execute_result"
    }
   ],
   "source": [
    "center_counter - north_counter"
   ]
  },
  {
   "cell_type": "markdown",
   "metadata": {},
   "source": [
    "Bread присутствует в вариантах ответов и счетчике одновременно.  Ответ: Bread"
   ]
  },
  {
   "cell_type": "markdown",
   "metadata": {},
   "source": [
    "### Задание 4.7\n",
    "\n",
    "Есть ли такой товар, который в одном из магазинов покупали чаще, чем в двух других вместе взятых? Если да, выберите магазин с настолько популярным товаром:"
   ]
  },
  {
   "cell_type": "code",
   "execution_count": 29,
   "metadata": {},
   "outputs": [
    {
     "data": {
      "text/plain": [
       "Counter()"
      ]
     },
     "execution_count": 29,
     "metadata": {},
     "output_type": "execute_result"
    }
   ],
   "source": [
    "(center_counter - north_counter) - south_counter"
   ]
  },
  {
   "cell_type": "code",
   "execution_count": 30,
   "metadata": {},
   "outputs": [
    {
     "data": {
      "text/plain": [
       "Counter({'Cola': 6})"
      ]
     },
     "execution_count": 30,
     "metadata": {},
     "output_type": "execute_result"
    }
   ],
   "source": [
    "(north_counter - center_counter) - south_counter"
   ]
  },
  {
   "cell_type": "markdown",
   "metadata": {},
   "source": [
    "Ответ: north"
   ]
  },
  {
   "cell_type": "markdown",
   "metadata": {},
   "source": [
    "### Задание 4.8.\n",
    "\n",
    "Определите суммарное число продаж каждого товара во всех магазинах, сложив все объекты-счётчики. Сколько раз был куплен второй по популярности товар? Запишите ответ в числовой форме.\n"
   ]
  },
  {
   "cell_type": "code",
   "execution_count": 33,
   "metadata": {},
   "outputs": [
    {
     "data": {
      "text/plain": [
       "240"
      ]
     },
     "execution_count": 33,
     "metadata": {},
     "output_type": "execute_result"
    }
   ],
   "source": [
    "total_counter = north_counter + center_counter + south_counter\n",
    "\n",
    "sorted(total_counter.values(), reverse=True)[1]"
   ]
  },
  {
   "cell_type": "markdown",
   "metadata": {},
   "source": [
    "Ответ: 240"
   ]
  },
  {
   "cell_type": "markdown",
   "metadata": {},
   "source": [
    "### Задание 4.9\n",
    "\n",
    "Дан список кортежей ratings с рейтингами кафе. Кортеж состоит из названия и рейтинга кафе.\n",
    "\n",
    "Необходимо отсортировать список кортежей по убыванию рейтинга. Если рейтинги совпадают, то отсортировать кафе дополнительно по названию в алфавитном порядке.\n",
    "\n",
    "Получите словарь cafes с упорядоченными ключами из отсортированного списка, где ключи — названия кафе, а значения — их рейтинг."
   ]
  },
  {
   "cell_type": "code",
   "execution_count": 38,
   "metadata": {},
   "outputs": [
    {
     "name": "stdout",
     "output_type": "stream",
     "text": [
      "OrderedDict([('WokAndRice', 4.9), ('WokToWork', 4.9), ('General Foods', 4.8), ('New Age', 4.6), ('Belissimo', 4.5), ('CakeAndCoffee', 4.2), ('CakeOClock', 4.2), ('CakeTime', 4.1), ('Nice Cakes', 3.9), ('Old Gold', 3.3), ('Old Wine Cellar', 3.3), ('Old York', 3.3)])\n"
     ]
    }
   ],
   "source": [
    "ratings = [\n",
    "    (\"Old York\", 3.3),\n",
    "    (\"New Age\", 4.6),\n",
    "    (\"Old Gold\", 3.3),\n",
    "    (\"General Foods\", 4.8),\n",
    "    (\"Belissimo\", 4.5),\n",
    "    (\"CakeAndCoffee\", 4.2),\n",
    "    (\"CakeOClock\", 4.2),\n",
    "    (\"CakeTime\", 4.1),\n",
    "    (\"WokToWork\", 4.9),\n",
    "    (\"WokAndRice\", 4.9),\n",
    "    (\"Old Wine Cellar\", 3.3),\n",
    "    (\"Nice Cakes\", 3.9),\n",
    "]\n",
    "\n",
    "# Отсортируйте список ratings по убыванию рейтинга. Для кафе\n",
    "# с одинаковым рейтингом отсортируйте кортежи по названию.\n",
    "\n",
    "ratings = sorted(ratings, key=lambda x: (-x[1], x[0]))\n",
    "\n",
    "# Сохраните данные с рейтингом в словарь cafes, где ключами являются\n",
    "# названия кафе, а значениями - их рейтинг.\n",
    "from collections import OrderedDict\n",
    "\n",
    "cafes = OrderedDict(ratings)\n",
    "print(cafes)"
   ]
  },
  {
   "cell_type": "markdown",
   "metadata": {},
   "source": [
    "### Задание 4.10\n",
    "\n",
    "Напишите функцию task_manager, которая принимает список задач для нескольких серверов. Каждый элемент списка состоит из кортежа (<номер задачи>, <название сервера>, <высокий приоритет задачи>).\n",
    "\n",
    "Функция должна создавать словарь и заполнять его задачами по следующему принципу: название сервера — ключ, по которому хранится очередь задач для конкретного сервера. Если поступает задача без высокого приоритета (последний элемент кортежа — False), добавить номер задачи в конец очереди. Если приоритет высокий, добавить номер в начало.\n",
    "\n",
    "Для словаря используйте defaultdict, для очереди — deque.\n",
    "\n",
    "Функция возвращает полученный словарь с задачами.\n",
    "\n",
    "Пример:\n",
    "``` python\n",
    "tasks = [(36871, 'office', False),\n",
    "(40690, 'office', False),\n",
    "(35364, 'voltage', False),\n",
    "(41667, 'voltage', True),\n",
    "(33850, 'office', False)]\n",
    " \n",
    "print(task_manager(tasks))\n",
    "# defaultdict(, {'voltage': deque([41667, 35364]),\n",
    "# 'office': deque([36871, 40690, 33850])})\n",
    "```"
   ]
  },
  {
   "cell_type": "code",
   "execution_count": 39,
   "metadata": {},
   "outputs": [],
   "source": [
    "tasks = [(36871, 'office', False),\n",
    "(40690, 'office', False),\n",
    "(35364, 'voltage', False),\n",
    "(41667, 'voltage', True),\n",
    "(33850, 'office', False)]"
   ]
  },
  {
   "cell_type": "code",
   "execution_count": 49,
   "metadata": {},
   "outputs": [],
   "source": [
    "from collections import defaultdict, deque\n",
    "\n",
    "\n",
    "def task_manager(tasks):\n",
    "    tasks_dict = defaultdict(deque)\n",
    "\n",
    "    for task, server, priority in tasks:\n",
    "        if priority:\n",
    "            tasks_dict[server].appendleft(task)\n",
    "        else:\n",
    "            tasks_dict[server].append(task)\n",
    "    \n",
    "    return tasks_dict"
   ]
  },
  {
   "cell_type": "code",
   "execution_count": 50,
   "metadata": {},
   "outputs": [
    {
     "data": {
      "text/plain": [
       "defaultdict(collections.deque,\n",
       "            {'office': deque([36871, 40690, 33850]),\n",
       "             'voltage': deque([41667, 35364])})"
      ]
     },
     "execution_count": 50,
     "metadata": {},
     "output_type": "execute_result"
    }
   ],
   "source": [
    "task_manager(tasks)"
   ]
  },
  {
   "cell_type": "code",
   "execution_count": null,
   "metadata": {},
   "outputs": [],
   "source": []
  }
 ],
 "metadata": {
  "kernelspec": {
   "display_name": "Python 3.9.12 ('base')",
   "language": "python",
   "name": "python3"
  },
  "language_info": {
   "codemirror_mode": {
    "name": "ipython",
    "version": 3
   },
   "file_extension": ".py",
   "mimetype": "text/x-python",
   "name": "python",
   "nbconvert_exporter": "python",
   "pygments_lexer": "ipython3",
   "version": "3.9.12"
  },
  "orig_nbformat": 4,
  "vscode": {
   "interpreter": {
    "hash": "c85ce5e063f82c52011c1c6414d7519d9975c8984a5fd91991e796841fee6f1b"
   }
  }
 },
 "nbformat": 4,
 "nbformat_minor": 2
}
