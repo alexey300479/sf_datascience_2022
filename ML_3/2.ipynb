{
 "cells": [
  {
   "attachments": {},
   "cell_type": "markdown",
   "metadata": {},
   "source": [
    "### Задание 2.5\n",
    "1 point possible (graded)\n",
    "Решается задача бинарной классификации с помощью логистической регрессии.\n",
    "\n",
    "Задано уравнение разделяющей плоскости:\n",
    "$z = 1+5x_{1}-0.3x_{2}$\n",
    "\n",
    "На вход алгоритма подаётся новое наблюдение с признаками $x_{1}=0.3$ и $x_{2}=3$.\n",
    "Определите вероятность принадлежности наблюдения к классу 1. Ответ округлите до двух знаков после точки-разделителя.\n"
   ]
  },
  {
   "cell_type": "code",
   "execution_count": 3,
   "metadata": {},
   "outputs": [],
   "source": [
    "from scipy.special import expit as sigmoid"
   ]
  },
  {
   "cell_type": "code",
   "execution_count": 4,
   "metadata": {},
   "outputs": [],
   "source": [
    "def z(x_1, x_2):\n",
    "    return 1 + 5*x_1 - 0.3*x_2"
   ]
  },
  {
   "cell_type": "code",
   "execution_count": 6,
   "metadata": {},
   "outputs": [
    {
     "name": "stdout",
     "output_type": "stream",
     "text": [
      "P=0.83\n"
     ]
    }
   ],
   "source": [
    "p = sigmoid(z(0.3, 3))\n",
    "print(f'P={p:.2f}')"
   ]
  },
  {
   "cell_type": "code",
   "execution_count": null,
   "metadata": {},
   "outputs": [],
   "source": []
  }
 ],
 "metadata": {
  "kernelspec": {
   "display_name": "base",
   "language": "python",
   "name": "python3"
  },
  "language_info": {
   "codemirror_mode": {
    "name": "ipython",
    "version": 3
   },
   "file_extension": ".py",
   "mimetype": "text/x-python",
   "name": "python",
   "nbconvert_exporter": "python",
   "pygments_lexer": "ipython3",
   "version": "3.9.12"
  },
  "orig_nbformat": 4
 },
 "nbformat": 4,
 "nbformat_minor": 2
}
