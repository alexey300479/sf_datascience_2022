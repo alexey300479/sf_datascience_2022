{
 "cells": [
  {
   "attachments": {},
   "cell_type": "markdown",
   "metadata": {},
   "source": [
    "### ДОПОЛНИТЕЛЬНО:\n",
    "\n",
    "* <a href=\"https://www.telusinternational.com/articles/10-open-datasets-for-linear-regression\">Десять датасетов для практики работы с линейной регрессией</a>\n",
    "* <a href=\"https://habr.com/ru/company/ods/blog/322076/\">Базовые принципы машинного обучения на примере линейной регрессии</a>\n",
    "* <a href=\"https://nagornyy.me/it/regressionnye-modeli-v-python/\">Регрессионные модели в Python</a>\n"
   ]
  },
  {
   "cell_type": "code",
   "execution_count": null,
   "metadata": {},
   "outputs": [],
   "source": []
  }
 ],
 "metadata": {
  "language_info": {
   "name": "python"
  },
  "orig_nbformat": 4
 },
 "nbformat": 4,
 "nbformat_minor": 2
}
