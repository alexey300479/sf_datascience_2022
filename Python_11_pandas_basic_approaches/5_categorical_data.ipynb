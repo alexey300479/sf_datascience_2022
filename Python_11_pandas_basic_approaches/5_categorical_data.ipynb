{
 "cells": [
  {
   "cell_type": "markdown",
   "metadata": {},
   "source": [
    "# 5. Тип данных Category"
   ]
  },
  {
   "cell_type": "markdown",
   "metadata": {},
   "source": [
    "✍ Важной частью предобработки данных является оптимизация хранения данных и работы с ними. В этом разделе мы поговорим об оптимизации работы с категориальными признаками."
   ]
  },
  {
   "cell_type": "markdown",
   "metadata": {},
   "source": [
    "## ПРИЗНАКИ: КАТЕГОРИАЛЬНЫЕ И ЧИСЛОВЫЕ\n",
    "\n",
    "Рассмотрим такие статистические термины, как категориальные и числовые признаки.\n",
    "\n",
    "Под числовыми признаками обычно подразумевают признаки, которые отражают количественную меру и могут принимать значения из неограниченного диапазона.\n",
    "\n",
    "Числовые признаки могут быть:\n",
    "\n",
    "- дискретными (например, количество комнат, пациентов, дней, отток сотрудников);\n",
    "- непрерывными (например, масса, цена, площадь).\n",
    "- Дискретные признаки чаще всего представлены целыми числами, а непрерывные — целыми числами и числами с плавающей точкой.\n",
    "\n",
    "Под категориальными признаками обычно подразумевают столбцы в таблице, которые обозначают принадлежность объекта к какому-то классу/категории.\n",
    "\n",
    "Категориальные признаки могут быть:\n",
    "\n",
    "- номинальными (например, пол, национальность, район);\n",
    "- порядковыми (например, уровень образования, уровень комфорта, стадия заболевания).\n",
    "- Такие признаки имеют ограниченный набор значений. Они чаще всего представлены в виде текстового описания и кодируются в Pandas типом данных object.\n",
    "\n",
    "Однако это не всегда так. Например, созданный нами ранее признак месяца продажи кодируется числом (от 1 до 12), но на самом деле является категориальным, поскольку диапазон его значений ограничен и каждому числу мы можем поставить в соответствие название месяца.\n",
    "\n",
    "?\n",
    "Возникает вопрос: а какие признаки стоит считать категориальными?\n",
    "\n",
    "Однозначного ответа на этот вопрос нет. Решение, какой признак отнести к классу категорий, остаётся за исследователем. Некоторые специалисты даже относят количественные признаки в разряд категориальных, когда диапазон возможных значений довольно мал. \n",
    "\n",
    "Не существует жёсткого правила, определяющего, сколько значений должна иметь категориальная переменная. Вы должны использовать собственные знания о предметной области, чтобы сделать выбор. Однако в этом разделе мы всё же введём некоторые рекомендации.\n",
    "\n",
    "### ДОПОЛНИТЕЛЬНО\n",
    "\n",
    "На самом деле классификация признаков уходит даже глубже — [здесь](https://medium.com/nuances-of-programming/%D1%81%D1%82%D0%B0%D1%82%D0%B8%D1%81%D1%82%D0%B8%D1%87%D0%B5%D1%81%D0%BA%D0%B8%D0%B5-%D1%82%D0%B8%D0%BF%D1%8B-%D0%B4%D0%B0%D0%BD%D0%BD%D1%8B%D1%85-%D0%B8%D1%81%D0%BF%D0%BE%D0%BB%D1%8C%D0%B7%D1%83%D0%B5%D0%BC%D1%8B%D0%B5-%D0%B2-%D0%BC%D0%B0%D1%88%D0%B8%D0%BD%D0%BD%D0%BE%D0%BC-%D0%BE%D0%B1%D1%83%D1%87%D0%B5%D0%BD%D0%B8%D0%B8-b8891039b09) вы сможете подробнее ознакомиться со всеми тонкостями.\n",
    "\n",
    "### ПОЧЕМУ ТАК ВАЖНО ОТЛИЧАТЬ КАТЕГОРИАЛЬНЫЕ СТОЛБЦЫ ОТ ДРУГИХ?\n",
    "\n",
    "→ Оказывается, анализ и предобработка категориальных признаков отличается от предобработки числовых признаков.\n",
    "\n",
    "Мы уже видели, что в столбцах с типом данных object мы не можем рассчитать среднее значение, стандартное отклонение или другие статистические параметры, которые годятся только для чисел.\n",
    "\n",
    "Способ заполнения пропущенных данных и поиск аномальных значений также различаются для разных типов признаков, но этот момент мы рассмотрим в модуле по очистке данных.\n",
    "\n",
    "## КАТЕГОРИИ В ДАННЫХ О НЕДВИЖИМОСТИ\n",
    "\n",
    "Давайте определим число уникальных категорий в каждом столбце нашей таблицы melb_df. Для этого создадим вспомогательную таблицу unique_counts:"
   ]
  },
  {
   "cell_type": "code",
   "execution_count": 4,
   "metadata": {},
   "outputs": [],
   "source": [
    "import pandas as pd\n",
    "\n",
    "\n",
    "melb_df = pd.read_csv(\"data/melb_data_4.csv\", sep=\",\")"
   ]
  },
  {
   "cell_type": "code",
   "execution_count": 7,
   "metadata": {},
   "outputs": [
    {
     "data": {
      "text/html": [
       "<div>\n",
       "<style scoped>\n",
       "    .dataframe tbody tr th:only-of-type {\n",
       "        vertical-align: middle;\n",
       "    }\n",
       "\n",
       "    .dataframe tbody tr th {\n",
       "        vertical-align: top;\n",
       "    }\n",
       "\n",
       "    .dataframe thead th {\n",
       "        text-align: right;\n",
       "    }\n",
       "</style>\n",
       "<table border=\"1\" class=\"dataframe\">\n",
       "  <thead>\n",
       "    <tr style=\"text-align: right;\">\n",
       "      <th></th>\n",
       "      <th>Coumn_Name</th>\n",
       "      <th>Num_Unique</th>\n",
       "      <th>Type</th>\n",
       "    </tr>\n",
       "  </thead>\n",
       "  <tbody>\n",
       "    <tr>\n",
       "      <th>0</th>\n",
       "      <td>Type</td>\n",
       "      <td>3</td>\n",
       "      <td>object</td>\n",
       "    </tr>\n",
       "    <tr>\n",
       "      <th>1</th>\n",
       "      <td>WeekDaySale</td>\n",
       "      <td>5</td>\n",
       "      <td>int64</td>\n",
       "    </tr>\n",
       "    <tr>\n",
       "      <th>2</th>\n",
       "      <td>Method</td>\n",
       "      <td>5</td>\n",
       "      <td>object</td>\n",
       "    </tr>\n",
       "    <tr>\n",
       "      <th>3</th>\n",
       "      <td>Regionname</td>\n",
       "      <td>8</td>\n",
       "      <td>object</td>\n",
       "    </tr>\n",
       "    <tr>\n",
       "      <th>4</th>\n",
       "      <td>Rooms</td>\n",
       "      <td>9</td>\n",
       "      <td>int64</td>\n",
       "    </tr>\n",
       "    <tr>\n",
       "      <th>5</th>\n",
       "      <td>Bathroom</td>\n",
       "      <td>9</td>\n",
       "      <td>int64</td>\n",
       "    </tr>\n",
       "    <tr>\n",
       "      <th>6</th>\n",
       "      <td>StreetType</td>\n",
       "      <td>11</td>\n",
       "      <td>object</td>\n",
       "    </tr>\n",
       "    <tr>\n",
       "      <th>7</th>\n",
       "      <td>Car</td>\n",
       "      <td>11</td>\n",
       "      <td>int64</td>\n",
       "    </tr>\n",
       "    <tr>\n",
       "      <th>8</th>\n",
       "      <td>Bedroom</td>\n",
       "      <td>12</td>\n",
       "      <td>int64</td>\n",
       "    </tr>\n",
       "    <tr>\n",
       "      <th>9</th>\n",
       "      <td>CouncilArea</td>\n",
       "      <td>33</td>\n",
       "      <td>object</td>\n",
       "    </tr>\n",
       "    <tr>\n",
       "      <th>10</th>\n",
       "      <td>SellerG</td>\n",
       "      <td>50</td>\n",
       "      <td>object</td>\n",
       "    </tr>\n",
       "    <tr>\n",
       "      <th>11</th>\n",
       "      <td>Date</td>\n",
       "      <td>58</td>\n",
       "      <td>object</td>\n",
       "    </tr>\n",
       "    <tr>\n",
       "      <th>12</th>\n",
       "      <td>YearBuilt</td>\n",
       "      <td>144</td>\n",
       "      <td>int64</td>\n",
       "    </tr>\n",
       "    <tr>\n",
       "      <th>13</th>\n",
       "      <td>Postcode</td>\n",
       "      <td>198</td>\n",
       "      <td>int64</td>\n",
       "    </tr>\n",
       "    <tr>\n",
       "      <th>14</th>\n",
       "      <td>Distance</td>\n",
       "      <td>202</td>\n",
       "      <td>float64</td>\n",
       "    </tr>\n",
       "    <tr>\n",
       "      <th>15</th>\n",
       "      <td>Propertycount</td>\n",
       "      <td>311</td>\n",
       "      <td>int64</td>\n",
       "    </tr>\n",
       "    <tr>\n",
       "      <th>16</th>\n",
       "      <td>Suburb</td>\n",
       "      <td>314</td>\n",
       "      <td>object</td>\n",
       "    </tr>\n",
       "    <tr>\n",
       "      <th>17</th>\n",
       "      <td>BuildingArea</td>\n",
       "      <td>602</td>\n",
       "      <td>float64</td>\n",
       "    </tr>\n",
       "    <tr>\n",
       "      <th>18</th>\n",
       "      <td>Landsize</td>\n",
       "      <td>1448</td>\n",
       "      <td>float64</td>\n",
       "    </tr>\n",
       "    <tr>\n",
       "      <th>19</th>\n",
       "      <td>Price</td>\n",
       "      <td>2204</td>\n",
       "      <td>float64</td>\n",
       "    </tr>\n",
       "    <tr>\n",
       "      <th>20</th>\n",
       "      <td>Lattitude</td>\n",
       "      <td>6503</td>\n",
       "      <td>float64</td>\n",
       "    </tr>\n",
       "    <tr>\n",
       "      <th>21</th>\n",
       "      <td>Longtitude</td>\n",
       "      <td>7063</td>\n",
       "      <td>float64</td>\n",
       "    </tr>\n",
       "    <tr>\n",
       "      <th>22</th>\n",
       "      <td>Coordinates</td>\n",
       "      <td>13097</td>\n",
       "      <td>object</td>\n",
       "    </tr>\n",
       "  </tbody>\n",
       "</table>\n",
       "</div>"
      ],
      "text/plain": [
       "       Coumn_Name  Num_Unique     Type\n",
       "0            Type           3   object\n",
       "1     WeekDaySale           5    int64\n",
       "2          Method           5   object\n",
       "3      Regionname           8   object\n",
       "4           Rooms           9    int64\n",
       "5        Bathroom           9    int64\n",
       "6      StreetType          11   object\n",
       "7             Car          11    int64\n",
       "8         Bedroom          12    int64\n",
       "9     CouncilArea          33   object\n",
       "10        SellerG          50   object\n",
       "11           Date          58   object\n",
       "12      YearBuilt         144    int64\n",
       "13       Postcode         198    int64\n",
       "14       Distance         202  float64\n",
       "15  Propertycount         311    int64\n",
       "16         Suburb         314   object\n",
       "17   BuildingArea         602  float64\n",
       "18       Landsize        1448  float64\n",
       "19          Price        2204  float64\n",
       "20      Lattitude        6503  float64\n",
       "21     Longtitude        7063  float64\n",
       "22    Coordinates       13097   object"
      ]
     },
     "execution_count": 7,
     "metadata": {},
     "output_type": "execute_result"
    }
   ],
   "source": [
    "# создаем пустой список\n",
    "unique_list = []\n",
    "\n",
    "# пробегаемся по именам столбцов в таблице\n",
    "for col in melb_df.columns:\n",
    "    # создаем кортеж (имя столбца, число уникальных значений, тип данных)\n",
    "    item = (col, melb_df[col].nunique(), melb_df[col].dtypes)\n",
    "    \n",
    "    # добавляем кортеж в список\n",
    "    unique_list.append(item)\n",
    "    \n",
    "# создаем вспомогательную таблицу и сортируем её\n",
    "unique_cols = pd.DataFrame(unique_list, columns=['Coumn_Name', 'Num_Unique', 'Type']).sort_values(by='Num_Unique', ignore_index=True)\n",
    "\n",
    "unique_cols"
   ]
  },
  {
   "cell_type": "markdown",
   "metadata": {},
   "source": [
    "Разберём код подробнее:\n",
    "\n",
    "1. Создаём пустой список, в который будем добавлять кортежи: имя столбца, количество уникальных значений в нём и тип столбца.\n",
    "2. В цикле перебираем имена столбцов, которые получаем с помощью атрибута columns. В переменной col на каждой итерации находятся имена столбцов — обращаемся к ним в цикле и извлекаем число уникальных элементов с помощью метода nunique(), а также тип столбца с помощью атрибута dtypes. Результат заносим в кортеж и добавляем его в список.\n",
    "3. Из списка с кортежами (имя столбца, количество уникальных значений в нём, тип столбца) создаём DataFrame, даём названия его столбцам: Column_Name, Num_unique и Type.\n",
    "4. Сортируем таблицу по столбцу Num_unique в порядке возрастания количества уникальных элементов с помощью метода sort_values() и выводим результат на экран.\n",
    "\n",
    "Примечание. Мы ещё не изучали сортировку DataFrame методом sort_values() — данную тему мы обсудим в следующем модуле, однако здесь эта функция необходима для более наглядной интерпретации результата.\n",
    "\n",
    "Итак, с помощью такого несложного кода мы смогли получить вспомогательную таблицу, где в отсортированном виде показано количество уникальных значений во всех столбцах и их типы.\n",
    "\n",
    "Что интересного мы можем узнать из такой таблицы?\n",
    "\n",
    "Если присмотреться внимательно, можно увидеть резкий скачок количества уникальных значений, начиная с 14 строки таблицы, где число уникальных значений составляет 152. Учтём этот момент.\n",
    "\n",
    "Условимся, что категориальными будем считать признаки, у которых число уникальных категорий меньше 150. \n",
    "\n",
    "Однако учтём, что признак Date (дата продажи), преобразованный нами ранее в формат datetime, является временным признаком, поэтому далее не будем его воспринимать как категориальный. \n",
    "\n",
    "К тому же в наш потенциальный список попали количественные столбцы Rooms, Car, Bedroom и Bathroom. Договоримся, что мы не будем относить их к разряду категориальных, однако, как упоминалось ранее, такое тоже вполне возможно.\n",
    "\n",
    "Примечание. Ещё раз подчеркиваем, что такая классификация признаков является исключительно субъективной и специфична для задачи."
   ]
  },
  {
   "cell_type": "markdown",
   "metadata": {},
   "source": [
    "## ТИП ДАННЫХ CATEGORY\n",
    "\n",
    "Для хранения и оптимизации работы с категориальными признаками в Pandas предусмотрен специальный тип данных — category.\n",
    "\n",
    "→ Этот тип данных является гибридным: внешне он выглядит как строка, но внутренне представлен массивом целых чисел. Так как данные вместо изначальных строк хранятся в памяти как число, то объём памяти, занимаемой таблицей при использовании типа category, резко уменьшается, что повышает эффективность хранения и работы с таблицей.\n",
    "\n",
    "→ Более того, этот тип данных расширяет возможности работы с категориальными признаками: мы можем легко преобразовывать категории, строить графики по таким данным (что сложно сделать для типа данных object). Также резко повышается производительность операций, совершаемых с такими столбцами.\n",
    "\n",
    "Самый простой способ преобразования столбцов к типу данных category — это использование уже знакомого нам метода astype(), в параметры которого достаточно передать строку 'category'.\n",
    "\n",
    "Рассмотрим это на примере.\n",
    "\n",
    "Для начала, выведем информацию о памяти, занимаемой текущей таблицей, с помощью метода info():\n",
    "\n"
   ]
  },
  {
   "cell_type": "code",
   "execution_count": 8,
   "metadata": {},
   "outputs": [
    {
     "name": "stdout",
     "output_type": "stream",
     "text": [
      "<class 'pandas.core.frame.DataFrame'>\n",
      "RangeIndex: 13580 entries, 0 to 13579\n",
      "Data columns (total 23 columns):\n",
      " #   Column         Non-Null Count  Dtype  \n",
      "---  ------         --------------  -----  \n",
      " 0   Suburb         13580 non-null  object \n",
      " 1   Rooms          13580 non-null  int64  \n",
      " 2   Type           13580 non-null  object \n",
      " 3   Price          13580 non-null  float64\n",
      " 4   Method         13580 non-null  object \n",
      " 5   SellerG        13580 non-null  object \n",
      " 6   Date           13580 non-null  object \n",
      " 7   Distance       13580 non-null  float64\n",
      " 8   Postcode       13580 non-null  int64  \n",
      " 9   Bedroom        13580 non-null  int64  \n",
      " 10  Bathroom       13580 non-null  int64  \n",
      " 11  Car            13580 non-null  int64  \n",
      " 12  Landsize       13580 non-null  float64\n",
      " 13  BuildingArea   13580 non-null  float64\n",
      " 14  YearBuilt      13580 non-null  int64  \n",
      " 15  CouncilArea    12211 non-null  object \n",
      " 16  Lattitude      13580 non-null  float64\n",
      " 17  Longtitude     13580 non-null  float64\n",
      " 18  Regionname     13580 non-null  object \n",
      " 19  Propertycount  13580 non-null  int64  \n",
      " 20  Coordinates    13580 non-null  object \n",
      " 21  StreetType     13580 non-null  object \n",
      " 22  WeekDaySale    13580 non-null  int64  \n",
      "dtypes: float64(6), int64(8), object(9)\n",
      "memory usage: 2.4+ MB\n"
     ]
    }
   ],
   "source": [
    "melb_df.info()"
   ]
  },
  {
   "cell_type": "markdown",
   "metadata": {},
   "source": [
    "Текущий объём памяти — 2.7 Мб.\n",
    "\n",
    "Примечание. Объём занимаемой памяти и количество столбцов на вашем компьютере может отличаться в зависимости от того, выполняли ли вы код и задания из предыдущих разделов на добавление и преобразование данных в таблице.\n",
    "\n",
    "Сделаем преобразование столбцов к типу данных category:"
   ]
  },
  {
   "cell_type": "code",
   "execution_count": 9,
   "metadata": {},
   "outputs": [
    {
     "name": "stdout",
     "output_type": "stream",
     "text": [
      "<class 'pandas.core.frame.DataFrame'>\n",
      "RangeIndex: 13580 entries, 0 to 13579\n",
      "Data columns (total 23 columns):\n",
      " #   Column         Non-Null Count  Dtype   \n",
      "---  ------         --------------  -----   \n",
      " 0   Suburb         13580 non-null  object  \n",
      " 1   Rooms          13580 non-null  int64   \n",
      " 2   Type           13580 non-null  category\n",
      " 3   Price          13580 non-null  float64 \n",
      " 4   Method         13580 non-null  category\n",
      " 5   SellerG        13580 non-null  category\n",
      " 6   Date           13580 non-null  object  \n",
      " 7   Distance       13580 non-null  float64 \n",
      " 8   Postcode       13580 non-null  int64   \n",
      " 9   Bedroom        13580 non-null  int64   \n",
      " 10  Bathroom       13580 non-null  int64   \n",
      " 11  Car            13580 non-null  int64   \n",
      " 12  Landsize       13580 non-null  float64 \n",
      " 13  BuildingArea   13580 non-null  float64 \n",
      " 14  YearBuilt      13580 non-null  category\n",
      " 15  CouncilArea    12211 non-null  category\n",
      " 16  Lattitude      13580 non-null  float64 \n",
      " 17  Longtitude     13580 non-null  float64 \n",
      " 18  Regionname     13580 non-null  category\n",
      " 19  Propertycount  13580 non-null  int64   \n",
      " 20  Coordinates    13580 non-null  object  \n",
      " 21  StreetType     13580 non-null  category\n",
      " 22  WeekDaySale    13580 non-null  category\n",
      "dtypes: category(8), float64(6), int64(6), object(3)\n",
      "memory usage: 1.7+ MB\n"
     ]
    },
    {
     "data": {
      "text/plain": [
       "None"
      ]
     },
     "metadata": {},
     "output_type": "display_data"
    }
   ],
   "source": [
    "cols_to_exclude = ['Date', 'Rooms', 'Bedroom', 'Bathroom', 'Car'] # список столбцов, которые мы не берём во внимание\n",
    "max_unique_count = 150 # задаём максимальное число уникальных категорий\n",
    "for col in melb_df.columns: # цикл по именам столбцов\n",
    "    if melb_df[col].nunique() < max_unique_count and col not in cols_to_exclude: # проверяем условие\n",
    "        melb_df[col] = melb_df[col].astype('category') # преобразуем тип столбца\n",
    "display(melb_df.info())"
   ]
  },
  {
   "cell_type": "markdown",
   "metadata": {},
   "source": [
    "Разберём код подробнее:\n",
    "\n",
    "1. Задаём список столбцов, которые мы не берём в рассмотрение (cols_to_exclude), а также условленный нами ранее порог уникальных значений столбца max_unique_count.\n",
    "2. В цикле перебираем имена столбцов, и, если число уникальных категорий меньше заданного порога и имён столбцов нет в списке cols_to_exclude, то с помощью метода astype() приводим столбец к типу данных category.\n",
    "3. Итоговый объём памяти — 1.9 Мб. В результате такого преобразования объём памяти, занимаемый таблицей, уменьшился почти в 1.5 раза. Это впечатляет!\n",
    "\n",
    "Особенно хорошо такое преобразование работает на действительно больших данных, где число строк превышает сотни тысяч или миллионы. Иногда изменение типов может уменьшить объём памяти в десятки раз и существенно увеличить производительность.\n",
    "\n",
    "## ПОЛУЧЕНИЕ АТРИБУТОВ CATEGORY\n",
    "\n",
    "У типа данных category есть свой специальный аксесcор cat, который позволяет получать информацию о своих значениях и преобразовывать их. Например, с помощью атрибута этого аксессора categories мы можем получить список уникальных категорий в столбце Regionname:"
   ]
  },
  {
   "cell_type": "code",
   "execution_count": 10,
   "metadata": {},
   "outputs": [
    {
     "data": {
      "text/plain": [
       "Index(['Eastern Metropolitan', 'Eastern Victoria', 'Northern Metropolitan',\n",
       "       'Northern Victoria', 'South-Eastern Metropolitan',\n",
       "       'Southern Metropolitan', 'Western Metropolitan', 'Western Victoria'],\n",
       "      dtype='object')"
      ]
     },
     "execution_count": 10,
     "metadata": {},
     "output_type": "execute_result"
    }
   ],
   "source": [
    "melb_df['Regionname'].cat.categories"
   ]
  },
  {
   "cell_type": "markdown",
   "metadata": {},
   "source": [
    "А теперь посмотрим, каким образом столбец кодируется в виде чисел в памяти компьютера. Для этого можно воспользоваться атрибутом codes:"
   ]
  },
  {
   "cell_type": "code",
   "execution_count": 11,
   "metadata": {},
   "outputs": [
    {
     "data": {
      "text/plain": [
       "0        2\n",
       "1        2\n",
       "2        2\n",
       "3        2\n",
       "4        2\n",
       "        ..\n",
       "13575    4\n",
       "13576    6\n",
       "13577    6\n",
       "13578    6\n",
       "13579    6\n",
       "Length: 13580, dtype: int8"
      ]
     },
     "execution_count": 11,
     "metadata": {},
     "output_type": "execute_result"
    }
   ],
   "source": [
    "melb_df['Regionname'].cat.codes"
   ]
  },
  {
   "cell_type": "markdown",
   "metadata": {},
   "source": [
    "С помощью метода аксессора rename_categories() можно легко переименовать текущие значения категорий. Для этого в данный метод нужно передать словарь, ключи которого — старые имена категорий, а значения — новые.\n",
    "\n",
    "Рассмотрим на примере: переименуем категории признака типа постройки Type — заменим их на полные названия (напомним, u — unit, h — house, t — townhouse)."
   ]
  },
  {
   "cell_type": "code",
   "execution_count": 12,
   "metadata": {},
   "outputs": [
    {
     "data": {
      "text/plain": [
       "0        house\n",
       "1        house\n",
       "2        house\n",
       "3        house\n",
       "4        house\n",
       "         ...  \n",
       "13575    house\n",
       "13576    house\n",
       "13577    house\n",
       "13578    house\n",
       "13579    house\n",
       "Name: Type, Length: 13580, dtype: category\n",
       "Categories (3, object): ['house', 'townhouse', 'unit']"
      ]
     },
     "metadata": {},
     "output_type": "display_data"
    }
   ],
   "source": [
    "melb_df['Type'] = melb_df['Type'].cat.rename_categories({\n",
    "    'u': 'unit',\n",
    "    't': 'townhouse',\n",
    "    'h': 'house'\n",
    "})\n",
    "display(melb_df['Type'])"
   ]
  },
  {
   "cell_type": "markdown",
   "metadata": {},
   "source": [
    "### ДОПОЛНИТЕЛЬНО\n",
    "\n",
    "Подробнее ознакомиться с другими возможностями типа данных category можно [здесь](https://pandas.pydata.org/pandas-docs/stable/user_guide/categorical.html)."
   ]
  },
  {
   "cell_type": "markdown",
   "metadata": {},
   "source": [
    "### ПОДВОДНЫЕ КАМНИ\n",
    "\n",
    "А теперь представим ситуацию, что появилась новая партия домов и теперь мы продаём и квартиры (flat). Создадим объект Series new_houses_types, в котором будем хранить типы зданий новой партии домов. Преобразуем тип new_houses_types в такой же тип, как и у столбца Type в таблице melb_data, и выведем результат на экран:"
   ]
  },
  {
   "cell_type": "code",
   "execution_count": 13,
   "metadata": {},
   "outputs": [
    {
     "data": {
      "text/plain": [
       "0     unit\n",
       "1    house\n",
       "2      NaN\n",
       "3      NaN\n",
       "4    house\n",
       "dtype: category\n",
       "Categories (3, object): ['house', 'townhouse', 'unit']"
      ]
     },
     "metadata": {},
     "output_type": "display_data"
    }
   ],
   "source": [
    "new_houses_types = pd.Series(['unit', 'house', 'flat', 'flat', 'house'])\n",
    "new_houses_types = new_houses_types.astype(melb_df['Type'].dtype)\n",
    "display(new_houses_types)"
   ]
  },
  {
   "cell_type": "markdown",
   "metadata": {},
   "source": [
    "Хммм... С нашими новыми объектами недвижимости произошло нечто странное. По какой-то причине вместо квартир мы получили пустые значения — NaN.\n",
    "\n",
    "На самом деле причина проста: тип данных category хранит только категории, которые были объявлены при его инициализации. При встрече с новой, неизвестной ранее категорией, этот тип превратит её в пустое значение, так как он просто не знает о существовании этой категории.\n",
    "\n",
    "Решить эту проблему на самом деле не сложно. Можно добавить категорию flat в столбец Type с помощью метода акссесора cat add_categories(), в который достаточно просто передать имя новой категории:"
   ]
  },
  {
   "cell_type": "code",
   "execution_count": 14,
   "metadata": {},
   "outputs": [
    {
     "data": {
      "text/plain": [
       "0     unit\n",
       "1    house\n",
       "2     flat\n",
       "3     flat\n",
       "4    house\n",
       "dtype: category\n",
       "Categories (4, object): ['house', 'townhouse', 'unit', 'flat']"
      ]
     },
     "metadata": {},
     "output_type": "display_data"
    }
   ],
   "source": [
    "melb_df['Type'] = melb_df['Type'].cat.add_categories('flat')\n",
    "new_houses_types = pd.Series(['unit', 'house', 'flat', 'flat', 'house'])\n",
    "new_houses_types = new_houses_types.astype(melb_df['Type'].dtype)\n",
    "display(new_houses_types)"
   ]
  },
  {
   "cell_type": "markdown",
   "metadata": {},
   "source": [
    "Примечание. Добавление новой категории в столбец Type не отразится на самом столбце — текущие категории не изменятся, однако такое преобразование позволит добавлять в таблицу новые данные о домах с новой категорией — flat.\n",
    "\n",
    "Из данного примера можно сделать вывод, что если набор категорий в столбце жёстко не зафиксирован и может обновляться в процессе работы, то тип category не является подходящим типом данных для этого столбца или необходимо постоянно писать проверки при обновлении таблицы.\n",
    "\n",
    "Теперь, когда мы рассмотрели основные моменты и нюансы работы с типом данных category, можно сформулировать несколько рекомендаций по его использованию:\n",
    "1. Необязательно каждый раз преобразовывать категориальные данные в тип данных category. Зачастую это делается исключительно для оптимизации работы с большими данными.\n",
    "2. Если набор данных занимает значительный процент используемой оперативной памяти, рассмотрите возможность использования типа category.\n",
    "3. Если у вас очень серьёзные проблемы с производительностью, обратите внимание на использование типа category.\n",
    "4. Если вы решили использовать тип category, будьте осторожны при добавлении новой информации в вашу таблицу. Убедитесь, что вы собрали всю необходимую информацию, произведите предобработку данных и только после этого используйте преобразование типов.\n",
    "\n",
    "✍ Мы рассмотрели основной подход в оптимизации работы с признаками, представленными в виде категорий. Предлагаем вам закрепить знания, выполнив несколько заданий ↓"
   ]
  },
  {
   "cell_type": "markdown",
   "metadata": {},
   "source": [
    "### Задание 5.1\n",
    "Вам представлены табличные данные о пациентах, пребывающих в некотором отделении больницы. Соотнесите представленные ниже признаки, описывающие пациента, с категориальными и числовыми столбцами.\n",
    "\n",
    "![задание 5.1](img/dst3-u1-md11_5_1.png)"
   ]
  },
  {
   "cell_type": "markdown",
   "metadata": {},
   "source": [
    "Ответ:\n",
    "\n",
    "![Ответ на задание 5.1.](img/dst3-u1-md11_5_1_answer.png)"
   ]
  },
  {
   "cell_type": "markdown",
   "metadata": {},
   "source": [
    "#### Задание 5.2\n",
    "При преобразовании столбцов таблицы о недвижимости к типу category мы оставили без внимания столбец Suburb (пригород). Давайте исправим это.\n",
    "С помощью метода info() узнайте, сколько памяти занимает таблица melb_df.\n",
    "Преобразуйте признак Suburb следующим образом: оставьте в столбце только 119 наиболее популярных пригородов, остальные замените на 'other'.\n",
    "Приведите данные в столбце Suburb к категориальному типу.\n",
    "В качестве ответа запишите разницу между объёмом занимаемой памяти до преобразования (который мы получили ранее в модуле) и после него в Мб. Ответ округлите до десятых."
   ]
  },
  {
   "cell_type": "code",
   "execution_count": 17,
   "metadata": {},
   "outputs": [
    {
     "name": "stdout",
     "output_type": "stream",
     "text": [
      "Использовано памяти до преобразования столбца Suburb: 1.6808395385742188\n"
     ]
    }
   ],
   "source": [
    "# Определяем объем используемой памяти в Мб до преобразования\n",
    "memusage_before = melb_df.memory_usage().sum() / 1024 / 1024\n",
    "print(f'Использовано памяти до преобразования столбца Suburb: {memusage_before}')"
   ]
  },
  {
   "cell_type": "code",
   "execution_count": 18,
   "metadata": {},
   "outputs": [
    {
     "name": "stdout",
     "output_type": "stream",
     "text": [
      "Использовано памяти после преобразования столбца Suburb: 1.5950736999511719\n",
      "Ответ: 0.1\n"
     ]
    }
   ],
   "source": [
    "# Выбираем топ 119 пригородов\n",
    "top_suburbs = melb_df[\"Suburb\"].value_counts().nlargest(119)\n",
    "\n",
    "# Задаем функцию возвращающую название пригорода без изменений для\n",
    "# пригорода в списке top_sellers. Для остальных пригородов возвращаем\n",
    "# 'other'\n",
    "def get_suburb_name(suburb):\n",
    "    return suburb if suburb in top_suburbs else \"other\"\n",
    "\n",
    "\n",
    "# Изменяем столбец 'Suburb' применяя функцию get_suburb_name к названиям пригородов\n",
    "melb_df[\"Suburb\"] = melb_df[\"Suburb\"].apply(get_suburb_name)\n",
    "\n",
    "# Переводим данные в столбце 'Suburb' к типу 'category'\n",
    "melb_df[\"Suburb\"] = melb_df[\"Suburb\"].astype(\"category\")\n",
    "\n",
    "\n",
    "# Определяем объем используемой памяти в Мб после преобразования\n",
    "memusage_after = melb_df.memory_usage().sum() / 1024 / 1024\n",
    "print(f'Использовано памяти после преобразования столбца Suburb: {memusage_after}') \n",
    "\n",
    "#  Считаем разницу\n",
    "answer = memusage_before - memusage_after\n",
    "\n",
    "print(f\"Ответ: {answer:.1f}\")"
   ]
  },
  {
   "cell_type": "code",
   "execution_count": null,
   "metadata": {},
   "outputs": [],
   "source": []
  }
 ],
 "metadata": {
  "kernelspec": {
   "display_name": "Python 3.9.12 ('base')",
   "language": "python",
   "name": "python3"
  },
  "language_info": {
   "codemirror_mode": {
    "name": "ipython",
    "version": 3
   },
   "file_extension": ".py",
   "mimetype": "text/x-python",
   "name": "python",
   "nbconvert_exporter": "python",
   "pygments_lexer": "ipython3",
   "version": "3.9.12"
  },
  "orig_nbformat": 4,
  "vscode": {
   "interpreter": {
    "hash": "c85ce5e063f82c52011c1c6414d7519d9975c8984a5fd91991e796841fee6f1b"
   }
  }
 },
 "nbformat": 4,
 "nbformat_minor": 2
}
