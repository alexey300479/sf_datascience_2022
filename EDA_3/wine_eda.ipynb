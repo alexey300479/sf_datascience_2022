{
 "cells": [
  {
   "cell_type": "code",
   "execution_count": 59,
   "metadata": {},
   "outputs": [],
   "source": [
    "import pandas as pd\n",
    "from os.path import join\n",
    "import re"
   ]
  },
  {
   "cell_type": "code",
   "execution_count": 3,
   "metadata": {},
   "outputs": [],
   "source": [
    "data_path = join('dataset',  'wine_cleared.csv')"
   ]
  },
  {
   "cell_type": "code",
   "execution_count": 7,
   "metadata": {},
   "outputs": [],
   "source": [
    "data = pd.read_csv(data_path, index_col='Unnamed: 0')"
   ]
  },
  {
   "cell_type": "code",
   "execution_count": 8,
   "metadata": {},
   "outputs": [
    {
     "data": {
      "text/html": [
       "<div>\n",
       "<style scoped>\n",
       "    .dataframe tbody tr th:only-of-type {\n",
       "        vertical-align: middle;\n",
       "    }\n",
       "\n",
       "    .dataframe tbody tr th {\n",
       "        vertical-align: top;\n",
       "    }\n",
       "\n",
       "    .dataframe thead th {\n",
       "        text-align: right;\n",
       "    }\n",
       "</style>\n",
       "<table border=\"1\" class=\"dataframe\">\n",
       "  <thead>\n",
       "    <tr style=\"text-align: right;\">\n",
       "      <th></th>\n",
       "      <th>country</th>\n",
       "      <th>description</th>\n",
       "      <th>designation</th>\n",
       "      <th>points</th>\n",
       "      <th>price</th>\n",
       "      <th>province</th>\n",
       "      <th>region_1</th>\n",
       "      <th>taster_name</th>\n",
       "      <th>taster_twitter_handle</th>\n",
       "      <th>title</th>\n",
       "      <th>variety</th>\n",
       "      <th>winery</th>\n",
       "    </tr>\n",
       "  </thead>\n",
       "  <tbody>\n",
       "    <tr>\n",
       "      <th>0</th>\n",
       "      <td>Italy</td>\n",
       "      <td>Aromas include tropical fruit, broom, brimston...</td>\n",
       "      <td>Vulkà Bianco</td>\n",
       "      <td>87</td>\n",
       "      <td>35.363389</td>\n",
       "      <td>Sicily &amp; Sardinia</td>\n",
       "      <td>Etna</td>\n",
       "      <td>Kerin O’Keefe</td>\n",
       "      <td>@kerinokeefe</td>\n",
       "      <td>Nicosia 2013 Vulkà Bianco  (Etna)</td>\n",
       "      <td>White Blend</td>\n",
       "      <td>Nicosia</td>\n",
       "    </tr>\n",
       "    <tr>\n",
       "      <th>1</th>\n",
       "      <td>Portugal</td>\n",
       "      <td>This is ripe and fruity, a wine that is smooth...</td>\n",
       "      <td>Avidagos</td>\n",
       "      <td>87</td>\n",
       "      <td>15.000000</td>\n",
       "      <td>Douro</td>\n",
       "      <td>unknown</td>\n",
       "      <td>Roger Voss</td>\n",
       "      <td>@vossroger</td>\n",
       "      <td>Quinta dos Avidagos 2011 Avidagos Red (Douro)</td>\n",
       "      <td>Portuguese Red</td>\n",
       "      <td>Quinta dos Avidagos</td>\n",
       "    </tr>\n",
       "    <tr>\n",
       "      <th>2</th>\n",
       "      <td>US</td>\n",
       "      <td>Tart and snappy, the flavors of lime flesh and...</td>\n",
       "      <td>unknown</td>\n",
       "      <td>87</td>\n",
       "      <td>14.000000</td>\n",
       "      <td>Oregon</td>\n",
       "      <td>Willamette Valley</td>\n",
       "      <td>Paul Gregutt</td>\n",
       "      <td>@paulgwine</td>\n",
       "      <td>Rainstorm 2013 Pinot Gris (Willamette Valley)</td>\n",
       "      <td>Pinot Gris</td>\n",
       "      <td>Rainstorm</td>\n",
       "    </tr>\n",
       "    <tr>\n",
       "      <th>3</th>\n",
       "      <td>US</td>\n",
       "      <td>Pineapple rind, lemon pith and orange blossom ...</td>\n",
       "      <td>Reserve Late Harvest</td>\n",
       "      <td>87</td>\n",
       "      <td>13.000000</td>\n",
       "      <td>Michigan</td>\n",
       "      <td>Lake Michigan Shore</td>\n",
       "      <td>Alexander Peartree</td>\n",
       "      <td>unknown</td>\n",
       "      <td>St. Julian 2013 Reserve Late Harvest Riesling ...</td>\n",
       "      <td>Riesling</td>\n",
       "      <td>St. Julian</td>\n",
       "    </tr>\n",
       "    <tr>\n",
       "      <th>4</th>\n",
       "      <td>US</td>\n",
       "      <td>Much like the regular bottling from 2012, this...</td>\n",
       "      <td>Vintner's Reserve Wild Child Block</td>\n",
       "      <td>87</td>\n",
       "      <td>65.000000</td>\n",
       "      <td>Oregon</td>\n",
       "      <td>Willamette Valley</td>\n",
       "      <td>Paul Gregutt</td>\n",
       "      <td>@paulgwine</td>\n",
       "      <td>Sweet Cheeks 2012 Vintner's Reserve Wild Child...</td>\n",
       "      <td>Pinot Noir</td>\n",
       "      <td>Sweet Cheeks</td>\n",
       "    </tr>\n",
       "  </tbody>\n",
       "</table>\n",
       "</div>"
      ],
      "text/plain": [
       "    country                                        description  \\\n",
       "0     Italy  Aromas include tropical fruit, broom, brimston...   \n",
       "1  Portugal  This is ripe and fruity, a wine that is smooth...   \n",
       "2        US  Tart and snappy, the flavors of lime flesh and...   \n",
       "3        US  Pineapple rind, lemon pith and orange blossom ...   \n",
       "4        US  Much like the regular bottling from 2012, this...   \n",
       "\n",
       "                          designation  points      price           province  \\\n",
       "0                        Vulkà Bianco      87  35.363389  Sicily & Sardinia   \n",
       "1                            Avidagos      87  15.000000              Douro   \n",
       "2                             unknown      87  14.000000             Oregon   \n",
       "3                Reserve Late Harvest      87  13.000000           Michigan   \n",
       "4  Vintner's Reserve Wild Child Block      87  65.000000             Oregon   \n",
       "\n",
       "              region_1         taster_name taster_twitter_handle  \\\n",
       "0                 Etna       Kerin O’Keefe          @kerinokeefe   \n",
       "1              unknown          Roger Voss            @vossroger   \n",
       "2    Willamette Valley        Paul Gregutt           @paulgwine    \n",
       "3  Lake Michigan Shore  Alexander Peartree               unknown   \n",
       "4    Willamette Valley        Paul Gregutt           @paulgwine    \n",
       "\n",
       "                                               title         variety  \\\n",
       "0                  Nicosia 2013 Vulkà Bianco  (Etna)     White Blend   \n",
       "1      Quinta dos Avidagos 2011 Avidagos Red (Douro)  Portuguese Red   \n",
       "2      Rainstorm 2013 Pinot Gris (Willamette Valley)      Pinot Gris   \n",
       "3  St. Julian 2013 Reserve Late Harvest Riesling ...        Riesling   \n",
       "4  Sweet Cheeks 2012 Vintner's Reserve Wild Child...      Pinot Noir   \n",
       "\n",
       "                winery  \n",
       "0              Nicosia  \n",
       "1  Quinta dos Avidagos  \n",
       "2            Rainstorm  \n",
       "3           St. Julian  \n",
       "4         Sweet Cheeks  "
      ]
     },
     "execution_count": 8,
     "metadata": {},
     "output_type": "execute_result"
    }
   ],
   "source": [
    "data.head()"
   ]
  },
  {
   "cell_type": "code",
   "execution_count": 10,
   "metadata": {},
   "outputs": [],
   "source": [
    "data['price_round'] = data.price.round().astype('int')"
   ]
  },
  {
   "attachments": {},
   "cell_type": "markdown",
   "metadata": {},
   "source": [
    "Синтаксис регулярных выражений необычен и содержит различные символы, знаки препинания, математических операций и так далее. Подробнее ознакомиться с синтаксисом регулярных выражений поможет статья <a href=\"https://tproger.ru/translations/regular-expression-python/\">Python RegEx: практическое применение регулярок</a>."
   ]
  },
  {
   "cell_type": "code",
   "execution_count": 37,
   "metadata": {},
   "outputs": [
    {
     "data": {
      "text/plain": [
       "4609"
      ]
     },
     "execution_count": 37,
     "metadata": {},
     "output_type": "execute_result"
    }
   ],
   "source": [
    "regex = '\\d{4}'\n",
    "data['year'] = data.title.str.findall(regex).str.get(0).astype('float') # Применяем float, чтобы не споткнуться на nan\n",
    "data.year.isna().sum()"
   ]
  },
  {
   "attachments": {},
   "cell_type": "markdown",
   "metadata": {},
   "source": [
    "Проверим, насколько надежен такой способ определения года производства вина.\n",
    "\n",
    "Для начала взглянем на пропущенные значения:"
   ]
  },
  {
   "cell_type": "code",
   "execution_count": 33,
   "metadata": {},
   "outputs": [
    {
     "data": {
      "text/plain": [
       "63                Roland Champion NV Brut Rosé  (Champagne)\n",
       "69                         Collet NV Brut Rosé  (Champagne)\n",
       "237       Consorzio Vini Tipici di San Marino NV Moscato...\n",
       "315       Bellussi NV Extra Dry  (Prosecco di Valdobbiad...\n",
       "326       Marsuret NV Extra Dry  (Prosecco di Valdobbiad...\n",
       "                                ...                        \n",
       "129710         Molliver Vineyards NV Chambourcin (Virginia)\n",
       "129719    Bruno Gobillard NV Domaine Vieilles Vignes Bru...\n",
       "129743               Castelnau NV Réserve Brut  (Champagne)\n",
       "129869       Biltmore Estate NV Brut Sparkling (California)\n",
       "129929    Col Vetoraz Spumanti NV  Prosecco Superiore di...\n",
       "Name: title, Length: 4609, dtype: object"
      ]
     },
     "execution_count": 33,
     "metadata": {},
     "output_type": "execute_result"
    }
   ],
   "source": [
    "data[data.year.isna()].title"
   ]
  },
  {
   "attachments": {},
   "cell_type": "markdown",
   "metadata": {},
   "source": [
    "Видим, что в таких наименованиях действительно отсутствуют числовые данные, в том числе похожие на год.\n",
    "\n",
    "Гипотеза: вина, в названиях которых не указан год производства только что произведены. Поэтому заполнить пропуски можно будет максимальным значением  year."
   ]
  },
  {
   "attachments": {},
   "cell_type": "markdown",
   "metadata": {},
   "source": [
    "Посмотрим на минимальное полученное значение года производства вина"
   ]
  },
  {
   "cell_type": "code",
   "execution_count": 36,
   "metadata": {},
   "outputs": [
    {
     "data": {
      "text/plain": [
       "1000.0"
      ]
     },
     "execution_count": 36,
     "metadata": {},
     "output_type": "execute_result"
    }
   ],
   "source": [
    "data.year.min()"
   ]
  },
  {
   "attachments": {},
   "cell_type": "markdown",
   "metadata": {},
   "source": [
    "Наблюдаем явную чушь. Посмотрим на то, как выглядят названия вин с годом производства меньше 1500-го:"
   ]
  },
  {
   "cell_type": "code",
   "execution_count": 34,
   "metadata": {},
   "outputs": [
    {
     "data": {
      "text/plain": [
       "3929             Don Cristobal 1492 2010 1492 Red (Mendoza)\n",
       "16076     Don Cristobal 1492 2010 Finca La Niña Malbec (...\n",
       "30001     1000 Stories 2013 Bourbon Barrel Aged Zinfande...\n",
       "33110     Don Cristobal 1492 2010 Finca La Niña Cabernet...\n",
       "48702     Don Cristobal 1492 2010 Finca La Niña Malbec (...\n",
       "53228          1070 Green 2011 Sauvignon Blanc (Rutherford)\n",
       "77996     1000 Stories 2014 Bourbon Barrel Aged Batch No...\n",
       "82746        Cristobal 1492 2009 1492 White White (Mendoza)\n",
       "83509                     Ikal 1150 2007 Malbec (Tupungato)\n",
       "94395      Cristobal 1492 2007 Cabernet Sauvignon (Mendoza)\n",
       "127114                Ikal 1150 2007 Chardonnay (Tupungato)\n",
       "Name: title, dtype: object"
      ]
     },
     "execution_count": 34,
     "metadata": {},
     "output_type": "execute_result"
    }
   ],
   "source": [
    "data[data.year < 1500].title"
   ]
  },
  {
   "attachments": {},
   "cell_type": "markdown",
   "metadata": {},
   "source": [
    "Видим, что групп цифр в таких наименованиях несколько. Гипотеза: из групп по 4 цифры год обозначает максимальная. Проверим её, посмотрев на максимальное значение year."
   ]
  },
  {
   "cell_type": "code",
   "execution_count": 38,
   "metadata": {},
   "outputs": [
    {
     "data": {
      "text/plain": [
       "7200.0"
      ]
     },
     "execution_count": 38,
     "metadata": {},
     "output_type": "execute_result"
    }
   ],
   "source": [
    "data.year.max()"
   ]
  },
  {
   "attachments": {},
   "cell_type": "markdown",
   "metadata": {},
   "source": [
    "И тут тоже наблюдаем явную чушь. 7200 год еще не скоро, а машину времени еще не изобрели. Посмотрим на названия вин для годов из будущего:"
   ]
  },
  {
   "cell_type": "code",
   "execution_count": 39,
   "metadata": {},
   "outputs": [
    {
     "data": {
      "text/plain": [
       "5346      Foxen 7200 2012 7200 Cabernet Sauvignon (Happy...\n",
       "51320     Foxen 7200 2007 Vogelzang Vineyard Cabernet Sa...\n",
       "67294     Foxen 7200 2012 Range 30 West Red (Happy Canyo...\n",
       "77155     Foxen 7200 2015 Vogelzang Vineyard Sauvignon B...\n",
       "89464     Foxen 7200 2012 7200 Grassini Family Vineyard ...\n",
       "92740     Foxen 7200 2014 Vogelzang Vineyard Cabernet Sa...\n",
       "95719     Foxen 7200 2012 Range 30 West Red (Happy Canyo...\n",
       "97223     Foxen 7200 2012 7200 Vogelzang Vineyard Cabern...\n",
       "99984     Foxen 7200 2008 Grassini Family Vineyard Caber...\n",
       "101858    Foxen 7200 2007 Grassini Family Vineyard Caber...\n",
       "101859    Foxen 7200 2008 Range 30 West Red (Happy Canyo...\n",
       "105885             3000 BC 2009 Chenin Blanc (Stellenbosch)\n",
       "108703    Foxen 7200 2014 Grassini Family Vineyard Caber...\n",
       "109157    Foxen 7200 2013 7200 Vogelzang Vineyard Sauvig...\n",
       "120445    Foxen 7200 2013 Vogelzang Vineyard Cabernet Sa...\n",
       "Name: title, dtype: object"
      ]
     },
     "execution_count": 39,
     "metadata": {},
     "output_type": "execute_result"
    }
   ],
   "source": [
    "data[data.year > 2020].title"
   ]
  },
  {
   "attachments": {},
   "cell_type": "markdown",
   "metadata": {},
   "source": [
    "Проверить, насколько точно работает ваше регулярное выражение, а также найти реализацию популярных регулярных выражений (например, поиска номера телефона), вы сможете на сайте https://ihateregex.io."
   ]
  },
  {
   "attachments": {},
   "cell_type": "markdown",
   "metadata": {},
   "source": [
    "Гипотеза не подтвердилась. Зато видим, что в таких названиях значения для определения года производства присутствуют.\n",
    "\n",
    "Предлагаемый алгоритм выделения года:\n",
    "1. Если групп из четырёх цифр вообще нет, то оставляем None, чтобы в дальнейшем заполнить максимальным значением года;\n",
    "2. Если группа одна, проверяем её на вхождение в диапазон 1990 - 2020. Если не входит, возвращаем None;\n",
    "3. Если групп несколько, берем ту, что входит в диапазон 1990-2020 и имеет максимальное значение."
   ]
  },
  {
   "cell_type": "code",
   "execution_count": 74,
   "metadata": {},
   "outputs": [
    {
     "data": {
      "text/plain": [
       "5346      [7200, 2012, 7200]\n",
       "51320           [7200, 2007]\n",
       "67294           [7200, 2012]\n",
       "77155           [7200, 2015]\n",
       "89464     [7200, 2012, 7200]\n",
       "92740           [7200, 2014]\n",
       "95719           [7200, 2012]\n",
       "97223     [7200, 2012, 7200]\n",
       "99984           [7200, 2008]\n",
       "101858          [7200, 2007]\n",
       "101859          [7200, 2008]\n",
       "105885          [3000, 2009]\n",
       "108703          [7200, 2014]\n",
       "109157    [7200, 2013, 7200]\n",
       "120445          [7200, 2013]\n",
       "Name: title, dtype: object"
      ]
     },
     "execution_count": 74,
     "metadata": {},
     "output_type": "execute_result"
    }
   ],
   "source": [
    "regex = '\\d{4}'\n",
    "data[data.year > 2020].title.str.findall(regex)#.str #.get(0).astype('float') # Применяем float, чтобы не споткнуться на nan"
   ]
  },
  {
   "cell_type": "code",
   "execution_count": 76,
   "metadata": {},
   "outputs": [
    {
     "data": {
      "text/plain": [
       "'Foxen 7200 2012 7200 Cabernet Sauvignon (Happy Canyon of Santa Barbara)'"
      ]
     },
     "execution_count": 76,
     "metadata": {},
     "output_type": "execute_result"
    }
   ],
   "source": [
    "data.title.iloc[5346]"
   ]
  },
  {
   "cell_type": "code",
   "execution_count": 71,
   "metadata": {},
   "outputs": [],
   "source": [
    "def get_year(title: str) -> float:\n",
    "    \"\"\"\n",
    "    Returns year from title of wines dataset like: 'Antichi Vinai 1877 2013 Pietralava Red (Etna)'\n",
    "\n",
    "    Args:\n",
    "        title (str): Title\n",
    "\n",
    "    Returns:\n",
    "        float: year\n",
    "    \"\"\"\n",
    "    \n",
    "    groups = re.findall(r'\\d{4}', title)\n",
    "    \n",
    "    for group in groups:\n",
    "        year = float(group)\n",
    "        if 1990 <= year <= 2022:\n",
    "            return year\n",
    "\n",
    "    return None"
   ]
  },
  {
   "cell_type": "code",
   "execution_count": 78,
   "metadata": {},
   "outputs": [],
   "source": [
    "data['year'] = data.title.map(get_year)"
   ]
  },
  {
   "cell_type": "code",
   "execution_count": 15,
   "metadata": {},
   "outputs": [],
   "source": [
    "data['is_usa'] = (data.country == 'US').astype(int)"
   ]
  },
  {
   "cell_type": "code",
   "execution_count": 17,
   "metadata": {},
   "outputs": [
    {
     "data": {
      "text/plain": [
       "0    0\n",
       "1    0\n",
       "2    1\n",
       "3    1\n",
       "4    1\n",
       "Name: is_usa, dtype: int64"
      ]
     },
     "execution_count": 17,
     "metadata": {},
     "output_type": "execute_result"
    }
   ],
   "source": [
    "data.is_usa.head()"
   ]
  },
  {
   "attachments": {},
   "cell_type": "markdown",
   "metadata": {},
   "source": [
    "### Задание 2.1\n",
    "1 point possible (graded)\n",
    "\n",
    "Выберите из списка две самых популярных (помимо США) страны, производящих вино."
   ]
  },
  {
   "cell_type": "code",
   "execution_count": 18,
   "metadata": {},
   "outputs": [
    {
     "data": {
      "text/plain": [
       "US                        54504\n",
       "France                    22093\n",
       "Italy                     19540\n",
       "Spain                      6645\n",
       "Portugal                   5691\n",
       "Chile                      4472\n",
       "Argentina                  3800\n",
       "Austria                    3345\n",
       "Australia                  2329\n",
       "Germany                    2165\n",
       "New Zealand                1419\n",
       "South Africa               1401\n",
       "Israel                      505\n",
       "Greece                      466\n",
       "Canada                      257\n",
       "Hungary                     146\n",
       "Bulgaria                    141\n",
       "Romania                     120\n",
       "Uruguay                     109\n",
       "Turkey                       90\n",
       "Slovenia                     87\n",
       "Georgia                      86\n",
       "England                      74\n",
       "Croatia                      73\n",
       "Mexico                       70\n",
       "Moldova                      59\n",
       "Brazil                       52\n",
       "Lebanon                      35\n",
       "Morocco                      28\n",
       "Peru                         16\n",
       "Ukraine                      14\n",
       "Serbia                       12\n",
       "Czech Republic               12\n",
       "Macedonia                    12\n",
       "Cyprus                       11\n",
       "India                         9\n",
       "Switzerland                   7\n",
       "Luxembourg                    6\n",
       "Bosnia and Herzegovina        2\n",
       "Armenia                       2\n",
       "Slovakia                      1\n",
       "China                         1\n",
       "Egypt                         1\n",
       "Name: country, dtype: int64"
      ]
     },
     "execution_count": 18,
     "metadata": {},
     "output_type": "execute_result"
    }
   ],
   "source": [
    "data.country.value_counts()"
   ]
  },
  {
   "attachments": {},
   "cell_type": "markdown",
   "metadata": {},
   "source": [
    "### Задание 2.2\n",
    "2 points possible (graded)\n",
    "\n",
    "Создайте бинарные признаки is_france, is_italy наподобие признака is_usa.\n",
    "\n",
    "В ответ впишите результат выполнения кода data['is_france'].sum():"
   ]
  },
  {
   "cell_type": "code",
   "execution_count": 20,
   "metadata": {},
   "outputs": [
    {
     "data": {
      "text/plain": [
       "22093"
      ]
     },
     "execution_count": 20,
     "metadata": {},
     "output_type": "execute_result"
    }
   ],
   "source": [
    "data['is_france'] = (data.country == 'France').astype(int)\n",
    "data.is_france.sum()"
   ]
  },
  {
   "attachments": {},
   "cell_type": "markdown",
   "metadata": {},
   "source": [
    "В ответ впишите результат выполнения кода data['is_italy'].sum():"
   ]
  },
  {
   "cell_type": "code",
   "execution_count": 21,
   "metadata": {},
   "outputs": [
    {
     "data": {
      "text/plain": [
       "19540"
      ]
     },
     "execution_count": 21,
     "metadata": {},
     "output_type": "execute_result"
    }
   ],
   "source": [
    "data['is_italy'] = (data.country == 'Italy').astype(int)\n",
    "data.is_italy.sum()"
   ]
  },
  {
   "attachments": {},
   "cell_type": "markdown",
   "metadata": {},
   "source": [
    "### Задание 2.3\n",
    "1 point possible (graded)\n",
    "\n",
    "Создайте новый бинарный признак old_wine, где значение 1 будет обозначать, что вино старше 2010 года.\n",
    "\n",
    "В ответ впишите результат выполнения кода data['old_wine'].sum():"
   ]
  },
  {
   "cell_type": "code",
   "execution_count": 89,
   "metadata": {},
   "outputs": [],
   "source": [
    "max_year = data.year.max()\n",
    "data.year.fillna(max_year, inplace=True)"
   ]
  },
  {
   "cell_type": "code",
   "execution_count": 90,
   "metadata": {},
   "outputs": [],
   "source": [
    "data.year = data.year.astype('int')"
   ]
  },
  {
   "cell_type": "code",
   "execution_count": 91,
   "metadata": {},
   "outputs": [
    {
     "data": {
      "text/plain": [
       "0    0\n",
       "1    0\n",
       "2    0\n",
       "3    0\n",
       "4    0\n",
       "Name: old_wine, dtype: int64"
      ]
     },
     "execution_count": 91,
     "metadata": {},
     "output_type": "execute_result"
    }
   ],
   "source": [
    "data['old_wine'] = (data.year < 2010).astype('int')\n",
    "data.old_wine.head()"
   ]
  },
  {
   "cell_type": "code",
   "execution_count": 92,
   "metadata": {},
   "outputs": [
    {
     "data": {
      "text/plain": [
       "39605"
      ]
     },
     "execution_count": 92,
     "metadata": {},
     "output_type": "execute_result"
    }
   ],
   "source": [
    "data.old_wine.sum()"
   ]
  },
  {
   "attachments": {},
   "cell_type": "markdown",
   "metadata": {},
   "source": [
    "Итак, правильный ответ с учетом правильного выделения года производства из title: 39605"
   ]
  },
  {
   "cell_type": "code",
   "execution_count": 99,
   "metadata": {},
   "outputs": [
    {
     "data": {
      "text/plain": [
       "['(Etna Mallini Bandito Znamenito)']"
      ]
     },
     "execution_count": 99,
     "metadata": {},
     "output_type": "execute_result"
    }
   ],
   "source": [
    "re.findall(r'\\(\\w+?\\s?\\w+?\\s?\\w+?\\s?\\w+?\\s?\\w+\\)', 'Antichi Vinai 1877 2013 Pietralava Red (Etna Mallini Bandito Znamenito)')"
   ]
  },
  {
   "cell_type": "code",
   "execution_count": 107,
   "metadata": {},
   "outputs": [],
   "source": [
    "def get_locality(title: str) -> str:\n",
    "    \"\"\"\n",
    "    Returns locality from title.\n",
    "    get_valley('Antichi Vinai 1877 2013 Pietralava Red (Etna Mallini Bandito Znamenito)')\n",
    "    will return Etna Mallini Bandito Znamenito\n",
    "\n",
    "    Args:\n",
    "        title (str): Wine title\n",
    "\n",
    "    Returns:\n",
    "        str: Locality or None\n",
    "    \"\"\"\n",
    "    \n",
    "    return found[0][1:-1] if (found := re.findall(r'\\(.*?\\)', title)) else None"
   ]
  },
  {
   "cell_type": "code",
   "execution_count": 109,
   "metadata": {},
   "outputs": [
    {
     "data": {
      "text/plain": [
       "'Etna Mallini Bandito Znamenito'"
      ]
     },
     "execution_count": 109,
     "metadata": {},
     "output_type": "execute_result"
    }
   ],
   "source": [
    "get_locality('Antichi Vinai 1877 2013 Pietralava Red (Etna Mallini Bandito Znamenito)')"
   ]
  },
  {
   "cell_type": "code",
   "execution_count": 113,
   "metadata": {},
   "outputs": [
    {
     "data": {
      "text/plain": [
       "10522"
      ]
     },
     "execution_count": 113,
     "metadata": {},
     "output_type": "execute_result"
    }
   ],
   "source": [
    "data['locality'] = data.title.map(get_locality)\n",
    "data.locality.isna().sum()"
   ]
  },
  {
   "cell_type": "code",
   "execution_count": 114,
   "metadata": {},
   "outputs": [
    {
     "data": {
      "text/plain": [
       "65                            Simonnet-Febvre 2015  Chablis\n",
       "66        Vignerons des Terres Secrètes 2015  Mâcon-Mill...\n",
       "95                               Henry Fessy 2015  Juliénas\n",
       "96                                 Henry Fessy 2015  Régnié\n",
       "117                                Rideau 2014 Estate Syrah\n",
       "                                ...                        \n",
       "129875         Domaine des Nugues 2015  Beaujolais-Villages\n",
       "129892             La Mannella 2012  Brunello di Montalcino\n",
       "129900                                   Psagot 2014 Merlot\n",
       "129929    Col Vetoraz Spumanti NV  Prosecco Superiore di...\n",
       "129931            Henri de Villamont 2005  Grands-Echezeaux\n",
       "Name: title, Length: 10522, dtype: object"
      ]
     },
     "execution_count": 114,
     "metadata": {},
     "output_type": "execute_result"
    }
   ],
   "source": [
    "data.title[data.locality.isna()]"
   ]
  },
  {
   "cell_type": "code",
   "execution_count": null,
   "metadata": {},
   "outputs": [],
   "source": []
  }
 ],
 "metadata": {
  "kernelspec": {
   "display_name": "base",
   "language": "python",
   "name": "python3"
  },
  "language_info": {
   "codemirror_mode": {
    "name": "ipython",
    "version": 3
   },
   "file_extension": ".py",
   "mimetype": "text/x-python",
   "name": "python",
   "nbconvert_exporter": "python",
   "pygments_lexer": "ipython3",
   "version": "3.9.12"
  },
  "orig_nbformat": 4,
  "vscode": {
   "interpreter": {
    "hash": "c85ce5e063f82c52011c1c6414d7519d9975c8984a5fd91991e796841fee6f1b"
   }
  }
 },
 "nbformat": 4,
 "nbformat_minor": 2
}
