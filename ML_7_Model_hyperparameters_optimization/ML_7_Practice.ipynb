{
 "cells": [
  {
   "cell_type": "code",
   "execution_count": 38,
   "metadata": {},
   "outputs": [],
   "source": [
    "#!pip install pygobject, playsound"
   ]
  },
  {
   "cell_type": "code",
   "execution_count": 1,
   "metadata": {},
   "outputs": [
    {
     "name": "stderr",
     "output_type": "stream",
     "text": [
      "/tmp/ipykernel_155251/3675450675.py:15: MatplotlibDeprecationWarning: The seaborn styles shipped by Matplotlib are deprecated since 3.6, as they no longer correspond to the styles shipped by seaborn. However, they will remain available as 'seaborn-v0_8-<style>'. Alternatively, directly use the seaborn API instead.\n",
      "  plt.style.use('seaborn')\n"
     ]
    }
   ],
   "source": [
    "#импорт библиотек\n",
    "import numpy as np  # для матричных вычислений\n",
    "import pandas as pd  # для анализа и предобработки данных\n",
    "import matplotlib.pyplot as plt  # для визуализации\n",
    "import seaborn as sns  # для визуализации\n",
    "\n",
    "from sklearn import linear_model  # линейные моделиё\n",
    "from sklearn import tree  # деревья решений\n",
    "from sklearn import ensemble  # ансамбли\n",
    "from sklearn import metrics  # метрики\n",
    "from sklearn import preprocessing  # предобработка\n",
    "from sklearn.model_selection import train_test_split  # сплитование выборки\n",
    "\n",
    "from playsound import playsound\n",
    "\n",
    "%matplotlib inline\n",
    "plt.style.use('seaborn')\n"
   ]
  },
  {
   "cell_type": "code",
   "execution_count": 9,
   "metadata": {},
   "outputs": [],
   "source": [
    "def f1_test():\n",
    "    global y_test\n",
    "    global y_test_pred\n",
    "    print(\n",
    "        f'f1_score на тестовом наборе: {metrics.f1_score(y_test, y_test_pred):.3f}')\n"
   ]
  },
  {
   "cell_type": "code",
   "execution_count": 15,
   "metadata": {},
   "outputs": [],
   "source": [
    "def best_params(searcher):\n",
    "    print(f'Наилучшие значения гиперпараметров: {searcher.best_params_}')\n"
   ]
  },
  {
   "cell_type": "code",
   "execution_count": 40,
   "metadata": {},
   "outputs": [],
   "source": [
    "def done():\n",
    "    playsound('sounds/zvuk-vyipolnennogo-deystviya.mp3')\n"
   ]
  },
  {
   "cell_type": "code",
   "execution_count": 2,
   "metadata": {},
   "outputs": [
    {
     "data": {
      "text/html": [
       "<div>\n",
       "<style scoped>\n",
       "    .dataframe tbody tr th:only-of-type {\n",
       "        vertical-align: middle;\n",
       "    }\n",
       "\n",
       "    .dataframe tbody tr th {\n",
       "        vertical-align: top;\n",
       "    }\n",
       "\n",
       "    .dataframe thead th {\n",
       "        text-align: right;\n",
       "    }\n",
       "</style>\n",
       "<table border=\"1\" class=\"dataframe\">\n",
       "  <thead>\n",
       "    <tr style=\"text-align: right;\">\n",
       "      <th></th>\n",
       "      <th>Activity</th>\n",
       "      <th>D1</th>\n",
       "      <th>D2</th>\n",
       "      <th>D3</th>\n",
       "      <th>D4</th>\n",
       "      <th>D5</th>\n",
       "      <th>D6</th>\n",
       "      <th>D7</th>\n",
       "      <th>D8</th>\n",
       "      <th>D9</th>\n",
       "      <th>...</th>\n",
       "      <th>D1767</th>\n",
       "      <th>D1768</th>\n",
       "      <th>D1769</th>\n",
       "      <th>D1770</th>\n",
       "      <th>D1771</th>\n",
       "      <th>D1772</th>\n",
       "      <th>D1773</th>\n",
       "      <th>D1774</th>\n",
       "      <th>D1775</th>\n",
       "      <th>D1776</th>\n",
       "    </tr>\n",
       "  </thead>\n",
       "  <tbody>\n",
       "    <tr>\n",
       "      <th>0</th>\n",
       "      <td>1</td>\n",
       "      <td>0.000000</td>\n",
       "      <td>0.497009</td>\n",
       "      <td>0.10</td>\n",
       "      <td>0.0</td>\n",
       "      <td>0.132956</td>\n",
       "      <td>0.678031</td>\n",
       "      <td>0.273166</td>\n",
       "      <td>0.585445</td>\n",
       "      <td>0.743663</td>\n",
       "      <td>...</td>\n",
       "      <td>0</td>\n",
       "      <td>0</td>\n",
       "      <td>0</td>\n",
       "      <td>0</td>\n",
       "      <td>0</td>\n",
       "      <td>0</td>\n",
       "      <td>0</td>\n",
       "      <td>0</td>\n",
       "      <td>0</td>\n",
       "      <td>0</td>\n",
       "    </tr>\n",
       "    <tr>\n",
       "      <th>1</th>\n",
       "      <td>1</td>\n",
       "      <td>0.366667</td>\n",
       "      <td>0.606291</td>\n",
       "      <td>0.05</td>\n",
       "      <td>0.0</td>\n",
       "      <td>0.111209</td>\n",
       "      <td>0.803455</td>\n",
       "      <td>0.106105</td>\n",
       "      <td>0.411754</td>\n",
       "      <td>0.836582</td>\n",
       "      <td>...</td>\n",
       "      <td>1</td>\n",
       "      <td>1</td>\n",
       "      <td>1</td>\n",
       "      <td>1</td>\n",
       "      <td>0</td>\n",
       "      <td>1</td>\n",
       "      <td>0</td>\n",
       "      <td>0</td>\n",
       "      <td>1</td>\n",
       "      <td>0</td>\n",
       "    </tr>\n",
       "    <tr>\n",
       "      <th>2</th>\n",
       "      <td>1</td>\n",
       "      <td>0.033300</td>\n",
       "      <td>0.480124</td>\n",
       "      <td>0.00</td>\n",
       "      <td>0.0</td>\n",
       "      <td>0.209791</td>\n",
       "      <td>0.610350</td>\n",
       "      <td>0.356453</td>\n",
       "      <td>0.517720</td>\n",
       "      <td>0.679051</td>\n",
       "      <td>...</td>\n",
       "      <td>0</td>\n",
       "      <td>0</td>\n",
       "      <td>0</td>\n",
       "      <td>0</td>\n",
       "      <td>0</td>\n",
       "      <td>0</td>\n",
       "      <td>0</td>\n",
       "      <td>0</td>\n",
       "      <td>0</td>\n",
       "      <td>0</td>\n",
       "    </tr>\n",
       "    <tr>\n",
       "      <th>3</th>\n",
       "      <td>1</td>\n",
       "      <td>0.000000</td>\n",
       "      <td>0.538825</td>\n",
       "      <td>0.00</td>\n",
       "      <td>0.5</td>\n",
       "      <td>0.196344</td>\n",
       "      <td>0.724230</td>\n",
       "      <td>0.235606</td>\n",
       "      <td>0.288764</td>\n",
       "      <td>0.805110</td>\n",
       "      <td>...</td>\n",
       "      <td>0</td>\n",
       "      <td>0</td>\n",
       "      <td>0</td>\n",
       "      <td>0</td>\n",
       "      <td>0</td>\n",
       "      <td>0</td>\n",
       "      <td>0</td>\n",
       "      <td>0</td>\n",
       "      <td>0</td>\n",
       "      <td>0</td>\n",
       "    </tr>\n",
       "    <tr>\n",
       "      <th>4</th>\n",
       "      <td>0</td>\n",
       "      <td>0.100000</td>\n",
       "      <td>0.517794</td>\n",
       "      <td>0.00</td>\n",
       "      <td>0.0</td>\n",
       "      <td>0.494734</td>\n",
       "      <td>0.781422</td>\n",
       "      <td>0.154361</td>\n",
       "      <td>0.303809</td>\n",
       "      <td>0.812646</td>\n",
       "      <td>...</td>\n",
       "      <td>0</td>\n",
       "      <td>0</td>\n",
       "      <td>0</td>\n",
       "      <td>0</td>\n",
       "      <td>0</td>\n",
       "      <td>0</td>\n",
       "      <td>0</td>\n",
       "      <td>0</td>\n",
       "      <td>0</td>\n",
       "      <td>0</td>\n",
       "    </tr>\n",
       "  </tbody>\n",
       "</table>\n",
       "<p>5 rows × 1777 columns</p>\n",
       "</div>"
      ],
      "text/plain": [
       "   Activity        D1        D2    D3   D4        D5        D6        D7  \\\n",
       "0         1  0.000000  0.497009  0.10  0.0  0.132956  0.678031  0.273166   \n",
       "1         1  0.366667  0.606291  0.05  0.0  0.111209  0.803455  0.106105   \n",
       "2         1  0.033300  0.480124  0.00  0.0  0.209791  0.610350  0.356453   \n",
       "3         1  0.000000  0.538825  0.00  0.5  0.196344  0.724230  0.235606   \n",
       "4         0  0.100000  0.517794  0.00  0.0  0.494734  0.781422  0.154361   \n",
       "\n",
       "         D8        D9  ...  D1767  D1768  D1769  D1770  D1771  D1772  D1773  \\\n",
       "0  0.585445  0.743663  ...      0      0      0      0      0      0      0   \n",
       "1  0.411754  0.836582  ...      1      1      1      1      0      1      0   \n",
       "2  0.517720  0.679051  ...      0      0      0      0      0      0      0   \n",
       "3  0.288764  0.805110  ...      0      0      0      0      0      0      0   \n",
       "4  0.303809  0.812646  ...      0      0      0      0      0      0      0   \n",
       "\n",
       "   D1774  D1775  D1776  \n",
       "0      0      0      0  \n",
       "1      0      1      0  \n",
       "2      0      0      0  \n",
       "3      0      0      0  \n",
       "4      0      0      0  \n",
       "\n",
       "[5 rows x 1777 columns]"
      ]
     },
     "execution_count": 2,
     "metadata": {},
     "output_type": "execute_result"
    }
   ],
   "source": [
    "data = pd.read_csv('data/train.zip')\n",
    "data.head()"
   ]
  },
  {
   "cell_type": "code",
   "execution_count": 3,
   "metadata": {},
   "outputs": [
    {
     "data": {
      "image/png": "[encoded data removed]",
      "text/plain": [
       "<Figure size 800x550 with 1 Axes>"
      ]
     },
     "metadata": {},
     "output_type": "display_data"
    }
   ],
   "source": [
    "sns.countplot(data=data, x='Activity');"
   ]
  },
  {
   "attachments": {},
   "cell_type": "markdown",
   "metadata": {},
   "source": [
    "Данные практически сбалансированы по целевому признаку, однако для сохранения долей данных с различным значеним целевой переменной применим стратификацию."
   ]
  },
  {
   "cell_type": "code",
   "execution_count": 4,
   "metadata": {},
   "outputs": [],
   "source": [
    "X = data.drop(columns=['Activity'])\n",
    "y = data['Activity']"
   ]
  },
  {
   "cell_type": "code",
   "execution_count": 5,
   "metadata": {},
   "outputs": [],
   "source": [
    "X_train, X_test, y_train, y_test = train_test_split(X, y, test_size=0.3, stratify=y, random_state=42)"
   ]
  },
  {
   "attachments": {},
   "cell_type": "markdown",
   "metadata": {},
   "source": [
    "Создадим модель линейной регрессии с параметрами по умолчанию."
   ]
  },
  {
   "cell_type": "code",
   "execution_count": 6,
   "metadata": {},
   "outputs": [],
   "source": [
    "# Забегая вперед. 100 итераций по умолчанию оказалось мало. Модель не сошлась. Поэтому поставим \n",
    "lr = linear_model.LogisticRegression(max_iter=1000, random_state=42)"
   ]
  },
  {
   "attachments": {},
   "cell_type": "markdown",
   "metadata": {},
   "source": [
    "Обучим модель на тренировочной выборке:"
   ]
  },
  {
   "cell_type": "code",
   "execution_count": 7,
   "metadata": {},
   "outputs": [
    {
     "data": {
      "text/html": [
       "<style>#sk-container-id-1 {color: black;background-color: white;}#sk-container-id-1 pre{padding: 0;}#sk-container-id-1 div.sk-toggleable {background-color: white;}#sk-container-id-1 label.sk-toggleable__label {cursor: pointer;display: block;width: 100%;margin-bottom: 0;padding: 0.3em;box-sizing: border-box;text-align: center;}#sk-container-id-1 label.sk-toggleable__label-arrow:before {content: \"▸\";float: left;margin-right: 0.25em;color: #696969;}#sk-container-id-1 label.sk-toggleable__label-arrow:hover:before {color: black;}#sk-container-id-1 div.sk-estimator:hover label.sk-toggleable__label-arrow:before {color: black;}#sk-container-id-1 div.sk-toggleable__content {max-height: 0;max-width: 0;overflow: hidden;text-align: left;background-color: #f0f8ff;}#sk-container-id-1 div.sk-toggleable__content pre {margin: 0.2em;color: black;border-radius: 0.25em;background-color: #f0f8ff;}#sk-container-id-1 input.sk-toggleable__control:checked~div.sk-toggleable__content {max-height: 200px;max-width: 100%;overflow: auto;}#sk-container-id-1 input.sk-toggleable__control:checked~label.sk-toggleable__label-arrow:before {content: \"▾\";}#sk-container-id-1 div.sk-estimator input.sk-toggleable__control:checked~label.sk-toggleable__label {background-color: #d4ebff;}#sk-container-id-1 div.sk-label input.sk-toggleable__control:checked~label.sk-toggleable__label {background-color: #d4ebff;}#sk-container-id-1 input.sk-hidden--visually {border: 0;clip: rect(1px 1px 1px 1px);clip: rect(1px, 1px, 1px, 1px);height: 1px;margin: -1px;overflow: hidden;padding: 0;position: absolute;width: 1px;}#sk-container-id-1 div.sk-estimator {font-family: monospace;background-color: #f0f8ff;border: 1px dotted black;border-radius: 0.25em;box-sizing: border-box;margin-bottom: 0.5em;}#sk-container-id-1 div.sk-estimator:hover {background-color: #d4ebff;}#sk-container-id-1 div.sk-parallel-item::after {content: \"\";width: 100%;border-bottom: 1px solid gray;flex-grow: 1;}#sk-container-id-1 div.sk-label:hover label.sk-toggleable__label {background-color: #d4ebff;}#sk-container-id-1 div.sk-serial::before {content: \"\";position: absolute;border-left: 1px solid gray;box-sizing: border-box;top: 0;bottom: 0;left: 50%;z-index: 0;}#sk-container-id-1 div.sk-serial {display: flex;flex-direction: column;align-items: center;background-color: white;padding-right: 0.2em;padding-left: 0.2em;position: relative;}#sk-container-id-1 div.sk-item {position: relative;z-index: 1;}#sk-container-id-1 div.sk-parallel {display: flex;align-items: stretch;justify-content: center;background-color: white;position: relative;}#sk-container-id-1 div.sk-item::before, #sk-container-id-1 div.sk-parallel-item::before {content: \"\";position: absolute;border-left: 1px solid gray;box-sizing: border-box;top: 0;bottom: 0;left: 50%;z-index: -1;}#sk-container-id-1 div.sk-parallel-item {display: flex;flex-direction: column;z-index: 1;position: relative;background-color: white;}#sk-container-id-1 div.sk-parallel-item:first-child::after {align-self: flex-end;width: 50%;}#sk-container-id-1 div.sk-parallel-item:last-child::after {align-self: flex-start;width: 50%;}#sk-container-id-1 div.sk-parallel-item:only-child::after {width: 0;}#sk-container-id-1 div.sk-dashed-wrapped {border: 1px dashed gray;margin: 0 0.4em 0.5em 0.4em;box-sizing: border-box;padding-bottom: 0.4em;background-color: white;}#sk-container-id-1 div.sk-label label {font-family: monospace;font-weight: bold;display: inline-block;line-height: 1.2em;}#sk-container-id-1 div.sk-label-container {text-align: center;}#sk-container-id-1 div.sk-container {/* jupyter's `normalize.less` sets `[hidden] { display: none; }` but bootstrap.min.css set `[hidden] { display: none !important; }` so we also need the `!important` here to be able to override the default hidden behavior on the sphinx rendered scikit-learn.org. See: https://github.com/scikit-learn/scikit-learn/issues/21755 */display: inline-block !important;position: relative;}#sk-container-id-1 div.sk-text-repr-fallback {display: none;}</style><div id=\"sk-container-id-1\" class=\"sk-top-container\"><div class=\"sk-text-repr-fallback\"><pre>LogisticRegression(max_iter=1000, random_state=42)</pre><b>In a Jupyter environment, please rerun this cell to show the HTML representation or trust the notebook. <br />On GitHub, the HTML representation is unable to render, please try loading this page with nbviewer.org.</b></div><div class=\"sk-container\" hidden><div class=\"sk-item\"><div class=\"sk-estimator sk-toggleable\"><input class=\"sk-toggleable__control sk-hidden--visually\" id=\"sk-estimator-id-1\" type=\"checkbox\" checked><label for=\"sk-estimator-id-1\" class=\"sk-toggleable__label sk-toggleable__label-arrow\">LogisticRegression</label><div class=\"sk-toggleable__content\"><pre>LogisticRegression(max_iter=1000, random_state=42)</pre></div></div></div></div></div>"
      ],
      "text/plain": [
       "LogisticRegression(max_iter=1000, random_state=42)"
      ]
     },
     "execution_count": 7,
     "metadata": {},
     "output_type": "execute_result"
    }
   ],
   "source": [
    "lr.fit(X_train, y_train)\n",
    "done()"
   ]
  },
  {
   "attachments": {},
   "cell_type": "markdown",
   "metadata": {},
   "source": [
    "Сделаем предсказание на тестовой выборке:"
   ]
  },
  {
   "cell_type": "code",
   "execution_count": 8,
   "metadata": {},
   "outputs": [],
   "source": [
    "y_test_pred = lr.predict(X_test)"
   ]
  },
  {
   "attachments": {},
   "cell_type": "markdown",
   "metadata": {},
   "source": [
    "Посмотрим на метрику $F1$ по результатам классификации:"
   ]
  },
  {
   "cell_type": "code",
   "execution_count": 10,
   "metadata": {},
   "outputs": [
    {
     "name": "stdout",
     "output_type": "stream",
     "text": [
      "f1_score на тестовом наборе: 0.780\n"
     ]
    }
   ],
   "source": [
    "f1_test()"
   ]
  },
  {
   "attachments": {},
   "cell_type": "markdown",
   "metadata": {},
   "source": [
    "Уже видим, что модель логистической регрессии даёт хорошие результаты даже без добавления полиномиальных признаков и с настройками по умолчанию."
   ]
  },
  {
   "attachments": {},
   "cell_type": "markdown",
   "metadata": {},
   "source": [
    "Создадим случайный лес с параметрами по умолчанию."
   ]
  },
  {
   "cell_type": "code",
   "execution_count": 11,
   "metadata": {},
   "outputs": [],
   "source": [
    "rf = ensemble.RandomForestClassifier(random_state=42)"
   ]
  },
  {
   "attachments": {},
   "cell_type": "markdown",
   "metadata": {},
   "source": [
    "Обучим его на тренировочной выборке."
   ]
  },
  {
   "cell_type": "code",
   "execution_count": 12,
   "metadata": {},
   "outputs": [
    {
     "data": {
      "text/html": [
       "<style>#sk-container-id-2 {color: black;background-color: white;}#sk-container-id-2 pre{padding: 0;}#sk-container-id-2 div.sk-toggleable {background-color: white;}#sk-container-id-2 label.sk-toggleable__label {cursor: pointer;display: block;width: 100%;margin-bottom: 0;padding: 0.3em;box-sizing: border-box;text-align: center;}#sk-container-id-2 label.sk-toggleable__label-arrow:before {content: \"▸\";float: left;margin-right: 0.25em;color: #696969;}#sk-container-id-2 label.sk-toggleable__label-arrow:hover:before {color: black;}#sk-container-id-2 div.sk-estimator:hover label.sk-toggleable__label-arrow:before {color: black;}#sk-container-id-2 div.sk-toggleable__content {max-height: 0;max-width: 0;overflow: hidden;text-align: left;background-color: #f0f8ff;}#sk-container-id-2 div.sk-toggleable__content pre {margin: 0.2em;color: black;border-radius: 0.25em;background-color: #f0f8ff;}#sk-container-id-2 input.sk-toggleable__control:checked~div.sk-toggleable__content {max-height: 200px;max-width: 100%;overflow: auto;}#sk-container-id-2 input.sk-toggleable__control:checked~label.sk-toggleable__label-arrow:before {content: \"▾\";}#sk-container-id-2 div.sk-estimator input.sk-toggleable__control:checked~label.sk-toggleable__label {background-color: #d4ebff;}#sk-container-id-2 div.sk-label input.sk-toggleable__control:checked~label.sk-toggleable__label {background-color: #d4ebff;}#sk-container-id-2 input.sk-hidden--visually {border: 0;clip: rect(1px 1px 1px 1px);clip: rect(1px, 1px, 1px, 1px);height: 1px;margin: -1px;overflow: hidden;padding: 0;position: absolute;width: 1px;}#sk-container-id-2 div.sk-estimator {font-family: monospace;background-color: #f0f8ff;border: 1px dotted black;border-radius: 0.25em;box-sizing: border-box;margin-bottom: 0.5em;}#sk-container-id-2 div.sk-estimator:hover {background-color: #d4ebff;}#sk-container-id-2 div.sk-parallel-item::after {content: \"\";width: 100%;border-bottom: 1px solid gray;flex-grow: 1;}#sk-container-id-2 div.sk-label:hover label.sk-toggleable__label {background-color: #d4ebff;}#sk-container-id-2 div.sk-serial::before {content: \"\";position: absolute;border-left: 1px solid gray;box-sizing: border-box;top: 0;bottom: 0;left: 50%;z-index: 0;}#sk-container-id-2 div.sk-serial {display: flex;flex-direction: column;align-items: center;background-color: white;padding-right: 0.2em;padding-left: 0.2em;position: relative;}#sk-container-id-2 div.sk-item {position: relative;z-index: 1;}#sk-container-id-2 div.sk-parallel {display: flex;align-items: stretch;justify-content: center;background-color: white;position: relative;}#sk-container-id-2 div.sk-item::before, #sk-container-id-2 div.sk-parallel-item::before {content: \"\";position: absolute;border-left: 1px solid gray;box-sizing: border-box;top: 0;bottom: 0;left: 50%;z-index: -1;}#sk-container-id-2 div.sk-parallel-item {display: flex;flex-direction: column;z-index: 1;position: relative;background-color: white;}#sk-container-id-2 div.sk-parallel-item:first-child::after {align-self: flex-end;width: 50%;}#sk-container-id-2 div.sk-parallel-item:last-child::after {align-self: flex-start;width: 50%;}#sk-container-id-2 div.sk-parallel-item:only-child::after {width: 0;}#sk-container-id-2 div.sk-dashed-wrapped {border: 1px dashed gray;margin: 0 0.4em 0.5em 0.4em;box-sizing: border-box;padding-bottom: 0.4em;background-color: white;}#sk-container-id-2 div.sk-label label {font-family: monospace;font-weight: bold;display: inline-block;line-height: 1.2em;}#sk-container-id-2 div.sk-label-container {text-align: center;}#sk-container-id-2 div.sk-container {/* jupyter's `normalize.less` sets `[hidden] { display: none; }` but bootstrap.min.css set `[hidden] { display: none !important; }` so we also need the `!important` here to be able to override the default hidden behavior on the sphinx rendered scikit-learn.org. See: https://github.com/scikit-learn/scikit-learn/issues/21755 */display: inline-block !important;position: relative;}#sk-container-id-2 div.sk-text-repr-fallback {display: none;}</style><div id=\"sk-container-id-2\" class=\"sk-top-container\"><div class=\"sk-text-repr-fallback\"><pre>RandomForestClassifier(random_state=42)</pre><b>In a Jupyter environment, please rerun this cell to show the HTML representation or trust the notebook. <br />On GitHub, the HTML representation is unable to render, please try loading this page with nbviewer.org.</b></div><div class=\"sk-container\" hidden><div class=\"sk-item\"><div class=\"sk-estimator sk-toggleable\"><input class=\"sk-toggleable__control sk-hidden--visually\" id=\"sk-estimator-id-2\" type=\"checkbox\" checked><label for=\"sk-estimator-id-2\" class=\"sk-toggleable__label sk-toggleable__label-arrow\">RandomForestClassifier</label><div class=\"sk-toggleable__content\"><pre>RandomForestClassifier(random_state=42)</pre></div></div></div></div></div>"
      ],
      "text/plain": [
       "RandomForestClassifier(random_state=42)"
      ]
     },
     "execution_count": 12,
     "metadata": {},
     "output_type": "execute_result"
    }
   ],
   "source": [
    "rf.fit(X_train, y_train)\n",
    "done()"
   ]
  },
  {
   "attachments": {},
   "cell_type": "markdown",
   "metadata": {},
   "source": [
    "Сделаем предсказание на тестовой выборке."
   ]
  },
  {
   "cell_type": "code",
   "execution_count": 13,
   "metadata": {},
   "outputs": [],
   "source": [
    "y_test_pred = rf.predict(X_test)"
   ]
  },
  {
   "attachments": {},
   "cell_type": "markdown",
   "metadata": {},
   "source": [
    "Посмотрим на метрику $F1$ по результатам классификации:"
   ]
  },
  {
   "cell_type": "code",
   "execution_count": 14,
   "metadata": {},
   "outputs": [
    {
     "name": "stdout",
     "output_type": "stream",
     "text": [
      "f1_score на тестовом наборе: 0.793\n"
     ]
    }
   ],
   "source": [
    "f1_test()"
   ]
  },
  {
   "attachments": {},
   "cell_type": "markdown",
   "metadata": {},
   "source": [
    "#### Видим, что значения целевой метрики $F1$ улучшились."
   ]
  },
  {
   "attachments": {},
   "cell_type": "markdown",
   "metadata": {},
   "source": [
    "### Подбор гиперпараметров с помощью GridSearchCV для логистической регрессии"
   ]
  },
  {
   "cell_type": "code",
   "execution_count": 17,
   "metadata": {},
   "outputs": [
    {
     "name": "stdout",
     "output_type": "stream",
     "text": [
      "CPU times: user 11.5 s, sys: 6.95 s, total: 18.4 s\n",
      "Wall time: 2min 57s\n",
      "f1_score на тестовом наборе: 0.789\n",
      "Наилучшие значения гиперпараметров: {'C': 0.1, 'penalty': 'l2', 'solver': 'lbfgs', 'warm_start': True}\n"
     ]
    }
   ],
   "source": [
    "from sklearn.model_selection import GridSearchCV\n",
    "\n",
    "param_grid = {\n",
    "    'penalty': ['l2'],  # тип регурялизации\n",
    "    'solver': ['lbfgs', 'sag', 'saga'],  # алгоритм оптимизации\n",
    "    'C': [0.1, 0.45, 1],\n",
    "    'warm_start': [True]\n",
    "    }\n",
    "\n",
    "grid_search = GridSearchCV(\n",
    "    estimator=linear_model.LogisticRegression(\n",
    "        random_state=42,  # генератор случайных чисел\n",
    "        max_iter=1000  # количество итераций на сходимость\n",
    "    ),\n",
    "    param_grid=param_grid,\n",
    "    cv=5,\n",
    "    n_jobs=-1\n",
    ")\n",
    "\n",
    "%time grid_search.fit(X_train, y_train)\n",
    "done()\n",
    "y_test_pred = grid_search.predict(X_test)\n",
    "f1_test()\n",
    "best_params(grid_search)"
   ]
  },
  {
   "attachments": {},
   "cell_type": "markdown",
   "metadata": {},
   "source": [
    "#### Видим, что подбор гиперпараметров логистической регрессии дал немного худший результат метрики $F1$ на тесте, чем случайный лес с параметрами по умолчанию (0,789 против 0,793). В связи с этим в дальнейшем работать с моделью логистической регрессии не будем."
   ]
  },
  {
   "attachments": {},
   "cell_type": "markdown",
   "metadata": {},
   "source": [
    "### Подбор гиперпараметров случайного леса с помощью GridSearchCV\n"
   ]
  },
  {
   "cell_type": "code",
   "execution_count": 33,
   "metadata": {},
   "outputs": [
    {
     "name": "stdout",
     "output_type": "stream",
     "text": [
      "CPU times: user 6.66 s, sys: 544 ms, total: 7.2 s\n",
      "Wall time: 6min 27s\n",
      "f1_score на тестовом наборе: 0.795\n",
      "Наилучшие значения гиперпараметров: {'max_depth': 14, 'min_samples_leaf': 3, 'n_estimators': 240}\n"
     ]
    }
   ],
   "source": [
    "param_grid = {\n",
    "    'n_estimators': list(range(238, 243, 1)),\n",
    "    'min_samples_leaf': list(range(1, 5, 1)),\n",
    "    'max_depth': list(range(4, 15, 2))\n",
    "    }\n",
    "\n",
    "grid_search_forest = GridSearchCV(\n",
    "    estimator=ensemble.RandomForestClassifier(random_state=42),\n",
    "    param_grid=param_grid,\n",
    "    cv=5,\n",
    "    n_jobs=-1\n",
    ")\n",
    "%time grid_search_forest.fit(X_train, y_train)\n",
    "done()\n",
    "y_test_pred = grid_search_forest.predict(X_test)\n",
    "f1_test()\n",
    "best_params(grid_search_forest)"
   ]
  },
  {
   "attachments": {},
   "cell_type": "markdown",
   "metadata": {},
   "source": [
    "#### Видим, что метрика $F1$ поднялась до 0.795 для модели случайного леса после подбора гиперпараметров по решетке."
   ]
  },
  {
   "attachments": {},
   "cell_type": "markdown",
   "metadata": {},
   "source": [
    "### Осуществим подбор гиперпараметров при помощи случайного поиска."
   ]
  },
  {
   "cell_type": "code",
   "execution_count": 35,
   "metadata": {},
   "outputs": [
    {
     "name": "stdout",
     "output_type": "stream",
     "text": [
      "CPU times: user 3.52 s, sys: 287 ms, total: 3.81 s\n",
      "Wall time: 1min 56s\n",
      "f1_score на тестовом наборе: 0.795\n",
      "Наилучшие значения гиперпараметров: {'n_estimators': 241, 'min_samples_leaf': 3, 'max_depth': 14}\n"
     ]
    }
   ],
   "source": [
    "from sklearn.model_selection import RandomizedSearchCV\n",
    "\n",
    "param_distributions = {\n",
    "    'n_estimators': list(range(230, 251, 1)),\n",
    "    'min_samples_leaf': list(range(1, 10, 1)),\n",
    "    'max_depth': list(range(1, 30, 1))\n",
    "    }\n",
    "\n",
    "random_search = RandomizedSearchCV(\n",
    "    estimator=ensemble.RandomForestClassifier(random_state=42),\n",
    "    param_distributions=param_distributions,\n",
    "    cv=5,\n",
    "    n_iter=30,\n",
    "    n_jobs=-1\n",
    ")\n",
    "%time random_search.fit(X_train, y_train)\n",
    "done()\n",
    "y_test_pred = random_search.predict(X_test)\n",
    "f1_test()\n",
    "best_params(random_search)"
   ]
  },
  {
   "attachments": {},
   "cell_type": "markdown",
   "metadata": {},
   "source": [
    "#### Видим, что значение метрики $F1$ на гиперпараметрах подобранных случайным поиском такое же как при поиске по решетке, параметры мемного отличаются, но затрачено гораздо меньше времени."
   ]
  },
  {
   "attachments": {},
   "cell_type": "markdown",
   "metadata": {},
   "source": [
    "### Осуществим подбор гиперпараметров случайного леса при помощи Hyperopt, используя кросс-валидацию"
   ]
  },
  {
   "cell_type": "code",
   "execution_count": 42,
   "metadata": {},
   "outputs": [],
   "source": [
    "#!pip install hyperopt"
   ]
  },
  {
   "cell_type": "code",
   "execution_count": 43,
   "metadata": {},
   "outputs": [
    {
     "name": "stdout",
     "output_type": "stream",
     "text": [
      "Версия Hyperopt : 0.2.7\n"
     ]
    }
   ],
   "source": [
    "#делаем импорт и выведем версию библиотеки\n",
    "from sklearn.model_selection import cross_val_score\n",
    "import hyperopt\n",
    "from hyperopt import hp, fmin, tpe, Trials\n",
    "# fmin - основная функция, она будет минимизировать наш функционал\n",
    "# tpe - алгоритм оптимизации\n",
    "# hp - включает набор методов для объявления пространства поиска гиперпараметров\n",
    "# trails - используется для логирования результатов\n",
    "\n",
    "print(f\"Версия Hyperopt : {hyperopt.__version__}\")\n"
   ]
  },
  {
   "cell_type": "code",
   "execution_count": 44,
   "metadata": {},
   "outputs": [],
   "source": [
    "# зададим пространство поиска гиперпараметров\n",
    "space = {\n",
    "    'n_estimators': hp.quniform('n_estimators', 230, 250, 1),\n",
    "    'max_depth': hp.quniform('max_depth', 1, 30, 1),\n",
    "    'min_samples_leaf': hp.quniform('min_samples_leaf', 1, 10, 1)\n",
    "    }\n"
   ]
  },
  {
   "attachments": {},
   "cell_type": "markdown",
   "metadata": {},
   "source": [
    "Создадим функцию, которую будет минимизировать Hyperopt"
   ]
  },
  {
   "cell_type": "code",
   "execution_count": 45,
   "metadata": {},
   "outputs": [],
   "source": [
    "# зафксируем random_state\n",
    "random_state = 42\n",
    "\n",
    "\n",
    "def hyperopt_rf(params, cv=5, X=X_train, y=y_train, random_state=random_state):\n",
    "    # функция получает комбинацию гиперпараметров в \"params\"\n",
    "    params = {\n",
    "        'n_estimators': int(params['n_estimators']),\n",
    "        'max_depth': int(params['max_depth']),\n",
    "        'min_samples_leaf': int(params['min_samples_leaf'])\n",
    "        }\n",
    "\n",
    "    # используем эту комбинацию для построения модели\n",
    "    model = ensemble.RandomForestClassifier(\n",
    "        **params, random_state=random_state)\n",
    "\n",
    "    # обучаем модель\n",
    "    model.fit(X, y)\n",
    "\n",
    "    # применяем кросс-валидацию для оценки среднего значения метрики на всех фолдах\n",
    "    score = cross_val_score(model, X, y, cv=cv, scoring=\"f1\", n_jobs=-1).mean()\n",
    "\n",
    "    # метрику необходимо минимизировать, поэтому ставим знак минус\n",
    "    return -score\n"
   ]
  },
  {
   "cell_type": "code",
   "execution_count": 48,
   "metadata": {},
   "outputs": [
    {
     "name": "stdout",
     "output_type": "stream",
     "text": [
      "100%|██████████| 20/20 [01:54<00:00,  5.71s/trial, best loss: -0.8208963900874122]\n",
      "Наилучшие значения гиперпараметров {'max_depth': 14.0, 'min_samples_leaf': 2.0, 'n_estimators': 245.0}\n",
      "CPU times: user 40.9 s, sys: 513 ms, total: 41.4 s\n",
      "Wall time: 1min 57s\n"
     ]
    }
   ],
   "source": [
    "%%time\n",
    "# начинаем подбор гиперпараметров\n",
    "\n",
    "trials = Trials()  # используется для логирования результатов\n",
    "\n",
    "best = fmin(hyperopt_rf,  # наша функция\n",
    "            space=space,  # пространство гиперпараметров\n",
    "            algo=tpe.suggest,  # алгоритм оптимизации, установлен по умолчанию, задавать необязательно\n",
    "            max_evals=20,  # максимальное количество итераций\n",
    "            trials=trials,  # логирование результатов\n",
    "            # фиксируем для повторяемости результата\n",
    "            rstate=np.random.default_rng(random_state)\n",
    "            )\n",
    "done()\n",
    "print(f'Наилучшие значения гиперпараметров {best}')\n"
   ]
  },
  {
   "attachments": {},
   "cell_type": "markdown",
   "metadata": {},
   "source": [
    "Посмотрим на значение метрики $F1$ на подобранных параметрах"
   ]
  },
  {
   "cell_type": "code",
   "execution_count": 49,
   "metadata": {},
   "outputs": [
    {
     "name": "stdout",
     "output_type": "stream",
     "text": [
      "f1_score на тестовом наборе: 0.795\n"
     ]
    }
   ],
   "source": [
    "model = ensemble.RandomForestClassifier(\n",
    "    random_state=random_state,\n",
    "    n_estimators=int(best['n_estimators']),\n",
    "    max_depth=int(best['max_depth']),\n",
    "    min_samples_leaf=int(best['min_samples_leaf'])\n",
    ")\n",
    "model.fit(X_train, y_train)\n",
    "done()\n",
    "y_test_pred = model.predict(X_test)\n",
    "f1_test()"
   ]
  },
  {
   "attachments": {},
   "cell_type": "markdown",
   "metadata": {},
   "source": [
    "#### Видим, что значение метрики такое же, как при поиске параметров по решетке и случайным образом, хотя параметры найденные Hyperopt немного отличаются."
   ]
  },
  {
   "attachments": {},
   "cell_type": "markdown",
   "metadata": {},
   "source": [
    "Предпримем еще несколько попыток подбора параметров:"
   ]
  },
  {
   "cell_type": "code",
   "execution_count": 50,
   "metadata": {},
   "outputs": [
    {
     "name": "stdout",
     "output_type": "stream",
     "text": [
      "100%|██████████| 23/23 [00:28<00:00,  9.66s/trial, best loss: -0.8211094588236747]\n",
      "Наилучшие значения гиперпараметров {'max_depth': 22.0, 'min_samples_leaf': 1.0, 'n_estimators': 242.0}\n"
     ]
    }
   ],
   "source": [
    "# если необходимо продолжить подбор,\n",
    "# то увеличиваем max_evals(должен быть строго больше, чем на предыдуших итерациях)\n",
    "# и используем старый trials\n",
    "best = fmin(hyperopt_rf,  # наша функция\n",
    "            space=space,  # пространство гиперпараметров\n",
    "            algo=tpe.suggest,  # алгоритм оптимизации, установлен по умолчанию, задавать необязательно\n",
    "            max_evals=23,  # максимальное количество итераций\n",
    "            trials=trials,  # логирование результатов\n",
    "            # фиксируем для повторяемости результата\n",
    "            rstate=np.random.default_rng(random_state)\n",
    "            )\n",
    "done()\n",
    "print(f'Наилучшие значения гиперпараметров {best}')\n"
   ]
  },
  {
   "attachments": {},
   "cell_type": "markdown",
   "metadata": {},
   "source": [
    "Посмотрим, какая метрика $F1$ получится теперь"
   ]
  },
  {
   "cell_type": "code",
   "execution_count": 51,
   "metadata": {},
   "outputs": [
    {
     "name": "stdout",
     "output_type": "stream",
     "text": [
      "f1_score на тестовом наборе: 0.800\n"
     ]
    }
   ],
   "source": [
    "model = ensemble.RandomForestClassifier(\n",
    "    random_state=random_state,\n",
    "    n_estimators=int(best['n_estimators']),\n",
    "    max_depth=int(best['max_depth']),\n",
    "    min_samples_leaf=int(best['min_samples_leaf'])\n",
    ")\n",
    "model.fit(X_train, y_train)\n",
    "done()\n",
    "y_test_pred = model.predict(X_test)\n",
    "f1_test()\n"
   ]
  },
  {
   "attachments": {},
   "cell_type": "markdown",
   "metadata": {},
   "source": [
    "#### Здорово! Всего три дополнительные итерации подбора позволили нам достичь показателя $F1=0.8$, чего пока не давала ни одна модель"
   ]
  },
  {
   "attachments": {},
   "cell_type": "markdown",
   "metadata": {},
   "source": [
    "Отрисуем график изменения $F1$ в зависимости от параметров при подборе"
   ]
  },
  {
   "cell_type": "code",
   "execution_count": 55,
   "metadata": {},
   "outputs": [
    {
     "data": {
      "image/png": "[encoded data removed]",
      "text/plain": [
       "<Figure size 1000x1000 with 4 Axes>"
      ]
     },
     "metadata": {},
     "output_type": "display_data"
    }
   ],
   "source": [
    "# отрисуем, как менялась точность при различных гиперпараметрах\n",
    "tpe_results=np.array(\n",
    "    [[x['result']['loss'],\n",
    "    x['misc']['vals']['n_estimators'][0],\n",
    "    x['misc']['vals']['max_depth'][0],\n",
    "    x['misc']['vals']['min_samples_leaf'][0]] for x in trials.trials])\n",
    "\n",
    "tpe_results_df=pd.DataFrame(\n",
    "    tpe_results,\n",
    "    columns=['F1 score', 'n_estimators', 'max_depth', 'min_samples_leaf'])\n",
    "# тепловая карта в данном случае не очень наглядна, возьмем линейный график\n",
    "tpe_results_df.plot(subplots=True,figsize=(10, 10));"
   ]
  },
  {
   "attachments": {},
   "cell_type": "markdown",
   "metadata": {},
   "source": [
    "### Произведем подбор гиперпараметров случайного леса при помощи Optuna"
   ]
  },
  {
   "cell_type": "code",
   "execution_count": 56,
   "metadata": {},
   "outputs": [],
   "source": [
    "# Устанавливаем библиотеку\n",
    "#!pip install optuna\n",
    "# или\n",
    "#!conda install -c conda-forge optuna\n"
   ]
  },
  {
   "cell_type": "code",
   "execution_count": 57,
   "metadata": {},
   "outputs": [
    {
     "name": "stdout",
     "output_type": "stream",
     "text": [
      "Версия Optuna: 3.1.0\n"
     ]
    }
   ],
   "source": [
    "import optuna\n",
    "\n",
    "print(f\"Версия Optuna: {optuna.__version__}\")\n"
   ]
  },
  {
   "cell_type": "code",
   "execution_count": 58,
   "metadata": {},
   "outputs": [],
   "source": [
    "def optuna_rf(trial, cv=5, scoring='f1', n_jobs=-1):\n",
    "  # задаем пространства поиска гиперпараметров\n",
    "  n_estimators = trial.suggest_int('n_estimators', 230, 250, 1)\n",
    "  max_depth = trial.suggest_int('max_depth', 10, 30, 1)\n",
    "  min_samples_leaf = trial.suggest_int('min_samples_leaf', 1, 10, 1)\n",
    "\n",
    "  # создаем модель\n",
    "  model = ensemble.RandomForestClassifier(n_estimators=n_estimators,\n",
    "                                          max_depth=max_depth,\n",
    "                                          min_samples_leaf=min_samples_leaf,\n",
    "                                          random_state=random_state)\n",
    "  # обучаем модель\n",
    "  model.fit(X_train, y_train)\n",
    "  \n",
    "  # Для оценки метрики используем кросс-валидацию\n",
    "  score = cross_val_score(model, X, y, cv=cv, scoring=\"f1\", n_jobs=n_jobs).mean()\n",
    "  \n",
    "  return score\n"
   ]
  },
  {
   "cell_type": "code",
   "execution_count": 59,
   "metadata": {},
   "outputs": [
    {
     "name": "stderr",
     "output_type": "stream",
     "text": [
      "\u001b[32m[I 2023-04-23 13:25:49,616]\u001b[0m A new study created in memory with name: RandomForestClassifier\u001b[0m\n",
      "\u001b[32m[I 2023-04-23 13:26:03,340]\u001b[0m Trial 0 finished with value: 0.8138994880282878 and parameters: {'n_estimators': 240, 'max_depth': 26, 'min_samples_leaf': 1}. Best is trial 0 with value: 0.8138994880282878.\u001b[0m\n",
      "\u001b[32m[I 2023-04-23 13:26:12,546]\u001b[0m Trial 1 finished with value: 0.8004110587976427 and parameters: {'n_estimators': 238, 'max_depth': 18, 'min_samples_leaf': 9}. Best is trial 0 with value: 0.8138994880282878.\u001b[0m\n",
      "\u001b[32m[I 2023-04-23 13:26:21,941]\u001b[0m Trial 2 finished with value: 0.8126969222127547 and parameters: {'n_estimators': 244, 'max_depth': 16, 'min_samples_leaf': 5}. Best is trial 0 with value: 0.8138994880282878.\u001b[0m\n",
      "\u001b[32m[I 2023-04-23 13:26:29,231]\u001b[0m Trial 3 finished with value: 0.7961995910966516 and parameters: {'n_estimators': 236, 'max_depth': 27, 'min_samples_leaf': 10}. Best is trial 0 with value: 0.8138994880282878.\u001b[0m\n",
      "\u001b[32m[I 2023-04-23 13:26:37,164]\u001b[0m Trial 4 finished with value: 0.8000970962818291 and parameters: {'n_estimators': 245, 'max_depth': 12, 'min_samples_leaf': 6}. Best is trial 0 with value: 0.8138994880282878.\u001b[0m\n",
      "\u001b[32m[I 2023-04-23 13:26:49,085]\u001b[0m Trial 5 finished with value: 0.8119899896499646 and parameters: {'n_estimators': 250, 'max_depth': 29, 'min_samples_leaf': 1}. Best is trial 0 with value: 0.8138994880282878.\u001b[0m\n",
      "\u001b[32m[I 2023-04-23 13:26:56,173]\u001b[0m Trial 6 finished with value: 0.7966718922024942 and parameters: {'n_estimators': 235, 'max_depth': 11, 'min_samples_leaf': 9}. Best is trial 0 with value: 0.8138994880282878.\u001b[0m\n",
      "\u001b[32m[I 2023-04-23 13:27:05,315]\u001b[0m Trial 7 finished with value: 0.8113140267883796 and parameters: {'n_estimators': 241, 'max_depth': 16, 'min_samples_leaf': 5}. Best is trial 0 with value: 0.8138994880282878.\u001b[0m\n",
      "\u001b[32m[I 2023-04-23 13:27:13,184]\u001b[0m Trial 8 finished with value: 0.7962094071042458 and parameters: {'n_estimators': 240, 'max_depth': 15, 'min_samples_leaf': 10}. Best is trial 0 with value: 0.8138994880282878.\u001b[0m\n",
      "\u001b[32m[I 2023-04-23 13:27:21,871]\u001b[0m Trial 9 finished with value: 0.8143994048132537 and parameters: {'n_estimators': 236, 'max_depth': 13, 'min_samples_leaf': 3}. Best is trial 9 with value: 0.8143994048132537.\u001b[0m\n",
      "\u001b[32m[I 2023-04-23 13:27:31,634]\u001b[0m Trial 10 finished with value: 0.812031966437311 and parameters: {'n_estimators': 230, 'max_depth': 21, 'min_samples_leaf': 3}. Best is trial 9 with value: 0.8143994048132537.\u001b[0m\n",
      "\u001b[32m[I 2023-04-23 13:27:43,604]\u001b[0m Trial 11 finished with value: 0.8144411370387147 and parameters: {'n_estimators': 232, 'max_depth': 23, 'min_samples_leaf': 1}. Best is trial 11 with value: 0.8144411370387147.\u001b[0m\n",
      "\u001b[32m[I 2023-04-23 13:27:53,985]\u001b[0m Trial 12 finished with value: 0.8126255029670417 and parameters: {'n_estimators': 230, 'max_depth': 22, 'min_samples_leaf': 3}. Best is trial 11 with value: 0.8144411370387147.\u001b[0m\n",
      "\u001b[32m[I 2023-04-23 13:28:04,123]\u001b[0m Trial 13 finished with value: 0.8143487863123348 and parameters: {'n_estimators': 233, 'max_depth': 24, 'min_samples_leaf': 3}. Best is trial 11 with value: 0.8144411370387147.\u001b[0m\n",
      "\u001b[32m[I 2023-04-23 13:28:14,713]\u001b[0m Trial 14 finished with value: 0.8161349606267223 and parameters: {'n_estimators': 233, 'max_depth': 19, 'min_samples_leaf': 2}. Best is trial 14 with value: 0.8161349606267223.\u001b[0m\n",
      "\u001b[32m[I 2023-04-23 13:28:26,083]\u001b[0m Trial 15 finished with value: 0.8120854168325329 and parameters: {'n_estimators': 233, 'max_depth': 20, 'min_samples_leaf': 1}. Best is trial 14 with value: 0.8161349606267223.\u001b[0m\n",
      "\u001b[32m[I 2023-04-23 13:28:36,688]\u001b[0m Trial 16 finished with value: 0.8165444997820801 and parameters: {'n_estimators': 232, 'max_depth': 24, 'min_samples_leaf': 2}. Best is trial 16 with value: 0.8165444997820801.\u001b[0m\n",
      "\u001b[32m[I 2023-04-23 13:28:45,585]\u001b[0m Trial 17 finished with value: 0.8055696435719648 and parameters: {'n_estimators': 234, 'max_depth': 30, 'min_samples_leaf': 7}. Best is trial 16 with value: 0.8165444997820801.\u001b[0m\n",
      "\u001b[32m[I 2023-04-23 13:28:54,768]\u001b[0m Trial 18 finished with value: 0.8103049378186256 and parameters: {'n_estimators': 231, 'max_depth': 19, 'min_samples_leaf': 4}. Best is trial 16 with value: 0.8165444997820801.\u001b[0m\n",
      "\u001b[32m[I 2023-04-23 13:29:04,923]\u001b[0m Trial 19 finished with value: 0.8151390230671682 and parameters: {'n_estimators': 238, 'max_depth': 25, 'min_samples_leaf': 2}. Best is trial 16 with value: 0.8165444997820801.\u001b[0m\n"
     ]
    },
    {
     "name": "stdout",
     "output_type": "stream",
     "text": [
      "CPU times: user 57.1 s, sys: 907 ms, total: 58 s\n",
      "Wall time: 3min 18s\n"
     ]
    }
   ],
   "source": [
    "%%time\n",
    "# cоздаем объект исследования\n",
    "# можем напрямую указать, что нам необходимо максимизировать метрику direction=\"maximize\"\n",
    "study = optuna.create_study(study_name=\"RandomForestClassifier\", direction=\"maximize\")\n",
    "# ищем лучшую комбинацию гиперпараметров n_trials раз\n",
    "study.optimize(optuna_rf, n_trials=20)\n",
    "done()"
   ]
  },
  {
   "cell_type": "code",
   "execution_count": 60,
   "metadata": {},
   "outputs": [
    {
     "name": "stdout",
     "output_type": "stream",
     "text": [
      "Наилучшие значения гиперпараметров {'n_estimators': 232, 'max_depth': 24, 'min_samples_leaf': 2}\n",
      "f1_score на обучающем наборе: 0.82\n"
     ]
    }
   ],
   "source": [
    "# выводим результаты на обучающей выборке\n",
    "print(f\"Наилучшие значения гиперпараметров {study.best_params}\")\n",
    "print(f\"f1_score на обучающем наборе: {study.best_value:.2f}\")\n"
   ]
  },
  {
   "attachments": {},
   "cell_type": "markdown",
   "metadata": {},
   "source": [
    "Посмотрим на значение метрики $F1$ на тестовом наборе данных"
   ]
  },
  {
   "cell_type": "code",
   "execution_count": 61,
   "metadata": {},
   "outputs": [
    {
     "name": "stdout",
     "output_type": "stream",
     "text": [
      "f1_score на тестовом наборе: 0.803\n"
     ]
    }
   ],
   "source": [
    "model = ensemble.RandomForestClassifier(\n",
    "    **study.best_params, random_state=random_state, n_jobs=-1)\n",
    "model.fit(X_train, y_train)\n",
    "done()\n",
    "y_test_pred = model.predict(X_test)\n",
    "f1_test()\n"
   ]
  },
  {
   "attachments": {},
   "cell_type": "markdown",
   "metadata": {},
   "source": [
    "#### Потрясающе! Optuna удалось улучшить метрику $F1$ еще на три тысячных!"
   ]
  },
  {
   "attachments": {},
   "cell_type": "markdown",
   "metadata": {},
   "source": [
    "Проведем еще 20 итераций"
   ]
  },
  {
   "cell_type": "code",
   "execution_count": 62,
   "metadata": {},
   "outputs": [
    {
     "name": "stderr",
     "output_type": "stream",
     "text": [
      "\u001b[32m[I 2023-04-23 13:33:11,442]\u001b[0m Trial 20 finished with value: 0.8069101638289599 and parameters: {'n_estimators': 250, 'max_depth': 18, 'min_samples_leaf': 7}. Best is trial 16 with value: 0.8165444997820801.\u001b[0m\n",
      "\u001b[32m[I 2023-04-23 13:33:21,722]\u001b[0m Trial 21 finished with value: 0.8160334907486945 and parameters: {'n_estimators': 237, 'max_depth': 25, 'min_samples_leaf': 2}. Best is trial 16 with value: 0.8165444997820801.\u001b[0m\n",
      "\u001b[32m[I 2023-04-23 13:33:31,597]\u001b[0m Trial 22 finished with value: 0.8157604787895242 and parameters: {'n_estimators': 237, 'max_depth': 28, 'min_samples_leaf': 2}. Best is trial 16 with value: 0.8165444997820801.\u001b[0m\n",
      "\u001b[32m[I 2023-04-23 13:33:42,191]\u001b[0m Trial 23 finished with value: 0.8156541810493707 and parameters: {'n_estimators': 234, 'max_depth': 23, 'min_samples_leaf': 2}. Best is trial 16 with value: 0.8165444997820801.\u001b[0m\n",
      "\u001b[32m[I 2023-04-23 13:33:51,948]\u001b[0m Trial 24 finished with value: 0.8095782280397665 and parameters: {'n_estimators': 233, 'max_depth': 26, 'min_samples_leaf': 4}. Best is trial 16 with value: 0.8165444997820801.\u001b[0m\n",
      "\u001b[32m[I 2023-04-23 13:34:01,545]\u001b[0m Trial 25 finished with value: 0.809790021139993 and parameters: {'n_estimators': 232, 'max_depth': 21, 'min_samples_leaf': 4}. Best is trial 16 with value: 0.8165444997820801.\u001b[0m\n",
      "\u001b[32m[I 2023-04-23 13:34:12,607]\u001b[0m Trial 26 finished with value: 0.8146666109906745 and parameters: {'n_estimators': 235, 'max_depth': 25, 'min_samples_leaf': 2}. Best is trial 16 with value: 0.8165444997820801.\u001b[0m\n",
      "\u001b[32m[I 2023-04-23 13:34:23,670]\u001b[0m Trial 27 finished with value: 0.8151582549707047 and parameters: {'n_estimators': 238, 'max_depth': 23, 'min_samples_leaf': 2}. Best is trial 16 with value: 0.8165444997820801.\u001b[0m\n",
      "\u001b[32m[I 2023-04-23 13:34:33,704]\u001b[0m Trial 28 finished with value: 0.8074403192733864 and parameters: {'n_estimators': 242, 'max_depth': 20, 'min_samples_leaf': 4}. Best is trial 16 with value: 0.8165444997820801.\u001b[0m\n",
      "\u001b[32m[I 2023-04-23 13:34:44,558]\u001b[0m Trial 29 finished with value: 0.8145338652949686 and parameters: {'n_estimators': 231, 'max_depth': 27, 'min_samples_leaf': 1}. Best is trial 16 with value: 0.8165444997820801.\u001b[0m\n",
      "\u001b[32m[I 2023-04-23 13:34:54,045]\u001b[0m Trial 30 finished with value: 0.8138998092945033 and parameters: {'n_estimators': 239, 'max_depth': 25, 'min_samples_leaf': 3}. Best is trial 16 with value: 0.8165444997820801.\u001b[0m\n",
      "\u001b[32m[I 2023-04-23 13:35:04,866]\u001b[0m Trial 31 finished with value: 0.8157604787895242 and parameters: {'n_estimators': 237, 'max_depth': 28, 'min_samples_leaf': 2}. Best is trial 16 with value: 0.8165444997820801.\u001b[0m\n",
      "\u001b[32m[I 2023-04-23 13:35:14,766]\u001b[0m Trial 32 finished with value: 0.8157443112463667 and parameters: {'n_estimators': 236, 'max_depth': 30, 'min_samples_leaf': 2}. Best is trial 16 with value: 0.8165444997820801.\u001b[0m\n",
      "\u001b[32m[I 2023-04-23 13:35:26,221]\u001b[0m Trial 33 finished with value: 0.8135505036149098 and parameters: {'n_estimators': 243, 'max_depth': 28, 'min_samples_leaf': 1}. Best is trial 16 with value: 0.8165444997820801.\u001b[0m\n",
      "\u001b[32m[I 2023-04-23 13:35:35,527]\u001b[0m Trial 34 finished with value: 0.8082559754777774 and parameters: {'n_estimators': 237, 'max_depth': 27, 'min_samples_leaf': 5}. Best is trial 16 with value: 0.8165444997820801.\u001b[0m\n",
      "\u001b[32m[I 2023-04-23 13:35:46,174]\u001b[0m Trial 35 finished with value: 0.813863402769236 and parameters: {'n_estimators': 239, 'max_depth': 18, 'min_samples_leaf': 3}. Best is trial 16 with value: 0.8165444997820801.\u001b[0m\n",
      "\u001b[32m[I 2023-04-23 13:35:56,934]\u001b[0m Trial 36 finished with value: 0.8160468313890753 and parameters: {'n_estimators': 235, 'max_depth': 26, 'min_samples_leaf': 2}. Best is trial 16 with value: 0.8165444997820801.\u001b[0m\n",
      "\u001b[32m[I 2023-04-23 13:36:08,434]\u001b[0m Trial 37 finished with value: 0.8171966017430827 and parameters: {'n_estimators': 235, 'max_depth': 24, 'min_samples_leaf': 1}. Best is trial 37 with value: 0.8171966017430827.\u001b[0m\n",
      "\u001b[32m[I 2023-04-23 13:36:19,888]\u001b[0m Trial 38 finished with value: 0.8179807668369385 and parameters: {'n_estimators': 247, 'max_depth': 16, 'min_samples_leaf': 1}. Best is trial 38 with value: 0.8179807668369385.\u001b[0m\n",
      "\u001b[32m[I 2023-04-23 13:36:31,369]\u001b[0m Trial 39 finished with value: 0.818201403521984 and parameters: {'n_estimators': 246, 'max_depth': 16, 'min_samples_leaf': 1}. Best is trial 39 with value: 0.818201403521984.\u001b[0m\n"
     ]
    },
    {
     "name": "stdout",
     "output_type": "stream",
     "text": [
      "CPU times: user 59.7 s, sys: 673 ms, total: 1min\n",
      "Wall time: 3min 32s\n"
     ]
    }
   ],
   "source": [
    "%%time\n",
    "# можем прододжить подбор, указав n_trials(любое число, которое добавится к предыдущим итерациям)\n",
    "study.optimize(optuna_rf, n_trials=20)\n",
    "done()\n"
   ]
  },
  {
   "cell_type": "code",
   "execution_count": 66,
   "metadata": {},
   "outputs": [
    {
     "name": "stdout",
     "output_type": "stream",
     "text": [
      "f1_score на тестовом наборе: 0.798\n"
     ]
    }
   ],
   "source": [
    "model = ensemble.RandomForestClassifier(\n",
    "    **study.best_params, random_state=random_state, n_jobs=-1)\n",
    "model.fit(X_train, y_train)\n",
    "done()\n",
    "y_test_pred = model.predict(X_test)\n",
    "f1_test()"
   ]
  },
  {
   "attachments": {},
   "cell_type": "markdown",
   "metadata": {},
   "source": [
    "#### Видим,что на последних трёх итерациях Optuna улучшала метрику. При этом значение метрики $F1$ снизилось на тестовом наборе данных. Явное переобучение."
   ]
  },
  {
   "attachments": {},
   "cell_type": "markdown",
   "metadata": {},
   "source": [
    "### Итог: наилучшее значение метрики $F1=0,803$ получено на тестовом наборе данных для модели случайного леса с параметрами {'n_estimators': 232, 'max_depth': 24, 'min_samples_leaf': 2}, подобранными при помощи Optuna использованием кросс-валидации на 17 итерации (порядковый номер итерации, при нумерации с 0 - 16) "
   ]
  },
  {
   "cell_type": "markdown",
   "metadata": {},
   "source": []
  }
 ],
 "metadata": {
  "kernelspec": {
   "display_name": "base",
   "language": "python",
   "name": "python3"
  },
  "language_info": {
   "codemirror_mode": {
    "name": "ipython",
    "version": 3
   },
   "file_extension": ".py",
   "mimetype": "text/x-python",
   "name": "python",
   "nbconvert_exporter": "python",
   "pygments_lexer": "ipython3",
   "version": "3.9.12"
  },
  "orig_nbformat": 4
 },
 "nbformat": 4,
 "nbformat_minor": 2
}
