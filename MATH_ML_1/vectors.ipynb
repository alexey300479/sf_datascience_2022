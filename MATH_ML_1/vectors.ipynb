{
 "cells": [
  {
   "cell_type": "code",
   "execution_count": 1,
   "metadata": {},
   "outputs": [],
   "source": [
    "import numpy as np"
   ]
  },
  {
   "cell_type": "code",
   "execution_count": 2,
   "metadata": {},
   "outputs": [
    {
     "data": {
      "text/plain": [
       "array([7, 7])"
      ]
     },
     "execution_count": 2,
     "metadata": {},
     "output_type": "execute_result"
    }
   ],
   "source": [
    "x = np.array([4, 5])\n",
    "y = np.array([2, 1])\n",
    "z = np.array([1, 0])\n",
    "\n",
    "2*x - 3*y + 5*z"
   ]
  },
  {
   "cell_type": "code",
   "execution_count": 3,
   "metadata": {},
   "outputs": [
    {
     "data": {
      "text/plain": [
       "array([-200, 1200,  200,  600])"
      ]
     },
     "execution_count": 3,
     "metadata": {},
     "output_type": "execute_result"
    }
   ],
   "source": [
    "produced = np.array((3, 4, 5, 9))\n",
    "sold = np.array((1, 5, 3, 6))\n",
    "\n",
    "cost = 200\n",
    "price = 400\n",
    "\n",
    "price*sold - produced*cost"
   ]
  },
  {
   "cell_type": "code",
   "execution_count": 4,
   "metadata": {},
   "outputs": [
    {
     "data": {
      "text/plain": [
       "7"
      ]
     },
     "execution_count": 4,
     "metadata": {},
     "output_type": "execute_result"
    }
   ],
   "source": [
    "x =  np.array([4, 5, -1])\n",
    "y = np.array([2, 0, 1])\n",
    "np.dot(x, y)"
   ]
  },
  {
   "attachments": {},
   "cell_type": "markdown",
   "metadata": {},
   "source": [
    "Задание 2.13\n",
    "1 point possible (graded)\n",
    "Какие пары векторов являются ортогональными?\n",
    "Отметьте все подходящие варианты ответов.\n",
    "\n",
    "* A $\\overrightarrow{x}=\\left( \\begin{array}{c}\n",
    "4 \\\\ \n",
    "2 \\\\ \n",
    "-1 \\end{array}\n",
    "\\right)\\ ,\\ \\overrightarrow{y}=\\left( \\begin{array}{c}\n",
    "2 \\\\ \n",
    "0 \\\\ \n",
    "1 \\end{array}\n",
    "\\right)$\n",
    "* B $\\overrightarrow{x}=\\left( \\begin{array}{c}\n",
    "4 \\\\ \n",
    "5 \\\\ \n",
    "-1 \\end{array}\n",
    "\\right)\\ ,\\ \\overrightarrow{y}=\\left( \\begin{array}{c}\n",
    "0 \\\\ \n",
    "0 \\\\ \n",
    "0 \\end{array}\n",
    "\\right)$\n",
    "* C $\\overrightarrow{x}=\\left( \\begin{array}{c}\n",
    "4 \\\\ \n",
    "-1 \\end{array}\n",
    "\\right)\\ ,\\ \\overrightarrow{y}=\\left( \\begin{array}{c}\n",
    "-1 \\\\ \n",
    "4 \\end{array}\n",
    "\\right)$\n",
    "* D $\\overrightarrow{x}=\\left( \\begin{array}{c}\n",
    "4 \\\\ \n",
    "-1 \\end{array}\n",
    "\\right)\\ ,\\ \\overrightarrow{y}=\\left( \\begin{array}{c}\n",
    "1 \\\\ \n",
    "4 \\end{array}\n",
    "\\right)$"
   ]
  },
  {
   "cell_type": "code",
   "execution_count": 5,
   "metadata": {},
   "outputs": [
    {
     "data": {
      "text/plain": [
       "7"
      ]
     },
     "execution_count": 5,
     "metadata": {},
     "output_type": "execute_result"
    }
   ],
   "source": [
    "x = np.array([4, 2, -1])\n",
    "y = np.array([2, 0, 1])\n",
    "np.dot(x, y)"
   ]
  },
  {
   "cell_type": "code",
   "execution_count": 7,
   "metadata": {},
   "outputs": [
    {
     "data": {
      "text/plain": [
       "0"
      ]
     },
     "execution_count": 7,
     "metadata": {},
     "output_type": "execute_result"
    }
   ],
   "source": [
    "x = np.array([4, 5, -1])\n",
    "y = np.array([0, 0, 0])\n",
    "np.dot(x, y)"
   ]
  },
  {
   "cell_type": "code",
   "execution_count": 8,
   "metadata": {},
   "outputs": [
    {
     "data": {
      "text/plain": [
       "-8"
      ]
     },
     "execution_count": 8,
     "metadata": {},
     "output_type": "execute_result"
    }
   ],
   "source": [
    "x = np.array([4, -1])\n",
    "y = np.array([-1, 4])\n",
    "np.dot(x, y)"
   ]
  },
  {
   "cell_type": "code",
   "execution_count": 9,
   "metadata": {},
   "outputs": [
    {
     "data": {
      "text/plain": [
       "0"
      ]
     },
     "execution_count": 9,
     "metadata": {},
     "output_type": "execute_result"
    }
   ],
   "source": [
    "x = np.array([4, -1])\n",
    "y = np.array([1, 4])\n",
    "np.dot(x, y)"
   ]
  },
  {
   "cell_type": "code",
   "execution_count": null,
   "metadata": {},
   "outputs": [],
   "source": []
  }
 ],
 "metadata": {
  "kernelspec": {
   "display_name": "base",
   "language": "python",
   "name": "python3"
  },
  "language_info": {
   "codemirror_mode": {
    "name": "ipython",
    "version": 3
   },
   "file_extension": ".py",
   "mimetype": "text/x-python",
   "name": "python",
   "nbconvert_exporter": "python",
   "pygments_lexer": "ipython3",
   "version": "3.9.12"
  },
  "orig_nbformat": 4
 },
 "nbformat": 4,
 "nbformat_minor": 2
}
