{
 "cells": [
  {
   "attachments": {},
   "cell_type": "markdown",
   "metadata": {},
   "source": [
    "### Задание 6.1\n",
    "1/1 point (graded)\n",
    "\n",
    "Предлагаем использовать датасет, с которым вы работали при создании пайплайна (файл <a href=\"https://lms.skillfactory.ru/assets/courseware/v1/4ac05d2d2721ace4a495c186925a350b/asset-v1:SkillFactory+DST-3.0+28FEB2021+type@asset+block/Red.zip\">Red.csv</a> ).\n",
    "\n",
    "Вам следует выполнить следующее:\n",
    "\n",
    "* Добавить обработку столбца 'Region' в пайплайн, полученный ранее в модуле, с использованием OrdinalEncoder.\n",
    "\n",
    "Важно! Для совпадения результатов процесс трансформации столбцов должен выполняться в следующей последовательности:\n",
    "\n",
    "1. Кодирование столбца 'Region'.\n",
    "2. Стандартизация столбца 'Price'.\n",
    "3. Кодирование столбца 'Country'.\n",
    "\n",
    "* Обучить на тренировочном наборе данных пайплайн и оценить качество модели по метрике RMSE на тестовом наборе (файл <a href=\"https://lms.skillfactory.ru/assets/courseware/v1/27d0c9cfaebda5e496a455e8dc84a86a/asset-v1:SkillFactory+DST-3.0+28FEB2021+type@asset+block/Red_test.zip\">Red_test.csv</a> ).\n",
    "* Зафиксировать random_state=42.\n",
    "* Сохранить пайплайн в файл pipeline_wine.pkl.\n",
    "\n",
    "В качестве ответа на задание введите в поле ниже полученный результат по метрике RMSE, округленный до четвёртого знака после запятой."
   ]
  },
  {
   "cell_type": "code",
   "execution_count": 44,
   "metadata": {},
   "outputs": [],
   "source": [
    "#загрузим основные библиотеки\n",
    "import pandas as pd\n",
    "import numpy as np\n",
    "from sklearn.pipeline import Pipeline\n",
    "from sklearn.ensemble import RandomForestRegressor, StackingRegressor\n",
    "from sklearn.linear_model import RidgeCV\n",
    "from sklearn.preprocessing import StandardScaler\n",
    "from sklearn.tree import DecisionTreeRegressor\n",
    "\n",
    "from sklearn.metrics import r2_score, mean_squared_error\n",
    "from sklearn.model_selection import train_test_split, cross_val_score\n",
    "from sklearn.model_selection import GridSearchCV\n",
    "from sklearn.preprocessing import StandardScaler, OneHotEncoder, OrdinalEncoder\n",
    "from sklearn.compose import make_column_transformer\n",
    "import joblib"
   ]
  },
  {
   "cell_type": "code",
   "execution_count": 38,
   "metadata": {},
   "outputs": [],
   "source": [
    "def rmse(y_true, y_pred):\n",
    "    print(\n",
    "    f'Качество модели по RMSE: {mean_squared_error(y_true, y_pred, squared=False):.4f}')"
   ]
  },
  {
   "cell_type": "code",
   "execution_count": 39,
   "metadata": {},
   "outputs": [
    {
     "name": "stdout",
     "output_type": "stream",
     "text": [
      "ColumnTransformer(transformers=[('ordinalencoder', OrdinalEncoder(),\n",
      "                                 ['Region']),\n",
      "                                ('standardscaler', StandardScaler(), ['Price']),\n",
      "                                ('onehotencoder', OneHotEncoder(),\n",
      "                                 ['Country'])])\n",
      "Pipeline(steps=[('ct',\n",
      "                 ColumnTransformer(transformers=[('ordinalencoder',\n",
      "                                                  OrdinalEncoder(),\n",
      "                                                  ['Region']),\n",
      "                                                 ('standardscaler',\n",
      "                                                  StandardScaler(), ['Price']),\n",
      "                                                 ('onehotencoder',\n",
      "                                                  OneHotEncoder(),\n",
      "                                                  ['Country'])])),\n",
      "                ('rf', RandomForestRegressor(n_jobs=-1, random_state=42))])\n",
      "Качество модели по RMSE: 0.0765\n"
     ]
    },
    {
     "data": {
      "text/plain": [
       "['pipepline_wine.pkl']"
      ]
     },
     "execution_count": 39,
     "metadata": {},
     "output_type": "execute_result"
    }
   ],
   "source": [
    "ct = make_column_transformer(\n",
    "    (OrdinalEncoder(), ['Region']),\n",
    "    (StandardScaler(), ['Price']),\n",
    "    (OneHotEncoder(), ['Country']))\n",
    "print(ct)\n",
    "\n",
    "pipeline = Pipeline([('ct', ct), ('rf', RandomForestRegressor(random_state=42, n_jobs=-1))])\n",
    "print(pipeline)\n",
    "\n",
    "df_wine = pd.read_csv('./data/Red.zip')\n",
    "X_train = df_wine[['Region', 'Price', 'Country']]\n",
    "y_train = df_wine['Rating']\n",
    "\n",
    "pipeline.fit(X_train, y_train)\n",
    "\n",
    "df_wine_test = pd.read_csv('./data/Red_test.zip')\n",
    "X_test = df_wine_test[['Region', 'Price', 'Country']]\n",
    "y_test = df_wine_test['Rating']\n",
    "\n",
    "y_test_pred = pipeline.predict(X_test)\n",
    "rmse(y_test, y_test_pred)\n",
    "\n",
    "joblib.dump(pipeline, 'pipepline_wine.pkl')"
   ]
  },
  {
   "attachments": {},
   "cell_type": "markdown",
   "metadata": {},
   "source": [
    "### Задание 6.2\n",
    "1 point possible (graded)\n",
    "\n",
    "Теперь попробуем изменить параметры случайного леса в пайплайне, полученном в предыдущем задании.\n",
    "\n",
    "Измените параметр n_estimators в случайном лесу со значения по умолчанию до 200 , используя метод set_params.\n",
    "\n",
    "В качестве ответа на задание введите в поле ниже полученный результат по метрике RMSE, округленный до четвёртого знака после запятой."
   ]
  },
  {
   "cell_type": "code",
   "execution_count": 40,
   "metadata": {},
   "outputs": [
    {
     "name": "stdout",
     "output_type": "stream",
     "text": [
      "Pipeline(steps=[('ct',\n",
      "                 ColumnTransformer(transformers=[('ordinalencoder',\n",
      "                                                  OrdinalEncoder(),\n",
      "                                                  ['Region']),\n",
      "                                                 ('standardscaler',\n",
      "                                                  StandardScaler(), ['Price']),\n",
      "                                                 ('onehotencoder',\n",
      "                                                  OneHotEncoder(),\n",
      "                                                  ['Country'])])),\n",
      "                ('rf',\n",
      "                 RandomForestRegressor(n_estimators=200, n_jobs=-1,\n",
      "                                       random_state=42))])\n",
      "Качество модели по RMSE: 0.0761\n"
     ]
    }
   ],
   "source": [
    "pipeline.set_params(rf__n_estimators=200)\n",
    "print(pipeline)\n",
    "pipeline.fit(X_train, y_train)\n",
    "y_test_pred = pipeline.predict(X_test)\n",
    "rmse(y_test, y_test_pred)"
   ]
  },
  {
   "attachments": {},
   "cell_type": "markdown",
   "metadata": {},
   "source": [
    "### Задание 6.3\n",
    "1 point possible (graded)\n",
    "\n",
    "Теперь попробуем добавить стекинг в качестве модели в пайплайн.\n",
    "\n",
    "Вам следует выполнить следующее:\n",
    "\n",
    "* Собрать StackingRegressor:\n",
    "1. В качестве базовых моделей возьмите ридж-регрессию RidgeCV() и решающее дерево.\n",
    "2. В качестве метамодели возьмите случайный лес с настройками (количество базовых моделей 10).\n",
    "3. Все базовые модели стекинга модели должны быть с настройками по умолчанию (кроме random_state).\n",
    "\n",
    "* Зафиксировать random_state=42 (для всех моделей).\n",
    "* Заменить в пайплайне задачи 6.1 случайный лес на StackingRegressor.\n",
    "* Обучить модель на тренировочной выборке.\n",
    "\n",
    "В качестве ответа на задание введите в поле ниже полученный результат по метрике RMSE, округлённый до второго знака после запятой."
   ]
  },
  {
   "cell_type": "code",
   "execution_count": 45,
   "metadata": {},
   "outputs": [
    {
     "name": "stdout",
     "output_type": "stream",
     "text": [
      "Pipeline(steps=[('ct',\n",
      "                 ColumnTransformer(transformers=[('ordinalencoder',\n",
      "                                                  OrdinalEncoder(),\n",
      "                                                  ['Region']),\n",
      "                                                 ('standardscaler',\n",
      "                                                  StandardScaler(), ['Price']),\n",
      "                                                 ('onehotencoder',\n",
      "                                                  OneHotEncoder(),\n",
      "                                                  ['Country'])])),\n",
      "                ('sr',\n",
      "                 StackingRegressor(estimators=[('rcv', RidgeCV()),\n",
      "                                               ('lr',\n",
      "                                                DecisionTreeRegressor(random_state=42))],\n",
      "                                   final_estimator=RandomForestRegressor(n_estimators=10,\n",
      "                                                                         n_jobs=-1,\n",
      "                                                                         random_state=42),\n",
      "                                   n_jobs=-1))])\n",
      "Качество модели по RMSE: 0.1827\n"
     ]
    }
   ],
   "source": [
    "# Создаем список кортежей вида: (наименование модели, модель)\n",
    "estimators = [\n",
    "    ('rcv', RidgeCV()),\n",
    "    ('lr',  DecisionTreeRegressor(random_state=42))\n",
    "]\n",
    "\n",
    "# Создаем объект класса стекинг\n",
    "reg = StackingRegressor(\n",
    "    estimators=estimators,\n",
    "    final_estimator=RandomForestRegressor(\n",
    "        n_estimators=10,\n",
    "        random_state=42,\n",
    "        n_jobs=-1),\n",
    "    n_jobs=-1\n",
    ")\n",
    "\n",
    "pipeline = Pipeline(\n",
    "    [('ct', ct), ('sr', reg)])\n",
    "print(pipeline)\n",
    "\n",
    "pipeline.fit(X_train, y_train)\n",
    "\n",
    "y_test_pred = pipeline.predict(X_test)\n",
    "rmse(y_test, y_test_pred)"
   ]
  },
  {
   "cell_type": "code",
   "execution_count": null,
   "metadata": {},
   "outputs": [],
   "source": []
  }
 ],
 "metadata": {
  "kernelspec": {
   "display_name": "base",
   "language": "python",
   "name": "python3"
  },
  "language_info": {
   "codemirror_mode": {
    "name": "ipython",
    "version": 3
   },
   "file_extension": ".py",
   "mimetype": "text/x-python",
   "name": "python",
   "nbconvert_exporter": "python",
   "pygments_lexer": "ipython3",
   "version": "3.9.12"
  },
  "orig_nbformat": 4
 },
 "nbformat": 4,
 "nbformat_minor": 2
}
