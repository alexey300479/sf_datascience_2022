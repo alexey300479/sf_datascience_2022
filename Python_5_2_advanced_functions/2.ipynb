{
 "cells": [
  {
   "cell_type": "code",
   "execution_count": 2,
   "metadata": {},
   "outputs": [
    {
     "ename": "NameError",
     "evalue": "name 'printer' is not defined",
     "output_type": "error",
     "traceback": [
      "\u001b[0;31m---------------------------------------------------------------------------\u001b[0m",
      "\u001b[0;31mNameError\u001b[0m                                 Traceback (most recent call last)",
      "\u001b[1;32m/home/alexey/Learning/sf_datascience/Python_5_2_advanced_functions/2.ipynb Ячейка 1\u001b[0m in \u001b[0;36m<cell line: 4>\u001b[0;34m()\u001b[0m\n\u001b[1;32m      <a href='vscode-notebook-cell:/home/alexey/Learning/sf_datascience/Python_5_2_advanced_functions/2.ipynb#W0sZmlsZQ%3D%3D?line=1'>2</a>\u001b[0m     \u001b[39mdef\u001b[39;00m \u001b[39mprinter\u001b[39m():\n\u001b[1;32m      <a href='vscode-notebook-cell:/home/alexey/Learning/sf_datascience/Python_5_2_advanced_functions/2.ipynb#W0sZmlsZQ%3D%3D?line=2'>3</a>\u001b[0m         \u001b[39mprint\u001b[39m(msg)\n\u001b[0;32m----> <a href='vscode-notebook-cell:/home/alexey/Learning/sf_datascience/Python_5_2_advanced_functions/2.ipynb#W0sZmlsZQ%3D%3D?line=3'>4</a>\u001b[0m printer(\u001b[39m'\u001b[39m\u001b[39mHello\u001b[39m\u001b[39m'\u001b[39m)\n",
      "\u001b[0;31mNameError\u001b[0m: name 'printer' is not defined"
     ]
    }
   ],
   "source": [
    "def print_msg(msg):\n",
    "    def printer():\n",
    "        print(msg)\n",
    "printer('Hello')"
   ]
  },
  {
   "cell_type": "code",
   "execution_count": 5,
   "metadata": {},
   "outputs": [],
   "source": [
    "def get_count_unique_symbols(s: str) -> int:\n",
    "    \"\"\"\n",
    "    Returns number of unique lower case symbols in s ignoring spaces\n",
    "\n",
    "    Args:\n",
    "        s (str): input string\n",
    "\n",
    "    Returns:\n",
    "        int: Number of unique lower case symbols in s ignoring spaces\n",
    "    \"\"\"\n",
    "    \n",
    "    return len(set(s.lower().replace(' ', '')))"
   ]
  },
  {
   "cell_type": "code",
   "execution_count": 7,
   "metadata": {},
   "outputs": [
    {
     "data": {
      "text/plain": [
       "4"
      ]
     },
     "execution_count": 7,
     "metadata": {},
     "output_type": "execute_result"
    }
   ],
   "source": [
    "get_count_unique_symbols('hello')"
   ]
  },
  {
   "cell_type": "code",
   "execution_count": 8,
   "metadata": {},
   "outputs": [
    {
     "data": {
      "text/plain": [
       "4"
      ]
     },
     "execution_count": 8,
     "metadata": {},
     "output_type": "execute_result"
    }
   ],
   "source": [
    "get_count_unique_symbols('heLlo')"
   ]
  },
  {
   "cell_type": "code",
   "execution_count": 12,
   "metadata": {},
   "outputs": [],
   "source": [
    "def get_min_string(s1: str, s2: str) -> str:\n",
    "    \"\"\"\n",
    "    Returns string with miminum unique lowercase symbols ignoring spaces\n",
    "\n",
    "    Args:\n",
    "        s1 (str): First string\n",
    "        s2 (str): Second string\n",
    "\n",
    "    Returns:\n",
    "        str: Result string\n",
    "    \"\"\"\n",
    "    \n",
    "    def get_count_unique_symbols(s: str) -> int:\n",
    "        \"\"\"\n",
    "        Returns number of unique lower case symbols in s ignoring spaces\n",
    "\n",
    "        Args:\n",
    "            s (str): input string\n",
    "\n",
    "        Returns:\n",
    "            int: Number of unique lower case symbols in s ignoring spaces\n",
    "        \"\"\"\n",
    "    \n",
    "        return len(set(s.lower().replace(' ', '')))\n",
    "\n",
    "    s1_unique_cnt = get_count_unique_symbols(s1)\n",
    "    s2_unique_cnt = get_count_unique_symbols(s2)\n",
    "    \n",
    "    if s1_unique_cnt == s2_unique_cnt:\n",
    "        return (s1, s2)\n",
    "        \n",
    "    return s2 if s2_unique_cnt < s1_unique_cnt else s1\n",
    "    "
   ]
  },
  {
   "cell_type": "code",
   "execution_count": 13,
   "metadata": {},
   "outputs": [
    {
     "ename": "TypeError",
     "evalue": "func() takes 0 positional arguments but 1 was given",
     "output_type": "error",
     "traceback": [
      "\u001b[0;31m---------------------------------------------------------------------------\u001b[0m",
      "\u001b[0;31mTypeError\u001b[0m                                 Traceback (most recent call last)",
      "\u001b[1;32m/home/alexey/Learning/sf_datascience/Python_5_2_advanced_functions/2.ipynb Ячейка 6\u001b[0m in \u001b[0;36m<cell line: 5>\u001b[0;34m()\u001b[0m\n\u001b[1;32m      <a href='vscode-notebook-cell:/home/alexey/Learning/sf_datascience/Python_5_2_advanced_functions/2.ipynb#W5sZmlsZQ%3D%3D?line=1'>2</a>\u001b[0m \u001b[39mdef\u001b[39;00m \u001b[39mfunc\u001b[39m():\n\u001b[1;32m      <a href='vscode-notebook-cell:/home/alexey/Learning/sf_datascience/Python_5_2_advanced_functions/2.ipynb#W5sZmlsZQ%3D%3D?line=2'>3</a>\u001b[0m     \u001b[39mprint\u001b[39m(x)\n\u001b[0;32m----> <a href='vscode-notebook-cell:/home/alexey/Learning/sf_datascience/Python_5_2_advanced_functions/2.ipynb#W5sZmlsZQ%3D%3D?line=4'>5</a>\u001b[0m func(x)\n",
      "\u001b[0;31mTypeError\u001b[0m: func() takes 0 positional arguments but 1 was given"
     ]
    }
   ],
   "source": [
    "x = 'hello'\n",
    "def func():\n",
    "    print(x)\n",
    "\n",
    "func(x)"
   ]
  },
  {
   "cell_type": "code",
   "execution_count": 18,
   "metadata": {},
   "outputs": [],
   "source": [
    "pi = 3.1416\n",
    "\n",
    "def calculate_area_circle(r: float) -> float:\n",
    "    \"\"\"\n",
    "    Calculates area of a circle by radius using external constant pi.\n",
    "    Warning: assing PI before call calculate_circle_area.\n",
    "    Example:\n",
    "    pi = 3.14\n",
    "    calculate_circle_area(1) -> 3.14\n",
    "\n",
    "    Args:\n",
    "        r (float): Circle radius\n",
    "\n",
    "    Returns:\n",
    "        float: Area of a circle\n",
    "    \"\"\"\n",
    "    area = pi * r**2\n",
    "    return round(area, 3)\n",
    "\n",
    "\n",
    "def calculate_area_ellipse(a: float, b: float) -> float:\n",
    "    \"\"\"\n",
    "    Calculates area of an ellipse by minimal radius and maximal radius using external constant pi.\n",
    "    Warning: assing PI before call calculate_circle_ellipse.\n",
    "    Example:\n",
    "    pi = 3.14\n",
    "    calculate_circle_ellipse(1, 1) -> 3.14\n",
    "\n",
    "    Args:\n",
    "        a (float): Ellipse minimal radius or maximal radius\n",
    "        b (float): Ellipse maximal radius or minimal radius respectively\n",
    "    Returns:\n",
    "        float: Area of aт ellipse\n",
    "    \"\"\"\n",
    "    area = pi * a * b\n",
    "    return round(area, 3)\n"
   ]
  },
  {
   "cell_type": "code",
   "execution_count": 15,
   "metadata": {},
   "outputs": [
    {
     "data": {
      "text/plain": [
       "3.1416"
      ]
     },
     "execution_count": 15,
     "metadata": {},
     "output_type": "execute_result"
    }
   ],
   "source": [
    "calculate_circle_area(1)"
   ]
  },
  {
   "cell_type": "code",
   "execution_count": 19,
   "metadata": {},
   "outputs": [
    {
     "data": {
      "text/plain": [
       "23.561999999999998"
      ]
     },
     "execution_count": 19,
     "metadata": {},
     "output_type": "execute_result"
    }
   ],
   "source": [
    "calculate_circle_ellipse(3, 2.5)"
   ]
  },
  {
   "cell_type": "code",
   "execution_count": null,
   "metadata": {},
   "outputs": [],
   "source": []
  }
 ],
 "metadata": {
  "kernelspec": {
   "display_name": "base",
   "language": "python",
   "name": "python3"
  },
  "language_info": {
   "codemirror_mode": {
    "name": "ipython",
    "version": 3
   },
   "file_extension": ".py",
   "mimetype": "text/x-python",
   "name": "python",
   "nbconvert_exporter": "python",
   "pygments_lexer": "ipython3",
   "version": "3.9.12"
  },
  "orig_nbformat": 4
 },
 "nbformat": 4,
 "nbformat_minor": 2
}
