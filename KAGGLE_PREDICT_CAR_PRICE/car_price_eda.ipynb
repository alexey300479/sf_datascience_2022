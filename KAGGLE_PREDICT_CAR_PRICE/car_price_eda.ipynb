{
 "cells": [
  {
   "cell_type": "code",
   "execution_count": 1,
   "metadata": {},
   "outputs": [],
   "source": [
    "import pandas as pd\n",
    "import numpy as np\n",
    "import matplotlib.pyplot as plt\n",
    "import seaborn as sns\n",
    "import dtale\n",
    "\n",
    "%matplotlib inline"
   ]
  },
  {
   "cell_type": "code",
   "execution_count": 2,
   "metadata": {},
   "outputs": [],
   "source": [
    "train_data = pd.read_csv('train_data.csv')"
   ]
  },
  {
   "cell_type": "code",
   "execution_count": 3,
   "metadata": {},
   "outputs": [
    {
     "data": {
      "text/html": [
       "<div>\n",
       "<style scoped>\n",
       "    .dataframe tbody tr th:only-of-type {\n",
       "        vertical-align: middle;\n",
       "    }\n",
       "\n",
       "    .dataframe tbody tr th {\n",
       "        vertical-align: top;\n",
       "    }\n",
       "\n",
       "    .dataframe thead th {\n",
       "        text-align: right;\n",
       "    }\n",
       "</style>\n",
       "<table border=\"1\" class=\"dataframe\">\n",
       "  <thead>\n",
       "    <tr style=\"text-align: right;\">\n",
       "      <th></th>\n",
       "      <th>row_ID</th>\n",
       "      <th>vehicle_manufacturer</th>\n",
       "      <th>vehicle_model</th>\n",
       "      <th>vehicle_category</th>\n",
       "      <th>current_mileage</th>\n",
       "      <th>vehicle_year</th>\n",
       "      <th>vehicle_gearbox_type</th>\n",
       "      <th>doors_cnt</th>\n",
       "      <th>wheels</th>\n",
       "      <th>vehicle_color</th>\n",
       "      <th>vehicle_interior_color</th>\n",
       "      <th>car_vin</th>\n",
       "      <th>car_leather_interior</th>\n",
       "      <th>deal_type</th>\n",
       "      <th>final_price</th>\n",
       "    </tr>\n",
       "  </thead>\n",
       "  <tbody>\n",
       "    <tr>\n",
       "      <th>0</th>\n",
       "      <td>0</td>\n",
       "      <td>TOYOTA</td>\n",
       "      <td>Aqua s</td>\n",
       "      <td>Sedan</td>\n",
       "      <td>133000</td>\n",
       "      <td>2014</td>\n",
       "      <td>Automatic</td>\n",
       "      <td>4/5</td>\n",
       "      <td>Right-hand drive</td>\n",
       "      <td>Silver</td>\n",
       "      <td>Black</td>\n",
       "      <td>NaN</td>\n",
       "      <td>0</td>\n",
       "      <td>For Sale</td>\n",
       "      <td>3650.0</td>\n",
       "    </tr>\n",
       "    <tr>\n",
       "      <th>1</th>\n",
       "      <td>1</td>\n",
       "      <td>MERCEDES-BENZ</td>\n",
       "      <td>C 220</td>\n",
       "      <td>Sedan</td>\n",
       "      <td>24500</td>\n",
       "      <td>2010</td>\n",
       "      <td>Manual</td>\n",
       "      <td>4/5</td>\n",
       "      <td>Left wheel</td>\n",
       "      <td>Silver</td>\n",
       "      <td>Black</td>\n",
       "      <td>NaN</td>\n",
       "      <td>0</td>\n",
       "      <td>For Sale</td>\n",
       "      <td>6800.0</td>\n",
       "    </tr>\n",
       "    <tr>\n",
       "      <th>2</th>\n",
       "      <td>2</td>\n",
       "      <td>HYUNDAI</td>\n",
       "      <td>Veloster</td>\n",
       "      <td>Hatchback</td>\n",
       "      <td>31000</td>\n",
       "      <td>2016</td>\n",
       "      <td>Tiptronic</td>\n",
       "      <td>2/3</td>\n",
       "      <td>Left wheel</td>\n",
       "      <td>Silver</td>\n",
       "      <td>Black</td>\n",
       "      <td>KMHTC6AE3GU293912</td>\n",
       "      <td>1</td>\n",
       "      <td>For Sale</td>\n",
       "      <td>6300.0</td>\n",
       "    </tr>\n",
       "    <tr>\n",
       "      <th>3</th>\n",
       "      <td>3</td>\n",
       "      <td>HYUNDAI</td>\n",
       "      <td>Santa FE</td>\n",
       "      <td>Jeep</td>\n",
       "      <td>115459</td>\n",
       "      <td>2015</td>\n",
       "      <td>Automatic</td>\n",
       "      <td>4/5</td>\n",
       "      <td>Left wheel</td>\n",
       "      <td>Blue</td>\n",
       "      <td>Black</td>\n",
       "      <td>NaN</td>\n",
       "      <td>1</td>\n",
       "      <td>For Sale</td>\n",
       "      <td>14488.0</td>\n",
       "    </tr>\n",
       "    <tr>\n",
       "      <th>4</th>\n",
       "      <td>4</td>\n",
       "      <td>TOYOTA</td>\n",
       "      <td>CHR</td>\n",
       "      <td>Jeep</td>\n",
       "      <td>18950</td>\n",
       "      <td>2019</td>\n",
       "      <td>Automatic</td>\n",
       "      <td>4/5</td>\n",
       "      <td>Left wheel</td>\n",
       "      <td>Black</td>\n",
       "      <td>NaN</td>\n",
       "      <td>JTNKHMBX7K1030253</td>\n",
       "      <td>1</td>\n",
       "      <td>For Sale</td>\n",
       "      <td>5000.0</td>\n",
       "    </tr>\n",
       "    <tr>\n",
       "      <th>...</th>\n",
       "      <td>...</td>\n",
       "      <td>...</td>\n",
       "      <td>...</td>\n",
       "      <td>...</td>\n",
       "      <td>...</td>\n",
       "      <td>...</td>\n",
       "      <td>...</td>\n",
       "      <td>...</td>\n",
       "      <td>...</td>\n",
       "      <td>...</td>\n",
       "      <td>...</td>\n",
       "      <td>...</td>\n",
       "      <td>...</td>\n",
       "      <td>...</td>\n",
       "      <td>...</td>\n",
       "    </tr>\n",
       "    <tr>\n",
       "      <th>34995</th>\n",
       "      <td>34995</td>\n",
       "      <td>FORD</td>\n",
       "      <td>Fusion</td>\n",
       "      <td>Sedan</td>\n",
       "      <td>87579</td>\n",
       "      <td>2013</td>\n",
       "      <td>Automatic</td>\n",
       "      <td>4/5</td>\n",
       "      <td>Left wheel</td>\n",
       "      <td>Black</td>\n",
       "      <td>NaN</td>\n",
       "      <td>3FA6P0K98DR308742</td>\n",
       "      <td>1</td>\n",
       "      <td>For Sale</td>\n",
       "      <td>6000.0</td>\n",
       "    </tr>\n",
       "    <tr>\n",
       "      <th>34996</th>\n",
       "      <td>34996</td>\n",
       "      <td>SSANGYONG</td>\n",
       "      <td>REXTON</td>\n",
       "      <td>Jeep</td>\n",
       "      <td>116092</td>\n",
       "      <td>2009</td>\n",
       "      <td>Automatic</td>\n",
       "      <td>4/5</td>\n",
       "      <td>Left wheel</td>\n",
       "      <td>Silver</td>\n",
       "      <td>Black</td>\n",
       "      <td>NaN</td>\n",
       "      <td>1</td>\n",
       "      <td>For Sale</td>\n",
       "      <td>9642.0</td>\n",
       "    </tr>\n",
       "    <tr>\n",
       "      <th>34997</th>\n",
       "      <td>34997</td>\n",
       "      <td>BMW</td>\n",
       "      <td>635</td>\n",
       "      <td>Sedan</td>\n",
       "      <td>43000</td>\n",
       "      <td>2015</td>\n",
       "      <td>Tiptronic</td>\n",
       "      <td>4/5</td>\n",
       "      <td>Left wheel</td>\n",
       "      <td>Grey</td>\n",
       "      <td>Grey</td>\n",
       "      <td>NaN</td>\n",
       "      <td>1</td>\n",
       "      <td>For Sale</td>\n",
       "      <td>23500.0</td>\n",
       "    </tr>\n",
       "    <tr>\n",
       "      <th>34998</th>\n",
       "      <td>34998</td>\n",
       "      <td>HYUNDAI</td>\n",
       "      <td>Tucson</td>\n",
       "      <td>Jeep</td>\n",
       "      <td>82139</td>\n",
       "      <td>2015</td>\n",
       "      <td>Automatic</td>\n",
       "      <td>4/5</td>\n",
       "      <td>Left wheel</td>\n",
       "      <td>White</td>\n",
       "      <td>Black</td>\n",
       "      <td>NaN</td>\n",
       "      <td>1</td>\n",
       "      <td>For Sale</td>\n",
       "      <td>12826.0</td>\n",
       "    </tr>\n",
       "    <tr>\n",
       "      <th>34999</th>\n",
       "      <td>34999</td>\n",
       "      <td>TOYOTA</td>\n",
       "      <td>Avalon</td>\n",
       "      <td>Sedan</td>\n",
       "      <td>237178</td>\n",
       "      <td>2015</td>\n",
       "      <td>Automatic</td>\n",
       "      <td>4/5</td>\n",
       "      <td>Left wheel</td>\n",
       "      <td>Blue</td>\n",
       "      <td>Black</td>\n",
       "      <td>NaN</td>\n",
       "      <td>1</td>\n",
       "      <td>For Sale</td>\n",
       "      <td>1050.0</td>\n",
       "    </tr>\n",
       "  </tbody>\n",
       "</table>\n",
       "<p>35000 rows × 15 columns</p>\n",
       "</div>"
      ],
      "text/plain": [
       "       row_ID vehicle_manufacturer vehicle_model vehicle_category  \\\n",
       "0           0               TOYOTA        Aqua s            Sedan   \n",
       "1           1        MERCEDES-BENZ         C 220            Sedan   \n",
       "2           2              HYUNDAI      Veloster        Hatchback   \n",
       "3           3              HYUNDAI      Santa FE             Jeep   \n",
       "4           4               TOYOTA           CHR             Jeep   \n",
       "...       ...                  ...           ...              ...   \n",
       "34995   34995                 FORD        Fusion            Sedan   \n",
       "34996   34996            SSANGYONG        REXTON             Jeep   \n",
       "34997   34997                  BMW           635            Sedan   \n",
       "34998   34998              HYUNDAI        Tucson             Jeep   \n",
       "34999   34999               TOYOTA        Avalon            Sedan   \n",
       "\n",
       "       current_mileage  vehicle_year vehicle_gearbox_type doors_cnt  \\\n",
       "0               133000          2014            Automatic       4/5   \n",
       "1                24500          2010               Manual       4/5   \n",
       "2                31000          2016            Tiptronic       2/3   \n",
       "3               115459          2015            Automatic       4/5   \n",
       "4                18950          2019            Automatic       4/5   \n",
       "...                ...           ...                  ...       ...   \n",
       "34995            87579          2013            Automatic       4/5   \n",
       "34996           116092          2009            Automatic       4/5   \n",
       "34997            43000          2015            Tiptronic       4/5   \n",
       "34998            82139          2015            Automatic       4/5   \n",
       "34999           237178          2015            Automatic       4/5   \n",
       "\n",
       "                      wheels vehicle_color vehicle_interior_color  \\\n",
       "0        Right-hand drive          Silver                  Black    \n",
       "1               Left wheel         Silver                  Black    \n",
       "2               Left wheel         Silver                  Black    \n",
       "3               Left wheel           Blue                  Black    \n",
       "4               Left wheel          Black                     NaN   \n",
       "...                      ...           ...                    ...   \n",
       "34995           Left wheel          Black                     NaN   \n",
       "34996           Left wheel         Silver                  Black    \n",
       "34997           Left wheel           Grey                   Grey    \n",
       "34998           Left wheel          White                  Black    \n",
       "34999           Left wheel           Blue                  Black    \n",
       "\n",
       "                   car_vin  car_leather_interior deal_type  final_price  \n",
       "0                      NaN                     0  For Sale       3650.0  \n",
       "1                      NaN                     0  For Sale       6800.0  \n",
       "2       KMHTC6AE3GU293912                      1  For Sale       6300.0  \n",
       "3                      NaN                     1  For Sale      14488.0  \n",
       "4       JTNKHMBX7K1030253                      1  For Sale       5000.0  \n",
       "...                    ...                   ...       ...          ...  \n",
       "34995   3FA6P0K98DR308742                      1  For Sale       6000.0  \n",
       "34996                  NaN                     1  For Sale       9642.0  \n",
       "34997                  NaN                     1  For Sale      23500.0  \n",
       "34998                  NaN                     1  For Sale      12826.0  \n",
       "34999                  NaN                     1  For Sale       1050.0  \n",
       "\n",
       "[35000 rows x 15 columns]"
      ]
     },
     "metadata": {},
     "output_type": "display_data"
    },
    {
     "name": "stdout",
     "output_type": "stream",
     "text": [
      "Rows before dupicates were dropped 35000\n"
     ]
    }
   ],
   "source": [
    "display(train_data)\n",
    "rows_before_drop = train_data.shape[0]\n",
    "print(f'Rows before dupicates were dropped {rows_before_drop}')"
   ]
  },
  {
   "attachments": {},
   "cell_type": "markdown",
   "metadata": {},
   "source": [
    "## I. Для начала избавимся от дубликатов"
   ]
  },
  {
   "cell_type": "code",
   "execution_count": 4,
   "metadata": {},
   "outputs": [
    {
     "data": {
      "text/html": [
       "<div>\n",
       "<style scoped>\n",
       "    .dataframe tbody tr th:only-of-type {\n",
       "        vertical-align: middle;\n",
       "    }\n",
       "\n",
       "    .dataframe tbody tr th {\n",
       "        vertical-align: top;\n",
       "    }\n",
       "\n",
       "    .dataframe thead th {\n",
       "        text-align: right;\n",
       "    }\n",
       "</style>\n",
       "<table border=\"1\" class=\"dataframe\">\n",
       "  <thead>\n",
       "    <tr style=\"text-align: right;\">\n",
       "      <th></th>\n",
       "      <th>row_ID</th>\n",
       "      <th>vehicle_manufacturer</th>\n",
       "      <th>vehicle_model</th>\n",
       "      <th>vehicle_category</th>\n",
       "      <th>current_mileage</th>\n",
       "      <th>vehicle_year</th>\n",
       "      <th>vehicle_gearbox_type</th>\n",
       "      <th>doors_cnt</th>\n",
       "      <th>wheels</th>\n",
       "      <th>vehicle_color</th>\n",
       "      <th>vehicle_interior_color</th>\n",
       "      <th>car_vin</th>\n",
       "      <th>car_leather_interior</th>\n",
       "      <th>deal_type</th>\n",
       "      <th>final_price</th>\n",
       "    </tr>\n",
       "  </thead>\n",
       "  <tbody>\n",
       "    <tr>\n",
       "      <th>0</th>\n",
       "      <td>0</td>\n",
       "      <td>TOYOTA</td>\n",
       "      <td>Aqua s</td>\n",
       "      <td>Sedan</td>\n",
       "      <td>133000</td>\n",
       "      <td>2014</td>\n",
       "      <td>Automatic</td>\n",
       "      <td>4/5</td>\n",
       "      <td>Right-hand drive</td>\n",
       "      <td>Silver</td>\n",
       "      <td>Black</td>\n",
       "      <td>NaN</td>\n",
       "      <td>0</td>\n",
       "      <td>For Sale</td>\n",
       "      <td>3650.0</td>\n",
       "    </tr>\n",
       "    <tr>\n",
       "      <th>1</th>\n",
       "      <td>1</td>\n",
       "      <td>MERCEDES-BENZ</td>\n",
       "      <td>C 220</td>\n",
       "      <td>Sedan</td>\n",
       "      <td>24500</td>\n",
       "      <td>2010</td>\n",
       "      <td>Manual</td>\n",
       "      <td>4/5</td>\n",
       "      <td>Left wheel</td>\n",
       "      <td>Silver</td>\n",
       "      <td>Black</td>\n",
       "      <td>NaN</td>\n",
       "      <td>0</td>\n",
       "      <td>For Sale</td>\n",
       "      <td>6800.0</td>\n",
       "    </tr>\n",
       "    <tr>\n",
       "      <th>2</th>\n",
       "      <td>2</td>\n",
       "      <td>HYUNDAI</td>\n",
       "      <td>Veloster</td>\n",
       "      <td>Hatchback</td>\n",
       "      <td>31000</td>\n",
       "      <td>2016</td>\n",
       "      <td>Tiptronic</td>\n",
       "      <td>2/3</td>\n",
       "      <td>Left wheel</td>\n",
       "      <td>Silver</td>\n",
       "      <td>Black</td>\n",
       "      <td>KMHTC6AE3GU293912</td>\n",
       "      <td>1</td>\n",
       "      <td>For Sale</td>\n",
       "      <td>6300.0</td>\n",
       "    </tr>\n",
       "    <tr>\n",
       "      <th>3</th>\n",
       "      <td>3</td>\n",
       "      <td>HYUNDAI</td>\n",
       "      <td>Santa FE</td>\n",
       "      <td>Jeep</td>\n",
       "      <td>115459</td>\n",
       "      <td>2015</td>\n",
       "      <td>Automatic</td>\n",
       "      <td>4/5</td>\n",
       "      <td>Left wheel</td>\n",
       "      <td>Blue</td>\n",
       "      <td>Black</td>\n",
       "      <td>NaN</td>\n",
       "      <td>1</td>\n",
       "      <td>For Sale</td>\n",
       "      <td>14488.0</td>\n",
       "    </tr>\n",
       "    <tr>\n",
       "      <th>4</th>\n",
       "      <td>4</td>\n",
       "      <td>TOYOTA</td>\n",
       "      <td>CHR</td>\n",
       "      <td>Jeep</td>\n",
       "      <td>18950</td>\n",
       "      <td>2019</td>\n",
       "      <td>Automatic</td>\n",
       "      <td>4/5</td>\n",
       "      <td>Left wheel</td>\n",
       "      <td>Black</td>\n",
       "      <td>NaN</td>\n",
       "      <td>JTNKHMBX7K1030253</td>\n",
       "      <td>1</td>\n",
       "      <td>For Sale</td>\n",
       "      <td>5000.0</td>\n",
       "    </tr>\n",
       "    <tr>\n",
       "      <th>...</th>\n",
       "      <td>...</td>\n",
       "      <td>...</td>\n",
       "      <td>...</td>\n",
       "      <td>...</td>\n",
       "      <td>...</td>\n",
       "      <td>...</td>\n",
       "      <td>...</td>\n",
       "      <td>...</td>\n",
       "      <td>...</td>\n",
       "      <td>...</td>\n",
       "      <td>...</td>\n",
       "      <td>...</td>\n",
       "      <td>...</td>\n",
       "      <td>...</td>\n",
       "      <td>...</td>\n",
       "    </tr>\n",
       "    <tr>\n",
       "      <th>34994</th>\n",
       "      <td>34994</td>\n",
       "      <td>BUICK</td>\n",
       "      <td>Regal</td>\n",
       "      <td>Sedan</td>\n",
       "      <td>229677</td>\n",
       "      <td>2011</td>\n",
       "      <td>Automatic</td>\n",
       "      <td>4/5</td>\n",
       "      <td>Left wheel</td>\n",
       "      <td>Silver</td>\n",
       "      <td>Black</td>\n",
       "      <td>NaN</td>\n",
       "      <td>1</td>\n",
       "      <td>For Sale</td>\n",
       "      <td>90.0</td>\n",
       "    </tr>\n",
       "    <tr>\n",
       "      <th>34995</th>\n",
       "      <td>34995</td>\n",
       "      <td>FORD</td>\n",
       "      <td>Fusion</td>\n",
       "      <td>Sedan</td>\n",
       "      <td>87579</td>\n",
       "      <td>2013</td>\n",
       "      <td>Automatic</td>\n",
       "      <td>4/5</td>\n",
       "      <td>Left wheel</td>\n",
       "      <td>Black</td>\n",
       "      <td>NaN</td>\n",
       "      <td>3FA6P0K98DR308742</td>\n",
       "      <td>1</td>\n",
       "      <td>For Sale</td>\n",
       "      <td>6000.0</td>\n",
       "    </tr>\n",
       "    <tr>\n",
       "      <th>34996</th>\n",
       "      <td>34996</td>\n",
       "      <td>SSANGYONG</td>\n",
       "      <td>REXTON</td>\n",
       "      <td>Jeep</td>\n",
       "      <td>116092</td>\n",
       "      <td>2009</td>\n",
       "      <td>Automatic</td>\n",
       "      <td>4/5</td>\n",
       "      <td>Left wheel</td>\n",
       "      <td>Silver</td>\n",
       "      <td>Black</td>\n",
       "      <td>NaN</td>\n",
       "      <td>1</td>\n",
       "      <td>For Sale</td>\n",
       "      <td>9642.0</td>\n",
       "    </tr>\n",
       "    <tr>\n",
       "      <th>34997</th>\n",
       "      <td>34997</td>\n",
       "      <td>BMW</td>\n",
       "      <td>635</td>\n",
       "      <td>Sedan</td>\n",
       "      <td>43000</td>\n",
       "      <td>2015</td>\n",
       "      <td>Tiptronic</td>\n",
       "      <td>4/5</td>\n",
       "      <td>Left wheel</td>\n",
       "      <td>Grey</td>\n",
       "      <td>Grey</td>\n",
       "      <td>NaN</td>\n",
       "      <td>1</td>\n",
       "      <td>For Sale</td>\n",
       "      <td>23500.0</td>\n",
       "    </tr>\n",
       "    <tr>\n",
       "      <th>34999</th>\n",
       "      <td>34999</td>\n",
       "      <td>TOYOTA</td>\n",
       "      <td>Avalon</td>\n",
       "      <td>Sedan</td>\n",
       "      <td>237178</td>\n",
       "      <td>2015</td>\n",
       "      <td>Automatic</td>\n",
       "      <td>4/5</td>\n",
       "      <td>Left wheel</td>\n",
       "      <td>Blue</td>\n",
       "      <td>Black</td>\n",
       "      <td>NaN</td>\n",
       "      <td>1</td>\n",
       "      <td>For Sale</td>\n",
       "      <td>1050.0</td>\n",
       "    </tr>\n",
       "  </tbody>\n",
       "</table>\n",
       "<p>26928 rows × 15 columns</p>\n",
       "</div>"
      ],
      "text/plain": [
       "       row_ID vehicle_manufacturer vehicle_model vehicle_category  \\\n",
       "0           0               TOYOTA        Aqua s            Sedan   \n",
       "1           1        MERCEDES-BENZ         C 220            Sedan   \n",
       "2           2              HYUNDAI      Veloster        Hatchback   \n",
       "3           3              HYUNDAI      Santa FE             Jeep   \n",
       "4           4               TOYOTA           CHR             Jeep   \n",
       "...       ...                  ...           ...              ...   \n",
       "34994   34994                BUICK         Regal            Sedan   \n",
       "34995   34995                 FORD        Fusion            Sedan   \n",
       "34996   34996            SSANGYONG        REXTON             Jeep   \n",
       "34997   34997                  BMW           635            Sedan   \n",
       "34999   34999               TOYOTA        Avalon            Sedan   \n",
       "\n",
       "       current_mileage  vehicle_year vehicle_gearbox_type doors_cnt  \\\n",
       "0               133000          2014            Automatic       4/5   \n",
       "1                24500          2010               Manual       4/5   \n",
       "2                31000          2016            Tiptronic       2/3   \n",
       "3               115459          2015            Automatic       4/5   \n",
       "4                18950          2019            Automatic       4/5   \n",
       "...                ...           ...                  ...       ...   \n",
       "34994           229677          2011            Automatic       4/5   \n",
       "34995            87579          2013            Automatic       4/5   \n",
       "34996           116092          2009            Automatic       4/5   \n",
       "34997            43000          2015            Tiptronic       4/5   \n",
       "34999           237178          2015            Automatic       4/5   \n",
       "\n",
       "                      wheels vehicle_color vehicle_interior_color  \\\n",
       "0        Right-hand drive          Silver                  Black    \n",
       "1               Left wheel         Silver                  Black    \n",
       "2               Left wheel         Silver                  Black    \n",
       "3               Left wheel           Blue                  Black    \n",
       "4               Left wheel          Black                     NaN   \n",
       "...                      ...           ...                    ...   \n",
       "34994           Left wheel         Silver                  Black    \n",
       "34995           Left wheel          Black                     NaN   \n",
       "34996           Left wheel         Silver                  Black    \n",
       "34997           Left wheel           Grey                   Grey    \n",
       "34999           Left wheel           Blue                  Black    \n",
       "\n",
       "                   car_vin  car_leather_interior deal_type  final_price  \n",
       "0                      NaN                     0  For Sale       3650.0  \n",
       "1                      NaN                     0  For Sale       6800.0  \n",
       "2       KMHTC6AE3GU293912                      1  For Sale       6300.0  \n",
       "3                      NaN                     1  For Sale      14488.0  \n",
       "4       JTNKHMBX7K1030253                      1  For Sale       5000.0  \n",
       "...                    ...                   ...       ...          ...  \n",
       "34994                  NaN                     1  For Sale         90.0  \n",
       "34995   3FA6P0K98DR308742                      1  For Sale       6000.0  \n",
       "34996                  NaN                     1  For Sale       9642.0  \n",
       "34997                  NaN                     1  For Sale      23500.0  \n",
       "34999                  NaN                     1  For Sale       1050.0  \n",
       "\n",
       "[26928 rows x 15 columns]"
      ]
     },
     "metadata": {},
     "output_type": "display_data"
    },
    {
     "name": "stdout",
     "output_type": "stream",
     "text": [
      "Rows before dupicates were dropped 26928\n",
      "8072 duplicates were dropped\n",
      "Part of duplicates was 23.06% of all train_data rows\n"
     ]
    }
   ],
   "source": [
    "train_data.drop_duplicates(subset=train_data.columns[1:], inplace=True)\n",
    "display(train_data)\n",
    "rows_after_drop = train_data.shape[0]\n",
    "print(f'Rows before dupicates were dropped {rows_after_drop}')\n",
    "dropped_rows_cnt = rows_before_drop - rows_after_drop\n",
    "print(f'{dropped_rows_cnt} duplicates were dropped')\n",
    "ratio = dropped_rows_cnt / rows_before_drop\n",
    "print(f'Part of duplicates was {ratio:.2%} of all train_data rows')"
   ]
  },
  {
   "attachments": {},
   "cell_type": "markdown",
   "metadata": {},
   "source": [
    "Видим, что очень большая часть данных была продублирована, что плохо для построения модели регрессии"
   ]
  },
  {
   "attachments": {},
   "cell_type": "markdown",
   "metadata": {},
   "source": [
    "Далее будем работать с данными без признака row_ID. Его прекрасно заменяет индекс датафрейма"
   ]
  },
  {
   "cell_type": "code",
   "execution_count": 5,
   "metadata": {},
   "outputs": [],
   "source": [
    "clear_train = train_data.drop(columns=['row_ID'])"
   ]
  },
  {
   "attachments": {},
   "cell_type": "markdown",
   "metadata": {},
   "source": [
    "## II. Работа с пропущенными значениями"
   ]
  },
  {
   "cell_type": "code",
   "execution_count": 6,
   "metadata": {},
   "outputs": [
    {
     "data": {
      "text/plain": [
       "car_vin                   22040\n",
       "vehicle_interior_color     2007\n",
       "doors_cnt                   370\n",
       "vehicle_color               146\n",
       "vehicle_model                 7\n",
       "vehicle_manufacturer          1\n",
       "vehicle_category              1\n",
       "vehicle_gearbox_type          1\n",
       "wheels                        1\n",
       "current_mileage               0\n",
       "vehicle_year                  0\n",
       "car_leather_interior          0\n",
       "deal_type                     0\n",
       "final_price                   0\n",
       "dtype: int64"
      ]
     },
     "execution_count": 6,
     "metadata": {},
     "output_type": "execute_result"
    }
   ],
   "source": [
    "nulls = clear_train.isna().sum().sort_values(ascending=False)\n",
    "nulls"
   ]
  },
  {
   "cell_type": "code",
   "execution_count": 7,
   "metadata": {},
   "outputs": [
    {
     "data": {
      "image/png": "[encoded data removed]",
      "text/plain": [
       "<Figure size 1000x500 with 2 Axes>"
      ]
     },
     "metadata": {},
     "output_type": "display_data"
    }
   ],
   "source": [
    "fig, ax = plt.subplots(1, 2, figsize=(10, 5))\n",
    "nulls_pct = nulls / clear_train.shape[0] * 100\n",
    "sns.barplot(y = nulls, x = nulls.index, ax=ax[0])\n",
    "ax[0].set_title('В штуках')\n",
    "sns.barplot(y = nulls_pct, x = nulls_pct.index, ax=ax[1])\n",
    "ax[1].set_title('В процентах от общего количества строк')\n",
    "for ax in fig.axes:\n",
    "    plt.sca(ax)\n",
    "    plt.xticks(rotation=90)\n",
    "\n",
    "fig.suptitle('Пропущенные значения в столбцах clear_train после удаления дубликатов', fontsize=15);\n"
   ]
  },
  {
   "attachments": {},
   "cell_type": "markdown",
   "metadata": {},
   "source": [
    "Выводы:\n",
    "1. Видим, что лидером по пропущенным значениям является свойство car_vin. Эти пропущенные значения не восстановить, но удалять более 80% данных не будем. При этом базовое решение показало, что этот признак находится на втором месте по важности для модели регрессии;\n",
    "2. На втором месте идёт vehicle_interrior_color. Здесь пропусков значительно меньше. Пробуем вариант замены пропущенных значений ниболее часто встречающимся значением, то есть модой;\n",
    "3. Следом идет признак количества дверей doors_cnt. По своей сути этот признак является категориальным и пропущенные значения также заменим на моду;\n",
    "4. С vehicle_color поступим аналогично doors_cnt;\n",
    "5. А вот строки с пропущенными данными в принаке vehicle_model можно попробовать восстановить по VIN, если в таких строках он присутствует;\n",
    "6. Вполне вероятно, что после выполнения шагов 1-5 проблемы с пропущенными значениями в признаках vehicle_manufacturer, vehicle_category, vehicle_gearbox_type, wheels решатся за счет удаления соответствующих строк. Если нет, заполним пропуски модами. "
   ]
  },
  {
   "attachments": {},
   "cell_type": "markdown",
   "metadata": {},
   "source": [
    "Нам предстоит часто заменять пропущенные значения модой. Следуя принципам DRY напишем для этого функцию:"
   ]
  },
  {
   "cell_type": "code",
   "execution_count": 8,
   "metadata": {},
   "outputs": [],
   "source": [
    "def fillna_by_mode(df, column: str) -> None:\n",
    "    \"\"\"\n",
    "    Filling missing values in 'feature' column of pandas.DataFrame df by\n",
    "    most frequent value of this column (mode),\n",
    "    prompt mission values count before and after filling,\n",
    "    and make shure of there is no missing values after that.\n",
    "\n",
    "    Args:\n",
    "        df (pandas.DataFrame): Pandas DataFrame to fill missing values \n",
    "        column (str): Column name\n",
    "    \"\"\"\n",
    "    \n",
    "    # Report values counts\n",
    "    print('Value counts:')\n",
    "    print(df[column].value_counts())\n",
    "    \n",
    "    # Report missing values count before filling\n",
    "    missing_cnt_before = df[column].isna().sum()\n",
    "    print(f'Mising value counts: {missing_cnt_before}')\n",
    "    \n",
    "    # Find most frequent value (mode)\n",
    "    mode = df[column].mode().values[0]\n",
    "    \n",
    "    # Fill missing values by most frequent value\n",
    "    df[column].fillna(mode, inplace=True)\n",
    "    \n",
    "    # Report missing values count after filling\n",
    "    missing_cnt_after = df[column].isna().sum()\n",
    "    print(f'Mising value counts: {missing_cnt_after}')\n",
    "    \n",
    "    # Zero missing values check\n",
    "    if missing_cnt_after:\n",
    "        raise RuntimeError('Missing values count is not equal zero after pandas.Series.fillna!')\n",
    "    else:\n",
    "        print(f'Missing values of {column} was filled by mode value {mode} successfully!')\n"
   ]
  },
  {
   "attachments": {},
   "cell_type": "markdown",
   "metadata": {},
   "source": [
    "Для начала посмотрим на то, как представлены данные в колонке car_vin"
   ]
  },
  {
   "cell_type": "code",
   "execution_count": 9,
   "metadata": {},
   "outputs": [
    {
     "data": {
      "text/plain": [
       "array([nan, ' KMHTC6AE3GU293912 ', ' JTNKHMBX7K1030253 ', ...,\n",
       "       ' MAJ3P1TE3JC170090 ', ' KMHDH4AE2CU413977 ',\n",
       "       ' 3FA6P0K98DR308742 '], dtype=object)"
      ]
     },
     "execution_count": 9,
     "metadata": {},
     "output_type": "execute_result"
    }
   ],
   "source": [
    "clear_train.car_vin.unique()"
   ]
  },
  {
   "attachments": {},
   "cell_type": "markdown",
   "metadata": {},
   "source": [
    "Видим, что VIN являются строками с пробелами в начале и в конце. Для экономии оперативной памяти, а также во избежание расхождений в данных из-за лишних пробелов удалим их для всех колонок с типом данных 'object'. Так как в некоторых колонках могут присутствовать пропуски, которые нужно оставить как есть для дальнейшего заполнения, напишем для этого специальную функцию, которая вдобавок приведет все строки к нижнем регистру:"
   ]
  },
  {
   "cell_type": "code",
   "execution_count": 10,
   "metadata": {},
   "outputs": [],
   "source": [
    "def clear_string_value(value: str) -> str:\n",
    "    \"\"\"\n",
    "    Remove heading and trailing spaces from value or return None if value is not str\n",
    "\n",
    "    Args:\n",
    "        value (str): input string with headinng and trailing spaces\n",
    "\n",
    "    Returns:\n",
    "        str: clear output sting or None\n",
    "    \"\"\"\n",
    "    \n",
    "    return value.strip().lower() if isinstance(value, str) else None"
   ]
  },
  {
   "cell_type": "code",
   "execution_count": 11,
   "metadata": {},
   "outputs": [],
   "source": [
    "object_cols = clear_train.select_dtypes('object').columns\n",
    "for col in object_cols:\n",
    "    clear_train[col] = clear_train[col].apply(clear_string_value)"
   ]
  },
  {
   "attachments": {},
   "cell_type": "markdown",
   "metadata": {},
   "source": [
    "1. Заменим пропущенные значения в car_vin на 'no';"
   ]
  },
  {
   "cell_type": "code",
   "execution_count": 12,
   "metadata": {},
   "outputs": [
    {
     "data": {
      "text/plain": [
       "22040"
      ]
     },
     "execution_count": 12,
     "metadata": {},
     "output_type": "execute_result"
    }
   ],
   "source": [
    "clear_train.car_vin.isna().sum()"
   ]
  },
  {
   "cell_type": "code",
   "execution_count": 13,
   "metadata": {},
   "outputs": [
    {
     "data": {
      "text/plain": [
       "0"
      ]
     },
     "execution_count": 13,
     "metadata": {},
     "output_type": "execute_result"
    }
   ],
   "source": [
    "clear_train.car_vin.fillna('no', inplace=True)\n",
    "clear_train.car_vin.isna().sum()"
   ]
  },
  {
   "attachments": {},
   "cell_type": "markdown",
   "metadata": {},
   "source": [
    "2. Заменим пропущенные значения vehicle_interior_color модой"
   ]
  },
  {
   "cell_type": "code",
   "execution_count": 14,
   "metadata": {},
   "outputs": [
    {
     "name": "stdout",
     "output_type": "stream",
     "text": [
      "Value counts:\n",
      "black            17765\n",
      "grey              3349\n",
      "beige             2003\n",
      "white              723\n",
      "brown              331\n",
      "yellow             185\n",
      "blue               177\n",
      "golden             152\n",
      "red                128\n",
      "orange              62\n",
      "carnelian red       46\n",
      "Name: vehicle_interior_color, dtype: int64\n",
      "Mising value counts: 2007\n",
      "Mising value counts: 0\n",
      "Missing values of vehicle_interior_color was filled by mode value black successfully!\n"
     ]
    }
   ],
   "source": [
    "fillna_by_mode(clear_train, 'vehicle_interior_color')"
   ]
  },
  {
   "attachments": {},
   "cell_type": "markdown",
   "metadata": {},
   "source": [
    "3. Заменим пропущенные значения признака doors_cnt модой"
   ]
  },
  {
   "cell_type": "code",
   "execution_count": 15,
   "metadata": {},
   "outputs": [
    {
     "name": "stdout",
     "output_type": "stream",
     "text": [
      "Value counts:\n",
      "4/5    24827\n",
      "2/3     1440\n",
      ">5       291\n",
      "Name: doors_cnt, dtype: int64\n",
      "Mising value counts: 370\n",
      "Mising value counts: 0\n",
      "Missing values of doors_cnt was filled by mode value 4/5 successfully!\n"
     ]
    }
   ],
   "source": [
    "fillna_by_mode(clear_train, 'doors_cnt')"
   ]
  },
  {
   "attachments": {},
   "cell_type": "markdown",
   "metadata": {},
   "source": [
    "Видим, что наиболее популярным значением явлется 4/5 и эта запись видимо означает 4 двери для седанов, 4 двери и задняя дверь для хэтчбэков и универсалов. "
   ]
  },
  {
   "attachments": {},
   "cell_type": "markdown",
   "metadata": {},
   "source": [
    "4. Так же поступаем с vehicle_color"
   ]
  },
  {
   "cell_type": "code",
   "execution_count": 16,
   "metadata": {},
   "outputs": [
    {
     "name": "stdout",
     "output_type": "stream",
     "text": [
      "Value counts:\n",
      "black            6461\n",
      "white            6156\n",
      "silver           5221\n",
      "grey             3219\n",
      "blue             2182\n",
      "red              1014\n",
      "green             567\n",
      "carnelian red     360\n",
      "brown             327\n",
      "beige             275\n",
      "orange            251\n",
      "golden            246\n",
      "sky blue          244\n",
      "yellow            151\n",
      "purple             62\n",
      "pink               46\n",
      "Name: vehicle_color, dtype: int64\n",
      "Mising value counts: 146\n",
      "Mising value counts: 0\n",
      "Missing values of vehicle_color was filled by mode value black successfully!\n"
     ]
    }
   ],
   "source": [
    "fillna_by_mode(clear_train, 'vehicle_color')"
   ]
  },
  {
   "attachments": {},
   "cell_type": "markdown",
   "metadata": {},
   "source": [
    "5. Избавимся от пропусков в vehicle_model.\n",
    "\n",
    "Для начала посмотрим какие вообще есть данные для записей с пропущенными значениями в этой колонке"
   ]
  },
  {
   "cell_type": "code",
   "execution_count": 17,
   "metadata": {},
   "outputs": [
    {
     "data": {
      "text/html": [
       "<div>\n",
       "<style scoped>\n",
       "    .dataframe tbody tr th:only-of-type {\n",
       "        vertical-align: middle;\n",
       "    }\n",
       "\n",
       "    .dataframe tbody tr th {\n",
       "        vertical-align: top;\n",
       "    }\n",
       "\n",
       "    .dataframe thead th {\n",
       "        text-align: right;\n",
       "    }\n",
       "</style>\n",
       "<table border=\"1\" class=\"dataframe\">\n",
       "  <thead>\n",
       "    <tr style=\"text-align: right;\">\n",
       "      <th></th>\n",
       "      <th>vehicle_manufacturer</th>\n",
       "      <th>vehicle_model</th>\n",
       "      <th>vehicle_category</th>\n",
       "      <th>current_mileage</th>\n",
       "      <th>vehicle_year</th>\n",
       "      <th>vehicle_gearbox_type</th>\n",
       "      <th>doors_cnt</th>\n",
       "      <th>wheels</th>\n",
       "      <th>vehicle_color</th>\n",
       "      <th>vehicle_interior_color</th>\n",
       "      <th>car_vin</th>\n",
       "      <th>car_leather_interior</th>\n",
       "      <th>deal_type</th>\n",
       "      <th>final_price</th>\n",
       "    </tr>\n",
       "  </thead>\n",
       "  <tbody>\n",
       "    <tr>\n",
       "      <th>6300</th>\n",
       "      <td>სხვა</td>\n",
       "      <td>None</td>\n",
       "      <td>universal</td>\n",
       "      <td>0</td>\n",
       "      <td>2007</td>\n",
       "      <td>tiptronic</td>\n",
       "      <td>2/3</td>\n",
       "      <td>left wheel</td>\n",
       "      <td>blue</td>\n",
       "      <td>black</td>\n",
       "      <td>no</td>\n",
       "      <td>1</td>\n",
       "      <td>for sale</td>\n",
       "      <td>2500.0</td>\n",
       "    </tr>\n",
       "    <tr>\n",
       "      <th>11796</th>\n",
       "      <td>honda</td>\n",
       "      <td>None</td>\n",
       "      <td>hatchback</td>\n",
       "      <td>168900</td>\n",
       "      <td>2012</td>\n",
       "      <td>automatic</td>\n",
       "      <td>4/5</td>\n",
       "      <td>right-hand drive</td>\n",
       "      <td>white</td>\n",
       "      <td>black</td>\n",
       "      <td>no</td>\n",
       "      <td>1</td>\n",
       "      <td>for sale</td>\n",
       "      <td>4200.0</td>\n",
       "    </tr>\n",
       "    <tr>\n",
       "      <th>14755</th>\n",
       "      <td>სხვა</td>\n",
       "      <td>None</td>\n",
       "      <td>limousine</td>\n",
       "      <td>400</td>\n",
       "      <td>2019</td>\n",
       "      <td>automatic</td>\n",
       "      <td>&gt;5</td>\n",
       "      <td>left wheel</td>\n",
       "      <td>white</td>\n",
       "      <td>black</td>\n",
       "      <td>no</td>\n",
       "      <td>1</td>\n",
       "      <td>for sale</td>\n",
       "      <td>14500.0</td>\n",
       "    </tr>\n",
       "    <tr>\n",
       "      <th>17918</th>\n",
       "      <td>None</td>\n",
       "      <td>None</td>\n",
       "      <td>None</td>\n",
       "      <td>0</td>\n",
       "      <td>0</td>\n",
       "      <td>None</td>\n",
       "      <td>4/5</td>\n",
       "      <td>None</td>\n",
       "      <td>black</td>\n",
       "      <td>black</td>\n",
       "      <td>no</td>\n",
       "      <td>0</td>\n",
       "      <td>for sale</td>\n",
       "      <td>0.0</td>\n",
       "    </tr>\n",
       "    <tr>\n",
       "      <th>20642</th>\n",
       "      <td>jac</td>\n",
       "      <td>None</td>\n",
       "      <td>microbus</td>\n",
       "      <td>1000</td>\n",
       "      <td>2019</td>\n",
       "      <td>manual</td>\n",
       "      <td>4/5</td>\n",
       "      <td>left wheel</td>\n",
       "      <td>white</td>\n",
       "      <td>grey</td>\n",
       "      <td>no</td>\n",
       "      <td>1</td>\n",
       "      <td>for sale</td>\n",
       "      <td>22500.0</td>\n",
       "    </tr>\n",
       "    <tr>\n",
       "      <th>22563</th>\n",
       "      <td>სხვა</td>\n",
       "      <td>None</td>\n",
       "      <td>sedan</td>\n",
       "      <td>32895</td>\n",
       "      <td>1972</td>\n",
       "      <td>manual</td>\n",
       "      <td>4/5</td>\n",
       "      <td>left wheel</td>\n",
       "      <td>green</td>\n",
       "      <td>beige</td>\n",
       "      <td>no</td>\n",
       "      <td>0</td>\n",
       "      <td>for sale</td>\n",
       "      <td>1.0</td>\n",
       "    </tr>\n",
       "    <tr>\n",
       "      <th>32928</th>\n",
       "      <td>foton</td>\n",
       "      <td>None</td>\n",
       "      <td>sedan</td>\n",
       "      <td>100000</td>\n",
       "      <td>2001</td>\n",
       "      <td>manual</td>\n",
       "      <td>4/5</td>\n",
       "      <td>left wheel</td>\n",
       "      <td>green</td>\n",
       "      <td>golden</td>\n",
       "      <td>no</td>\n",
       "      <td>0</td>\n",
       "      <td>for sale</td>\n",
       "      <td>223.0</td>\n",
       "    </tr>\n",
       "  </tbody>\n",
       "</table>\n",
       "</div>"
      ],
      "text/plain": [
       "      vehicle_manufacturer vehicle_model vehicle_category  current_mileage  \\\n",
       "6300                  სხვა          None        universal                0   \n",
       "11796                honda          None        hatchback           168900   \n",
       "14755                 სხვა          None        limousine              400   \n",
       "17918                 None          None             None                0   \n",
       "20642                  jac          None         microbus             1000   \n",
       "22563                 სხვა          None            sedan            32895   \n",
       "32928                foton          None            sedan           100000   \n",
       "\n",
       "       vehicle_year vehicle_gearbox_type doors_cnt            wheels  \\\n",
       "6300           2007            tiptronic       2/3        left wheel   \n",
       "11796          2012            automatic       4/5  right-hand drive   \n",
       "14755          2019            automatic        >5        left wheel   \n",
       "17918             0                 None       4/5              None   \n",
       "20642          2019               manual       4/5        left wheel   \n",
       "22563          1972               manual       4/5        left wheel   \n",
       "32928          2001               manual       4/5        left wheel   \n",
       "\n",
       "      vehicle_color vehicle_interior_color car_vin  car_leather_interior  \\\n",
       "6300           blue                  black      no                     1   \n",
       "11796         white                  black      no                     1   \n",
       "14755         white                  black      no                     1   \n",
       "17918         black                  black      no                     0   \n",
       "20642         white                   grey      no                     1   \n",
       "22563         green                  beige      no                     0   \n",
       "32928         green                 golden      no                     0   \n",
       "\n",
       "      deal_type  final_price  \n",
       "6300   for sale       2500.0  \n",
       "11796  for sale       4200.0  \n",
       "14755  for sale      14500.0  \n",
       "17918  for sale          0.0  \n",
       "20642  for sale      22500.0  \n",
       "22563  for sale          1.0  \n",
       "32928  for sale        223.0  "
      ]
     },
     "execution_count": 17,
     "metadata": {},
     "output_type": "execute_result"
    }
   ],
   "source": [
    "clear_train[clear_train.vehicle_model.isna()]"
   ]
  },
  {
   "attachments": {},
   "cell_type": "markdown",
   "metadata": {},
   "source": [
    "А вот это уже интересно! Итак наблюдаем:\n",
    "1. В строке с индексом 17918 практически все данные отсутствуют и цена стоит нулевая. Такая информация точно не пригодится при обучении модели. Тут явный шум. Заодно видим, что в колонке final_price есть значения, выбивающиеся из общего ряда. Но это предмет для дальшейшей очистки данных от выбросов. А пока удалим эту строку."
   ]
  },
  {
   "cell_type": "code",
   "execution_count": 18,
   "metadata": {},
   "outputs": [],
   "source": [
    "clear_train.drop([17918], axis='rows', inplace=True)"
   ]
  },
  {
   "attachments": {},
   "cell_type": "markdown",
   "metadata": {},
   "source": [
    "Посмотрим на строки с пропущенными моделями еще раз:"
   ]
  },
  {
   "cell_type": "code",
   "execution_count": 19,
   "metadata": {},
   "outputs": [
    {
     "data": {
      "text/html": [
       "<div>\n",
       "<style scoped>\n",
       "    .dataframe tbody tr th:only-of-type {\n",
       "        vertical-align: middle;\n",
       "    }\n",
       "\n",
       "    .dataframe tbody tr th {\n",
       "        vertical-align: top;\n",
       "    }\n",
       "\n",
       "    .dataframe thead th {\n",
       "        text-align: right;\n",
       "    }\n",
       "</style>\n",
       "<table border=\"1\" class=\"dataframe\">\n",
       "  <thead>\n",
       "    <tr style=\"text-align: right;\">\n",
       "      <th></th>\n",
       "      <th>vehicle_manufacturer</th>\n",
       "      <th>vehicle_model</th>\n",
       "      <th>vehicle_category</th>\n",
       "      <th>current_mileage</th>\n",
       "      <th>vehicle_year</th>\n",
       "      <th>vehicle_gearbox_type</th>\n",
       "      <th>doors_cnt</th>\n",
       "      <th>wheels</th>\n",
       "      <th>vehicle_color</th>\n",
       "      <th>vehicle_interior_color</th>\n",
       "      <th>car_vin</th>\n",
       "      <th>car_leather_interior</th>\n",
       "      <th>deal_type</th>\n",
       "      <th>final_price</th>\n",
       "    </tr>\n",
       "  </thead>\n",
       "  <tbody>\n",
       "    <tr>\n",
       "      <th>6300</th>\n",
       "      <td>სხვა</td>\n",
       "      <td>None</td>\n",
       "      <td>universal</td>\n",
       "      <td>0</td>\n",
       "      <td>2007</td>\n",
       "      <td>tiptronic</td>\n",
       "      <td>2/3</td>\n",
       "      <td>left wheel</td>\n",
       "      <td>blue</td>\n",
       "      <td>black</td>\n",
       "      <td>no</td>\n",
       "      <td>1</td>\n",
       "      <td>for sale</td>\n",
       "      <td>2500.0</td>\n",
       "    </tr>\n",
       "    <tr>\n",
       "      <th>11796</th>\n",
       "      <td>honda</td>\n",
       "      <td>None</td>\n",
       "      <td>hatchback</td>\n",
       "      <td>168900</td>\n",
       "      <td>2012</td>\n",
       "      <td>automatic</td>\n",
       "      <td>4/5</td>\n",
       "      <td>right-hand drive</td>\n",
       "      <td>white</td>\n",
       "      <td>black</td>\n",
       "      <td>no</td>\n",
       "      <td>1</td>\n",
       "      <td>for sale</td>\n",
       "      <td>4200.0</td>\n",
       "    </tr>\n",
       "    <tr>\n",
       "      <th>14755</th>\n",
       "      <td>სხვა</td>\n",
       "      <td>None</td>\n",
       "      <td>limousine</td>\n",
       "      <td>400</td>\n",
       "      <td>2019</td>\n",
       "      <td>automatic</td>\n",
       "      <td>&gt;5</td>\n",
       "      <td>left wheel</td>\n",
       "      <td>white</td>\n",
       "      <td>black</td>\n",
       "      <td>no</td>\n",
       "      <td>1</td>\n",
       "      <td>for sale</td>\n",
       "      <td>14500.0</td>\n",
       "    </tr>\n",
       "    <tr>\n",
       "      <th>20642</th>\n",
       "      <td>jac</td>\n",
       "      <td>None</td>\n",
       "      <td>microbus</td>\n",
       "      <td>1000</td>\n",
       "      <td>2019</td>\n",
       "      <td>manual</td>\n",
       "      <td>4/5</td>\n",
       "      <td>left wheel</td>\n",
       "      <td>white</td>\n",
       "      <td>grey</td>\n",
       "      <td>no</td>\n",
       "      <td>1</td>\n",
       "      <td>for sale</td>\n",
       "      <td>22500.0</td>\n",
       "    </tr>\n",
       "    <tr>\n",
       "      <th>22563</th>\n",
       "      <td>სხვა</td>\n",
       "      <td>None</td>\n",
       "      <td>sedan</td>\n",
       "      <td>32895</td>\n",
       "      <td>1972</td>\n",
       "      <td>manual</td>\n",
       "      <td>4/5</td>\n",
       "      <td>left wheel</td>\n",
       "      <td>green</td>\n",
       "      <td>beige</td>\n",
       "      <td>no</td>\n",
       "      <td>0</td>\n",
       "      <td>for sale</td>\n",
       "      <td>1.0</td>\n",
       "    </tr>\n",
       "    <tr>\n",
       "      <th>32928</th>\n",
       "      <td>foton</td>\n",
       "      <td>None</td>\n",
       "      <td>sedan</td>\n",
       "      <td>100000</td>\n",
       "      <td>2001</td>\n",
       "      <td>manual</td>\n",
       "      <td>4/5</td>\n",
       "      <td>left wheel</td>\n",
       "      <td>green</td>\n",
       "      <td>golden</td>\n",
       "      <td>no</td>\n",
       "      <td>0</td>\n",
       "      <td>for sale</td>\n",
       "      <td>223.0</td>\n",
       "    </tr>\n",
       "  </tbody>\n",
       "</table>\n",
       "</div>"
      ],
      "text/plain": [
       "      vehicle_manufacturer vehicle_model vehicle_category  current_mileage  \\\n",
       "6300                  სხვა          None        universal                0   \n",
       "11796                honda          None        hatchback           168900   \n",
       "14755                 სხვა          None        limousine              400   \n",
       "20642                  jac          None         microbus             1000   \n",
       "22563                 სხვა          None            sedan            32895   \n",
       "32928                foton          None            sedan           100000   \n",
       "\n",
       "       vehicle_year vehicle_gearbox_type doors_cnt            wheels  \\\n",
       "6300           2007            tiptronic       2/3        left wheel   \n",
       "11796          2012            automatic       4/5  right-hand drive   \n",
       "14755          2019            automatic        >5        left wheel   \n",
       "20642          2019               manual       4/5        left wheel   \n",
       "22563          1972               manual       4/5        left wheel   \n",
       "32928          2001               manual       4/5        left wheel   \n",
       "\n",
       "      vehicle_color vehicle_interior_color car_vin  car_leather_interior  \\\n",
       "6300           blue                  black      no                     1   \n",
       "11796         white                  black      no                     1   \n",
       "14755         white                  black      no                     1   \n",
       "20642         white                   grey      no                     1   \n",
       "22563         green                  beige      no                     0   \n",
       "32928         green                 golden      no                     0   \n",
       "\n",
       "      deal_type  final_price  \n",
       "6300   for sale       2500.0  \n",
       "11796  for sale       4200.0  \n",
       "14755  for sale      14500.0  \n",
       "20642  for sale      22500.0  \n",
       "22563  for sale          1.0  \n",
       "32928  for sale        223.0  "
      ]
     },
     "execution_count": 19,
     "metadata": {},
     "output_type": "execute_result"
    }
   ],
   "source": [
    "clear_train[clear_train.vehicle_model.isna()]\n"
   ]
  },
  {
   "attachments": {},
   "cell_type": "markdown",
   "metadata": {},
   "source": [
    "Видим странные записи с названием производтеля \"სხვა\". Быстрый поиск в сети показал, что это грузинский язык. А Google.Translate перевёл это слово на русский как \"другой\". Очень сомнительно, что настоящий автопроизводитель настолько локализуется, чтобы развивать бренд на грузинском языке, да еще и названием, переводящимся на русский как \"другой\". Посмотрим на все записи в датасете с таким производителем:"
   ]
  },
  {
   "cell_type": "code",
   "execution_count": 20,
   "metadata": {},
   "outputs": [
    {
     "data": {
      "text/html": [
       "<div>\n",
       "<style scoped>\n",
       "    .dataframe tbody tr th:only-of-type {\n",
       "        vertical-align: middle;\n",
       "    }\n",
       "\n",
       "    .dataframe tbody tr th {\n",
       "        vertical-align: top;\n",
       "    }\n",
       "\n",
       "    .dataframe thead th {\n",
       "        text-align: right;\n",
       "    }\n",
       "</style>\n",
       "<table border=\"1\" class=\"dataframe\">\n",
       "  <thead>\n",
       "    <tr style=\"text-align: right;\">\n",
       "      <th></th>\n",
       "      <th>vehicle_manufacturer</th>\n",
       "      <th>vehicle_model</th>\n",
       "      <th>vehicle_category</th>\n",
       "      <th>current_mileage</th>\n",
       "      <th>vehicle_year</th>\n",
       "      <th>vehicle_gearbox_type</th>\n",
       "      <th>doors_cnt</th>\n",
       "      <th>wheels</th>\n",
       "      <th>vehicle_color</th>\n",
       "      <th>vehicle_interior_color</th>\n",
       "      <th>car_vin</th>\n",
       "      <th>car_leather_interior</th>\n",
       "      <th>deal_type</th>\n",
       "      <th>final_price</th>\n",
       "    </tr>\n",
       "  </thead>\n",
       "  <tbody>\n",
       "    <tr>\n",
       "      <th>6300</th>\n",
       "      <td>სხვა</td>\n",
       "      <td>None</td>\n",
       "      <td>universal</td>\n",
       "      <td>0</td>\n",
       "      <td>2007</td>\n",
       "      <td>tiptronic</td>\n",
       "      <td>2/3</td>\n",
       "      <td>left wheel</td>\n",
       "      <td>blue</td>\n",
       "      <td>black</td>\n",
       "      <td>no</td>\n",
       "      <td>1</td>\n",
       "      <td>for sale</td>\n",
       "      <td>2500.0</td>\n",
       "    </tr>\n",
       "    <tr>\n",
       "      <th>8931</th>\n",
       "      <td>სხვა</td>\n",
       "      <td>lt103mcq1</td>\n",
       "      <td>pickup</td>\n",
       "      <td>500</td>\n",
       "      <td>2016</td>\n",
       "      <td>manual</td>\n",
       "      <td>4/5</td>\n",
       "      <td>left wheel</td>\n",
       "      <td>white</td>\n",
       "      <td>grey</td>\n",
       "      <td>no</td>\n",
       "      <td>0</td>\n",
       "      <td>for sale</td>\n",
       "      <td>12800.0</td>\n",
       "    </tr>\n",
       "    <tr>\n",
       "      <th>14755</th>\n",
       "      <td>სხვა</td>\n",
       "      <td>None</td>\n",
       "      <td>limousine</td>\n",
       "      <td>400</td>\n",
       "      <td>2019</td>\n",
       "      <td>automatic</td>\n",
       "      <td>&gt;5</td>\n",
       "      <td>left wheel</td>\n",
       "      <td>white</td>\n",
       "      <td>black</td>\n",
       "      <td>no</td>\n",
       "      <td>1</td>\n",
       "      <td>for sale</td>\n",
       "      <td>14500.0</td>\n",
       "    </tr>\n",
       "    <tr>\n",
       "      <th>18638</th>\n",
       "      <td>სხვა</td>\n",
       "      <td>iamaha</td>\n",
       "      <td>coupe</td>\n",
       "      <td>123456</td>\n",
       "      <td>2017</td>\n",
       "      <td>automatic</td>\n",
       "      <td>2/3</td>\n",
       "      <td>left wheel</td>\n",
       "      <td>red</td>\n",
       "      <td>black</td>\n",
       "      <td>no</td>\n",
       "      <td>0</td>\n",
       "      <td>for sale</td>\n",
       "      <td>446.0</td>\n",
       "    </tr>\n",
       "    <tr>\n",
       "      <th>22563</th>\n",
       "      <td>სხვა</td>\n",
       "      <td>None</td>\n",
       "      <td>sedan</td>\n",
       "      <td>32895</td>\n",
       "      <td>1972</td>\n",
       "      <td>manual</td>\n",
       "      <td>4/5</td>\n",
       "      <td>left wheel</td>\n",
       "      <td>green</td>\n",
       "      <td>beige</td>\n",
       "      <td>no</td>\n",
       "      <td>0</td>\n",
       "      <td>for sale</td>\n",
       "      <td>1.0</td>\n",
       "    </tr>\n",
       "    <tr>\n",
       "      <th>31178</th>\n",
       "      <td>სხვა</td>\n",
       "      <td>iveco dayly</td>\n",
       "      <td>microbus</td>\n",
       "      <td>328000</td>\n",
       "      <td>2007</td>\n",
       "      <td>manual</td>\n",
       "      <td>4/5</td>\n",
       "      <td>left wheel</td>\n",
       "      <td>white</td>\n",
       "      <td>beige</td>\n",
       "      <td>no</td>\n",
       "      <td>0</td>\n",
       "      <td>for sale</td>\n",
       "      <td>8000.0</td>\n",
       "    </tr>\n",
       "  </tbody>\n",
       "</table>\n",
       "</div>"
      ],
      "text/plain": [
       "      vehicle_manufacturer vehicle_model vehicle_category  current_mileage  \\\n",
       "6300                  სხვა          None        universal                0   \n",
       "8931                  სხვა     lt103mcq1           pickup              500   \n",
       "14755                 სხვა          None        limousine              400   \n",
       "18638                 სხვა        iamaha            coupe           123456   \n",
       "22563                 სხვა          None            sedan            32895   \n",
       "31178                 სხვა   iveco dayly         microbus           328000   \n",
       "\n",
       "       vehicle_year vehicle_gearbox_type doors_cnt      wheels vehicle_color  \\\n",
       "6300           2007            tiptronic       2/3  left wheel          blue   \n",
       "8931           2016               manual       4/5  left wheel         white   \n",
       "14755          2019            automatic        >5  left wheel         white   \n",
       "18638          2017            automatic       2/3  left wheel           red   \n",
       "22563          1972               manual       4/5  left wheel         green   \n",
       "31178          2007               manual       4/5  left wheel         white   \n",
       "\n",
       "      vehicle_interior_color car_vin  car_leather_interior deal_type  \\\n",
       "6300                   black      no                     1  for sale   \n",
       "8931                    grey      no                     0  for sale   \n",
       "14755                  black      no                     1  for sale   \n",
       "18638                  black      no                     0  for sale   \n",
       "22563                  beige      no                     0  for sale   \n",
       "31178                  beige      no                     0  for sale   \n",
       "\n",
       "       final_price  \n",
       "6300        2500.0  \n",
       "8931       12800.0  \n",
       "14755      14500.0  \n",
       "18638        446.0  \n",
       "22563          1.0  \n",
       "31178       8000.0  "
      ]
     },
     "execution_count": 20,
     "metadata": {},
     "output_type": "execute_result"
    }
   ],
   "source": [
    "strange_cars = clear_train[clear_train.vehicle_manufacturer == 'სხვა']\n",
    "strange_cars"
   ]
  },
  {
   "attachments": {},
   "cell_type": "markdown",
   "metadata": {},
   "source": [
    "Обратим внимание на уникальные значения в колонке vehicle_model:"
   ]
  },
  {
   "cell_type": "code",
   "execution_count": 21,
   "metadata": {},
   "outputs": [
    {
     "data": {
      "text/plain": [
       "array(['lt103mcq1', 'iamaha', 'iveco dayly'], dtype=object)"
      ]
     },
     "execution_count": 21,
     "metadata": {},
     "output_type": "execute_result"
    }
   ],
   "source": [
    "strange_cars_models = strange_cars.vehicle_model.unique()[1:]\n",
    "strange_cars_models"
   ]
  },
  {
   "attachments": {},
   "cell_type": "markdown",
   "metadata": {},
   "source": [
    "Посмотрим, а есть ли в базе записи с такими моделями, в которых указан производитель."
   ]
  },
  {
   "cell_type": "code",
   "execution_count": 22,
   "metadata": {},
   "outputs": [
    {
     "name": "stdout",
     "output_type": "stream",
     "text": [
      "Unique manufacturers for model lt103mcq1:\n",
      "['სხვა']\n",
      "\n",
      "Unique manufacturers for model iamaha:\n",
      "['სხვა']\n",
      "\n",
      "Unique manufacturers for model iveco dayly:\n",
      "['სხვა']\n",
      "\n"
     ]
    }
   ],
   "source": [
    "for strange_car_model in strange_cars_models:\n",
    "    print(f'Unique manufacturers for model {strange_car_model}:')\n",
    "    print(clear_train[clear_train['vehicle_model'] == strange_car_model]['vehicle_manufacturer'].unique())\n",
    "    print()"
   ]
  },
  {
   "attachments": {},
   "cell_type": "markdown",
   "metadata": {},
   "source": [
    "Видим, что производитель у всех указан один, тот самый с грузинским названием, переводящимся как \"другой\"."
   ]
  },
  {
   "attachments": {},
   "cell_type": "markdown",
   "metadata": {},
   "source": [
    "Производителей по двум из этих записей можно восстановить:\n",
    "\n",
    "Индекс 8931 модель LT103MCQ1 соответствует лёгкому грузовику от китайской компании Fude\n",
    "Индекс 31178 название производителя следует из названия модели и это IVECO\n",
    "\n",
    "Сделаем соответствующие замены в ручном режиме"
   ]
  },
  {
   "cell_type": "code",
   "execution_count": 23,
   "metadata": {},
   "outputs": [],
   "source": [
    "clear_train.loc[8931, 'vehicle_manufacturer'] = 'fude'\n",
    "clear_train.loc[31178, 'vehicle_manufacturer'] = 'iveco'\n"
   ]
  },
  {
   "attachments": {},
   "cell_type": "markdown",
   "metadata": {},
   "source": [
    "Посмотрим на то, что осталось:"
   ]
  },
  {
   "cell_type": "code",
   "execution_count": 24,
   "metadata": {},
   "outputs": [
    {
     "data": {
      "text/html": [
       "<div>\n",
       "<style scoped>\n",
       "    .dataframe tbody tr th:only-of-type {\n",
       "        vertical-align: middle;\n",
       "    }\n",
       "\n",
       "    .dataframe tbody tr th {\n",
       "        vertical-align: top;\n",
       "    }\n",
       "\n",
       "    .dataframe thead th {\n",
       "        text-align: right;\n",
       "    }\n",
       "</style>\n",
       "<table border=\"1\" class=\"dataframe\">\n",
       "  <thead>\n",
       "    <tr style=\"text-align: right;\">\n",
       "      <th></th>\n",
       "      <th>vehicle_manufacturer</th>\n",
       "      <th>vehicle_model</th>\n",
       "      <th>vehicle_category</th>\n",
       "      <th>current_mileage</th>\n",
       "      <th>vehicle_year</th>\n",
       "      <th>vehicle_gearbox_type</th>\n",
       "      <th>doors_cnt</th>\n",
       "      <th>wheels</th>\n",
       "      <th>vehicle_color</th>\n",
       "      <th>vehicle_interior_color</th>\n",
       "      <th>car_vin</th>\n",
       "      <th>car_leather_interior</th>\n",
       "      <th>deal_type</th>\n",
       "      <th>final_price</th>\n",
       "    </tr>\n",
       "  </thead>\n",
       "  <tbody>\n",
       "    <tr>\n",
       "      <th>6300</th>\n",
       "      <td>სხვა</td>\n",
       "      <td>None</td>\n",
       "      <td>universal</td>\n",
       "      <td>0</td>\n",
       "      <td>2007</td>\n",
       "      <td>tiptronic</td>\n",
       "      <td>2/3</td>\n",
       "      <td>left wheel</td>\n",
       "      <td>blue</td>\n",
       "      <td>black</td>\n",
       "      <td>no</td>\n",
       "      <td>1</td>\n",
       "      <td>for sale</td>\n",
       "      <td>2500.0</td>\n",
       "    </tr>\n",
       "    <tr>\n",
       "      <th>14755</th>\n",
       "      <td>სხვა</td>\n",
       "      <td>None</td>\n",
       "      <td>limousine</td>\n",
       "      <td>400</td>\n",
       "      <td>2019</td>\n",
       "      <td>automatic</td>\n",
       "      <td>&gt;5</td>\n",
       "      <td>left wheel</td>\n",
       "      <td>white</td>\n",
       "      <td>black</td>\n",
       "      <td>no</td>\n",
       "      <td>1</td>\n",
       "      <td>for sale</td>\n",
       "      <td>14500.0</td>\n",
       "    </tr>\n",
       "    <tr>\n",
       "      <th>18638</th>\n",
       "      <td>სხვა</td>\n",
       "      <td>iamaha</td>\n",
       "      <td>coupe</td>\n",
       "      <td>123456</td>\n",
       "      <td>2017</td>\n",
       "      <td>automatic</td>\n",
       "      <td>2/3</td>\n",
       "      <td>left wheel</td>\n",
       "      <td>red</td>\n",
       "      <td>black</td>\n",
       "      <td>no</td>\n",
       "      <td>0</td>\n",
       "      <td>for sale</td>\n",
       "      <td>446.0</td>\n",
       "    </tr>\n",
       "    <tr>\n",
       "      <th>22563</th>\n",
       "      <td>სხვა</td>\n",
       "      <td>None</td>\n",
       "      <td>sedan</td>\n",
       "      <td>32895</td>\n",
       "      <td>1972</td>\n",
       "      <td>manual</td>\n",
       "      <td>4/5</td>\n",
       "      <td>left wheel</td>\n",
       "      <td>green</td>\n",
       "      <td>beige</td>\n",
       "      <td>no</td>\n",
       "      <td>0</td>\n",
       "      <td>for sale</td>\n",
       "      <td>1.0</td>\n",
       "    </tr>\n",
       "  </tbody>\n",
       "</table>\n",
       "</div>"
      ],
      "text/plain": [
       "      vehicle_manufacturer vehicle_model vehicle_category  current_mileage  \\\n",
       "6300                  სხვა          None        universal                0   \n",
       "14755                 სხვა          None        limousine              400   \n",
       "18638                 სხვა        iamaha            coupe           123456   \n",
       "22563                 სხვა          None            sedan            32895   \n",
       "\n",
       "       vehicle_year vehicle_gearbox_type doors_cnt      wheels vehicle_color  \\\n",
       "6300           2007            tiptronic       2/3  left wheel          blue   \n",
       "14755          2019            automatic        >5  left wheel         white   \n",
       "18638          2017            automatic       2/3  left wheel           red   \n",
       "22563          1972               manual       4/5  left wheel         green   \n",
       "\n",
       "      vehicle_interior_color car_vin  car_leather_interior deal_type  \\\n",
       "6300                   black      no                     1  for sale   \n",
       "14755                  black      no                     1  for sale   \n",
       "18638                  black      no                     0  for sale   \n",
       "22563                  beige      no                     0  for sale   \n",
       "\n",
       "       final_price  \n",
       "6300        2500.0  \n",
       "14755      14500.0  \n",
       "18638        446.0  \n",
       "22563          1.0  "
      ]
     },
     "execution_count": 24,
     "metadata": {},
     "output_type": "execute_result"
    }
   ],
   "source": [
    "strange_cars = clear_train[clear_train.vehicle_manufacturer == 'სხვა']\n",
    "strange_cars\n"
   ]
  },
  {
   "attachments": {},
   "cell_type": "markdown",
   "metadata": {},
   "source": [
    "Запись с индексом 18638 выглядит очень странно по следующим причинам:\n",
    "1. Название модели намекает на марку Yamaha, которая в автомобилестроении отличилась только спортивным трехдверным концептом, который в производсто и продажу не пошёл;\n",
    "2. Очень сранный пробег раз-два-три-четыре-пять-шесть.\n",
    "\n",
    "Удалим эту запись."
   ]
  },
  {
   "cell_type": "code",
   "execution_count": 25,
   "metadata": {},
   "outputs": [],
   "source": [
    "clear_train.drop([18638], axis='rows', inplace=True)"
   ]
  },
  {
   "attachments": {},
   "cell_type": "markdown",
   "metadata": {},
   "source": [
    "Прежде, чем решать, что делать с оставшимися записями, давайте посмотрим, а есть ли записи с таким производителем в тестовом датасете:"
   ]
  },
  {
   "cell_type": "code",
   "execution_count": 26,
   "metadata": {},
   "outputs": [],
   "source": [
    "test_data = pd.read_csv('test_data.csv')"
   ]
  },
  {
   "cell_type": "code",
   "execution_count": 27,
   "metadata": {},
   "outputs": [
    {
     "data": {
      "text/html": [
       "<div>\n",
       "<style scoped>\n",
       "    .dataframe tbody tr th:only-of-type {\n",
       "        vertical-align: middle;\n",
       "    }\n",
       "\n",
       "    .dataframe tbody tr th {\n",
       "        vertical-align: top;\n",
       "    }\n",
       "\n",
       "    .dataframe thead th {\n",
       "        text-align: right;\n",
       "    }\n",
       "</style>\n",
       "<table border=\"1\" class=\"dataframe\">\n",
       "  <thead>\n",
       "    <tr style=\"text-align: right;\">\n",
       "      <th></th>\n",
       "      <th>row_ID</th>\n",
       "      <th>vehicle_manufacturer</th>\n",
       "      <th>vehicle_model</th>\n",
       "      <th>vehicle_category</th>\n",
       "      <th>current_mileage</th>\n",
       "      <th>vehicle_year</th>\n",
       "      <th>vehicle_gearbox_type</th>\n",
       "      <th>doors_cnt</th>\n",
       "      <th>wheels</th>\n",
       "      <th>vehicle_color</th>\n",
       "      <th>vehicle_interior_color</th>\n",
       "      <th>car_vin</th>\n",
       "      <th>car_leather_interior</th>\n",
       "      <th>deal_type</th>\n",
       "    </tr>\n",
       "  </thead>\n",
       "  <tbody>\n",
       "    <tr>\n",
       "      <th>4821</th>\n",
       "      <td>39821</td>\n",
       "      <td>სხვა</td>\n",
       "      <td>kamaz/ კამაზი</td>\n",
       "      <td>Sedan</td>\n",
       "      <td>1000</td>\n",
       "      <td>2005</td>\n",
       "      <td>Manual</td>\n",
       "      <td>2/3</td>\n",
       "      <td>Right-hand drive</td>\n",
       "      <td>Red</td>\n",
       "      <td>Grey</td>\n",
       "      <td>NaN</td>\n",
       "      <td>0</td>\n",
       "      <td>For Sale</td>\n",
       "    </tr>\n",
       "    <tr>\n",
       "      <th>8176</th>\n",
       "      <td>43176</td>\n",
       "      <td>სხვა</td>\n",
       "      <td>Proton 415GLI</td>\n",
       "      <td>Sedan</td>\n",
       "      <td>200000</td>\n",
       "      <td>1994</td>\n",
       "      <td>Manual</td>\n",
       "      <td>4/5</td>\n",
       "      <td>Left wheel</td>\n",
       "      <td>Silver</td>\n",
       "      <td>Black</td>\n",
       "      <td>PL1C97LNLRB660581</td>\n",
       "      <td>0</td>\n",
       "      <td>For Sale</td>\n",
       "    </tr>\n",
       "    <tr>\n",
       "      <th>9589</th>\n",
       "      <td>44589</td>\n",
       "      <td>სხვა</td>\n",
       "      <td>GONOW</td>\n",
       "      <td>Jeep</td>\n",
       "      <td>102000</td>\n",
       "      <td>2005</td>\n",
       "      <td>Manual</td>\n",
       "      <td>4/5</td>\n",
       "      <td>Left wheel</td>\n",
       "      <td>Silver</td>\n",
       "      <td>Beige</td>\n",
       "      <td>NaN</td>\n",
       "      <td>1</td>\n",
       "      <td>For Sale</td>\n",
       "    </tr>\n",
       "  </tbody>\n",
       "</table>\n",
       "</div>"
      ],
      "text/plain": [
       "      row_ID vehicle_manufacturer  vehicle_model vehicle_category  \\\n",
       "4821   39821                 სხვა  kamaz/ კამაზი            Sedan   \n",
       "8176   43176                 სხვა  Proton 415GLI            Sedan   \n",
       "9589   44589                 სხვა          GONOW             Jeep   \n",
       "\n",
       "      current_mileage  vehicle_year vehicle_gearbox_type doors_cnt  \\\n",
       "4821             1000          2005               Manual       2/3   \n",
       "8176           200000          1994               Manual       4/5   \n",
       "9589           102000          2005               Manual       4/5   \n",
       "\n",
       "                     wheels vehicle_color vehicle_interior_color  \\\n",
       "4821    Right-hand drive             Red                   Grey    \n",
       "8176           Left wheel         Silver                  Black    \n",
       "9589           Left wheel         Silver                  Beige    \n",
       "\n",
       "                  car_vin  car_leather_interior deal_type  \n",
       "4821                  NaN                     0  For Sale  \n",
       "8176   PL1C97LNLRB660581                      0  For Sale  \n",
       "9589                  NaN                     1  For Sale  "
      ]
     },
     "execution_count": 27,
     "metadata": {},
     "output_type": "execute_result"
    }
   ],
   "source": [
    "test_data[test_data['vehicle_manufacturer'] == 'სხვა']\n"
   ]
  },
  {
   "attachments": {},
   "cell_type": "markdown",
   "metadata": {},
   "source": [
    "Видим:\n",
    "\n",
    "1. Индекс 9589 - китайский производитель джипов GONOW;\n",
    "2. Индекс 8176 - малайзиский производитель автомобилей PROTON;\n",
    "3. Индекс 4821 - явный фейк от организаторов соревнования - седан от камаза (а через дробь тоже камаз, только на грузинском) да еще и купе. Если бы не год выпуска 2005, то можно было бы подумать на новый концепт электроавтомобиля от камаза для каршеринга, прогремевшего в недавних новостях. Но нет. Здесь нужно в предсказаниях явно ставить цену 0 в строке с индексом 4821."
   ]
  },
  {
   "cell_type": "markdown",
   "metadata": {},
   "source": [
    "Заменим производителей в этих строках:"
   ]
  },
  {
   "cell_type": "code",
   "execution_count": 28,
   "metadata": {},
   "outputs": [],
   "source": [
    "test_data.loc[4821, 'vehicle_manufacturer'] = 'kamaz'\n",
    "test_data.loc[8176, 'vehicle_manufacturer'] = 'proton'\n",
    "test_data.loc[9589, 'vehicle_manufacturer'] = 'gonow'"
   ]
  },
  {
   "attachments": {},
   "cell_type": "markdown",
   "metadata": {},
   "source": [
    "Как видим, намечается предобработка как тренировочного, так и тестового датасетов. Но теперь записи со странным производителем остались только в тренировочном датасете. Таким образом можем смело удалить оставщиеся три странные записи."
   ]
  },
  {
   "cell_type": "code",
   "execution_count": 29,
   "metadata": {},
   "outputs": [],
   "source": [
    "strange_cars_idx = clear_train[clear_train.vehicle_manufacturer == 'სხვა'].index\n",
    "clear_train.drop(strange_cars_idx, axis='rows', inplace=True)\n"
   ]
  },
  {
   "attachments": {},
   "cell_type": "markdown",
   "metadata": {},
   "source": [
    "Да, немного отклонились, но по важному поводу. Самое время вернуться к признаку vehicle_model. Посмотрим на оставшиеся пропуски еще раз:"
   ]
  },
  {
   "cell_type": "code",
   "execution_count": 30,
   "metadata": {},
   "outputs": [
    {
     "data": {
      "text/html": [
       "<div>\n",
       "<style scoped>\n",
       "    .dataframe tbody tr th:only-of-type {\n",
       "        vertical-align: middle;\n",
       "    }\n",
       "\n",
       "    .dataframe tbody tr th {\n",
       "        vertical-align: top;\n",
       "    }\n",
       "\n",
       "    .dataframe thead th {\n",
       "        text-align: right;\n",
       "    }\n",
       "</style>\n",
       "<table border=\"1\" class=\"dataframe\">\n",
       "  <thead>\n",
       "    <tr style=\"text-align: right;\">\n",
       "      <th></th>\n",
       "      <th>vehicle_manufacturer</th>\n",
       "      <th>vehicle_model</th>\n",
       "      <th>vehicle_category</th>\n",
       "      <th>current_mileage</th>\n",
       "      <th>vehicle_year</th>\n",
       "      <th>vehicle_gearbox_type</th>\n",
       "      <th>doors_cnt</th>\n",
       "      <th>wheels</th>\n",
       "      <th>vehicle_color</th>\n",
       "      <th>vehicle_interior_color</th>\n",
       "      <th>car_vin</th>\n",
       "      <th>car_leather_interior</th>\n",
       "      <th>deal_type</th>\n",
       "      <th>final_price</th>\n",
       "    </tr>\n",
       "  </thead>\n",
       "  <tbody>\n",
       "    <tr>\n",
       "      <th>11796</th>\n",
       "      <td>honda</td>\n",
       "      <td>None</td>\n",
       "      <td>hatchback</td>\n",
       "      <td>168900</td>\n",
       "      <td>2012</td>\n",
       "      <td>automatic</td>\n",
       "      <td>4/5</td>\n",
       "      <td>right-hand drive</td>\n",
       "      <td>white</td>\n",
       "      <td>black</td>\n",
       "      <td>no</td>\n",
       "      <td>1</td>\n",
       "      <td>for sale</td>\n",
       "      <td>4200.0</td>\n",
       "    </tr>\n",
       "    <tr>\n",
       "      <th>20642</th>\n",
       "      <td>jac</td>\n",
       "      <td>None</td>\n",
       "      <td>microbus</td>\n",
       "      <td>1000</td>\n",
       "      <td>2019</td>\n",
       "      <td>manual</td>\n",
       "      <td>4/5</td>\n",
       "      <td>left wheel</td>\n",
       "      <td>white</td>\n",
       "      <td>grey</td>\n",
       "      <td>no</td>\n",
       "      <td>1</td>\n",
       "      <td>for sale</td>\n",
       "      <td>22500.0</td>\n",
       "    </tr>\n",
       "    <tr>\n",
       "      <th>32928</th>\n",
       "      <td>foton</td>\n",
       "      <td>None</td>\n",
       "      <td>sedan</td>\n",
       "      <td>100000</td>\n",
       "      <td>2001</td>\n",
       "      <td>manual</td>\n",
       "      <td>4/5</td>\n",
       "      <td>left wheel</td>\n",
       "      <td>green</td>\n",
       "      <td>golden</td>\n",
       "      <td>no</td>\n",
       "      <td>0</td>\n",
       "      <td>for sale</td>\n",
       "      <td>223.0</td>\n",
       "    </tr>\n",
       "  </tbody>\n",
       "</table>\n",
       "</div>"
      ],
      "text/plain": [
       "      vehicle_manufacturer vehicle_model vehicle_category  current_mileage  \\\n",
       "11796                honda          None        hatchback           168900   \n",
       "20642                  jac          None         microbus             1000   \n",
       "32928                foton          None            sedan           100000   \n",
       "\n",
       "       vehicle_year vehicle_gearbox_type doors_cnt            wheels  \\\n",
       "11796          2012            automatic       4/5  right-hand drive   \n",
       "20642          2019               manual       4/5        left wheel   \n",
       "32928          2001               manual       4/5        left wheel   \n",
       "\n",
       "      vehicle_color vehicle_interior_color car_vin  car_leather_interior  \\\n",
       "11796         white                  black      no                     1   \n",
       "20642         white                   grey      no                     1   \n",
       "32928         green                 golden      no                     0   \n",
       "\n",
       "      deal_type  final_price  \n",
       "11796  for sale       4200.0  \n",
       "20642  for sale      22500.0  \n",
       "32928  for sale        223.0  "
      ]
     },
     "execution_count": 30,
     "metadata": {},
     "output_type": "execute_result"
    }
   ],
   "source": [
    "clear_train[clear_train.vehicle_model.isna()]\n"
   ]
  },
  {
   "attachments": {},
   "cell_type": "markdown",
   "metadata": {},
   "source": [
    "Мы можем:\n",
    "1. Удалить эти записи;\n",
    "2. Заменить vehicle_model на UNKNOWN.\n",
    "\n",
    "Какой подход лучше, можно выяснить только экспериментом. Для начала попробуем удалить. Только создадим копию данных."
   ]
  },
  {
   "cell_type": "code",
   "execution_count": 31,
   "metadata": {},
   "outputs": [],
   "source": [
    "clear_train_copy = clear_train.copy()\n",
    "clear_train.dropna(subset=['vehicle_model'], inplace=True)"
   ]
  },
  {
   "cell_type": "code",
   "execution_count": 32,
   "metadata": {},
   "outputs": [
    {
     "data": {
      "text/plain": [
       "0"
      ]
     },
     "execution_count": 32,
     "metadata": {},
     "output_type": "execute_result"
    }
   ],
   "source": [
    "clear_train.vehicle_model.isna().sum()\n"
   ]
  },
  {
   "attachments": {},
   "cell_type": "markdown",
   "metadata": {},
   "source": [
    "6. Проверяем оставшиевся признаки на пропуски:"
   ]
  },
  {
   "cell_type": "code",
   "execution_count": 33,
   "metadata": {},
   "outputs": [
    {
     "data": {
      "text/plain": [
       "vehicle_manufacturer      0\n",
       "vehicle_model             0\n",
       "vehicle_category          0\n",
       "current_mileage           0\n",
       "vehicle_year              0\n",
       "vehicle_gearbox_type      0\n",
       "doors_cnt                 0\n",
       "wheels                    0\n",
       "vehicle_color             0\n",
       "vehicle_interior_color    0\n",
       "car_vin                   0\n",
       "car_leather_interior      0\n",
       "deal_type                 0\n",
       "final_price               0\n",
       "dtype: int64"
      ]
     },
     "execution_count": 33,
     "metadata": {},
     "output_type": "execute_result"
    }
   ],
   "source": [
    "clear_train.isna().sum()"
   ]
  },
  {
   "attachments": {},
   "cell_type": "markdown",
   "metadata": {},
   "source": [
    "Ура, пропусков больше нет."
   ]
  },
  {
   "attachments": {},
   "cell_type": "markdown",
   "metadata": {},
   "source": [
    "## III. Раздельный анализ признаков"
   ]
  },
  {
   "attachments": {},
   "cell_type": "markdown",
   "metadata": {},
   "source": [
    "### 1. Признак vehicle_manufacturer"
   ]
  },
  {
   "attachments": {},
   "cell_type": "markdown",
   "metadata": {},
   "source": [
    "Для начала переведем vehicle_manufacturer в категориальный тип"
   ]
  },
  {
   "cell_type": "code",
   "execution_count": 34,
   "metadata": {},
   "outputs": [],
   "source": [
    "# clear_train.vehicle_manufacturer = clear_train.vehicle_manufacturer.astype('category')"
   ]
  },
  {
   "attachments": {},
   "cell_type": "markdown",
   "metadata": {},
   "source": [
    "Посмотрим на частоты упоминания производителей:"
   ]
  },
  {
   "cell_type": "code",
   "execution_count": 35,
   "metadata": {},
   "outputs": [
    {
     "data": {
      "text/html": [
       "<div>\n",
       "<style scoped>\n",
       "    .dataframe tbody tr th:only-of-type {\n",
       "        vertical-align: middle;\n",
       "    }\n",
       "\n",
       "    .dataframe tbody tr th {\n",
       "        vertical-align: top;\n",
       "    }\n",
       "\n",
       "    .dataframe thead th {\n",
       "        text-align: right;\n",
       "    }\n",
       "</style>\n",
       "<table border=\"1\" class=\"dataframe\">\n",
       "  <thead>\n",
       "    <tr style=\"text-align: right;\">\n",
       "      <th></th>\n",
       "      <th>vehicle_manufacturer</th>\n",
       "      <th>count</th>\n",
       "      <th>pct</th>\n",
       "    </tr>\n",
       "  </thead>\n",
       "  <tbody>\n",
       "    <tr>\n",
       "      <th>0</th>\n",
       "      <td>hyundai</td>\n",
       "      <td>4953</td>\n",
       "      <td>18.398960</td>\n",
       "    </tr>\n",
       "    <tr>\n",
       "      <th>1</th>\n",
       "      <td>toyota</td>\n",
       "      <td>4804</td>\n",
       "      <td>17.845468</td>\n",
       "    </tr>\n",
       "    <tr>\n",
       "      <th>2</th>\n",
       "      <td>mercedes-benz</td>\n",
       "      <td>2658</td>\n",
       "      <td>9.873700</td>\n",
       "    </tr>\n",
       "    <tr>\n",
       "      <th>3</th>\n",
       "      <td>ford</td>\n",
       "      <td>1842</td>\n",
       "      <td>6.842496</td>\n",
       "    </tr>\n",
       "    <tr>\n",
       "      <th>4</th>\n",
       "      <td>bmw</td>\n",
       "      <td>1602</td>\n",
       "      <td>5.950966</td>\n",
       "    </tr>\n",
       "    <tr>\n",
       "      <th>...</th>\n",
       "      <td>...</td>\n",
       "      <td>...</td>\n",
       "      <td>...</td>\n",
       "    </tr>\n",
       "    <tr>\n",
       "      <th>63</th>\n",
       "      <td>lancia</td>\n",
       "      <td>1</td>\n",
       "      <td>0.003715</td>\n",
       "    </tr>\n",
       "    <tr>\n",
       "      <th>64</th>\n",
       "      <td>fude</td>\n",
       "      <td>1</td>\n",
       "      <td>0.003715</td>\n",
       "    </tr>\n",
       "    <tr>\n",
       "      <th>65</th>\n",
       "      <td>mg</td>\n",
       "      <td>1</td>\n",
       "      <td>0.003715</td>\n",
       "    </tr>\n",
       "    <tr>\n",
       "      <th>66</th>\n",
       "      <td>tata</td>\n",
       "      <td>1</td>\n",
       "      <td>0.003715</td>\n",
       "    </tr>\n",
       "    <tr>\n",
       "      <th>67</th>\n",
       "      <td>lamborghini</td>\n",
       "      <td>1</td>\n",
       "      <td>0.003715</td>\n",
       "    </tr>\n",
       "  </tbody>\n",
       "</table>\n",
       "<p>68 rows × 3 columns</p>\n",
       "</div>"
      ],
      "text/plain": [
       "   vehicle_manufacturer  count        pct\n",
       "0               hyundai   4953  18.398960\n",
       "1                toyota   4804  17.845468\n",
       "2         mercedes-benz   2658   9.873700\n",
       "3                  ford   1842   6.842496\n",
       "4                   bmw   1602   5.950966\n",
       "..                  ...    ...        ...\n",
       "63               lancia      1   0.003715\n",
       "64                 fude      1   0.003715\n",
       "65                   mg      1   0.003715\n",
       "66                 tata      1   0.003715\n",
       "67          lamborghini      1   0.003715\n",
       "\n",
       "[68 rows x 3 columns]"
      ]
     },
     "execution_count": 35,
     "metadata": {},
     "output_type": "execute_result"
    }
   ],
   "source": [
    "manu_counts = pd.DataFrame(clear_train.vehicle_manufacturer.value_counts())\n",
    "manu_counts.reset_index(drop=False, inplace=True)\n",
    "manu_counts.columns=['vehicle_manufacturer', 'count']\n",
    "manu_counts['pct'] = manu_counts['count'] / clear_train.shape[0] * 100\n",
    "manu_counts"
   ]
  },
  {
   "attachments": {},
   "cell_type": "markdown",
   "metadata": {},
   "source": [
    "Явных опечаток и отклонений в названиях производителей не наблюдаем. При этом видим перекос в данных в плане частот по производителям. Посмотрим на производителей, упомянутых не более 5 раз: "
   ]
  },
  {
   "cell_type": "code",
   "execution_count": 36,
   "metadata": {},
   "outputs": [
    {
     "data": {
      "text/html": [
       "<div>\n",
       "<style scoped>\n",
       "    .dataframe tbody tr th:only-of-type {\n",
       "        vertical-align: middle;\n",
       "    }\n",
       "\n",
       "    .dataframe tbody tr th {\n",
       "        vertical-align: top;\n",
       "    }\n",
       "\n",
       "    .dataframe thead th {\n",
       "        text-align: right;\n",
       "    }\n",
       "</style>\n",
       "<table border=\"1\" class=\"dataframe\">\n",
       "  <thead>\n",
       "    <tr style=\"text-align: right;\">\n",
       "      <th></th>\n",
       "      <th>vehicle_manufacturer</th>\n",
       "      <th>count</th>\n",
       "      <th>pct</th>\n",
       "    </tr>\n",
       "  </thead>\n",
       "  <tbody>\n",
       "    <tr>\n",
       "      <th>50</th>\n",
       "      <td>mercury</td>\n",
       "      <td>5</td>\n",
       "      <td>0.018574</td>\n",
       "    </tr>\n",
       "    <tr>\n",
       "      <th>51</th>\n",
       "      <td>zaz</td>\n",
       "      <td>4</td>\n",
       "      <td>0.014859</td>\n",
       "    </tr>\n",
       "    <tr>\n",
       "      <th>52</th>\n",
       "      <td>moskvich</td>\n",
       "      <td>4</td>\n",
       "      <td>0.014859</td>\n",
       "    </tr>\n",
       "    <tr>\n",
       "      <th>53</th>\n",
       "      <td>hummer</td>\n",
       "      <td>4</td>\n",
       "      <td>0.014859</td>\n",
       "    </tr>\n",
       "    <tr>\n",
       "      <th>54</th>\n",
       "      <td>greatwall</td>\n",
       "      <td>3</td>\n",
       "      <td>0.011144</td>\n",
       "    </tr>\n",
       "    <tr>\n",
       "      <th>55</th>\n",
       "      <td>bentley</td>\n",
       "      <td>3</td>\n",
       "      <td>0.011144</td>\n",
       "    </tr>\n",
       "    <tr>\n",
       "      <th>56</th>\n",
       "      <td>pontiac</td>\n",
       "      <td>2</td>\n",
       "      <td>0.007429</td>\n",
       "    </tr>\n",
       "    <tr>\n",
       "      <th>57</th>\n",
       "      <td>aston martin</td>\n",
       "      <td>2</td>\n",
       "      <td>0.007429</td>\n",
       "    </tr>\n",
       "    <tr>\n",
       "      <th>58</th>\n",
       "      <td>rover</td>\n",
       "      <td>2</td>\n",
       "      <td>0.007429</td>\n",
       "    </tr>\n",
       "    <tr>\n",
       "      <th>59</th>\n",
       "      <td>saturn</td>\n",
       "      <td>2</td>\n",
       "      <td>0.007429</td>\n",
       "    </tr>\n",
       "    <tr>\n",
       "      <th>60</th>\n",
       "      <td>rolls-royce</td>\n",
       "      <td>2</td>\n",
       "      <td>0.007429</td>\n",
       "    </tr>\n",
       "    <tr>\n",
       "      <th>61</th>\n",
       "      <td>iveco</td>\n",
       "      <td>1</td>\n",
       "      <td>0.003715</td>\n",
       "    </tr>\n",
       "    <tr>\n",
       "      <th>62</th>\n",
       "      <td>foton</td>\n",
       "      <td>1</td>\n",
       "      <td>0.003715</td>\n",
       "    </tr>\n",
       "    <tr>\n",
       "      <th>63</th>\n",
       "      <td>lancia</td>\n",
       "      <td>1</td>\n",
       "      <td>0.003715</td>\n",
       "    </tr>\n",
       "    <tr>\n",
       "      <th>64</th>\n",
       "      <td>fude</td>\n",
       "      <td>1</td>\n",
       "      <td>0.003715</td>\n",
       "    </tr>\n",
       "    <tr>\n",
       "      <th>65</th>\n",
       "      <td>mg</td>\n",
       "      <td>1</td>\n",
       "      <td>0.003715</td>\n",
       "    </tr>\n",
       "    <tr>\n",
       "      <th>66</th>\n",
       "      <td>tata</td>\n",
       "      <td>1</td>\n",
       "      <td>0.003715</td>\n",
       "    </tr>\n",
       "    <tr>\n",
       "      <th>67</th>\n",
       "      <td>lamborghini</td>\n",
       "      <td>1</td>\n",
       "      <td>0.003715</td>\n",
       "    </tr>\n",
       "  </tbody>\n",
       "</table>\n",
       "</div>"
      ],
      "text/plain": [
       "   vehicle_manufacturer  count       pct\n",
       "50              mercury      5  0.018574\n",
       "51                  zaz      4  0.014859\n",
       "52             moskvich      4  0.014859\n",
       "53               hummer      4  0.014859\n",
       "54            greatwall      3  0.011144\n",
       "55              bentley      3  0.011144\n",
       "56              pontiac      2  0.007429\n",
       "57         aston martin      2  0.007429\n",
       "58                rover      2  0.007429\n",
       "59               saturn      2  0.007429\n",
       "60          rolls-royce      2  0.007429\n",
       "61                iveco      1  0.003715\n",
       "62                foton      1  0.003715\n",
       "63               lancia      1  0.003715\n",
       "64                 fude      1  0.003715\n",
       "65                   mg      1  0.003715\n",
       "66                 tata      1  0.003715\n",
       "67          lamborghini      1  0.003715"
      ]
     },
     "metadata": {},
     "output_type": "display_data"
    },
    {
     "name": "stdout",
     "output_type": "stream",
     "text": [
      "Количество производителей, упомянутых не более 5 раз: 18\n"
     ]
    }
   ],
   "source": [
    "display(manu_counts[manu_counts['count'] <= 5])\n",
    "print(f'Количество производителей, упомянутых не более 5 раз: {(manu_counts[\"count\"] <= 5).sum()}')"
   ]
  },
  {
   "attachments": {},
   "cell_type": "markdown",
   "metadata": {},
   "source": [
    "Таких набралось немного, всего 18. Но это означает, что после разделения данных на тренировочную и тестовую выборки train_test_split такие записи  с высокой вероятностью попадут:\n",
    "1. В тренировочную выборку и тогда мы обучимся только на одном примере, и точность предсказания модели по такому примеру не сможем оценить по тестовой выборке;\n",
    "2. Либо в тестовую выборку, и тогда на таком примере мы вообще не обучимся.\n",
    "Поэтому:\n",
    "\n",
    "### !!! записи с частотами ниже 5 лучше вручную включить в обе выборки !!!"
   ]
  },
  {
   "attachments": {},
   "cell_type": "markdown",
   "metadata": {},
   "source": [
    "Посмотрим на анализ записей о продажах в разрезе производителя на графиках:"
   ]
  },
  {
   "cell_type": "code",
   "execution_count": 37,
   "metadata": {},
   "outputs": [
    {
     "data": {
      "image/png": "[encoded data removed]",
      "text/plain": [
       "<Figure size 2000x1500 with 2 Axes>"
      ]
     },
     "metadata": {},
     "output_type": "display_data"
    }
   ],
   "source": [
    "fig, ax = plt.subplots(2, 1, figsize=(20, 15))\n",
    "plt.subplots_adjust(hspace=0.5)\n",
    "sns.barplot(data=manu_counts, x='vehicle_manufacturer', y='count', ax=ax[0])\n",
    "ax[0].set_title('В штуках')\n",
    "sns.barplot(data=manu_counts, x='vehicle_manufacturer', y='pct', ax=ax[1])\n",
    "ax[1].set_title('В процентах от общего количества строк')\n",
    "for ax in fig.axes:\n",
    "    plt.sca(ax)\n",
    "    plt.xticks(rotation=90)\n",
    "\n",
    "fig.suptitle(\n",
    "    'Анализ объявлений в разрезе производителей', fontsize=15);\n"
   ]
  },
  {
   "attachments": {},
   "cell_type": "markdown",
   "metadata": {},
   "source": [
    "Наблюдаем явный перекос в пользу Hyundai и Toyota."
   ]
  },
  {
   "attachments": {},
   "cell_type": "markdown",
   "metadata": {},
   "source": [
    "2. Признак vehicle_model\n",
    "\n",
    "Для примера посмотрим на названия моделей производителя Hyundai:"
   ]
  },
  {
   "cell_type": "code",
   "execution_count": 38,
   "metadata": {},
   "outputs": [
    {
     "data": {
      "text/plain": [
       "sonata                   1229\n",
       "elantra                  1081\n",
       "tucson                   1000\n",
       "santa fe                  774\n",
       "h1                        318\n",
       "veloster                  170\n",
       "genesis                    85\n",
       "accent                     66\n",
       "i30                        38\n",
       "grandeur                   28\n",
       "elantra limited            21\n",
       "sonata limited             13\n",
       "sonata hybrid              10\n",
       "elantra se                 10\n",
       "elantra gt                  9\n",
       "sonata sport                7\n",
       "kona                        7\n",
       "ix35                        6\n",
       "veracruz                    6\n",
       "tucson se                   4\n",
       "azera                       4\n",
       "getz                        4\n",
       "accent se                   3\n",
       "santa fe sport              3\n",
       "galloper                    3\n",
       "sonata se                   2\n",
       "terracan                    2\n",
       "i40                         2\n",
       "lantra                      2\n",
       "tucson limited              2\n",
       "ioniq                       2\n",
       "elantra limitedi            2\n",
       "tucson 2.0                  1\n",
       "elantra restayling          1\n",
       "tucson ix-20                1\n",
       "sonata sport limited        1\n",
       "tucson turbo                1\n",
       "h1 grandstarex              1\n",
       "elantra 10                  1\n",
       "lantra limited              1\n",
       "i10                         1\n",
       "sonata brilianti            1\n",
       "kona sel                    1\n",
       "tiburon                     1\n",
       "elantra კუპე                1\n",
       "veloster turbo              1\n",
       "elantra i30                 1\n",
       "veloster remix              1\n",
       "elantra avante              1\n",
       "i20                         1\n",
       "h1 starixs                  1\n",
       "tucson ix 20                1\n",
       "elantra sport limited       1\n",
       "elantra touring             1\n",
       "elantra .                   1\n",
       "santa fe ultimate           1\n",
       "sonata 2.4l                 1\n",
       "sonata y20                  1\n",
       "elantra 2012                1\n",
       "sonata 2.0t                 1\n",
       "sonata  blue edition        1\n",
       "elantra ლიმიტედი            1\n",
       "coupe                       1\n",
       "tucson limitedi             1\n",
       "sonata lpg                  1\n",
       "sonata სასწრაფოდ            1\n",
       "elantra gls/limited         1\n",
       "elantra gs                  1\n",
       "veloster r-spec             1\n",
       "sonata s                    1\n",
       "sonata 2015                 1\n",
       "sonata eco                  1\n",
       "Name: vehicle_model, dtype: int64"
      ]
     },
     "execution_count": 38,
     "metadata": {},
     "output_type": "execute_result"
    }
   ],
   "source": [
    "pd.set_option('display.max_rows', 500)\n",
    "clear_train[clear_train['vehicle_manufacturer'] == 'hyundai']['vehicle_model'].value_counts()"
   ]
  },
  {
   "attachments": {},
   "cell_type": "markdown",
   "metadata": {},
   "source": [
    "Видим:\n",
    "1. Опечатки (h1 starixs, elantra ., elantra limitedi, lantra limited, tucson ix-20 - tucson ix 20 и т.п.);\n",
    "2. Непонятные названия с дописками на грузинском языке (elantra კუპე);\n",
    "3. Указание года в названии модели (sonata 2015);\n",
    "4. Указание объема и типа двигателя (sonata 2.4l, tucson 2.0)\n",
    "5. Что стоит разделить этот признак на 2 model и submodel, разделенные пробелом во всех случаях. Отдельную логику стоит прменить к модели santa fe."
   ]
  },
  {
   "attachments": {},
   "cell_type": "markdown",
   "metadata": {},
   "source": [
    "Для перевода с грузинского можно использовать API Google.Translate, разделение на модель и модификацию тоже трудностей не представляет. А вот опечатки придётся оставить как есть, иначе такая работа, повторенная 68 раз для каждого производителя займёт неоправданно много времени."
   ]
  },
  {
   "attachments": {},
   "cell_type": "markdown",
   "metadata": {},
   "source": [
    "Для начала переведём все, что на грузинском на английский язык. Для этого воспользуемся библиотекой <a href=\"https://pypi.org/project/googletrans/\">googletrans</a>"
   ]
  },
  {
   "cell_type": "code",
   "execution_count": 39,
   "metadata": {},
   "outputs": [],
   "source": [
    "# !pip install deep-translator"
   ]
  },
  {
   "cell_type": "code",
   "execution_count": 40,
   "metadata": {},
   "outputs": [],
   "source": [
    "# from deep_translator import GoogleTranslator\n",
    "# translator = GoogleTranslator(source='ka', target='en')"
   ]
  },
  {
   "cell_type": "code",
   "execution_count": 41,
   "metadata": {},
   "outputs": [],
   "source": [
    "# from ipywidgets import IntProgress"
   ]
  },
  {
   "cell_type": "code",
   "execution_count": 42,
   "metadata": {},
   "outputs": [
    {
     "data": {
      "text/plain": [
       "array(['aqua s', 'c 220', 'veloster', ..., 'frontier pro-4x', 'e 270 cdi',\n",
       "       'megane 5'], dtype=object)"
      ]
     },
     "execution_count": 42,
     "metadata": {},
     "output_type": "execute_result"
    }
   ],
   "source": [
    "models = clear_train.vehicle_model.unique()\n",
    "models"
   ]
  },
  {
   "cell_type": "code",
   "execution_count": 44,
   "metadata": {},
   "outputs": [],
   "source": [
    "import json"
   ]
  },
  {
   "cell_type": "code",
   "execution_count": 46,
   "metadata": {},
   "outputs": [],
   "source": [
    "with open(\"models_dict.json\") as infile:\n",
    "    models_dict = json.load(infile)"
   ]
  },
  {
   "attachments": {},
   "cell_type": "markdown",
   "metadata": {},
   "source": [
    "Сохраним полученный словарь в json-файл для предстоящей предобработки моделей атомобилей в test_data перед прогнозированием цен для submission"
   ]
  },
  {
   "cell_type": "code",
   "execution_count": 47,
   "metadata": {},
   "outputs": [
    {
     "ename": "NameError",
     "evalue": "name 'IntProgress' is not defined",
     "output_type": "error",
     "traceback": [
      "\u001b[0;31m---------------------------------------------------------------------------\u001b[0m",
      "\u001b[0;31mNameError\u001b[0m                                 Traceback (most recent call last)",
      "\u001b[1;32m/home/alexey/Learning/sf_datascience/KAGGLE_PREDICT_CAR_PRICE/car_price_eda.ipynb Ячейка 90\u001b[0m in \u001b[0;36m<cell line: 3>\u001b[0;34m()\u001b[0m\n\u001b[1;32m      <a href='vscode-notebook-cell:/home/alexey/Learning/sf_datascience/KAGGLE_PREDICT_CAR_PRICE/car_price_eda.ipynb#Y155sZmlsZQ%3D%3D?line=0'>1</a>\u001b[0m models_count \u001b[39m=\u001b[39m models\u001b[39m.\u001b[39mshape[\u001b[39m0\u001b[39m]\n\u001b[0;32m----> <a href='vscode-notebook-cell:/home/alexey/Learning/sf_datascience/KAGGLE_PREDICT_CAR_PRICE/car_price_eda.ipynb#Y155sZmlsZQ%3D%3D?line=2'>3</a>\u001b[0m p_bar \u001b[39m=\u001b[39m IntProgress(\u001b[39mmin\u001b[39m\u001b[39m=\u001b[39m\u001b[39m1\u001b[39m, \u001b[39mmax\u001b[39m\u001b[39m=\u001b[39mmodels_count)\n\u001b[1;32m      <a href='vscode-notebook-cell:/home/alexey/Learning/sf_datascience/KAGGLE_PREDICT_CAR_PRICE/car_price_eda.ipynb#Y155sZmlsZQ%3D%3D?line=3'>4</a>\u001b[0m display(p_bar)\n\u001b[1;32m      <a href='vscode-notebook-cell:/home/alexey/Learning/sf_datascience/KAGGLE_PREDICT_CAR_PRICE/car_price_eda.ipynb#Y155sZmlsZQ%3D%3D?line=5'>6</a>\u001b[0m \u001b[39mfor\u001b[39;00m i, model \u001b[39min\u001b[39;00m \u001b[39menumerate\u001b[39m(clear_train\u001b[39m.\u001b[39mvehicle_model\u001b[39m.\u001b[39munique(), \u001b[39m1\u001b[39m):\n",
      "\u001b[0;31mNameError\u001b[0m: name 'IntProgress' is not defined"
     ]
    }
   ],
   "source": [
    "# models_count = models.shape[0]\n",
    "\n",
    "# p_bar = IntProgress(min=1, max=models_count)\n",
    "# display(p_bar)\n",
    "\n",
    "# for i, model in enumerate(clear_train.vehicle_model.unique(), 1):\n",
    "#     if model in models_dict:\n",
    "#         continue\n",
    "#     if model.isnumeric():\n",
    "#         models_dict[model] = model\n",
    "#     else:\n",
    "#         models_dict[model] = translator.translate(model)\n",
    "#     p_bar.value = i\n",
    "#     print(f'{i} of {models_count} model names translated                  ', end='\\r')"
   ]
  },
  {
   "cell_type": "code",
   "execution_count": null,
   "metadata": {},
   "outputs": [],
   "source": [
    "# import json \n",
    "\n",
    "# with open(\"models_dict.json\", \"w\") as outfile:\n",
    "#     json.dump(models_dict, outfile)"
   ]
  },
  {
   "attachments": {},
   "cell_type": "markdown",
   "metadata": {},
   "source": [
    "Применим этот словарь, чтобы избавиться от грузинского:"
   ]
  },
  {
   "cell_type": "code",
   "execution_count": 48,
   "metadata": {},
   "outputs": [],
   "source": [
    "clear_train.vehicle_model = clear_train.vehicle_model.map(models_dict)"
   ]
  },
  {
   "attachments": {},
   "cell_type": "markdown",
   "metadata": {},
   "source": [
    "После перевода посмотрим на модели производителя Hyundai еще раз:"
   ]
  },
  {
   "cell_type": "code",
   "execution_count": 49,
   "metadata": {},
   "outputs": [
    {
     "data": {
      "text/plain": [
       "sonata                   1229\n",
       "elantra                  1081\n",
       "Tucson                   1000\n",
       "santa fe                  774\n",
       "h1                        318\n",
       "Veloster                  170\n",
       "genesis                    85\n",
       "accent                     66\n",
       "i30                        38\n",
       "grandeur                   28\n",
       "elantra limited            22\n",
       "sonata limited             13\n",
       "sonata hybrid              10\n",
       "elantra se                 10\n",
       "elantra gt                  9\n",
       "sonata sport                7\n",
       "Kona                        7\n",
       "ix35                        6\n",
       "veracruz                    6\n",
       "tucson se                   4\n",
       "Azera                       4\n",
       "getz                        4\n",
       "accent se                   3\n",
       "tucson limited              3\n",
       "galloper                    3\n",
       "santa fe sport              3\n",
       "terracan                    2\n",
       "i40                         2\n",
       "lantra                      2\n",
       "ioniq                       2\n",
       "sonata se                   2\n",
       "elantra limitedi            2\n",
       "kona sel                    1\n",
       "Elantra 10                  1\n",
       "elantra sport limited       1\n",
       "tiburon                     1\n",
       "tucson ix 20                1\n",
       "tucson ix-20                1\n",
       "sonata sport limited        1\n",
       "h1 grandstarex              1\n",
       "h1 starixs                  1\n",
       "elantra coupe               1\n",
       "lantra limited              1\n",
       "i20                         1\n",
       "sonata brillianti           1\n",
       "elantra avante              1\n",
       "veloster remix              1\n",
       "Elantra i30                 1\n",
       "veloster turbo              1\n",
       "sonata 2.4l                 1\n",
       "sonata s                    1\n",
       "veloster r-spec             1\n",
       "elantra restyling           1\n",
       "i10                         1\n",
       "tucson turbo                1\n",
       "Sonata 2015                 1\n",
       "Elantra.                    1\n",
       "sonata y20                  1\n",
       "elantra touring             1\n",
       "Tucson 2.0                  1\n",
       "santa fe ultimate           1\n",
       "Elantra 2012                1\n",
       "sonata 2.0t                 1\n",
       "sonata blue edition         1\n",
       "coupe                       1\n",
       "sonata lpg                  1\n",
       "sonata urgently             1\n",
       "elantra gls/limited         1\n",
       "elantra gs                  1\n",
       "sonata eco                  1\n",
       "Name: vehicle_model, dtype: int64"
      ]
     },
     "execution_count": 49,
     "metadata": {},
     "output_type": "execute_result"
    }
   ],
   "source": [
    "clear_train[clear_train['vehicle_manufacturer'] == 'hyundai']['vehicle_model'].value_counts()"
   ]
  },
  {
   "attachments": {},
   "cell_type": "markdown",
   "metadata": {},
   "source": [
    "Применим к моделям созданную ранее функцию clear_string_value"
   ]
  },
  {
   "cell_type": "code",
   "execution_count": 50,
   "metadata": {},
   "outputs": [],
   "source": [
    "clear_train.vehicle_model = clear_train.vehicle_model.apply(clear_string_value)"
   ]
  },
  {
   "attachments": {},
   "cell_type": "markdown",
   "metadata": {},
   "source": [
    "И посмотрим на модели производителя Hyundai еще раз:"
   ]
  },
  {
   "cell_type": "code",
   "execution_count": 51,
   "metadata": {},
   "outputs": [
    {
     "data": {
      "text/plain": [
       "sonata                   1229\n",
       "elantra                  1081\n",
       "tucson                   1000\n",
       "santa fe                  774\n",
       "h1                        318\n",
       "veloster                  170\n",
       "genesis                    85\n",
       "accent                     66\n",
       "i30                        38\n",
       "grandeur                   28\n",
       "elantra limited            22\n",
       "sonata limited             13\n",
       "sonata hybrid              10\n",
       "elantra se                 10\n",
       "elantra gt                  9\n",
       "sonata sport                7\n",
       "kona                        7\n",
       "ix35                        6\n",
       "veracruz                    6\n",
       "tucson se                   4\n",
       "azera                       4\n",
       "getz                        4\n",
       "accent se                   3\n",
       "tucson limited              3\n",
       "galloper                    3\n",
       "santa fe sport              3\n",
       "terracan                    2\n",
       "i40                         2\n",
       "lantra                      2\n",
       "ioniq                       2\n",
       "sonata se                   2\n",
       "elantra limitedi            2\n",
       "kona sel                    1\n",
       "elantra 10                  1\n",
       "elantra sport limited       1\n",
       "tiburon                     1\n",
       "tucson ix 20                1\n",
       "tucson ix-20                1\n",
       "sonata sport limited        1\n",
       "h1 grandstarex              1\n",
       "h1 starixs                  1\n",
       "elantra coupe               1\n",
       "lantra limited              1\n",
       "i20                         1\n",
       "sonata brillianti           1\n",
       "elantra avante              1\n",
       "veloster remix              1\n",
       "elantra i30                 1\n",
       "veloster turbo              1\n",
       "sonata 2.4l                 1\n",
       "sonata s                    1\n",
       "veloster r-spec             1\n",
       "elantra restyling           1\n",
       "i10                         1\n",
       "tucson turbo                1\n",
       "sonata 2015                 1\n",
       "elantra.                    1\n",
       "sonata y20                  1\n",
       "elantra touring             1\n",
       "tucson 2.0                  1\n",
       "santa fe ultimate           1\n",
       "elantra 2012                1\n",
       "sonata 2.0t                 1\n",
       "sonata blue edition         1\n",
       "coupe                       1\n",
       "sonata lpg                  1\n",
       "sonata urgently             1\n",
       "elantra gls/limited         1\n",
       "elantra gs                  1\n",
       "sonata eco                  1\n",
       "Name: vehicle_model, dtype: int64"
      ]
     },
     "execution_count": 51,
     "metadata": {},
     "output_type": "execute_result"
    }
   ],
   "source": [
    "clear_train[clear_train['vehicle_manufacturer']\n",
    "            == 'hyundai']['vehicle_model'].value_counts()\n"
   ]
  },
  {
   "attachments": {},
   "cell_type": "markdown",
   "metadata": {},
   "source": [
    "Приведем названия моделей тренировочного датасета к стандартному справочнику моделей"
   ]
  },
  {
   "attachments": {},
   "cell_type": "markdown",
   "metadata": {},
   "source": [
    "Благодарность за датасет марок и моделей автомобилей Andrey Sol. Датасет взят <a href=\"https://github.com/blanzh/carsBase/blob/master/cars.csv\">здесь</a>!"
   ]
  },
  {
   "cell_type": "code",
   "execution_count": 53,
   "metadata": {},
   "outputs": [],
   "source": [
    "manufacturers_models = pd.read_csv('cars.csv', sep=';')"
   ]
  },
  {
   "attachments": {},
   "cell_type": "markdown",
   "metadata": {},
   "source": [
    "Применим очистку текста"
   ]
  },
  {
   "cell_type": "code",
   "execution_count": 70,
   "metadata": {},
   "outputs": [],
   "source": [
    "manufacturers_models.model = manufacturers_models.model.apply(clear_string_value)\n",
    "manufacturers_models.mark = manufacturers_models.mark.apply(clear_string_value)"
   ]
  },
  {
   "cell_type": "code",
   "execution_count": 71,
   "metadata": {},
   "outputs": [
    {
     "data": {
      "text/html": [
       "<div>\n",
       "<style scoped>\n",
       "    .dataframe tbody tr th:only-of-type {\n",
       "        vertical-align: middle;\n",
       "    }\n",
       "\n",
       "    .dataframe tbody tr th {\n",
       "        vertical-align: top;\n",
       "    }\n",
       "\n",
       "    .dataframe thead th {\n",
       "        text-align: right;\n",
       "    }\n",
       "</style>\n",
       "<table border=\"1\" class=\"dataframe\">\n",
       "  <thead>\n",
       "    <tr style=\"text-align: right;\">\n",
       "      <th></th>\n",
       "      <th>mark</th>\n",
       "      <th>model</th>\n",
       "    </tr>\n",
       "  </thead>\n",
       "  <tbody>\n",
       "    <tr>\n",
       "      <th>0</th>\n",
       "      <td>ac</td>\n",
       "      <td>378 gt zagato</td>\n",
       "    </tr>\n",
       "    <tr>\n",
       "      <th>1</th>\n",
       "      <td>ac</td>\n",
       "      <td>ace</td>\n",
       "    </tr>\n",
       "    <tr>\n",
       "      <th>2</th>\n",
       "      <td>ac</td>\n",
       "      <td>aceca</td>\n",
       "    </tr>\n",
       "    <tr>\n",
       "      <th>3</th>\n",
       "      <td>ac</td>\n",
       "      <td>cobra</td>\n",
       "    </tr>\n",
       "    <tr>\n",
       "      <th>4</th>\n",
       "      <td>acura</td>\n",
       "      <td>cl</td>\n",
       "    </tr>\n",
       "  </tbody>\n",
       "</table>\n",
       "</div>"
      ],
      "text/plain": [
       "    mark          model\n",
       "0     ac  378 gt zagato\n",
       "1     ac            ace\n",
       "2     ac          aceca\n",
       "3     ac          cobra\n",
       "4  acura             cl"
      ]
     },
     "execution_count": 71,
     "metadata": {},
     "output_type": "execute_result"
    }
   ],
   "source": [
    "manufacturers_models.head()"
   ]
  },
  {
   "cell_type": "code",
   "execution_count": 56,
   "metadata": {},
   "outputs": [],
   "source": [
    "import difflib"
   ]
  },
  {
   "cell_type": "code",
   "execution_count": 58,
   "metadata": {},
   "outputs": [],
   "source": [
    "vehicle_models = manufacturers_models.model.unique()"
   ]
  },
  {
   "cell_type": "code",
   "execution_count": 72,
   "metadata": {},
   "outputs": [],
   "source": [
    "def get_best_match_model(manufacturer: str, model: str) -> str:\n",
    "    \"\"\"\n",
    "    Return best match model from car models base, or itself if not found\n",
    "\n",
    "    Args:\n",
    "        manufacturer (str): manufacturer name in lower case without heading and trailing spaces\n",
    "        model (str): model name (can be with typos)\n",
    "\n",
    "    Returns:\n",
    "        str: best match model or itself if not found\n",
    "    \"\"\"\n",
    "    \n",
    "    vehicle_models = manufacturers_models[manufacturers_models.mark == manufacturer].model.unique()\n",
    "    \n",
    "    if best_match_models := difflib.get_close_matches(model, vehicle_models):\n",
    "        return best_match_models[0].strip().lower()\n",
    "    \n",
    "    return model\n"
   ]
  },
  {
   "cell_type": "code",
   "execution_count": 79,
   "metadata": {},
   "outputs": [
    {
     "data": {
      "text/html": [
       "<div>\n",
       "<style scoped>\n",
       "    .dataframe tbody tr th:only-of-type {\n",
       "        vertical-align: middle;\n",
       "    }\n",
       "\n",
       "    .dataframe tbody tr th {\n",
       "        vertical-align: top;\n",
       "    }\n",
       "\n",
       "    .dataframe thead th {\n",
       "        text-align: right;\n",
       "    }\n",
       "</style>\n",
       "<table border=\"1\" class=\"dataframe\">\n",
       "  <thead>\n",
       "    <tr style=\"text-align: right;\">\n",
       "      <th></th>\n",
       "      <th>vehicle_manufacturer</th>\n",
       "      <th>vehicle_model</th>\n",
       "    </tr>\n",
       "  </thead>\n",
       "  <tbody>\n",
       "    <tr>\n",
       "      <th>0</th>\n",
       "      <td>toyota</td>\n",
       "      <td>aqua s</td>\n",
       "    </tr>\n",
       "    <tr>\n",
       "      <th>1</th>\n",
       "      <td>mercedes-benz</td>\n",
       "      <td>c 220</td>\n",
       "    </tr>\n",
       "    <tr>\n",
       "      <th>2</th>\n",
       "      <td>hyundai</td>\n",
       "      <td>veloster</td>\n",
       "    </tr>\n",
       "    <tr>\n",
       "      <th>3</th>\n",
       "      <td>hyundai</td>\n",
       "      <td>santa fe</td>\n",
       "    </tr>\n",
       "    <tr>\n",
       "      <th>4</th>\n",
       "      <td>toyota</td>\n",
       "      <td>chr</td>\n",
       "    </tr>\n",
       "    <tr>\n",
       "      <th>...</th>\n",
       "      <td>...</td>\n",
       "      <td>...</td>\n",
       "    </tr>\n",
       "    <tr>\n",
       "      <th>34994</th>\n",
       "      <td>buick</td>\n",
       "      <td>regal</td>\n",
       "    </tr>\n",
       "    <tr>\n",
       "      <th>34995</th>\n",
       "      <td>ford</td>\n",
       "      <td>fusion</td>\n",
       "    </tr>\n",
       "    <tr>\n",
       "      <th>34996</th>\n",
       "      <td>ssangyong</td>\n",
       "      <td>rexton</td>\n",
       "    </tr>\n",
       "    <tr>\n",
       "      <th>34997</th>\n",
       "      <td>bmw</td>\n",
       "      <td>635</td>\n",
       "    </tr>\n",
       "    <tr>\n",
       "      <th>34999</th>\n",
       "      <td>toyota</td>\n",
       "      <td>avalon</td>\n",
       "    </tr>\n",
       "  </tbody>\n",
       "</table>\n",
       "<p>26920 rows × 2 columns</p>\n",
       "</div>"
      ],
      "text/plain": [
       "      vehicle_manufacturer vehicle_model\n",
       "0                   toyota        aqua s\n",
       "1            mercedes-benz         c 220\n",
       "2                  hyundai      veloster\n",
       "3                  hyundai      santa fe\n",
       "4                   toyota           chr\n",
       "...                    ...           ...\n",
       "34994                buick         regal\n",
       "34995                 ford        fusion\n",
       "34996            ssangyong        rexton\n",
       "34997                  bmw           635\n",
       "34999               toyota        avalon\n",
       "\n",
       "[26920 rows x 2 columns]"
      ]
     },
     "execution_count": 79,
     "metadata": {},
     "output_type": "execute_result"
    }
   ],
   "source": [
    "ctc[['vehicle_manufacturer', 'vehicle_model']]"
   ]
  },
  {
   "cell_type": "code",
   "execution_count": 95,
   "metadata": {},
   "outputs": [],
   "source": [
    "ctc = clear_train.copy()"
   ]
  },
  {
   "cell_type": "code",
   "execution_count": 96,
   "metadata": {},
   "outputs": [],
   "source": [
    "ctc.vehicle_model = ctc[['vehicle_manufacturer', 'vehicle_model']].apply(lambda x: get_best_match_model(\n",
    "    x['vehicle_manufacturer'],\n",
    "    x['vehicle_model']\n",
    "), axis=1)"
   ]
  },
  {
   "cell_type": "code",
   "execution_count": 97,
   "metadata": {},
   "outputs": [
    {
     "data": {
      "text/plain": [
       "sonata                   1268\n",
       "elantra                  1082\n",
       "tucson                   1011\n",
       "santa fe                  778\n",
       "h-1                       318\n",
       "veloster                  173\n",
       "genesis                    85\n",
       "accent                     69\n",
       "elantra n                  52\n",
       "i30                        38\n",
       "grandeur                   28\n",
       "kona                        7\n",
       "veracruz                    6\n",
       "ix35                        6\n",
       "getz                        4\n",
       "azera                       4\n",
       "galloper                    3\n",
       "ioniq                       2\n",
       "terracan                    2\n",
       "lantra                      2\n",
       "i40                         2\n",
       "sonata blue edition         1\n",
       "coupe                       1\n",
       "sonata urgently             1\n",
       "elantra gls/limited         1\n",
       "elantra sport limited       1\n",
       "tiburon                     1\n",
       "sonata sport limited        1\n",
       "grand starex                1\n",
       "sonata brillianti           1\n",
       "i10                         1\n",
       "kona n                      1\n",
       "i20                         1\n",
       "staria                      1\n",
       "Name: vehicle_model, dtype: int64"
      ]
     },
     "execution_count": 97,
     "metadata": {},
     "output_type": "execute_result"
    }
   ],
   "source": [
    "ctc[ctc['vehicle_manufacturer'] == 'hyundai']['vehicle_model'].value_counts()"
   ]
  },
  {
   "attachments": {},
   "cell_type": "markdown",
   "metadata": {},
   "source": [
    "Вот это уже результат, с которым можно обучать модель"
   ]
  },
  {
   "cell_type": "code",
   "execution_count": 98,
   "metadata": {},
   "outputs": [
    {
     "name": "stdout",
     "output_type": "stream",
     "text": [
      "<class 'pandas.core.frame.DataFrame'>\n",
      "Int64Index: 26920 entries, 0 to 34999\n",
      "Data columns (total 14 columns):\n",
      " #   Column                  Non-Null Count  Dtype  \n",
      "---  ------                  --------------  -----  \n",
      " 0   vehicle_manufacturer    26920 non-null  object \n",
      " 1   vehicle_model           26920 non-null  object \n",
      " 2   vehicle_category        26920 non-null  object \n",
      " 3   current_mileage         26920 non-null  int64  \n",
      " 4   vehicle_year            26920 non-null  int64  \n",
      " 5   vehicle_gearbox_type    26920 non-null  object \n",
      " 6   doors_cnt               26920 non-null  object \n",
      " 7   wheels                  26920 non-null  object \n",
      " 8   vehicle_color           26920 non-null  object \n",
      " 9   vehicle_interior_color  26920 non-null  object \n",
      " 10  car_vin                 26920 non-null  object \n",
      " 11  car_leather_interior    26920 non-null  int64  \n",
      " 12  deal_type               26920 non-null  object \n",
      " 13  final_price             26920 non-null  float64\n",
      "dtypes: float64(1), int64(3), object(10)\n",
      "memory usage: 4.1+ MB\n"
     ]
    }
   ],
   "source": [
    "ctc.info()"
   ]
  },
  {
   "attachments": {},
   "cell_type": "markdown",
   "metadata": {},
   "source": [
    "3. Признак vehicle_cetogory\n",
    "\n",
    "Посмотрим на уникальные значения и частоты в этом признаке"
   ]
  },
  {
   "cell_type": "code",
   "execution_count": 99,
   "metadata": {},
   "outputs": [
    {
     "data": {
      "text/plain": [
       "sedan          11784\n",
       "jeep            7207\n",
       "hatchback       4461\n",
       "minivan          875\n",
       "coupe            858\n",
       "microbus         553\n",
       "universal        551\n",
       "goods wagon      438\n",
       "pickup           106\n",
       "cabriolet         75\n",
       "limousine         12\n",
       "Name: vehicle_category, dtype: int64"
      ]
     },
     "execution_count": 99,
     "metadata": {},
     "output_type": "execute_result"
    }
   ],
   "source": [
    "ctc.vehicle_category.value_counts()"
   ]
  },
  {
   "attachments": {},
   "cell_type": "markdown",
   "metadata": {},
   "source": [
    "Вроде бы всё прилично. Оставляем как есть"
   ]
  },
  {
   "attachments": {},
   "cell_type": "markdown",
   "metadata": {},
   "source": [
    "4. Признак current_mileage"
   ]
  },
  {
   "attachments": {},
   "cell_type": "markdown",
   "metadata": {},
   "source": [
    "Посмотрим на распределение этого признака"
   ]
  },
  {
   "cell_type": "code",
   "execution_count": 107,
   "metadata": {},
   "outputs": [
    {
     "data": {
      "text/plain": [
       "<AxesSubplot: xlabel='current_mileage', ylabel='Density'>"
      ]
     },
     "execution_count": 107,
     "metadata": {},
     "output_type": "execute_result"
    },
    {
     "data": {
      "image/png": "[encoded data removed]",
      "text/plain": [
       "<Figure size 640x480 with 1 Axes>"
      ]
     },
     "metadata": {},
     "output_type": "display_data"
    }
   ],
   "source": [
    "sns.kdeplot(data=ctc, x='current_mileage')"
   ]
  },
  {
   "attachments": {},
   "cell_type": "markdown",
   "metadata": {},
   "source": [
    "Видим сильное смещение. Посмотрим на ящик с усами на предмет выбросов:"
   ]
  },
  {
   "cell_type": "code",
   "execution_count": 108,
   "metadata": {},
   "outputs": [
    {
     "data": {
      "text/plain": [
       "<AxesSubplot: xlabel='current_mileage'>"
      ]
     },
     "execution_count": 108,
     "metadata": {},
     "output_type": "execute_result"
    },
    {
     "data": {
      "image/png": "[encoded data removed]",
      "text/plain": [
       "<Figure size 640x480 with 1 Axes>"
      ]
     },
     "metadata": {},
     "output_type": "display_data"
    }
   ],
   "source": [
    "sns.boxplot(x = ctc.current_mileage)"
   ]
  },
  {
   "attachments": {},
   "cell_type": "markdown",
   "metadata": {},
   "source": [
    "Пробеги автомобилей, конечно, могут быть совершенно разными, но чтобы миллиарды км (или миль, что еще хуже) - это вряд ли. Из открытых источников видим, что абсолютный рекорд пробега автомобиля принадлежит Ирву Гордону, который на своем Volvo P1800, выпущенном в 1966 году, умудрился проехать более 4 800 000 км, а его автомобиля точно нет в базе. Поэтому будем считать, что максимально возможный пробег - 1 млн км. Изменим данные соответствующим образом."
   ]
  },
  {
   "cell_type": "code",
   "execution_count": 105,
   "metadata": {},
   "outputs": [],
   "source": [
    "ctc.current_mileage = ctc.current_mileage.apply(lambda x: min(x, 1_000_000))"
   ]
  },
  {
   "cell_type": "code",
   "execution_count": 109,
   "metadata": {},
   "outputs": [
    {
     "data": {
      "text/plain": [
       "count      26920.000000\n",
       "mean      138238.219428\n",
       "std       117547.676988\n",
       "min            0.000000\n",
       "25%        67985.500000\n",
       "50%       123200.000000\n",
       "75%       180278.750000\n",
       "max      1000000.000000\n",
       "Name: current_mileage, dtype: float64"
      ]
     },
     "execution_count": 109,
     "metadata": {},
     "output_type": "execute_result"
    }
   ],
   "source": [
    "ctc.current_mileage.describe()"
   ]
  },
  {
   "cell_type": "markdown",
   "metadata": {},
   "source": [
    "Посмотрим, а сколько у нас записей, в которых пробег равен нулю"
   ]
  },
  {
   "cell_type": "code",
   "execution_count": 92,
   "metadata": {},
   "outputs": [
    {
     "data": {
      "text/plain": [
       "1091"
      ]
     },
     "execution_count": 92,
     "metadata": {},
     "output_type": "execute_result"
    }
   ],
   "source": [
    "ctc[ctc.current_mileage == 0].current_mileage.count()"
   ]
  },
  {
   "attachments": {},
   "cell_type": "markdown",
   "metadata": {},
   "source": [
    "Посмотрим на распределение этого признака теперь"
   ]
  },
  {
   "cell_type": "code",
   "execution_count": 110,
   "metadata": {},
   "outputs": [
    {
     "data": {
      "text/plain": [
       "<AxesSubplot: xlabel='current_mileage', ylabel='Density'>"
      ]
     },
     "execution_count": 110,
     "metadata": {},
     "output_type": "execute_result"
    },
    {
     "data": {
      "image/png": "[encoded data removed]",
      "text/plain": [
       "<Figure size 640x480 with 1 Axes>"
      ]
     },
     "metadata": {},
     "output_type": "display_data"
    }
   ],
   "source": [
    "sns.kdeplot(data=ctc, x='current_mileage')"
   ]
  },
  {
   "attachments": {},
   "cell_type": "markdown",
   "metadata": {},
   "source": [
    "Распределение стало похоже на логнормальное. Но логарифмировать значения рано, пока есть нулевые значения. Заменим их на 1"
   ]
  },
  {
   "cell_type": "code",
   "execution_count": 115,
   "metadata": {},
   "outputs": [],
   "source": [
    "ctc.current_mileage = ctc.current_mileage.apply(lambda x: x or 1)"
   ]
  },
  {
   "cell_type": "code",
   "execution_count": 116,
   "metadata": {},
   "outputs": [],
   "source": [
    "ctc.current_mileage = np.log(ctc.current_mileage)"
   ]
  },
  {
   "attachments": {},
   "cell_type": "markdown",
   "metadata": {},
   "source": [
    "Посмотрим на распределение пробега теперь"
   ]
  },
  {
   "cell_type": "code",
   "execution_count": 117,
   "metadata": {},
   "outputs": [
    {
     "data": {
      "text/plain": [
       "<AxesSubplot: xlabel='current_mileage', ylabel='Density'>"
      ]
     },
     "execution_count": 117,
     "metadata": {},
     "output_type": "execute_result"
    },
    {
     "data": {
      "image/png": "[encoded data removed]",
      "text/plain": [
       "<Figure size 640x480 with 1 Axes>"
      ]
     },
     "metadata": {},
     "output_type": "display_data"
    }
   ],
   "source": [
    "sns.kdeplot(data=ctc, x='current_mileage')\n"
   ]
  },
  {
   "attachments": {},
   "cell_type": "markdown",
   "metadata": {},
   "source": [
    "5. Признак vehicle_year\n",
    "\n",
    "Посмотрим на распределение"
   ]
  },
  {
   "cell_type": "code",
   "execution_count": 119,
   "metadata": {},
   "outputs": [
    {
     "data": {
      "text/plain": [
       "<AxesSubplot: xlabel='vehicle_year', ylabel='Density'>"
      ]
     },
     "execution_count": 119,
     "metadata": {},
     "output_type": "execute_result"
    },
    {
     "data": {
      "image/png": "[encoded data removed]",
      "text/plain": [
       "<Figure size 640x480 with 1 Axes>"
      ]
     },
     "metadata": {},
     "output_type": "display_data"
    }
   ],
   "source": [
    "sns.kdeplot(data=ctc, x='vehicle_year')"
   ]
  },
  {
   "attachments": {},
   "cell_type": "markdown",
   "metadata": {},
   "source": [
    "Всё похоже на правду. Для лучшей интерпретации моделью предлагаю заменить vehicle_year признаком vehicle_age, рассчитанным как max(vehicle_year) - vehicle_year"
   ]
  },
  {
   "cell_type": "code",
   "execution_count": 152,
   "metadata": {},
   "outputs": [],
   "source": [
    "ctc['vehicle_age'] = ctc.vehicle_year.max() - ctc.vehicle_year"
   ]
  },
  {
   "attachments": {},
   "cell_type": "markdown",
   "metadata": {},
   "source": [
    "Удалим год"
   ]
  },
  {
   "cell_type": "code",
   "execution_count": 153,
   "metadata": {},
   "outputs": [],
   "source": [
    "ctc.drop(columns=['vehicle_year'], inplace=True)"
   ]
  },
  {
   "attachments": {},
   "cell_type": "markdown",
   "metadata": {},
   "source": [
    "6. Признак vehicle_gearbox_type"
   ]
  },
  {
   "attachments": {},
   "cell_type": "markdown",
   "metadata": {},
   "source": [
    "Посмотрим на частоты"
   ]
  },
  {
   "cell_type": "code",
   "execution_count": 122,
   "metadata": {},
   "outputs": [
    {
     "data": {
      "text/plain": [
       "automatic    16244\n",
       "tiptronic     5538\n",
       "manual        3727\n",
       "variator      1411\n",
       "Name: vehicle_gearbox_type, dtype: int64"
      ]
     },
     "execution_count": 122,
     "metadata": {},
     "output_type": "execute_result"
    }
   ],
   "source": [
    "ctc.vehicle_gearbox_type.value_counts()"
   ]
  },
  {
   "attachments": {},
   "cell_type": "markdown",
   "metadata": {},
   "source": [
    "Все выглядит более чем правдоподобно. С этим признаком ничего делать не нужно"
   ]
  },
  {
   "attachments": {},
   "cell_type": "markdown",
   "metadata": {},
   "source": [
    "7. Признак doors_cnt.\n",
    "\n",
    "Посмотрим на частоты:"
   ]
  },
  {
   "cell_type": "code",
   "execution_count": 126,
   "metadata": {},
   "outputs": [
    {
     "data": {
      "text/plain": [
       "4/5    25192\n",
       "2/3     1438\n",
       ">5       290\n",
       "Name: doors_cnt, dtype: int64"
      ]
     },
     "execution_count": 126,
     "metadata": {},
     "output_type": "execute_result"
    }
   ],
   "source": [
    "ctc.doors_cnt.value_counts()"
   ]
  },
  {
   "attachments": {},
   "cell_type": "markdown",
   "metadata": {},
   "source": [
    "Посмотрим, как распределяются варианты с дверями для каждого из вариантов vehicle_category"
   ]
  },
  {
   "cell_type": "code",
   "execution_count": 128,
   "metadata": {},
   "outputs": [
    {
     "name": "stdout",
     "output_type": "stream",
     "text": [
      "Для типа кузова sedan представлены такие частоты признака doors_cnt:\n"
     ]
    },
    {
     "data": {
      "text/plain": [
       "4/5    11592\n",
       "2/3      127\n",
       ">5        65\n",
       "Name: doors_cnt, dtype: int64"
      ]
     },
     "metadata": {},
     "output_type": "display_data"
    },
    {
     "name": "stdout",
     "output_type": "stream",
     "text": [
      "--------------------------------------------------------------------------------\n",
      "Для типа кузова hatchback представлены такие частоты признака doors_cnt:\n"
     ]
    },
    {
     "data": {
      "text/plain": [
       "4/5    4282\n",
       "2/3     153\n",
       ">5       26\n",
       "Name: doors_cnt, dtype: int64"
      ]
     },
     "metadata": {},
     "output_type": "display_data"
    },
    {
     "name": "stdout",
     "output_type": "stream",
     "text": [
      "--------------------------------------------------------------------------------\n",
      "Для типа кузова jeep представлены такие частоты признака doors_cnt:\n"
     ]
    },
    {
     "data": {
      "text/plain": [
       "4/5    6968\n",
       "2/3     171\n",
       ">5       68\n",
       "Name: doors_cnt, dtype: int64"
      ]
     },
     "metadata": {},
     "output_type": "display_data"
    },
    {
     "name": "stdout",
     "output_type": "stream",
     "text": [
      "--------------------------------------------------------------------------------\n",
      "Для типа кузова coupe представлены такие частоты признака doors_cnt:\n"
     ]
    },
    {
     "data": {
      "text/plain": [
       "2/3    640\n",
       "4/5    217\n",
       ">5       1\n",
       "Name: doors_cnt, dtype: int64"
      ]
     },
     "metadata": {},
     "output_type": "display_data"
    },
    {
     "name": "stdout",
     "output_type": "stream",
     "text": [
      "--------------------------------------------------------------------------------\n",
      "Для типа кузова universal представлены такие частоты признака doors_cnt:\n"
     ]
    },
    {
     "data": {
      "text/plain": [
       "4/5    531\n",
       "2/3     11\n",
       ">5       9\n",
       "Name: doors_cnt, dtype: int64"
      ]
     },
     "metadata": {},
     "output_type": "display_data"
    },
    {
     "name": "stdout",
     "output_type": "stream",
     "text": [
      "--------------------------------------------------------------------------------\n",
      "Для типа кузова microbus представлены такие частоты признака doors_cnt:\n"
     ]
    },
    {
     "data": {
      "text/plain": [
       "4/5    362\n",
       "2/3    146\n",
       ">5      45\n",
       "Name: doors_cnt, dtype: int64"
      ]
     },
     "metadata": {},
     "output_type": "display_data"
    },
    {
     "name": "stdout",
     "output_type": "stream",
     "text": [
      "--------------------------------------------------------------------------------\n",
      "Для типа кузова goods wagon представлены такие частоты признака doors_cnt:\n"
     ]
    },
    {
     "data": {
      "text/plain": [
       "4/5    326\n",
       "2/3     91\n",
       ">5      21\n",
       "Name: doors_cnt, dtype: int64"
      ]
     },
     "metadata": {},
     "output_type": "display_data"
    },
    {
     "name": "stdout",
     "output_type": "stream",
     "text": [
      "--------------------------------------------------------------------------------\n",
      "Для типа кузова minivan представлены такие частоты признака doors_cnt:\n"
     ]
    },
    {
     "data": {
      "text/plain": [
       "4/5    798\n",
       ">5      53\n",
       "2/3     24\n",
       "Name: doors_cnt, dtype: int64"
      ]
     },
     "metadata": {},
     "output_type": "display_data"
    },
    {
     "name": "stdout",
     "output_type": "stream",
     "text": [
      "--------------------------------------------------------------------------------\n",
      "Для типа кузова cabriolet представлены такие частоты признака doors_cnt:\n"
     ]
    },
    {
     "data": {
      "text/plain": [
       "2/3    53\n",
       "4/5    22\n",
       "Name: doors_cnt, dtype: int64"
      ]
     },
     "metadata": {},
     "output_type": "display_data"
    },
    {
     "name": "stdout",
     "output_type": "stream",
     "text": [
      "--------------------------------------------------------------------------------\n",
      "Для типа кузова pickup представлены такие частоты признака doors_cnt:\n"
     ]
    },
    {
     "data": {
      "text/plain": [
       "4/5    82\n",
       "2/3    22\n",
       ">5      2\n",
       "Name: doors_cnt, dtype: int64"
      ]
     },
     "metadata": {},
     "output_type": "display_data"
    },
    {
     "name": "stdout",
     "output_type": "stream",
     "text": [
      "--------------------------------------------------------------------------------\n",
      "Для типа кузова limousine представлены такие частоты признака doors_cnt:\n"
     ]
    },
    {
     "data": {
      "text/plain": [
       "4/5    12\n",
       "Name: doors_cnt, dtype: int64"
      ]
     },
     "metadata": {},
     "output_type": "display_data"
    },
    {
     "name": "stdout",
     "output_type": "stream",
     "text": [
      "--------------------------------------------------------------------------------\n"
     ]
    }
   ],
   "source": [
    "for vehicle_category in ctc.vehicle_category.unique():\n",
    "    print(f'Для типа кузова {vehicle_category} представлены такие частоты признака doors_cnt:')\n",
    "    display(ctc[ctc.vehicle_category == vehicle_category].doors_cnt.value_counts())\n",
    "    print('-'*80)"
   ]
  },
  {
   "attachments": {},
   "cell_type": "markdown",
   "metadata": {},
   "source": [
    "Посмотрим на автопроизводителей и марки моделей с более чем 5 дверями:"
   ]
  },
  {
   "cell_type": "code",
   "execution_count": 133,
   "metadata": {},
   "outputs": [
    {
     "data": {
      "text/html": [
       "<div>\n",
       "<style scoped>\n",
       "    .dataframe tbody tr th:only-of-type {\n",
       "        vertical-align: middle;\n",
       "    }\n",
       "\n",
       "    .dataframe tbody tr th {\n",
       "        vertical-align: top;\n",
       "    }\n",
       "\n",
       "    .dataframe thead th {\n",
       "        text-align: right;\n",
       "    }\n",
       "</style>\n",
       "<table border=\"1\" class=\"dataframe\">\n",
       "  <thead>\n",
       "    <tr style=\"text-align: right;\">\n",
       "      <th></th>\n",
       "      <th>vehicle_manufacturer</th>\n",
       "      <th>vehicle_model</th>\n",
       "      <th>vehicle_category</th>\n",
       "    </tr>\n",
       "  </thead>\n",
       "  <tbody>\n",
       "    <tr>\n",
       "      <th>216</th>\n",
       "      <td>toyota</td>\n",
       "      <td>isis</td>\n",
       "      <td>minivan</td>\n",
       "    </tr>\n",
       "    <tr>\n",
       "      <th>383</th>\n",
       "      <td>ford</td>\n",
       "      <td>transit custom</td>\n",
       "      <td>microbus</td>\n",
       "    </tr>\n",
       "    <tr>\n",
       "      <th>618</th>\n",
       "      <td>bmw</td>\n",
       "      <td>507</td>\n",
       "      <td>sedan</td>\n",
       "    </tr>\n",
       "    <tr>\n",
       "      <th>619</th>\n",
       "      <td>volkswagen</td>\n",
       "      <td>caddy</td>\n",
       "      <td>pickup</td>\n",
       "    </tr>\n",
       "    <tr>\n",
       "      <th>757</th>\n",
       "      <td>mitsubishi</td>\n",
       "      <td>airtrek</td>\n",
       "      <td>jeep</td>\n",
       "    </tr>\n",
       "  </tbody>\n",
       "</table>\n",
       "</div>"
      ],
      "text/plain": [
       "    vehicle_manufacturer   vehicle_model vehicle_category\n",
       "216               toyota            isis          minivan\n",
       "383                 ford  transit custom         microbus\n",
       "618                  bmw             507            sedan\n",
       "619           volkswagen           caddy           pickup\n",
       "757           mitsubishi         airtrek             jeep"
      ]
     },
     "execution_count": 133,
     "metadata": {},
     "output_type": "execute_result"
    }
   ],
   "source": [
    "ctc[ctc.doors_cnt == '>5'][['vehicle_manufacturer', 'vehicle_model', 'vehicle_category']].head()"
   ]
  },
  {
   "cell_type": "code",
   "execution_count": 134,
   "metadata": {},
   "outputs": [
    {
     "data": {
      "text/plain": [
       "sedan          11784\n",
       "jeep            7207\n",
       "hatchback       4461\n",
       "minivan          875\n",
       "coupe            858\n",
       "microbus         553\n",
       "universal        551\n",
       "goods wagon      438\n",
       "pickup           106\n",
       "cabriolet         75\n",
       "limousine         12\n",
       "Name: vehicle_category, dtype: int64"
      ]
     },
     "execution_count": 134,
     "metadata": {},
     "output_type": "execute_result"
    }
   ],
   "source": [
    "ctc.vehicle_category.value_counts()"
   ]
  },
  {
   "attachments": {},
   "cell_type": "markdown",
   "metadata": {},
   "source": [
    "Странно для некоторых моделей видеть более 5 дверей (как пример bmw 507), но исправить это сложно. Будем считать, что максимальное количество дверей будет 6, а остальные варианты легко привести к конкретным числам по следующей логике:"
   ]
  },
  {
   "attachments": {},
   "cell_type": "markdown",
   "metadata": {},
   "source": [
    "* sedan, pickup, cabriolet могут иметь либо 2, либо 4, либо 6 дверей (здесь и далее это определяется признаком doors_cnt);\n",
    "* jeep, hatchback, microbus, minivan, universal, goods wagon могут быть 3 либо 5, либо 7 дверными;\n",
    "* limousine может быть только 4 дверным.\n",
    "\n",
    "Реализуем эту логику в функции:\n",
    "\n"
   ]
  },
  {
   "cell_type": "code",
   "execution_count": 135,
   "metadata": {},
   "outputs": [],
   "source": [
    "def get_doors_cnt(vehicle_category: str, doors_cnt: str) -> int:\n",
    "    if vehicle_category == 'limousine':\n",
    "        return 4\n",
    "    \n",
    "    if vehicle_category in {'sedan', 'pickup', 'cabriolet'}:\n",
    "        if doors_cnt == '2/3':\n",
    "            return 2\n",
    "        if doors_cnt == '4/5':\n",
    "            return 4\n",
    "        return 6\n",
    "    \n",
    "    if doors_cnt == '2/3':\n",
    "        return 3\n",
    "    \n",
    "    if doors_cnt == '4/5':\n",
    "        return 5\n",
    "    \n",
    "    return 7\n",
    "    "
   ]
  },
  {
   "cell_type": "code",
   "execution_count": 147,
   "metadata": {},
   "outputs": [],
   "source": [
    "ctc.doors_cnt = ctc[['vehicle_category', 'doors_cnt']].apply(lambda x: get_doors_cnt(\n",
    "    x['vehicle_category'],\n",
    "    x['doors_cnt']), axis=1)"
   ]
  },
  {
   "attachments": {},
   "cell_type": "markdown",
   "metadata": {},
   "source": [
    "8. Признак wheels"
   ]
  },
  {
   "cell_type": "code",
   "execution_count": 148,
   "metadata": {},
   "outputs": [
    {
     "data": {
      "text/plain": [
       "left wheel          24163\n",
       "right-hand drive     2757\n",
       "Name: wheels, dtype: int64"
      ]
     },
     "execution_count": 148,
     "metadata": {},
     "output_type": "execute_result"
    }
   ],
   "source": [
    "ctc.wheels.value_counts()"
   ]
  },
  {
   "attachments": {},
   "cell_type": "markdown",
   "metadata": {},
   "source": [
    "Здесь все очень просто и логично. Это расположение руля: правое/левое. Тут менять ничего не требуется"
   ]
  },
  {
   "attachments": {},
   "cell_type": "markdown",
   "metadata": {},
   "source": [
    "9. Признак vehicle_color"
   ]
  },
  {
   "cell_type": "code",
   "execution_count": 149,
   "metadata": {},
   "outputs": [
    {
     "data": {
      "text/plain": [
       "black            6606\n",
       "white            6153\n",
       "silver           5221\n",
       "grey             3219\n",
       "blue             2181\n",
       "red              1013\n",
       "green             565\n",
       "carnelian red     360\n",
       "brown             327\n",
       "beige             275\n",
       "orange            251\n",
       "golden            246\n",
       "sky blue          244\n",
       "yellow            151\n",
       "purple             62\n",
       "pink               46\n",
       "Name: vehicle_color, dtype: int64"
      ]
     },
     "execution_count": 149,
     "metadata": {},
     "output_type": "execute_result"
    }
   ],
   "source": [
    "ctc.vehicle_color.value_counts()\n"
   ]
  },
  {
   "attachments": {},
   "cell_type": "markdown",
   "metadata": {},
   "source": [
    "Здесь все тоже логично и законно. Едем дальше..."
   ]
  },
  {
   "attachments": {},
   "cell_type": "markdown",
   "metadata": {},
   "source": [
    "10. Признак vehicle_interior_color"
   ]
  },
  {
   "cell_type": "code",
   "execution_count": 150,
   "metadata": {},
   "outputs": [
    {
     "data": {
      "text/plain": [
       "black            19767\n",
       "grey              3348\n",
       "beige             2002\n",
       "white              723\n",
       "brown              331\n",
       "yellow             185\n",
       "blue               177\n",
       "golden             151\n",
       "red                128\n",
       "orange              62\n",
       "carnelian red       46\n",
       "Name: vehicle_interior_color, dtype: int64"
      ]
     },
     "execution_count": 150,
     "metadata": {},
     "output_type": "execute_result"
    }
   ],
   "source": [
    "ctc.vehicle_interior_color.value_counts()"
   ]
  },
  {
   "attachments": {},
   "cell_type": "markdown",
   "metadata": {},
   "source": [
    "И здесь тоже все логично и законно. Едем дальше"
   ]
  },
  {
   "attachments": {},
   "cell_type": "markdown",
   "metadata": {},
   "source": [
    "11. Признак car_vin"
   ]
  },
  {
   "attachments": {},
   "cell_type": "markdown",
   "metadata": {},
   "source": [
    "<a href=\"https://ru.wikipedia.org/wiki/%D0%98%D0%B4%D0%B5%D0%BD%D1%82%D0%B8%D1%84%D0%B8%D0%BA%D0%B0%D1%86%D0%B8%D0%BE%D0%BD%D0%BD%D1%8B%D0%B9_%D0%BD%D0%BE%D0%BC%D0%B5%D1%80_%D1%82%D1%80%D0%B0%D0%BD%D1%81%D0%BF%D0%BE%D1%80%D1%82%D0%BD%D0%BE%D0%B3%D0%BE_%D1%81%D1%80%D0%B5%D0%B4%D1%81%D1%82%D0%B2%D0%B0\">Отсюда</a> видим, что из VIN номера можно извлечь важную информацию о стране производства автомобиля. Это первые три символа. Причем для задач машинного обучения нам не требуется даже переводить их в понятное для человека название страны. Мы просто получаем дополнительную информацию, которая может положительно повлиять на прогноз цены автомобиля. Также интересен 10-й символ VIN-кода определяющий модельный год автомобиля согласно таблице:\n",
    "<table class=\"wikitable\">\n",
    "<tbody><tr>\n",
    "<th>Код</th>\n",
    "<th>Год</th>\n",
    "<th></th>\n",
    "<th>Код</th>\n",
    "<th>Год</th>\n",
    "<th></th>\n",
    "<th>Код</th>\n",
    "<th>Год</th>\n",
    "<th></th>\n",
    "<th>Код</th>\n",
    "<th>Год</th>\n",
    "<th></th>\n",
    "<th>Код</th>\n",
    "<th>Год</th>\n",
    "<th></th>\n",
    "<th>Код</th>\n",
    "<th>Год\n",
    "</th></tr>\n",
    "<tr>\n",
    "<td>A =</td>\n",
    "<td>1980</td>\n",
    "<td></td>\n",
    "<td>L =</td>\n",
    "<td>1990</td>\n",
    "<td></td>\n",
    "<td>Y =</td>\n",
    "<td>2000</td>\n",
    "<td></td>\n",
    "<td>A =</td>\n",
    "<td>2010</td>\n",
    "<td></td>\n",
    "<td>L =</td>\n",
    "<td>2020</td>\n",
    "<td></td>\n",
    "<td>Y =</td>\n",
    "<td>2030\n",
    "</td></tr>\n",
    "<tr>\n",
    "<td>B =</td>\n",
    "<td>1981</td>\n",
    "<td></td>\n",
    "<td>M =</td>\n",
    "<td>1991</td>\n",
    "<td></td>\n",
    "<td>1 =</td>\n",
    "<td>2001</td>\n",
    "<td></td>\n",
    "<td>B =</td>\n",
    "<td>2011</td>\n",
    "<td></td>\n",
    "<td>M =</td>\n",
    "<td>2021</td>\n",
    "<td></td>\n",
    "<td>1 =</td>\n",
    "<td>2031\n",
    "</td></tr>\n",
    "<tr>\n",
    "<td>C =</td>\n",
    "<td>1982</td>\n",
    "<td></td>\n",
    "<td>N =</td>\n",
    "<td>1992</td>\n",
    "<td></td>\n",
    "<td>2 =</td>\n",
    "<td>2002</td>\n",
    "<td></td>\n",
    "<td>C =</td>\n",
    "<td>2012</td>\n",
    "<td></td>\n",
    "<td>N =</td>\n",
    "<td>2022</td>\n",
    "<td></td>\n",
    "<td>2 =</td>\n",
    "<td>2032\n",
    "</td></tr>\n",
    "<tr>\n",
    "<td>D =</td>\n",
    "<td>1983</td>\n",
    "<td></td>\n",
    "<td>P =</td>\n",
    "<td>1993</td>\n",
    "<td></td>\n",
    "<td>3 =</td>\n",
    "<td>2003</td>\n",
    "<td></td>\n",
    "<td>D =</td>\n",
    "<td>2013</td>\n",
    "<td></td>\n",
    "<td>P =</td>\n",
    "<td>2023</td>\n",
    "<td></td>\n",
    "<td>3 =</td>\n",
    "<td>2033\n",
    "</td></tr>\n",
    "<tr>\n",
    "<td>E =</td>\n",
    "<td>1984</td>\n",
    "<td></td>\n",
    "<td>R =</td>\n",
    "<td>1994</td>\n",
    "<td></td>\n",
    "<td>4 =</td>\n",
    "<td>2004</td>\n",
    "<td></td>\n",
    "<td>E =</td>\n",
    "<td>2014</td>\n",
    "<td></td>\n",
    "<td>R =</td>\n",
    "<td>2024</td>\n",
    "<td></td>\n",
    "<td>4 =</td>\n",
    "<td>2034\n",
    "</td></tr>\n",
    "<tr>\n",
    "<td>F =</td>\n",
    "<td>1985</td>\n",
    "<td></td>\n",
    "<td>S =</td>\n",
    "<td>1995</td>\n",
    "<td></td>\n",
    "<td>5 =</td>\n",
    "<td>2005</td>\n",
    "<td></td>\n",
    "<td>F =</td>\n",
    "<td>2015</td>\n",
    "<td></td>\n",
    "<td>S =</td>\n",
    "<td>2025</td>\n",
    "<td></td>\n",
    "<td>5 =</td>\n",
    "<td>2035\n",
    "</td></tr>\n",
    "<tr>\n",
    "<td>G =</td>\n",
    "<td>1986</td>\n",
    "<td></td>\n",
    "<td>T =</td>\n",
    "<td>1996</td>\n",
    "<td></td>\n",
    "<td>6 =</td>\n",
    "<td>2006</td>\n",
    "<td></td>\n",
    "<td>G =</td>\n",
    "<td>2016</td>\n",
    "<td></td>\n",
    "<td>T =</td>\n",
    "<td>2026</td>\n",
    "<td></td>\n",
    "<td>6 =</td>\n",
    "<td>2036\n",
    "</td></tr>\n",
    "<tr>\n",
    "<td>H =</td>\n",
    "<td>1987</td>\n",
    "<td></td>\n",
    "<td>V =</td>\n",
    "<td>1997</td>\n",
    "<td></td>\n",
    "<td>7 =</td>\n",
    "<td>2007</td>\n",
    "<td></td>\n",
    "<td>H =</td>\n",
    "<td>2017</td>\n",
    "<td></td>\n",
    "<td>V =</td>\n",
    "<td>2027</td>\n",
    "<td></td>\n",
    "<td>7 =</td>\n",
    "<td>2037\n",
    "</td></tr>\n",
    "<tr>\n",
    "<td>J =</td>\n",
    "<td>1988</td>\n",
    "<td></td>\n",
    "<td>W =</td>\n",
    "<td>1998</td>\n",
    "<td></td>\n",
    "<td>8 =</td>\n",
    "<td>2008</td>\n",
    "<td></td>\n",
    "<td>J =</td>\n",
    "<td>2018</td>\n",
    "<td></td>\n",
    "<td>W =</td>\n",
    "<td>2028</td>\n",
    "<td></td>\n",
    "<td>8 =</td>\n",
    "<td>2038\n",
    "</td></tr>\n",
    "<tr>\n",
    "<td>K =</td>\n",
    "<td>1989</td>\n",
    "<td></td>\n",
    "<td>X =</td>\n",
    "<td>1999</td>\n",
    "<td></td>\n",
    "<td>9 =</td>\n",
    "<td>2009</td>\n",
    "<td></td>\n",
    "<td>K =</td>\n",
    "<td>2019</td>\n",
    "<td></td>\n",
    "<td>X =</td>\n",
    "<td>2029</td>\n",
    "<td></td>\n",
    "<td>9 =</td>\n",
    "<td><a href=\"/wiki/2039\" class=\"mw-redirect\" title=\"2039\">2039</a>\n",
    "</td></tr></tbody></table>"
   ]
  },
  {
   "attachments": {},
   "cell_type": "markdown",
   "metadata": {},
   "source": [
    "https://ru.wikipedia.org/wiki/%D0%98%D0%B4%D0%B5%D0%BD%D1%82%D0%B8%D1%84%D0%B8%D0%BA%D0%B0%D1%86%D0%B8%D0%BE%D0%BD%D0%BD%D1%8B%D0%B9_%D0%BD%D0%BE%D0%BC%D0%B5%D1%80_%D1%82%D1%80%D0%B0%D0%BD%D1%81%D0%BF%D0%BE%D1%80%D1%82%D0%BD%D0%BE%D0%B3%D0%BE_%D1%81%D1%80%D0%B5%D0%B4%D1%81%D1%82%D0%B2%D0%B0"
   ]
  },
  {
   "attachments": {},
   "cell_type": "markdown",
   "metadata": {},
   "source": [
    "Однако для выделения страны производителя и модельного года нам удобней будет воспользоваться готовой библиотекой <a href=\"https://github.com/nighcoder/vin-parser\">vin-parser</a>."
   ]
  },
  {
   "attachments": {},
   "cell_type": "markdown",
   "metadata": {},
   "source": [
    "А перед этим проверим, что у нас было в столбце car_vin плохого кроме пропущенных значений:"
   ]
  },
  {
   "cell_type": "code",
   "execution_count": 189,
   "metadata": {},
   "outputs": [
    {
     "data": {
      "text/plain": [
       "['5',\n",
       " '0',\n",
       " '.',\n",
       " 'წ',\n",
       " '1',\n",
       " 'o',\n",
       " 'no',\n",
       " 'an',\n",
       " '12',\n",
       " 'dd',\n",
       " 'tt',\n",
       " 'un',\n",
       " '00',\n",
       " '000',\n",
       " '111',\n",
       " 'www',\n",
       " '123',\n",
       " '...',\n",
       " 'gio',\n",
       " '333',\n",
       " 'uhh',\n",
       " '1234',\n",
       " '1111',\n",
       " '3330',\n",
       " 'otar',\n",
       " 'tyuu',\n",
       " '1010',\n",
       " '4444',\n",
       " '9999',\n",
       " '5646',\n",
       " 'fdgg',\n",
       " '2600',\n",
       " 'wcw5',\n",
       " '6547',\n",
       " 'kafg',\n",
       " '7657',\n",
       " '2198',\n",
       " '121w',\n",
       " '1221',\n",
       " '1717',\n",
       " '11111',\n",
       " '12345',\n",
       " '45785',\n",
       " '69tfj',\n",
       " 'xnxnd',\n",
       " 'euro4',\n",
       " '00000',\n",
       " 'astra',\n",
       " 'xachi',\n",
       " '90000',\n",
       " '25786',\n",
       " '55555',\n",
       " 'ooooo',\n",
       " 'fhkbhj',\n",
       " '111111',\n",
       " 'thbdjs',\n",
       " '122235',\n",
       " '......',\n",
       " 'hhbkbh',\n",
       " '234327',\n",
       " 'guvffy',\n",
       " 'hshshs',\n",
       " '701707',\n",
       " 'ipi648',\n",
       " 'wfolxx',\n",
       " '1234544',\n",
       " '66ggfd8',\n",
       " 'lt75116',\n",
       " '5784336',\n",
       " 'hehshsh',\n",
       " '135gfjjf',\n",
       " 'vr234678',\n",
       " '22222222',\n",
       " '78864588',\n",
       " 'w111111w',\n",
       " '99991578',\n",
       " '4132e889',\n",
       " 'suratshi',\n",
       " 'rr-685mm',\n",
       " 'bv3492708',\n",
       " 'am5618651',\n",
       " 'ze0001246',\n",
       " 'av3021076',\n",
       " '123456789',\n",
       " '599979594',\n",
       " 'sf5158747',\n",
       " 'am5564435',\n",
       " '123455689',\n",
       " 'am5702559',\n",
       " 'bv3215308',\n",
       " '599429041',\n",
       " '598979593',\n",
       " 'am3514338',\n",
       " 'ov1426437',\n",
       " 'rv0754115',\n",
       " 'ffi64rfhb',\n",
       " 'bp9019629',\n",
       " 'bv7383837',\n",
       " 'ov1099549',\n",
       " 'agg2281891',\n",
       " 'gg3s109798',\n",
       " 'rg41000604',\n",
       " '6554323778',\n",
       " '3582090597',\n",
       " 'geocapital',\n",
       " 'gb21400914',\n",
       " 'rt41001447',\n",
       " '4160287272',\n",
       " 'wd12cd1289',\n",
       " 'vfgutf?)53',\n",
       " 'dfhhshjfar',\n",
       " 'rr1-1501963',\n",
       " 'suratebshia',\n",
       " 'cv5w0103389',\n",
       " '11111111111',\n",
       " 'tygr46teffy',\n",
       " 'pd6w-1002803',\n",
       " 'nhp106089876',\n",
       " 'nhp106195389',\n",
       " 'wdf164270543',\n",
       " 'scp130012282',\n",
       " 'ty53533535jj',\n",
       " '454545554545',\n",
       " '123445555666',\n",
       " 'ggw7654ub66r6',\n",
       " '89935bkkihvvvk',\n",
       " '26849e777w67r99',\n",
       " 'jtdkn3du7a009592',\n",
       " 'knagm4d7c5032167',\n",
       " 'wba3b3g53fn88474',\n",
       " '5uxfg83599lz9302',\n",
       " 'wvwzzz3cbe739168',\n",
       " '4t1bf1fk7fu03333',\n",
       " 'wvav3ax7dw569977',\n",
       " 'nissan micra 1.4',\n",
       " 'kmhtc6ae3gu293912',\n",
       " 'jtnkhmbx7k1030253',\n",
       " '4jgda5jb2jb095271',\n",
       " 'jn8af5mv2dt218035',\n",
       " 'jtjbt20x780149121',\n",
       " 'wa1vfcfp8ba097076',\n",
       " '5uxzw0c57cl664603',\n",
       " '4t1bd1fk3eu107695',\n",
       " 'jtedc3eh1c2004166',\n",
       " '4t1bd1fk2cu027785',\n",
       " '3vw267aj4gm227302',\n",
       " '1g1rh6e40du104154',\n",
       " '3vwdx7aj9cm077073',\n",
       " 'wdctg4gb2fj079420',\n",
       " '4t1bd1fk5eu128824',\n",
       " 'jthkd5bh6c2081249',\n",
       " 'wddhf9cb6ea909287',\n",
       " 'jtjjm7fx4c5046702',\n",
       " '5npd74lf0hh205109',\n",
       " '3tmju4gn9em157368',\n",
       " '1g1rc6s54hu170417',\n",
       " '5uxzw0c5xcl673473',\n",
       " 'wdctg4eb7jj507512',\n",
       " 'jtdkn3du2d5580904',\n",
       " 'jf2shaec5ch451586',\n",
       " 'jtjjm7fx8f5099147',\n",
       " '5uxzw0c5xcl665129',\n",
       " 'wdd1k6fb4jf033937',\n",
       " '3vwb07aj0fm309074',\n",
       " 'wddhf8hb7aa193979',\n",
       " 'jm1ndab74g0110909',\n",
       " 'wmwxu3c53g2d28085',\n",
       " 'kmhec4a49ba004756',\n",
       " '1fmcu02z48ke62232',\n",
       " 'jf1va1e67g9808542',\n",
       " '3vw1k7aj6em438747',\n",
       " 'wddhf5kb2ea906655',\n",
       " 'jteew41a082007383',\n",
       " 'jthbf1d2xf5068793',\n",
       " '3fa6p0pu3fr241788',\n",
       " '4t1bd1fk7eu114553',\n",
       " 'jn8af5mr1et451232',\n",
       " 'nmtkhmbx0jr025383',\n",
       " 'kmhdh4ae9eu172020',\n",
       " 'jthkd5bh0b2001541',\n",
       " '5uxks4c56e0j95478',\n",
       " 'wdctg4ebxjj417612',\n",
       " 'wa1bfcfs7gr020893',\n",
       " '1fmcu593x9kb01247',\n",
       " 'jtjbm7fx4j5194947',\n",
       " '5tfrm5f16hx119294',\n",
       " 'wdctg4eb1gj224421',\n",
       " 'jtdkn3du7d1701272',\n",
       " 'wddhf8hb1ba283369',\n",
       " '2g1fe1e33e9179127',\n",
       " 'jtnb11hk4j3012620',\n",
       " '3vw467aj2cm122826',\n",
       " '4t4bf1fk2dr307417',\n",
       " '4t1bd1eb0fu036572',\n",
       " '4t1bd1fk9du083479',\n",
       " 'wmwzc3c53fwt01887',\n",
       " 'wddzf4jb8ha110111',\n",
       " '1g1pc5sh7b7297440',\n",
       " '3vw467aj8dm231647',\n",
       " '4jgbb2fb8ba634012',\n",
       " 'wbakb4c56bc574585',\n",
       " '5uxfg8c52alz94855',\n",
       " '5tdbk3eh5cs093280',\n",
       " 'jtdkn3du9c1563006',\n",
       " 'wddhf8hb2ba301698',\n",
       " '5tfcz5anxjx154024',\n",
       " 'wba3c1c55ek111072',\n",
       " '4a4ap3au9fe012512',\n",
       " '1g1rg6e49eu168682',\n",
       " '5npdh4ae7eh463095',\n",
       " '4t1bd1eb4fu039068',\n",
       " 'wbxht3c35gp889903',\n",
       " 'kmhec4a4xca059394',\n",
       " '3tmaz5cnxgm011030',\n",
       " '4jgbb5gb7ba702221',\n",
       " '3vwll7aj6dm289017',\n",
       " 'jteew41a992036866',\n",
       " 'jthbb1ba2a2033360',\n",
       " 'jtjbjrbz3g2034242',\n",
       " 'kmhec4a44da077097',\n",
       " 'jthkd5bh5b2018772',\n",
       " '3vwdb7aj3hm377424',\n",
       " '2t2bk1ba2cc145965',\n",
       " '1j4ba3h16bl527279',\n",
       " 'jtjjm7fxxf5097206',\n",
       " 'jthhe5bc0h5016219',\n",
       " 'wddkk7df8df193176',\n",
       " 'km8jucac2cu421035',\n",
       " '1fmcu59h58ka30095',\n",
       " 'jtdkdtb38d1542694',\n",
       " 'jtedc3ehxc2005557',\n",
       " 'jtnb11hk1j3025308',\n",
       " 'jtdkn3du9a5111000',\n",
       " 'wddhf8hb4aa068227',\n",
       " '4t1bd1fk7cu018905',\n",
       " 'wddhf5kb0gb278494',\n",
       " 'kmhec4a4xba006905',\n",
       " '4jgda2eb9ca072099',\n",
       " 'jn8af5mv1ft558196',\n",
       " '5uxzv8c52dl898831',\n",
       " 'wauafafl2en001085',\n",
       " 'jhmze2h7xas013008',\n",
       " '1fmcu9c79akd11782',\n",
       " '4jgbb86ex8a301803',\n",
       " '5uxzw0c55cl664583',\n",
       " 'wauwgbfc2en005548',\n",
       " '2t2zzmca2gc010761',\n",
       " 'jthkd5bh4b2028516',\n",
       " 'jtjbm7fx9a5000610',\n",
       " '3fa6p0lu5dr368576',\n",
       " 'jtdkn3du8f0414984',\n",
       " '5uxzw0c56cl664723',\n",
       " 'wddkj5gb8bf119446',\n",
       " '5uxzw0c55d0b90432',\n",
       " '4jgfb4jb5la122598',\n",
       " '5npd84lf5hh024682',\n",
       " 'jf2sjaxc1gh416017',\n",
       " 'jf2shaec5ch426610',\n",
       " '2t2bk1ba6ac030184',\n",
       " 'wbafr1c50bc749036',\n",
       " 'wddhf8jb5da739855',\n",
       " 'wddug8fb9ga246740',\n",
       " '3vwdp7aj6cm311315',\n",
       " 'wddhf5kb8da732315',\n",
       " 'jtdkn3du4a0025767',\n",
       " '1vwbm7a39ec103466',\n",
       " '1c3cdzab5dn551754',\n",
       " 'jtdkn3du4e0380234',\n",
       " '2t2bk1ba3fc326903',\n",
       " '5uxku6c5xj0z66623',\n",
       " 'wa1lmafe2bd008827',\n",
       " 'jtjbm7fx6c5039397',\n",
       " 'km8ju3ac3cu478294',\n",
       " '3vwl17ajxgm365056',\n",
       " '2t2bgmca4kc033698',\n",
       " '4jgda5jb3ha874761',\n",
       " 'jtjjm7fx4d5050458',\n",
       " '4t1bd1fk3eu118258',\n",
       " 'jf2gpawc0d2891257',\n",
       " '5nms2cad5lh138062',\n",
       " '3fa6p0lu3er118092',\n",
       " '4jgbb22e88a325164',\n",
       " 'wau2gafc5en092452',\n",
       " '5npdh4ae8eh476938',\n",
       " 'w0l0tgf35w8073295',\n",
       " 'jtdkn3du8a0195890',\n",
       " 'jf2shabc1dh433088',\n",
       " 'wa1bfcfs3fr005984',\n",
       " 'jthkd5bh3d2169564',\n",
       " '5uxzw0c55cl669802',\n",
       " '1fmcu59h88kb10443',\n",
       " 'kmhdh4ah6gu489136',\n",
       " '3fadp4tjxgm171117',\n",
       " 'wba8e9c58gk644504',\n",
       " 'jn8af5mv8ft565937',\n",
       " 'jtdkn3du1a0208494',\n",
       " '3fa6p0lu7dr193845',\n",
       " 'jthkd5bh8c2121850',\n",
       " 'wddhf7hb4aa116125',\n",
       " 'jn8af5mr8dt205132',\n",
       " '1fmcu59h88kc01972',\n",
       " 'jn8af5mr2ht702375',\n",
       " '5tfjx4gn4dx026901',\n",
       " 'wauw2afc9gn015893',\n",
       " 'jtjjm7fx2c5048318',\n",
       " '1g1rd6e48bu103861',\n",
       " '2t2zk1ba4fc207563',\n",
       " 'wdctg4eb6ku013755',\n",
       " 'jtdkn3du5b5352229',\n",
       " 'jtees43a592113435',\n",
       " 'wba3b1c5xfk137235',\n",
       " 'jf2sjadc8fh488853',\n",
       " '1zvbp8an5a5132301',\n",
       " 'jtjbm7fx4b5035203',\n",
       " 'wddzf4jb6ha156309',\n",
       " 'jtdkn3duxd5612272',\n",
       " 'jtedc3eh7d2012693',\n",
       " '5tfnx4cn9dx026495',\n",
       " '3vwd17aj3em361335',\n",
       " 'kmhec4a43da090665',\n",
       " 'jtdkn3du0d5652456',\n",
       " 'jthkd5bh6d2167145',\n",
       " '1g1ze5st2gf356026',\n",
       " '1fmcu0g9xdub63335',\n",
       " 'wa1lgbfe0dd002539',\n",
       " '1fadp3f20el223027',\n",
       " '4jgda5jb8ha908015',\n",
       " 'wddhf8hb5ba454527',\n",
       " '4jgbf7be5ba745313',\n",
       " 'jtdkn3du8b1363698',\n",
       " 'wa1anafy8k2121627',\n",
       " 'jf2shbbc1ch426436',\n",
       " '3tmmu4fn8bm028158',\n",
       " 'wbafr7c51bc604350',\n",
       " 'jtjzb1ba2d2009433',\n",
       " 'wa1efcfs8gr015702',\n",
       " 'wdctg4eb3hj329043',\n",
       " '5tddz3dc6ks225942',\n",
       " 'jtedc3ehxc2010046',\n",
       " 'wauwgafc8en041531',\n",
       " 'wba3c1c53cf434462',\n",
       " '3vw267ajxgm221732',\n",
       " '1fa6p8cf2h5212438',\n",
       " '5tddcrfh9gs019499',\n",
       " 'jtjbm7fx8d5057546',\n",
       " 'jtejw3eh4a2038870',\n",
       " 'jtjjm7fx2c5049436',\n",
       " 'wauggafc0cn131550',\n",
       " 'jf2gpadc7f8214838',\n",
       " '1ftew1ef5ffb69024',\n",
       " '2g1fk3dj7f9296909',\n",
       " '1g1pe5sb3g7119232',\n",
       " 'wa1lgafe9bd005219',\n",
       " '4jged6eb3ha073548',\n",
       " 'jtdkn3du5a0222379',\n",
       " '1g1pe5sb2f7185236',\n",
       " 'wa1d7afp8ga016808',\n",
       " '1g1rc6s52hu113956',\n",
       " '4jgda5hb9ca026494',\n",
       " '1g1rb6e45eu142174',\n",
       " 'jtjbm7fx8f5097919',\n",
       " 'jtdkarfu8h3031964',\n",
       " '5npdh4ae8gh687690',\n",
       " '3fa6p0hr0dr160514',\n",
       " 'jtdkn3duxe1790319',\n",
       " 'jtdkn3duxc1580378',\n",
       " 'jtmrfrev4fd160737',\n",
       " 'wau3gafc3dn140890',\n",
       " '1fmcu593x9kc56266',\n",
       " 'km8ju3ag9fu103324',\n",
       " 'jtdkdtb38d1537009',\n",
       " '1g1bc5sm4g7321854',\n",
       " '1g1rc6s54hu214013',\n",
       " '5npdh4ae0eh512427',\n",
       " 'jtjbm7fx2b5020702',\n",
       " 'wddhf5kb2ca642284',\n",
       " '1vwat7a39fc072347',\n",
       " '4t1bf1fk8du247573',\n",
       " 'jtedc3eh0d2016956',\n",
       " '5npec4ac7bh301884',\n",
       " 'wp1aa2ay2kda15790',\n",
       " '4t1bf1fk5eu737910',\n",
       " 'wp0cb2a94ds156004',\n",
       " '4jgda2eb8fa476886',\n",
       " '3fa6p0lu8dr303835',\n",
       " '1yvgf22c2w5764020',\n",
       " 'wddhf9abxba314585',\n",
       " 'kmhe24l13ga022523',\n",
       " 'jtjbm7fx1b5022893',\n",
       " '5xxgr4a69eg270879',\n",
       " '5tdbk3eh4bs056462',\n",
       " '4t1bd1fk7du079592',\n",
       " 'km8j33al2ku915185',\n",
       " '4t1bk1fkxcu007614',\n",
       " 'wddzf4jb6ha231221',\n",
       " 'wba3a5g50dnp23667',\n",
       " 'km8ju3ac3bu144992',\n",
       " '5uxzv4c52bl410483',\n",
       " '1g1rh6e44eu163032',\n",
       " 'wddhf8jb4ea808553',\n",
       " 'kmhd74lf0hu116173',\n",
       " 'kmhec4a42ca028897',\n",
       " 'jteew44a782014472',\n",
       " 'jthkd5bh6e2180401',\n",
       " '2t2zk1ba9fc186872',\n",
       " 'jthkd5bh0c2096135',\n",
       " '3fa6p0k98fr219501',\n",
       " 'jtmbfrev1ed091537',\n",
       " '4jgda5hb0ca007476',\n",
       " 'jtedc3eh2d2017512',\n",
       " 'jtedc3eh7c2006620',\n",
       " '1fadp5bu9dl548275',\n",
       " 'ja4ap4au8bz021082',\n",
       " '4t1bf1fk7eu855019',\n",
       " 'jtjbt20x390178701',\n",
       " 'jtdkdtb33e1064086',\n",
       " '4t1b31hk1ju500959',\n",
       " '5uxks4c57e0j94856',\n",
       " 'wp0ab2a76al060340',\n",
       " '5npe24af5hh582556',\n",
       " 'kmhd04lbxhu292004',\n",
       " 'wddhf8hbxba447704',\n",
       " 'jthcl5ef0d5015510',\n",
       " '4t1b11hk5ku696752',\n",
       " '3fadp4bj9gm120323',\n",
       " 'jthbb1ba7a2036948',\n",
       " 'km8j3ca23gu105353',\n",
       " 'jf1gpaz67f8246969',\n",
       " '2t3rfrev7hw610290',\n",
       " 'km8j3ca4xgu183971',\n",
       " '1zvbp8cfxe5324244',\n",
       " 'wddhf8jb5ca608441',\n",
       " '5tfju4gn4ex057267',\n",
       " 'jtmbf4dv1a5027345',\n",
       " '5tfnx4cn6cx017090',\n",
       " 'jtjzb1ba3a2000123',\n",
       " 'wba5a7c57fg142927',\n",
       " 'wdctg4ebxfj184855',\n",
       " '1g1be5sm0h7210777',\n",
       " '4t1bf1fk7eu454361',\n",
       " 'jtdzn3eu6c3038924',\n",
       " 'jtdkn3du8c1599317',\n",
       " '5npdh4ae5gh659586',\n",
       " 'km8j33a24gu249123',\n",
       " 'wddhf8jb8ea987471',\n",
       " '3fa6p0ru3fr184036',\n",
       " 'wbakf9c59be247152',\n",
       " 'jtdkn3du6c5439638',\n",
       " 'wdbuf56x99b409860',\n",
       " '2t3bf4dv3cw189795',\n",
       " 'jf2sjahc0eh403447',\n",
       " 'jn8af5mv9dt207307',\n",
       " 'nmtkhmbx3jr016127',\n",
       " 'jtjbc1baxa2012476',\n",
       " '2t2bzmca3gc047304',\n",
       " '1vwdt7a35hc074788',\n",
       " 'wddhf8hb1ba285798',\n",
       " 'wdctg4ebxjj464297',\n",
       " '1g1be5sm8h7181657',\n",
       " 'wddhf8hb5aa210875',\n",
       " '2t2zzmca3gc021395',\n",
       " '4jgda2eb7ca029302',\n",
       " 'wa1dgafe5cd004834',\n",
       " 'jtdkn3du9a0182260',\n",
       " 'wddhf8jb8ca554147',\n",
       " 'km8ju3ag5eu902872',\n",
       " '1fmcu5k31bkb48814',\n",
       " '5npdh4ae4fh599430',\n",
       " '4t1b61hk3ju012782',\n",
       " '2c3cdxhg7eh318538',\n",
       " 'ja4ad2a30jj003614',\n",
       " '4t1bd1fk3cu027794',\n",
       " '4t1bf3ek2au014815',\n",
       " '5xyktda23dg416017',\n",
       " 'jf2gpacc0e8314506',\n",
       " 'jf2sjgxc5gh524207',\n",
       " 'js2yb5a3xc6300686',\n",
       " '3fadp4aj3em139318',\n",
       " 'wp1ab2a5xjlb37210',\n",
       " '5tfuy5f13dx286821',\n",
       " 'jtmjfrev2jj744321',\n",
       " '3vwll7aj8dm373016',\n",
       " '2t2zk1ba1dc101231',\n",
       " '1fadp3f26el353104',\n",
       " 'km8jt3af1fu075268',\n",
       " '3vwd17aj0em414069',\n",
       " 'wa1lfafp9fa130409',\n",
       " 'jtdkn3du8a0008857',\n",
       " '1g1be5sm6h7202442',\n",
       " 'wddhf5gb1ba367109',\n",
       " '3vwla7aj9fm284824',\n",
       " '1g1rb6e49eu172620',\n",
       " '4jgab75e75a567847',\n",
       " 'nmtkhmbx6jr061630',\n",
       " 'jtdkn3du0d0354065',\n",
       " 'jtdkn3du0a0210365',\n",
       " 'wbaxa5c5xed691065',\n",
       " 'wddhf8jb8ea956625',\n",
       " '1n4al2apxan427389',\n",
       " 'jn8af5mv7gt650608',\n",
       " '3vwd17aj4fm324036',\n",
       " 'wbadx7c52de746386',\n",
       " '1fadp3f28dl264567',\n",
       " 'jtjjm7fx6f5100666',\n",
       " 'kmhec4a42fa119138',\n",
       " 'wa1dkafp1ba093981',\n",
       " 'wdctg4gb0fj070036',\n",
       " '4jgda5jb4ga661445',\n",
       " 'jf2sjaec9hh417646',\n",
       " '2t3zf4dv8cw118087',\n",
       " 'jtdkn3du8a0196232',\n",
       " 'jtdkn3du4a0021539',\n",
       " 'wa1wmafe1bd000957',\n",
       " 'wddhf8hb3aa137909',\n",
       " 'jtjbm7fx4d5053428',\n",
       " 'wfonxxwpdn3c49306',\n",
       " 'wa1lfafp9ca107319',\n",
       " '4t1bd1fk6eu137614',\n",
       " '4jged6eb5ga031316',\n",
       " '4t1bd1fk3cu025902',\n",
       " 'jn8af5mv1ct121908',\n",
       " '5tdjkrfh5es064037',\n",
       " '2g1fk1ej9f9217727',\n",
       " '3fa6p0h91dr345879',\n",
       " '5tdzk3eh1cs079830',\n",
       " 'wbafr7c59bc800018',\n",
       " 'waudg74f45n060746',\n",
       " '5uxkr0c52j0x97485',\n",
       " 'jn8af5mv4dt232048',\n",
       " 'jthkd5bh2b2007325',\n",
       " 'wddhf8jb9ea927733',\n",
       " '4t1bd1fk1cu046232',\n",
       " 'wddhf8hb3ba306330',\n",
       " '3vwd17aj6em434018',\n",
       " 'wbaya6c58dd143543',\n",
       " 'jtjhw31u872032517',\n",
       " 'wdbuf22x98b311589',\n",
       " '1g1rc6s56ju143659',\n",
       " 'jn8af5mv1ct113131',\n",
       " 'jtdkdtb3xc1019577',\n",
       " '3vwc57buxkm159015',\n",
       " '4jgbb8gb6ba733798',\n",
       " 'kmhec4a41ca054505',\n",
       " 'wddhf5gb3aa042671',\n",
       " '5npdh4ae4ch087047',\n",
       " 'jteew44a082021375',\n",
       " 'jtjbm7fx0j5210027',\n",
       " '5yfburhe3fp286362',\n",
       " 'wddkk5kf9cf162539',\n",
       " '3c3cffkh4jt533513',\n",
       " 'wdbuf56x18b322968',\n",
       " 'jteew41a382019673',\n",
       " '3vwdx7aj5dm450272',\n",
       " 'waugfafc6en033886',\n",
       " '2g1fd1e35f9264975',\n",
       " '1fatp8uh0g5231829',\n",
       " '1fa6p8cf8f5418697',\n",
       " 'jtdkn3du3c5421503',\n",
       " '3g1be6sm1hs603971',\n",
       " '1fa6p8th8h5276792',\n",
       " 'jf2shaec4dh415664',\n",
       " 'wp0aa2a78cl072236',\n",
       " 'jtejw3eh6a2040118',\n",
       " 'jtdkb20u387756507',\n",
       " '2hgfc2e55hh004331',\n",
       " 'jtdkn3du5a0239182',\n",
       " 'jtdkn3du3e1767206',\n",
       " 'jf2gpagc1d2874546',\n",
       " '4jgda5hb4ca026421',\n",
       " 'jtjbt20x580153474',\n",
       " 'jhmge8h5xdc052365',\n",
       " '5uxks4c57f0n07065',\n",
       " '5teuu4en2az734674',\n",
       " '5tddk3eh6cs162096',\n",
       " '5tfdz5bn3gx013176',\n",
       " '1fmcu0d75bkb59981',\n",
       " '5uxzw0c55d0b96411',\n",
       " '1c4pjmakxcw209251',\n",
       " 'jteew41a882001637',\n",
       " 'wa1wkafp9ca023509',\n",
       " 'jf2sjapc8eh448119',\n",
       " 'wddhf5kb1ea887922',\n",
       " 'jm3tb3cv0b0306965',\n",
       " '4t1bd1fk4du085902',\n",
       " '4t1bd1fk7cu062418',\n",
       " '2t3bfrev5hw639675',\n",
       " 'jf2sjadcxgh511728',\n",
       " 'wddhf8jbxfb164701',\n",
       " 'jf1va2l69f9836432',\n",
       " '1fadp5bu8dl511606',\n",
       " '3fa6p0uu8er269721',\n",
       " 'jtjbt20x980154756',\n",
       " 'jthkd5bh3g2254599',\n",
       " 'jtdkn3du3c5419900',\n",
       " 'jtdkb20u797860757',\n",
       " 'jf2shbec6ch442692',\n",
       " 'jn8af5mv4dt208302',\n",
       " 'jtdkn3du5e0373812',\n",
       " '1g1rh6e49eu162281',\n",
       " 'nmtkhmbx7jr043976',\n",
       " 'jtmrfrev4gj102615',\n",
       " '3vwdp7aj4dm282611',\n",
       " 'km8ju3ac5cu488311',\n",
       " 'wdctg4eb9ku012339',\n",
       " '1fadp5au4dl521115',\n",
       " 'jn8af5mr5bt006214',\n",
       " 'jtjbm7fx8d5059586',\n",
       " 'jtjhw31ux82050955',\n",
       " 'jtdkn3du8e1788598',\n",
       " '1fadp5bu5dl531795',\n",
       " '3vwsf81k26m685711',\n",
       " '2c3cdzbt7kh642148',\n",
       " '2t2bk1ba1ac025796',\n",
       " 'km8ju3ac9du555784',\n",
       " '1g1re6e48du118196',\n",
       " '1g1fh1r74j0121360',\n",
       " '4t1bd1fk7du096523',\n",
       " '5tfaw5f11ex404732',\n",
       " '5uxkr0c54e0k50319',\n",
       " 'jtdkn3dp1d3044113',\n",
       " '1vwat7a32gc064432',\n",
       " '1g1rd6e41bu101739',\n",
       " 'wa1l2afp5ha084074',\n",
       " '4jgbb2fbxba703004',\n",
       " '1vwba7a33jc028766',\n",
       " 'kmhct5ae2hu344182',\n",
       " 'kmhe54l27ga031547',\n",
       " 'wdb2020862f665918',\n",
       " '1fmcu49399kd10425',\n",
       " '4t1bf1fk4eu819658',\n",
       " 'salsf2d47ba286077',\n",
       " 'jf2sjgdc5eh515282',\n",
       " '1fadp3f20hl267937',\n",
       " 'xta21214081885262',\n",
       " 'wddhf8hb0aa226692',\n",
       " 'jtedc3eh4c2005635',\n",
       " '3fa6p0g75fr126474',\n",
       " '1vwat7a39hc073033',\n",
       " 'wddzf4kb4ha075663',\n",
       " 'jm3er2b53b0359854',\n",
       " 'jtdkn3dp4d3034563',\n",
       " 'wddhf8jb2ca565936',\n",
       " 'wba5b1c5xed917120',\n",
       " '2g1fa1ed5b9152009',\n",
       " '1g1pe5sb5g7128157',\n",
       " 'jtjbc1ba8a2407241',\n",
       " '5tfdw5f11fx481812',\n",
       " 'jtejw3eh5a2048016',\n",
       " 'jn8af5mr9gt608945',\n",
       " '4usfe83517ly66956',\n",
       " 'jtdkn3du0e1754719',\n",
       " 'jthkd5bh4f2213221',\n",
       " 'jf1gh6d66bg817076',\n",
       " '5uxzv4c53bl408516',\n",
       " '3vwll7aj0em380799',\n",
       " 'jhmze2h56as035781',\n",
       " '2t1burhe8gc707011',\n",
       " 'wdbuf87x49b402962',\n",
       " '1c3cdfebxfd422300',\n",
       " '4jgda5gb4kb214754',\n",
       " '1fmcu59339ka33809',\n",
       " '3fa6p0ru5gr356360',\n",
       " 'jtdkb20u687714249',\n",
       " 'jtjhw31u682070233',\n",
       " 'jtdkn3du3f0417095',\n",
       " 'jtjbm7fx8b5034653',\n",
       " '4t1bf1fk4cu169887',\n",
       " 'kmhec4a41ca036988',\n",
       " '5xxgn4a79dg111850',\n",
       " '2g1fe1ed3b9128859',\n",
       " 'kmhfh4jg0da301417',\n",
       " 'wp1ad2ap0ala61671',\n",
       " 'jf2sjgmcxeh552831',\n",
       " 'wa1anafy2j2013955',\n",
       " '2t2bk1ba8bc098391',\n",
       " 'kmhec4a45ca046570',\n",
       " 'jteew44ax92036323',\n",
       " '5npe34af6fh108173',\n",
       " 'wdctg4eb5ku005873',\n",
       " 'wp1aa2ay4kda08162',\n",
       " 'jf2shgac6dh423029',\n",
       " '1g1rh6e41eu112541',\n",
       " 'wdctg4gb7hj350166',\n",
       " '1g1rb6s55hu110715',\n",
       " 'jf2sjagc9fh587662',\n",
       " '3vwd17aj2em274039',\n",
       " 'jtjjm7fx7a5004974',\n",
       " 'jthkd5bh7g2262785',\n",
       " 'wbafv3c50ed684341',\n",
       " 'kmhec4a47ba001659',\n",
       " 'jhmze2h76as009361',\n",
       " '5tfrz5cn7kx082594',\n",
       " 'jtjbm7fx8b5020476',\n",
       " '5uxju2c55kln65582',\n",
       " '4t1bf1fk6cu170717',\n",
       " '1n4az0cp5dc413397',\n",
       " 'jn8af5mr8et362662',\n",
       " 'jtdkb20u173259087',\n",
       " '4jgda7fb1ha832741',\n",
       " 'wa1cgafexfd021967',\n",
       " '1c4rjfbmxfc210071',\n",
       " '1fmcu49h48ke43328',\n",
       " '2c3cdzag2gh351908',\n",
       " '3c3cffkr4gt144825',\n",
       " 'jtdkn3du2d5619233',\n",
       " 'jtdkbrfu8g3509991',\n",
       " 'wa1dgafe8fd016111',\n",
       " 'wa1c8afpxda058739',\n",
       " 'jtdkb20u477575107',\n",
       " 'jtjbarbz2f2044792',\n",
       " '3vwlz7aj1bm392132',\n",
       " 'ja4ar3au6hz066938',\n",
       " '3mzbm1u75gm305170',\n",
       " '1g1be5sm3g7236885',\n",
       " 'wbapl5c5xba921226',\n",
       " 'jm3ke2be7f0452929',\n",
       " '4jgda5jb2ha840889',\n",
       " '3vwva7at5cm641678',\n",
       " '1j4gzb8s9rc241275',\n",
       " '5tftu4cn1dx001672',\n",
       " '1g1rd6e40cu111826',\n",
       " '1g1bc5sm0h7264070',\n",
       " '1g1ph5sb5e7189058',\n",
       " '4t1bd1fk5cu039087',\n",
       " 'jm1bm1k73g1280529',\n",
       " '5uxks4c57f0n10712',\n",
       " '4jgbb2fb8ba748933',\n",
       " 'jthkd5bh8c2097064',\n",
       " 'jn8af5mr1dt215890',\n",
       " '1fadp3f21el353706',\n",
       " '1c4bjwcg1hl508571',\n",
       " 'jtdkb20u593497074',\n",
       " '5tfum5f13gx065879',\n",
       " '3fa6p0ru6er303308',\n",
       " 'jthkd5bh1d2162998',\n",
       " 'wmwlu5c53h2e80752',\n",
       " 'kmhtc6ae7du109972',\n",
       " 'jm3ke2be9e0333472',\n",
       " 'jthbw1gg8d2014477',\n",
       " 'wbabt51020lr86932',\n",
       " 'jtejw3eh6a2045626',\n",
       " 'jthbk1gg0g2243560',\n",
       " 'nmtkhmbx4kr071848',\n",
       " 'wbafr7c59bc608565',\n",
       " '4jgda5jb8ha845563',\n",
       " '5tdyk3dc5bs123585',\n",
       " 'jtedc3eh4b2003544',\n",
       " 'jhmze2h70bs005453',\n",
       " 'jn1cv6ap1dm300337',\n",
       " 'jhmze2h74cs004095',\n",
       " 'wbakc8c57bc432637',\n",
       " 'wdbuf65j24a446668',\n",
       " '4jgda5hb9ca026317',\n",
       " 'jn8af5mv3ct128004',\n",
       " 'jtdkn3du8c1512824',\n",
       " '1fmcu49349kc24570',\n",
       " '4jgbb8gb8ba741868',\n",
       " 'jtdkdtb31e1557832',\n",
       " '3fa6p0lu9er291468',\n",
       " 'wbaav32050ft25919',\n",
       " 'km8j33a21ju677058',\n",
       " 'wa1laaf78hd016871',\n",
       " '3fa6p0hr0dr107019',\n",
       " '4t1bf1ek0du225213',\n",
       " '1g1fe1r78g0148983',\n",
       " 'jtdkn3du3a0052099',\n",
       " '2g1fb1e3xd9151042',\n",
       " 'jthkd5bh0c2106727',\n",
       " '1fmcu4k38akb55199',\n",
       " '5uxtr7c50klf30703',\n",
       " 'wddzf4jb7ka516324',\n",
       " 'wdb2037351a253892',\n",
       " '3fa6p0d99er353414',\n",
       " '5npec4ac2dh558261',\n",
       " 'wa1dgafp2ea026151',\n",
       " 'jtjbt20x190174517',\n",
       " 'jtdkb20u177607401',\n",
       " '1c3cdfba6dd331033',\n",
       " '5xxgr4a65eg343763',\n",
       " 'jtjbm7fx2f5107991',\n",
       " '1fahp3m26cl425114',\n",
       " '3tmcz5an4km208053',\n",
       " '2t2gk31u28c031047',\n",
       " 'wa1dgafp3fa060410',\n",
       " 'jthkd5bh0g2258643',\n",
       " 'jtjbm7fx4e5082266',\n",
       " 'jhmze2h7xas019780',\n",
       " 'jtdkn3du3c1521625',\n",
       " 'wddhf2ebxba288958',\n",
       " '5uxkr2c39h0u22018',\n",
       " 'kmhdh4ae5du797352',\n",
       " 'wmwzc3c50ewt01229',\n",
       " '5xykt4a60dg355132',\n",
       " 'wp1aa2a52jlb23983',\n",
       " '5ymgz0c50blk14054',\n",
       " '1c4rjfcm7fc770242',\n",
       " '4jgda7db2ca051819',\n",
       " '4jgda5jb9ha843093',\n",
       " '1fmcu4k39akb79639',\n",
       " 'wddwj8gb9jf637566',\n",
       " '4t1bd1fk4cu049917',\n",
       " 'jf2shacc1dh426043',\n",
       " 'wddhf5gb8ba406780',\n",
       " '3fa6polu5dr202509',\n",
       " 'jhmze2h57as029004',\n",
       " '5npe24af0gh346945',\n",
       " 'jtdkarfu3h3035694',\n",
       " '5tdzz3dc8hs781524',\n",
       " 'kmhec4a44ca054336',\n",
       " 'wddhf8hb1ba295277',\n",
       " '4jgda5hb2ha914818',\n",
       " '2t2bc1ba9fc004277',\n",
       " '3fadp0l34br110335',\n",
       " 'wddhf2eb3ba447724',\n",
       " 'jtjjm7fx5a5008036',\n",
       " '1g1rd6e43cu105745',\n",
       " '1fmcu59h28kb58469',\n",
       " 'knagm4a71c5294020',\n",
       " 'jtdkn3du0b0280448',\n",
       " '1fmcu4k35cka22242',\n",
       " 'jtdkn3du2b5351023',\n",
       " 'jteew44a892027474',\n",
       " 'kmhtc6ae6gu274612',\n",
       " 'wdctg4eb1ku001643',\n",
       " '4jgdf7ee4ea413100',\n",
       " '4jgbb8gb9ba685567',\n",
       " 'jtjbt20x980155227',\n",
       " 'wbahl61010dn93983',\n",
       " '1zvbp8em6c5223713',\n",
       " '4t1bf1fk9hu325929',\n",
       " '3vw3l7aj7cm092033',\n",
       " 'wddsj4eb1en064569',\n",
       " 'wba3c3c56ep662710',\n",
       " 'sallaaa188a447172',\n",
       " 'km8ju3ac4cu530984',\n",
       " '4t1bf1fk2du679284',\n",
       " '1vwcm7a36hc056101',\n",
       " 'wddkk5gf0bf075118',\n",
       " 'wddhf8jb4eb006031',\n",
       " 'salmf11424a169467',\n",
       " '1vwat7a38ec116613',\n",
       " 'jteew44a282018302',\n",
       " 'jn1bv7ap0fm342485',\n",
       " 'jn8af5mr1dt216392',\n",
       " 'jhmze2h56bs009666',\n",
       " '3vw2k7ajxcm401900',\n",
       " 'wdctg4eb4jj498848',\n",
       " '4t1bk1fk9cu005465',\n",
       " 'kmhec4a41da087361',\n",
       " 'wddsj4eb7en034458',\n",
       " 'wdbuf87x58b186327',\n",
       " 'wp1ae2a2xgla60909',\n",
       " 'wddhf8hb8ba347519',\n",
       " 'vddhf8jb9ca648344',\n",
       " 'jtdkdtb39f1096820',\n",
       " '4t1bd1fk1cu017829',\n",
       " 'w0l000053sb021051',\n",
       " '3vwd17aj6gm270563',\n",
       " 'wba4j1c57jbm09840',\n",
       " '3tmmu4fn7dm053748',\n",
       " 'jtdkdtb38e1557715',\n",
       " 'jtdkb20u667538719',\n",
       " '3fa6p0ruxer124012',\n",
       " '3vwll7aj9cm359284',\n",
       " 'jf2gpbkc0eh322368',\n",
       " '5npd74lf9hh138011',\n",
       " '5uxwx9c55f0d60098',\n",
       " 'jtdkn3duxd0343736',\n",
       " 'wmwsu3c59bt098773',\n",
       " '5uxfe83528l167096',\n",
       " 'zff65lja9b0178420',\n",
       " 'jf1gjad64dh002394',\n",
       " 'jn8af5mv0ct124119',\n",
       " 'wa1lfafp8ca061109',\n",
       " 'jthkd5bh8c2120178',\n",
       " '4t1bd1fk8cu020940',\n",
       " 'kmhe24l16ga014254',\n",
       " '3c3cfffh2ht506086',\n",
       " 'jtdkn3du5b1409312',\n",
       " '1g1rf6e40cu123906',\n",
       " '2t2bgmca7kc034439',\n",
       " 'wauzzz4g6bn020426',\n",
       " '5npeb4ac5bh254177',\n",
       " '5uxkr0c51h0v49626',\n",
       " '1fatp8uh7j5132626',\n",
       " 'jtdkn3du2a1311353',\n",
       " 'kmhec4a43ca045949',\n",
       " '5uxkr0c5xf0k63514',\n",
       " '4t1bf1fk5gu610447',\n",
       " 'wbanv13548cz54312',\n",
       " 'wddhf8jb4da667160',\n",
       " 'wdbuf87x79b398986',\n",
       " 'jtjhw31u082862720',\n",
       " 'wa1vaaf79hd027516',\n",
       " '4jged7fbxha078783',\n",
       " 'jtdkdtb34f1086714',\n",
       " 'wa1dgcfp7da083620',\n",
       " 'wdbuf56x48b272129',\n",
       " '2t2bk1ba2ac073355',\n",
       " 'kmhec4a43da066611',\n",
       " '55swf4jb0fu058604',\n",
       " 'wdb9066351s196437',\n",
       " 'ja4ap3au9hz001975',\n",
       " 'wvgek9bp0cd009997',\n",
       " 'wddhf2eb0ba329839',\n",
       " 'nmtkhmbxxjr009921',\n",
       " 'jthkd5bh4e2189372',\n",
       " 'jf2gpavc4d2863706',\n",
       " '1vwcs7a39ec015625',\n",
       " 'wdf63829423477812',\n",
       " '4t1bd1fk9du080727',\n",
       " 'jf2shabc8ch438545',\n",
       " 'wddgf4hb4cr237865',\n",
       " 'jtjbm7fx5b5021360',\n",
       " 'nmtkhmbx7jr011156',\n",
       " 'wdctg4eb8hj287582',\n",
       " '3vw267aj0gm402306',\n",
       " 'kmhec4a46da078073',\n",
       " 'wdctg4gb1hj350535',\n",
       " '1vwah7a3xec005725',\n",
       " '5n1al0mn5dc319833',\n",
       " '1g1pe5sb1e7161363',\n",
       " '4t1bf1fk6eu377319',\n",
       " '3tmlu4en4dm110307',\n",
       " '3c3cffbr4et283060',\n",
       " '1vwat7a30gc048665',\n",
       " '1g1rb6e44eu157152',\n",
       " '1fmcu49h28kc00097',\n",
       " 'jtdkn3du2d0351555',\n",
       " '3n1ab7ap4gy274677',\n",
       " 'jf2gpapc6f8211277',\n",
       " 'jtdzn3eu3c3054725',\n",
       " '2g1fb1e3xd9149470',\n",
       " '4t1bf1fk2eu834837',\n",
       " 'kmhdh4ae3du915995',\n",
       " 'wvwbn7an3de512289',\n",
       " 'jtdkn3du1a0151858',\n",
       " 'jtjbc1ba5a2404989',\n",
       " 'jhmze2h79as019642',\n",
       " '1c4rjfbm6ec315592',\n",
       " '5npeb4acxbh040771',\n",
       " '1g1rd6e4xbu102131',\n",
       " '4jgbb5gb4aa619652',\n",
       " '5npd84lf6hh064625',\n",
       " 'jtdkn3du6d1674873',\n",
       " 'wdctg4eb8kj548734',\n",
       " 'jtdkn3du1e0380448',\n",
       " '2t2bk1ba7fc278886',\n",
       " '5npdh4ae1eh477168',\n",
       " 'jtdkn3du9d0342559',\n",
       " 'wdb2100631a588496',\n",
       " 'jtdkn3du8c1482899',\n",
       " 'jtjbc1ba9a2407216',\n",
       " '1vwap7a36dc072517',\n",
       " '1fmcu9d7xckb16808',\n",
       " 'jtjbm7fx4e5066889',\n",
       " 'jf2sjaac0eh442811',\n",
       " '4jgdf2ee6ea325720',\n",
       " 'jhmze2h52as003071',\n",
       " '2t2hk31u18c056168',\n",
       " 'wddgf4hb4dr285139',\n",
       " 'wddhf8jb4ea836241',\n",
       " 'kmhec4a48ca033165',\n",
       " 'wddgf81x58f193588',\n",
       " 'jteew44a382015635',\n",
       " 'wdb2110702a735181',\n",
       " 'wauffafl4dn018653',\n",
       " 'jtdkn3du4a0056954',\n",
       " 'kmhdh4ae2gu483436',\n",
       " 'wbanu5c52ac364500',\n",
       " '4t1bd1fk7eu120949',\n",
       " '5npdh4ae6dh414680',\n",
       " '5npdh4ae4dh266884',\n",
       " 'kmhec4a40da077629',\n",
       " '1g11d5rr2df107988',\n",
       " 'wdcyc6bj6kx302853',\n",
       " '1fadp3k2xel141442',\n",
       " '4t1bd1fk9cu057057',\n",
       " '1fadp3fe7jl234739',\n",
       " 'kmht36ah8ku002078',\n",
       " 'kmhec4a46ca042141',\n",
       " 'jf2gpacc4d2889600',\n",
       " 'jn8af5mv0ft558562',\n",
       " 'wba3n7c56ek220119',\n",
       " 'jtdkn3du1b5349277',\n",
       " 'jm3tb3bv4d0415286',\n",
       " 'jtdkdtb35f1579592',\n",
       " '1j4gl58k12w224574',\n",
       " 'kmhdh4ae7bu106531',\n",
       " '3czrm3h3xfg708248',\n",
       " '5npec4ab2dh741781',\n",
       " 'nmtkhmbx7kr078793',\n",
       " '1fahp3f22cl342793',\n",
       " 'ja4ar3auxhz045039',\n",
       " 'kmhdh4ae8gu594220',\n",
       " 'jthkd5bh1c2094684',\n",
       " 'jmzgf14p201120724',\n",
       " '5uxkr0c50jl072319',\n",
       " 'jtjjm7fx7g5137033',\n",
       " 'kmhec4a4xba008024',\n",
       " ...]"
      ]
     },
     "execution_count": 189,
     "metadata": {},
     "output_type": "execute_result"
    }
   ],
   "source": [
    "sorted(list(ctc.car_vin.unique()), key=len)"
   ]
  },
  {
   "attachments": {},
   "cell_type": "markdown",
   "metadata": {},
   "source": [
    "Видим необходимость контроля длины VIN-кода"
   ]
  },
  {
   "cell_type": "code",
   "execution_count": 167,
   "metadata": {},
   "outputs": [
    {
     "data": {
      "text/plain": [
       "0                       no\n",
       "1                       no\n",
       "2        kmhtc6ae3gu293912\n",
       "3                       no\n",
       "4        jtnkhmbx7k1030253\n",
       "               ...        \n",
       "34994                   no\n",
       "34995    3fa6p0k98dr308742\n",
       "34996                   no\n",
       "34997                   no\n",
       "34999                   no\n",
       "Name: car_vin, Length: 26920, dtype: object"
      ]
     },
     "execution_count": 167,
     "metadata": {},
     "output_type": "execute_result"
    }
   ],
   "source": [
    "import vin_parser as vp\n",
    "ctc.car_vin"
   ]
  },
  {
   "cell_type": "code",
   "execution_count": 190,
   "metadata": {},
   "outputs": [],
   "source": [
    "def get_country(vin: str):\n",
    "    return 'no' if vin == 'no' or len(vin) != 17 else vp.country(vin)"
   ]
  },
  {
   "cell_type": "code",
   "execution_count": 191,
   "metadata": {},
   "outputs": [],
   "source": [
    "ctc['manuf_country'] = ctc.car_vin.apply(get_country)"
   ]
  },
  {
   "attachments": {},
   "cell_type": "markdown",
   "metadata": {},
   "source": [
    "Посмотрим на новый признак:"
   ]
  },
  {
   "cell_type": "code",
   "execution_count": 192,
   "metadata": {},
   "outputs": [
    {
     "data": {
      "text/plain": [
       "no                22200\n",
       "United States      1553\n",
       "Japan              1313\n",
       "Germany             831\n",
       "Mexico              424\n",
       "South Korea         338\n",
       "Canada              156\n",
       "Turkey               40\n",
       "United Kingdom       31\n",
       "Italy                12\n",
       "Sweden                3\n",
       "France                3\n",
       "China                 3\n",
       "India                 3\n",
       "Austria               2\n",
       "Czech Republic        2\n",
       "unassigned            1\n",
       "Thailand              1\n",
       "Poland                1\n",
       "Russia                1\n",
       "Spain                 1\n",
       "Name: manuf_country, dtype: int64"
      ]
     },
     "execution_count": 192,
     "metadata": {},
     "output_type": "execute_result"
    }
   ],
   "source": [
    "ctc.manuf_country.value_counts()"
   ]
  },
  {
   "attachments": {},
   "cell_type": "markdown",
   "metadata": {},
   "source": [
    "Видно, что с ним вполне можно поработать"
   ]
  },
  {
   "attachments": {},
   "cell_type": "markdown",
   "metadata": {},
   "source": [
    "Добавим признак модельного года:"
   ]
  },
  {
   "cell_type": "code",
   "execution_count": 195,
   "metadata": {},
   "outputs": [
    {
     "data": {
      "text/plain": [
       "2016"
      ]
     },
     "execution_count": 195,
     "metadata": {},
     "output_type": "execute_result"
    }
   ],
   "source": [
    "vp.year('kmhtc6ae3gu293912')"
   ]
  },
  {
   "cell_type": "code",
   "execution_count": 196,
   "metadata": {},
   "outputs": [],
   "source": [
    "def get_model_year(vin: str) -> int:\n",
    "    return 0 if vin == 'no' or len(vin) != 17 else vp.year(vin)"
   ]
  },
  {
   "cell_type": "code",
   "execution_count": 197,
   "metadata": {},
   "outputs": [],
   "source": [
    "ctc['model_year'] = ctc.car_vin.apply(get_model_year)"
   ]
  },
  {
   "cell_type": "code",
   "execution_count": 198,
   "metadata": {},
   "outputs": [
    {
     "data": {
      "text/plain": [
       "0.0       22200\n",
       "2013.0      706\n",
       "2014.0      624\n",
       "2012.0      574\n",
       "2015.0      470\n",
       "2016.0      426\n",
       "2011.0      398\n",
       "2017.0      375\n",
       "2010.0      295\n",
       "2018.0      234\n",
       "2019.0      175\n",
       "2008.0      154\n",
       "2009.0       92\n",
       "2007.0       37\n",
       "2001.0       34\n",
       "2006.0       20\n",
       "2020.0       17\n",
       "2005.0       15\n",
       "2002.0       13\n",
       "2004.0       13\n",
       "2003.0        6\n",
       "1997.0        4\n",
       "1998.0        3\n",
       "1995.0        3\n",
       "1999.0        3\n",
       "2000.0        2\n",
       "2022.0        1\n",
       "1994.0        1\n",
       "1996.0        1\n",
       "2023.0        1\n",
       "Name: model_year, dtype: int64"
      ]
     },
     "execution_count": 198,
     "metadata": {},
     "output_type": "execute_result"
    }
   ],
   "source": [
    "ctc.model_year.value_counts()"
   ]
  },
  {
   "attachments": {},
   "cell_type": "markdown",
   "metadata": {},
   "source": [
    "11. Признак car_leather_interrior"
   ]
  },
  {
   "cell_type": "code",
   "execution_count": 199,
   "metadata": {},
   "outputs": [
    {
     "data": {
      "text/plain": [
       "1    17020\n",
       "0     9900\n",
       "Name: car_leather_interior, dtype: int64"
      ]
     },
     "execution_count": 199,
     "metadata": {},
     "output_type": "execute_result"
    }
   ],
   "source": [
    "ctc.car_leather_interior.value_counts()"
   ]
  },
  {
   "attachments": {},
   "cell_type": "markdown",
   "metadata": {},
   "source": [
    "Видим бинарный признак того, что салон кожанный. С ним всё в порядке. Едем дальше."
   ]
  },
  {
   "cell_type": "code",
   "execution_count": 201,
   "metadata": {},
   "outputs": [
    {
     "name": "stdout",
     "output_type": "stream",
     "text": [
      "<class 'pandas.core.frame.DataFrame'>\n",
      "Int64Index: 26920 entries, 0 to 34999\n",
      "Data columns (total 16 columns):\n",
      " #   Column                  Non-Null Count  Dtype  \n",
      "---  ------                  --------------  -----  \n",
      " 0   vehicle_manufacturer    26920 non-null  object \n",
      " 1   vehicle_model           26920 non-null  object \n",
      " 2   vehicle_category        26920 non-null  object \n",
      " 3   current_mileage         26920 non-null  float64\n",
      " 4   vehicle_gearbox_type    26920 non-null  object \n",
      " 5   doors_cnt               26920 non-null  int64  \n",
      " 6   wheels                  26920 non-null  object \n",
      " 7   vehicle_color           26920 non-null  object \n",
      " 8   vehicle_interior_color  26920 non-null  object \n",
      " 9   car_vin                 26920 non-null  object \n",
      " 10  car_leather_interior    26920 non-null  int64  \n",
      " 11  deal_type               26920 non-null  object \n",
      " 12  final_price             26920 non-null  float64\n",
      " 13  vehicle_age             26920 non-null  int64  \n",
      " 14  manuf_country           26919 non-null  object \n",
      " 15  model_year              26897 non-null  float64\n",
      "dtypes: float64(3), int64(3), object(10)\n",
      "memory usage: 4.5+ MB\n"
     ]
    }
   ],
   "source": [
    "ctc.info()"
   ]
  },
  {
   "attachments": {},
   "cell_type": "markdown",
   "metadata": {},
   "source": [
    "12. Признак deal_type"
   ]
  },
  {
   "cell_type": "code",
   "execution_count": 202,
   "metadata": {},
   "outputs": [
    {
     "data": {
      "text/plain": [
       "for sale    26319\n",
       "for rent      601\n",
       "Name: deal_type, dtype: int64"
      ]
     },
     "execution_count": 202,
     "metadata": {},
     "output_type": "execute_result"
    }
   ],
   "source": [
    "ctc.deal_type.value_counts()"
   ]
  },
  {
   "attachments": {},
   "cell_type": "markdown",
   "metadata": {},
   "source": [
    "Видим два варианта, которые означают:\n",
    "1. for sale - на продажу;\n",
    "2. for rent - для сдачи в аренду."
   ]
  },
  {
   "attachments": {},
   "cell_type": "markdown",
   "metadata": {},
   "source": [
    "Странно, зачем в базе автомобилей на продажу затесались записи про аренду."
   ]
  },
  {
   "attachments": {},
   "cell_type": "markdown",
   "metadata": {},
   "source": [
    "Посмотрим, а есть ли такие же записи про аренду в тестовом датасете:"
   ]
  },
  {
   "cell_type": "code",
   "execution_count": 204,
   "metadata": {},
   "outputs": [
    {
     "data": {
      "text/plain": [
       "For Sale    10526\n",
       "For Rent      171\n",
       "Name: deal_type, dtype: int64"
      ]
     },
     "execution_count": 204,
     "metadata": {},
     "output_type": "execute_result"
    }
   ],
   "source": [
    "test_data.deal_type.value_counts()"
   ]
  },
  {
   "attachments": {},
   "cell_type": "markdown",
   "metadata": {},
   "source": [
    "Видим, что есть. Из этого делаем вывод, что задача сформулирована не точно и мы создаём модель предсказания не только стоимости продажи, но и стоимости аренды автомобиля."
   ]
  },
  {
   "attachments": {},
   "cell_type": "markdown",
   "metadata": {},
   "source": [
    "Для пущей уверенности посмотрим на распределение цен в этих категориях:"
   ]
  },
  {
   "cell_type": "code",
   "execution_count": 206,
   "metadata": {},
   "outputs": [
    {
     "data": {
      "text/html": [
       "<div>\n",
       "<style scoped>\n",
       "    .dataframe tbody tr th:only-of-type {\n",
       "        vertical-align: middle;\n",
       "    }\n",
       "\n",
       "    .dataframe tbody tr th {\n",
       "        vertical-align: top;\n",
       "    }\n",
       "\n",
       "    .dataframe thead th {\n",
       "        text-align: right;\n",
       "    }\n",
       "</style>\n",
       "<table border=\"1\" class=\"dataframe\">\n",
       "  <thead>\n",
       "    <tr style=\"text-align: right;\">\n",
       "      <th></th>\n",
       "      <th>count</th>\n",
       "      <th>mean</th>\n",
       "      <th>std</th>\n",
       "      <th>min</th>\n",
       "      <th>25%</th>\n",
       "      <th>50%</th>\n",
       "      <th>75%</th>\n",
       "      <th>max</th>\n",
       "    </tr>\n",
       "    <tr>\n",
       "      <th>deal_type</th>\n",
       "      <th></th>\n",
       "      <th></th>\n",
       "      <th></th>\n",
       "      <th></th>\n",
       "      <th></th>\n",
       "      <th></th>\n",
       "      <th></th>\n",
       "      <th></th>\n",
       "    </tr>\n",
       "  </thead>\n",
       "  <tbody>\n",
       "    <tr>\n",
       "      <th>for rent</th>\n",
       "      <td>601.0</td>\n",
       "      <td>243.279534</td>\n",
       "      <td>1400.632065</td>\n",
       "      <td>0.0</td>\n",
       "      <td>13.0</td>\n",
       "      <td>19.0</td>\n",
       "      <td>32.0</td>\n",
       "      <td>19000.0</td>\n",
       "    </tr>\n",
       "    <tr>\n",
       "      <th>for sale</th>\n",
       "      <td>26319.0</td>\n",
       "      <td>7021.370303</td>\n",
       "      <td>84593.071683</td>\n",
       "      <td>0.0</td>\n",
       "      <td>2500.0</td>\n",
       "      <td>4600.0</td>\n",
       "      <td>7500.0</td>\n",
       "      <td>8388607.0</td>\n",
       "    </tr>\n",
       "  </tbody>\n",
       "</table>\n",
       "</div>"
      ],
      "text/plain": [
       "             count         mean           std  min     25%     50%     75%  \\\n",
       "deal_type                                                                    \n",
       "for rent     601.0   243.279534   1400.632065  0.0    13.0    19.0    32.0   \n",
       "for sale   26319.0  7021.370303  84593.071683  0.0  2500.0  4600.0  7500.0   \n",
       "\n",
       "                 max  \n",
       "deal_type             \n",
       "for rent     19000.0  \n",
       "for sale   8388607.0  "
      ]
     },
     "execution_count": 206,
     "metadata": {},
     "output_type": "execute_result"
    }
   ],
   "source": [
    "ctc.groupby('deal_type').final_price.describe()"
   ]
  },
  {
   "attachments": {},
   "cell_type": "markdown",
   "metadata": {},
   "source": [
    "Убеждаемся в правильности своих выводов и сохраняем полученный крутейший тренировочный датасет."
   ]
  },
  {
   "cell_type": "code",
   "execution_count": 207,
   "metadata": {},
   "outputs": [],
   "source": [
    "ctc.to_csv('ctc.csv')"
   ]
  },
  {
   "cell_type": "code",
   "execution_count": null,
   "metadata": {},
   "outputs": [],
   "source": []
  }
 ],
 "metadata": {
  "kernelspec": {
   "display_name": "base",
   "language": "python",
   "name": "python3"
  },
  "language_info": {
   "codemirror_mode": {
    "name": "ipython",
    "version": 3
   },
   "file_extension": ".py",
   "mimetype": "text/x-python",
   "name": "python",
   "nbconvert_exporter": "python",
   "pygments_lexer": "ipython3",
   "version": "3.9.12"
  },
  "orig_nbformat": 4,
  "vscode": {
   "interpreter": {
    "hash": "c85ce5e063f82c52011c1c6414d7519d9975c8984a5fd91991e796841fee6f1b"
   }
  }
 },
 "nbformat": 4,
 "nbformat_minor": 2
}
