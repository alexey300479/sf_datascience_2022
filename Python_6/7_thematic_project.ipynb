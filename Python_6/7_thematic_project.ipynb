{
 "cells": [
  {
   "cell_type": "code",
   "execution_count": 1,
   "metadata": {},
   "outputs": [],
   "source": [
    "cheese_data = {\n",
    "    'чеддер': [370, 5000, 33, 'твердый'],\n",
    "    'пармезан': [510, 4000, 29, 'твердый'],\n",
    "    'гауда': [250, 3700, 27, 'полутвердый'],\n",
    "    'эдам': [220, 10000, 30, 'полутвердый'],\n",
    "    'горгонзола': [320, 3000, 32, 'полумягкий'],\n",
    "    'рокфор': [340, 15000, 31, 'полумягкий'],\n",
    "    'стилтон': [360, 7000, 35, 'полумягкий'],\n",
    "    'камамбер': [250, 8000, 24, 'мягкий'],\n",
    "    'бри': [310, 6500, 28, 'мягкий'],\n",
    "}\n"
   ]
  },
  {
   "cell_type": "code",
   "execution_count": 6,
   "metadata": {},
   "outputs": [],
   "source": [
    "def filter_by_fat(cheese_data, n):\n",
    "    return {k: v[2] for k, v in cheese_data.items() if v[2] < n}\n"
   ]
  },
  {
   "cell_type": "code",
   "execution_count": 7,
   "metadata": {},
   "outputs": [
    {
     "data": {
      "text/plain": [
       "{'пармезан': 29, 'гауда': 27, 'камамбер': 24, 'бри': 28}"
      ]
     },
     "execution_count": 7,
     "metadata": {},
     "output_type": "execute_result"
    }
   ],
   "source": [
    "filter_by_fat(cheese_data=cheese_data, n=30)"
   ]
  },
  {
   "cell_type": "code",
   "execution_count": 9,
   "metadata": {},
   "outputs": [],
   "source": [
    "def count_money(cheese_data):\n",
    "    return sum(v[0] * v[1] * 10 for v in cheese_data.values())"
   ]
  },
  {
   "cell_type": "code",
   "execution_count": 10,
   "metadata": {},
   "outputs": [
    {
     "data": {
      "text/plain": [
       "196100000"
      ]
     },
     "execution_count": 10,
     "metadata": {},
     "output_type": "execute_result"
    }
   ],
   "source": [
    "count_money(cheese_data)"
   ]
  },
  {
   "cell_type": "code",
   "execution_count": 11,
   "metadata": {},
   "outputs": [],
   "source": [
    "def find_cheese_type(cheese_data, cheese_type):\n",
    "    return [k for k, v in cheese_data.items() if v[3] == cheese_type]"
   ]
  },
  {
   "cell_type": "code",
   "execution_count": 13,
   "metadata": {},
   "outputs": [
    {
     "data": {
      "text/plain": [
       "['чеддер', 'пармезан']"
      ]
     },
     "execution_count": 13,
     "metadata": {},
     "output_type": "execute_result"
    }
   ],
   "source": [
    "find_cheese_type(cheese_data, 'твердый')"
   ]
  },
  {
   "cell_type": "code",
   "execution_count": null,
   "metadata": {},
   "outputs": [],
   "source": [
    "def sort_cheese()"
   ]
  }
 ],
 "metadata": {
  "kernelspec": {
   "display_name": "base",
   "language": "python",
   "name": "python3"
  },
  "language_info": {
   "codemirror_mode": {
    "name": "ipython",
    "version": 3
   },
   "file_extension": ".py",
   "mimetype": "text/x-python",
   "name": "python",
   "nbconvert_exporter": "python",
   "pygments_lexer": "ipython3",
   "version": "3.9.12"
  },
  "orig_nbformat": 4
 },
 "nbformat": 4,
 "nbformat_minor": 2
}
