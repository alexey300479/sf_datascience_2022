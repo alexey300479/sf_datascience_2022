{
 "cells": [
  {
   "cell_type": "markdown",
   "metadata": {},
   "source": [
    "# 0. Повторение — мать учения\n",
    "\n",
    "✍ В прошлом модуле мы рассмотрели базовые методы работы с данными в Pandas и приёмы, позволяющие совершать преобразования над таблицами. Прежде чем приступить к очередному модулю, предлагаем вам выполнить тест по пройденным темам ↓\n",
    "\n",
    "### Задание 0.1\n",
    "Как называется методология манипуляций над данными с целью повышения качества моделирования?\n",
    "- Feature Building\n",
    "- Feature Engineering\n",
    "- Building Columns\n",
    "- Columns Engineering"
   ]
  },
  {
   "cell_type": "markdown",
   "metadata": {},
   "source": [
    "Ответ: Fearure Engineering"
   ]
  },
  {
   "cell_type": "markdown",
   "metadata": {},
   "source": [
    "### Задание 0.2\n",
    "Среди представленных ниже строк кода найдите ту, которая позволяет выбрать номер дня недели из столбца с датой Date из некоторой таблицы df. Дата представлена в формате DD/MM/YYYY.\n",
    "- weekdays = pd.to_datetime(df[\"Date\"]).weekday_name\n",
    "- weekdays = pd.to_datetime(df[\"Date\"]).month\n",
    "- weekdays = pd.to_timedate(df[\"Date\"]).dayofweek\n",
    "- weekdays = pd.to_datetime(df[\"Date\"]).dt.dayofweek"
   ]
  },
  {
   "cell_type": "markdown",
   "metadata": {},
   "source": [
    "Ответ: weekdays = pd.to_datetime(df[\"Date\"]).dt.dayofweek"
   ]
  },
  {
   "cell_type": "markdown",
   "metadata": {},
   "source": [
    "### Задание 0.3\n",
    "Выберите верные утверждения о категориальных признаках:\n",
    "- A Категориальные признаки имеют неограниченный набор уникальных значений\n",
    "- B Категориальные признаки бывают дискретными и непрерывными\n",
    "- C Пример категориального признака — масса космического корабля\n",
    "- D Категориальные признаки показывают количественную меру\n",
    "- E Категориальные признаки могут быть номинальными и порядковыми\n",
    "- F Категориальные признаки имеют ограниченный набор уникальных значений"
   ]
  },
  {
   "cell_type": "markdown",
   "metadata": {},
   "source": [
    "Ответ: E, F"
   ]
  },
  {
   "cell_type": "markdown",
   "metadata": {},
   "source": []
  }
 ],
 "metadata": {
  "language_info": {
   "name": "python"
  },
  "orig_nbformat": 4
 },
 "nbformat": 4,
 "nbformat_minor": 2
}
