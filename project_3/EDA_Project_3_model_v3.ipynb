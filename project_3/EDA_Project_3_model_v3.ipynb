{
 "cells": [
  {
   "cell_type": "code",
   "execution_count": 1,
   "metadata": {},
   "outputs": [],
   "source": [
    "import json\n",
    "\n",
    "import pandas as pd"
   ]
  },
  {
   "cell_type": "code",
   "execution_count": 2,
   "metadata": {},
   "outputs": [
    {
     "data": {
      "text/html": [
       "<div>\n",
       "<style scoped>\n",
       "    .dataframe tbody tr th:only-of-type {\n",
       "        vertical-align: middle;\n",
       "    }\n",
       "\n",
       "    .dataframe tbody tr th {\n",
       "        vertical-align: top;\n",
       "    }\n",
       "\n",
       "    .dataframe thead th {\n",
       "        text-align: right;\n",
       "    }\n",
       "</style>\n",
       "<table border=\"1\" class=\"dataframe\">\n",
       "  <thead>\n",
       "    <tr style=\"text-align: right;\">\n",
       "      <th></th>\n",
       "      <th>hotel_address</th>\n",
       "      <th>additional_number_of_scoring</th>\n",
       "      <th>review_date</th>\n",
       "      <th>average_score</th>\n",
       "      <th>hotel_name</th>\n",
       "      <th>reviewer_nationality</th>\n",
       "      <th>negative_review</th>\n",
       "      <th>review_total_negative_word_counts</th>\n",
       "      <th>total_number_of_reviews</th>\n",
       "      <th>positive_review</th>\n",
       "      <th>review_total_positive_word_counts</th>\n",
       "      <th>total_number_of_reviews_reviewer_has_given</th>\n",
       "      <th>reviewer_score</th>\n",
       "      <th>tags</th>\n",
       "      <th>days_since_review</th>\n",
       "      <th>lat</th>\n",
       "      <th>lng</th>\n",
       "    </tr>\n",
       "  </thead>\n",
       "  <tbody>\n",
       "    <tr>\n",
       "      <th>0</th>\n",
       "      <td>Stratton Street Mayfair Westminster Borough Lo...</td>\n",
       "      <td>581</td>\n",
       "      <td>2/19/2016</td>\n",
       "      <td>8.4</td>\n",
       "      <td>The May Fair Hotel</td>\n",
       "      <td>United Kingdom</td>\n",
       "      <td>Leaving</td>\n",
       "      <td>3</td>\n",
       "      <td>1994</td>\n",
       "      <td>Staff were amazing</td>\n",
       "      <td>4</td>\n",
       "      <td>7</td>\n",
       "      <td>10.0</td>\n",
       "      <td>[' Leisure trip ', ' Couple ', ' Studio Suite ...</td>\n",
       "      <td>531 day</td>\n",
       "      <td>51.507894</td>\n",
       "      <td>-0.143671</td>\n",
       "    </tr>\n",
       "    <tr>\n",
       "      <th>1</th>\n",
       "      <td>130 134 Southampton Row Camden London WC1B 5AF...</td>\n",
       "      <td>299</td>\n",
       "      <td>1/12/2017</td>\n",
       "      <td>8.3</td>\n",
       "      <td>Mercure London Bloomsbury Hotel</td>\n",
       "      <td>United Kingdom</td>\n",
       "      <td>poor breakfast</td>\n",
       "      <td>3</td>\n",
       "      <td>1361</td>\n",
       "      <td>location</td>\n",
       "      <td>2</td>\n",
       "      <td>14</td>\n",
       "      <td>6.3</td>\n",
       "      <td>[' Business trip ', ' Couple ', ' Standard Dou...</td>\n",
       "      <td>203 day</td>\n",
       "      <td>51.521009</td>\n",
       "      <td>-0.123097</td>\n",
       "    </tr>\n",
       "    <tr>\n",
       "      <th>2</th>\n",
       "      <td>151 bis Rue de Rennes 6th arr 75006 Paris France</td>\n",
       "      <td>32</td>\n",
       "      <td>10/18/2016</td>\n",
       "      <td>8.9</td>\n",
       "      <td>Legend Saint Germain by Elegancia</td>\n",
       "      <td>China</td>\n",
       "      <td>No kettle in room</td>\n",
       "      <td>6</td>\n",
       "      <td>406</td>\n",
       "      <td>No Positive</td>\n",
       "      <td>0</td>\n",
       "      <td>14</td>\n",
       "      <td>7.5</td>\n",
       "      <td>[' Leisure trip ', ' Solo traveler ', ' Modern...</td>\n",
       "      <td>289 day</td>\n",
       "      <td>48.845377</td>\n",
       "      <td>2.325643</td>\n",
       "    </tr>\n",
       "  </tbody>\n",
       "</table>\n",
       "</div>"
      ],
      "text/plain": [
       "                                       hotel_address  \\\n",
       "0  Stratton Street Mayfair Westminster Borough Lo...   \n",
       "1  130 134 Southampton Row Camden London WC1B 5AF...   \n",
       "2   151 bis Rue de Rennes 6th arr 75006 Paris France   \n",
       "\n",
       "   additional_number_of_scoring review_date  average_score  \\\n",
       "0                           581   2/19/2016            8.4   \n",
       "1                           299   1/12/2017            8.3   \n",
       "2                            32  10/18/2016            8.9   \n",
       "\n",
       "                          hotel_name reviewer_nationality  \\\n",
       "0                 The May Fair Hotel      United Kingdom    \n",
       "1    Mercure London Bloomsbury Hotel      United Kingdom    \n",
       "2  Legend Saint Germain by Elegancia               China    \n",
       "\n",
       "       negative_review  review_total_negative_word_counts  \\\n",
       "0             Leaving                                   3   \n",
       "1       poor breakfast                                  3   \n",
       "2   No kettle in room                                   6   \n",
       "\n",
       "   total_number_of_reviews      positive_review  \\\n",
       "0                     1994   Staff were amazing   \n",
       "1                     1361             location   \n",
       "2                      406          No Positive   \n",
       "\n",
       "   review_total_positive_word_counts  \\\n",
       "0                                  4   \n",
       "1                                  2   \n",
       "2                                  0   \n",
       "\n",
       "   total_number_of_reviews_reviewer_has_given  reviewer_score  \\\n",
       "0                                           7            10.0   \n",
       "1                                          14             6.3   \n",
       "2                                          14             7.5   \n",
       "\n",
       "                                                tags days_since_review  \\\n",
       "0  [' Leisure trip ', ' Couple ', ' Studio Suite ...           531 day   \n",
       "1  [' Business trip ', ' Couple ', ' Standard Dou...           203 day   \n",
       "2  [' Leisure trip ', ' Solo traveler ', ' Modern...           289 day   \n",
       "\n",
       "         lat       lng  \n",
       "0  51.507894 -0.143671  \n",
       "1  51.521009 -0.123097  \n",
       "2  48.845377  2.325643  "
      ]
     },
     "execution_count": 2,
     "metadata": {},
     "output_type": "execute_result"
    }
   ],
   "source": [
    "hotels = pd.read_csv('hotels.csv')\n",
    "hotels.head(3)"
   ]
  },
  {
   "attachments": {},
   "cell_type": "markdown",
   "metadata": {},
   "source": [
    "Смотрим на пропуски"
   ]
  },
  {
   "cell_type": "code",
   "execution_count": 3,
   "metadata": {},
   "outputs": [
    {
     "data": {
      "text/plain": [
       "lng                                           2448\n",
       "lat                                           2448\n",
       "positive_review                                  0\n",
       "days_since_review                                0\n",
       "tags                                             0\n",
       "reviewer_score                                   0\n",
       "total_number_of_reviews_reviewer_has_given       0\n",
       "review_total_positive_word_counts                0\n",
       "hotel_address                                    0\n",
       "additional_number_of_scoring                     0\n",
       "review_total_negative_word_counts                0\n",
       "negative_review                                  0\n",
       "reviewer_nationality                             0\n",
       "hotel_name                                       0\n",
       "average_score                                    0\n",
       "review_date                                      0\n",
       "total_number_of_reviews                          0\n",
       "dtype: int64"
      ]
     },
     "execution_count": 3,
     "metadata": {},
     "output_type": "execute_result"
    }
   ],
   "source": [
    "hotels.isna().sum().sort_values(ascending=False)"
   ]
  },
  {
   "attachments": {},
   "cell_type": "markdown",
   "metadata": {},
   "source": [
    "Заполняем пропуски значениями из словарей, заранее подготовленных скриптом prepare_lat_lng_dicts.py с применением библиотеки geopy"
   ]
  },
  {
   "cell_type": "code",
   "execution_count": 4,
   "metadata": {},
   "outputs": [],
   "source": [
    "with open(\"lng_dict.json\", \"r\") as infile:\n",
    "    lng_dict = json.load(infile)"
   ]
  },
  {
   "cell_type": "code",
   "execution_count": 5,
   "metadata": {},
   "outputs": [],
   "source": [
    "with open(\"lat_dict.json\", \"r\") as infile:\n",
    "    lat_dict = json.load(infile)"
   ]
  },
  {
   "cell_type": "code",
   "execution_count": 6,
   "metadata": {},
   "outputs": [],
   "source": [
    "missings_idx = hotels[hotels.lng.isna()].index\n",
    "hotels.loc[missings_idx, 'lat'] = hotels.loc[missings_idx, 'hotel_address'].map(lat_dict)\n",
    "hotels.loc[missings_idx, 'lng'] = hotels.loc[missings_idx, 'hotel_address'].map(lng_dict)"
   ]
  },
  {
   "cell_type": "code",
   "execution_count": 7,
   "metadata": {},
   "outputs": [
    {
     "data": {
      "text/plain": [
       "0"
      ]
     },
     "execution_count": 7,
     "metadata": {},
     "output_type": "execute_result"
    }
   ],
   "source": [
    "hotels.isna().sum().sum()"
   ]
  },
  {
   "attachments": {},
   "cell_type": "markdown",
   "metadata": {},
   "source": [
    "От пропусков избавились. Обратим внимание на признаки, представленные в виде строк:"
   ]
  },
  {
   "attachments": {},
   "cell_type": "markdown",
   "metadata": {},
   "source": [
    "Дополним датасет данными о стране и городе, в которых располагается отель"
   ]
  },
  {
   "cell_type": "code",
   "execution_count": 57,
   "metadata": {},
   "outputs": [],
   "source": [
    "with open(\"countries.json\", \"r\", encoding='UTF-8') as infile:\n",
    "    countries = json.load(infile)\n",
    "\n",
    "with open(\"cities.json\", \"r\", encoding='UTF-8') as infile:\n",
    "    cities = json.load(infile)"
   ]
  },
  {
   "cell_type": "code",
   "execution_count": 51,
   "metadata": {},
   "outputs": [],
   "source": [
    "hotels['hotel_country'] = hotels.hotel_name.map(countries)\n",
    "hotels['hotel_city'] = hotels.hotel_name.map(cities)"
   ]
  },
  {
   "cell_type": "code",
   "execution_count": 52,
   "metadata": {},
   "outputs": [
    {
     "data": {
      "text/plain": [
       "United Kingdom    196774\n",
       "France             44830\n",
       "Nederland          43006\n",
       "Espanya            35356\n",
       "Österreich         28956\n",
       "Italia             27836\n",
       "España             10045\n",
       "Name: hotel_country, dtype: int64"
      ]
     },
     "execution_count": 52,
     "metadata": {},
     "output_type": "execute_result"
    }
   ],
   "source": [
    "hotels.hotel_country.value_counts()"
   ]
  },
  {
   "cell_type": "code",
   "execution_count": 53,
   "metadata": {},
   "outputs": [
    {
     "data": {
      "text/plain": [
       "London                      140937\n",
       "Barcelona                    45307\n",
       "Paris                        39652\n",
       "Amsterdam                    35914\n",
       "Milano                       22307\n",
       "                             ...  \n",
       "Vanves                          29\n",
       "Montrouge                       25\n",
       "Paris 4e Arrondissement         18\n",
       "Paris 10e Arrondissement         7\n",
       "Ottakring                        6\n",
       "Name: hotel_city, Length: 62, dtype: int64"
      ]
     },
     "execution_count": 53,
     "metadata": {},
     "output_type": "execute_result"
    }
   ],
   "source": [
    "hotels.hotel_city.value_counts()"
   ]
  },
  {
   "cell_type": "code",
   "execution_count": 55,
   "metadata": {},
   "outputs": [
    {
     "data": {
      "text/plain": [
       "0"
      ]
     },
     "execution_count": 55,
     "metadata": {},
     "output_type": "execute_result"
    }
   ],
   "source": [
    "hotels.isna().sum().sum()"
   ]
  },
  {
   "attachments": {},
   "cell_type": "markdown",
   "metadata": {},
   "source": [
    "Пропусков нет"
   ]
  },
  {
   "attachments": {},
   "cell_type": "markdown",
   "metadata": {},
   "source": [
    "Добавим данные о расстояниях от отелей до центров городов"
   ]
  },
  {
   "cell_type": "code",
   "execution_count": 58,
   "metadata": {},
   "outputs": [],
   "source": [
    "from geopy.geocoders import ArcGIS"
   ]
  },
  {
   "cell_type": "code",
   "execution_count": 59,
   "metadata": {},
   "outputs": [],
   "source": [
    "from geopy.distance import geodesic"
   ]
  },
  {
   "cell_type": "code",
   "execution_count": 60,
   "metadata": {},
   "outputs": [],
   "source": [
    "locator = ArcGIS(user_agent='myGeocoder')"
   ]
  },
  {
   "cell_type": "code",
   "execution_count": 73,
   "metadata": {},
   "outputs": [],
   "source": [
    "def get_distance(lat1, lng1, lat2, lng2):\n",
    "    distance = geodesic(\n",
    "        (lat1, lng1),\n",
    "        (lat2, lng2)\n",
    "    ).kilometers\n",
    "    \n",
    "    return distance"
   ]
  },
  {
   "cell_type": "code",
   "execution_count": 65,
   "metadata": {},
   "outputs": [],
   "source": [
    "from tqdm import tqdm"
   ]
  },
  {
   "cell_type": "code",
   "execution_count": 70,
   "metadata": {},
   "outputs": [],
   "source": [
    "hotels['hotel_location'] = f'{hotels.hotel_city},{hotels.hotel_country}'"
   ]
  },
  {
   "cell_type": "code",
   "execution_count": 72,
   "metadata": {},
   "outputs": [
    {
     "name": "stderr",
     "output_type": "stream",
     "text": [
      "100%|██████████| 63/63 [00:47<00:00,  1.32it/s]\n"
     ]
    }
   ],
   "source": [
    "hotels_cities_centers_lats = {}\n",
    "hotels_cities_centers_lngs = {}\n",
    "\n",
    "for location in tqdm(hotels.hotel_location.unique()):\n",
    "    city_center_coordinates = locator.geocode(location)\n",
    "    hotels_cities_centers_lats[location] = city_center_coordinates.latitude\n",
    "    hotels_cities_centers_lngs[location] = city_center_coordinates.longitude\n"
   ]
  },
  {
   "cell_type": "code",
   "execution_count": 75,
   "metadata": {},
   "outputs": [],
   "source": [
    "hotels['city_center_lat'] = hotels['hotel_location'].map(hotels_cities_centers_lats)\n",
    "hotels['city_center_lng'] = hotels['hotel_location'].map(hotels_cities_centers_lngs)\n"
   ]
  },
  {
   "cell_type": "code",
   "execution_count": 78,
   "metadata": {},
   "outputs": [],
   "source": [
    "tqdm.pandas()"
   ]
  },
  {
   "cell_type": "code",
   "execution_count": 79,
   "metadata": {},
   "outputs": [
    {
     "name": "stderr",
     "output_type": "stream",
     "text": [
      "100%|██████████| 386803/386803 [01:18<00:00, 4930.53it/s]\n"
     ]
    }
   ],
   "source": [
    "hotels['dist_to_center'] = hotels[['city_center_lat', 'city_center_lng', 'lat', 'lng']].progress_apply(\n",
    "    lambda x: get_distance(\n",
    "        x['city_center_lat'],\n",
    "        x['city_center_lng'],\n",
    "        x['lat'],\n",
    "        x['lng']\n",
    "    ),\n",
    "    axis=1\n",
    ")"
   ]
  },
  {
   "cell_type": "code",
   "execution_count": 80,
   "metadata": {},
   "outputs": [
    {
     "data": {
      "text/plain": [
       "0"
      ]
     },
     "execution_count": 80,
     "metadata": {},
     "output_type": "execute_result"
    }
   ],
   "source": [
    "hotels.isna().sum().sum()"
   ]
  },
  {
   "cell_type": "code",
   "execution_count": 81,
   "metadata": {},
   "outputs": [
    {
     "name": "stdout",
     "output_type": "stream",
     "text": [
      "<class 'pandas.core.frame.DataFrame'>\n",
      "RangeIndex: 386803 entries, 0 to 386802\n",
      "Data columns (total 9 columns):\n",
      " #   Column             Non-Null Count   Dtype \n",
      "---  ------             --------------   ----- \n",
      " 0   negative_review    386803 non-null  object\n",
      " 1   positive_review    386803 non-null  object\n",
      " 2   tags               386803 non-null  object\n",
      " 3   days_since_review  386803 non-null  object\n",
      " 4   neg_scores         386803 non-null  object\n",
      " 5   pos_scores         386803 non-null  object\n",
      " 6   hotel_country      386803 non-null  object\n",
      " 7   hotel_city         386803 non-null  object\n",
      " 8   hotel_location     386803 non-null  object\n",
      "dtypes: object(9)\n",
      "memory usage: 26.6+ MB\n"
     ]
    }
   ],
   "source": [
    "hotels.select_dtypes('object').info()"
   ]
  },
  {
   "attachments": {},
   "cell_type": "markdown",
   "metadata": {},
   "source": [
    "Начнём с hotel_address"
   ]
  },
  {
   "cell_type": "code",
   "execution_count": 9,
   "metadata": {},
   "outputs": [
    {
     "data": {
      "text/plain": [
       "count                                                386803\n",
       "unique                                                 1493\n",
       "top       163 Marsh Wall Docklands Tower Hamlets London ...\n",
       "freq                                                   3587\n",
       "Name: hotel_address, dtype: object"
      ]
     },
     "execution_count": 9,
     "metadata": {},
     "output_type": "execute_result"
    }
   ],
   "source": [
    "hotels.hotel_address.describe()"
   ]
  },
  {
   "attachments": {},
   "cell_type": "markdown",
   "metadata": {},
   "source": [
    "Сравним с hotel_name:"
   ]
  },
  {
   "cell_type": "code",
   "execution_count": 10,
   "metadata": {},
   "outputs": [
    {
     "data": {
      "text/plain": [
       "count                                         386803\n",
       "unique                                          1492\n",
       "top       Britannia International Hotel Canary Wharf\n",
       "freq                                            3587\n",
       "Name: hotel_name, dtype: object"
      ]
     },
     "execution_count": 10,
     "metadata": {},
     "output_type": "execute_result"
    }
   ],
   "source": [
    "hotels.hotel_name.describe()"
   ]
  },
  {
   "attachments": {},
   "cell_type": "markdown",
   "metadata": {},
   "source": [
    "Видим, что количество уникальных значений адресов и названий отелей практически совпадает. Разница в 1 единицу на весь датасет. Поэтому от одного из этих признаков можно избавиться, предварительно выделив из адреса, например, населенный пункт и страну.Но снасала выясним, с чем связана эта разница."
   ]
  },
  {
   "cell_type": "code",
   "execution_count": 11,
   "metadata": {},
   "outputs": [
    {
     "data": {
      "text/html": [
       "<div>\n",
       "<style scoped>\n",
       "    .dataframe tbody tr th:only-of-type {\n",
       "        vertical-align: middle;\n",
       "    }\n",
       "\n",
       "    .dataframe tbody tr th {\n",
       "        vertical-align: top;\n",
       "    }\n",
       "\n",
       "    .dataframe thead th {\n",
       "        text-align: right;\n",
       "    }\n",
       "</style>\n",
       "<table border=\"1\" class=\"dataframe\">\n",
       "  <thead>\n",
       "    <tr style=\"text-align: right;\">\n",
       "      <th></th>\n",
       "      <th>hotel_name</th>\n",
       "    </tr>\n",
       "    <tr>\n",
       "      <th>hotel_address</th>\n",
       "      <th></th>\n",
       "    </tr>\n",
       "  </thead>\n",
       "  <tbody>\n",
       "    <tr>\n",
       "      <th>8 Northumberland Avenue Westminster Borough London WC2N 5BY United Kingdom</th>\n",
       "      <td>2</td>\n",
       "    </tr>\n",
       "    <tr>\n",
       "      <th>Hernalser Hauptstra e 105 17 Hernals 1170 Vienna Austria</th>\n",
       "      <td>1</td>\n",
       "    </tr>\n",
       "    <tr>\n",
       "      <th>Hoffingergasse 26 28 12 Meidling 1120 Vienna Austria</th>\n",
       "      <td>1</td>\n",
       "    </tr>\n",
       "    <tr>\n",
       "      <th>Hobbemakade 50 Oud Zuid 1071 XL Amsterdam Netherlands</th>\n",
       "      <td>1</td>\n",
       "    </tr>\n",
       "    <tr>\n",
       "      <th>Hintschiggasse 1 10 Favoriten 1100 Vienna Austria</th>\n",
       "      <td>1</td>\n",
       "    </tr>\n",
       "    <tr>\n",
       "      <th>...</th>\n",
       "      <td>...</td>\n",
       "    </tr>\n",
       "    <tr>\n",
       "      <th>39 Avenue de l Op ra 2nd arr 75002 Paris France</th>\n",
       "      <td>1</td>\n",
       "    </tr>\n",
       "    <tr>\n",
       "      <th>39 Avenue de Wagram 17th arr 75017 Paris France</th>\n",
       "      <td>1</td>\n",
       "    </tr>\n",
       "    <tr>\n",
       "      <th>39 40 Dorset Square Hotel Westminster Borough London NW1 6QN United Kingdom</th>\n",
       "      <td>1</td>\n",
       "    </tr>\n",
       "    <tr>\n",
       "      <th>39 40 Cleveland Square Westminster Borough London W2 6DA United Kingdom</th>\n",
       "      <td>1</td>\n",
       "    </tr>\n",
       "    <tr>\n",
       "      <th>Wurzbachgasse 21 15 Rudolfsheim F nfhaus 1150 Vienna Austria</th>\n",
       "      <td>1</td>\n",
       "    </tr>\n",
       "  </tbody>\n",
       "</table>\n",
       "<p>1493 rows × 1 columns</p>\n",
       "</div>"
      ],
      "text/plain": [
       "                                                    hotel_name\n",
       "hotel_address                                                 \n",
       "8 Northumberland Avenue Westminster Borough Lon...           2\n",
       "Hernalser Hauptstra e 105 17 Hernals 1170 Vienn...           1\n",
       "Hoffingergasse 26 28 12 Meidling 1120 Vienna Au...           1\n",
       "Hobbemakade 50 Oud Zuid 1071 XL Amsterdam Nethe...           1\n",
       "Hintschiggasse 1 10 Favoriten 1100 Vienna Austria            1\n",
       "...                                                        ...\n",
       "39 Avenue de l Op ra 2nd arr 75002 Paris France              1\n",
       "39 Avenue de Wagram 17th arr 75017 Paris France              1\n",
       "39 40 Dorset Square Hotel Westminster Borough L...           1\n",
       "39 40 Cleveland Square Westminster Borough Lond...           1\n",
       "Wurzbachgasse 21 15 Rudolfsheim F nfhaus 1150 V...           1\n",
       "\n",
       "[1493 rows x 1 columns]"
      ]
     },
     "execution_count": 11,
     "metadata": {},
     "output_type": "execute_result"
    }
   ],
   "source": [
    "hotels.groupby('hotel_address')[['hotel_name']].nunique().sort_values(by='hotel_name', ascending=False)"
   ]
  },
  {
   "attachments": {},
   "cell_type": "markdown",
   "metadata": {},
   "source": [
    "Видим, что по адресу '8 Northumberland Avenue Westminster Borough London WC2N 5BY United Kingdom' значатся два различных отеля. Посмотрим на них:"
   ]
  },
  {
   "cell_type": "code",
   "execution_count": 12,
   "metadata": {},
   "outputs": [
    {
     "data": {
      "text/plain": [
       "array(['The Grand at Trafalgar Square',\n",
       "       'Club Quarters Hotel Trafalgar Square'], dtype=object)"
      ]
     },
     "execution_count": 12,
     "metadata": {},
     "output_type": "execute_result"
    }
   ],
   "source": [
    "hotels[hotels.hotel_address == '8 Northumberland Avenue Westminster Borough London WC2N 5BY United Kingdom'].hotel_name.unique()"
   ]
  },
  {
   "cell_type": "code",
   "execution_count": 13,
   "metadata": {},
   "outputs": [
    {
     "data": {
      "text/plain": [
       "array(['8 Northumberland Avenue Westminster Borough London WC2N 5BY United Kingdom'],\n",
       "      dtype=object)"
      ]
     },
     "execution_count": 13,
     "metadata": {},
     "output_type": "execute_result"
    }
   ],
   "source": [
    "hotels[hotels.hotel_name == 'The Grand at Trafalgar Square'].hotel_address.unique()\n"
   ]
  },
  {
   "cell_type": "code",
   "execution_count": 14,
   "metadata": {},
   "outputs": [
    {
     "data": {
      "text/plain": [
       "array(['8 Northumberland Avenue Westminster Borough London WC2N 5BY United Kingdom'],\n",
       "      dtype=object)"
      ]
     },
     "execution_count": 14,
     "metadata": {},
     "output_type": "execute_result"
    }
   ],
   "source": [
    "hotels[hotels.hotel_name == 'Club Quarters Hotel Trafalgar Square'].hotel_address.unique()"
   ]
  },
  {
   "attachments": {},
   "cell_type": "markdown",
   "metadata": {},
   "source": [
    "Да, видим, что действительно по одному адресу находятся два разных отеля. Проверка в интернет показала, что оба реальные и работают."
   ]
  },
  {
   "attachments": {},
   "cell_type": "markdown",
   "metadata": {},
   "source": [
    "Это говорит о том, что:\n",
    "1. Название отеля лучше определяет его чем адрес;\n",
    "2. От адреса можно будет избавиться после выделения из него страны и населенного пункта. Но сделать это гораздо легче, взяв информацию из lng и lat. Так что от адреса избавляемся однозначно.\n",
    "\n",
    "Сделаем это:"
   ]
  },
  {
   "cell_type": "code",
   "execution_count": 15,
   "metadata": {},
   "outputs": [],
   "source": [
    "hotels.drop(columns=['hotel_address'], inplace=True)"
   ]
  },
  {
   "attachments": {},
   "cell_type": "markdown",
   "metadata": {},
   "source": [
    "Теперь поработаем с review_date:"
   ]
  },
  {
   "cell_type": "code",
   "execution_count": 16,
   "metadata": {},
   "outputs": [
    {
     "name": "stderr",
     "output_type": "stream",
     "text": [
      "/tmp/ipykernel_216941/1026588098.py:2: FutureWarning: Treating datetime data as categorical rather than numeric in `.describe` is deprecated and will be removed in a future version of pandas. Specify `datetime_is_numeric=True` to silence this warning and adopt the future behavior now.\n",
      "  hotels.review_date.describe()\n"
     ]
    },
    {
     "data": {
      "text/plain": [
       "count                  386803\n",
       "unique                    731\n",
       "top       2017-08-02 00:00:00\n",
       "freq                     1911\n",
       "first     2015-08-04 00:00:00\n",
       "last      2017-08-03 00:00:00\n",
       "Name: review_date, dtype: object"
      ]
     },
     "execution_count": 16,
     "metadata": {},
     "output_type": "execute_result"
    }
   ],
   "source": [
    "hotels.review_date = pd.to_datetime(hotels.review_date)\n",
    "hotels.review_date.describe()"
   ]
  },
  {
   "cell_type": "code",
   "execution_count": 17,
   "metadata": {},
   "outputs": [
    {
     "data": {
      "text/plain": [
       "0        2016-02-19\n",
       "1        2017-01-12\n",
       "2        2016-10-18\n",
       "3        2015-09-22\n",
       "4        2016-03-05\n",
       "            ...    \n",
       "386798   2017-04-19\n",
       "386799   2017-02-13\n",
       "386800   2016-02-07\n",
       "386801   2017-05-21\n",
       "386802   2016-08-05\n",
       "Name: review_date, Length: 386803, dtype: datetime64[ns]"
      ]
     },
     "execution_count": 17,
     "metadata": {},
     "output_type": "execute_result"
    }
   ],
   "source": [
    "hotels.review_date"
   ]
  },
  {
   "attachments": {},
   "cell_type": "markdown",
   "metadata": {},
   "source": [
    "Лучше этот признак сразу разбить на три числовых:\n",
    "1. year - год;\n",
    "2. month - месяц;\n",
    "3. day - день,\n",
    "\n",
    "а затем избавиться от него.\n",
    "\n",
    "Сделаем это:"
   ]
  },
  {
   "cell_type": "code",
   "execution_count": 18,
   "metadata": {},
   "outputs": [],
   "source": [
    "hotels['year'] = hotels.review_date.dt.year\n",
    "hotels['month'] = hotels.review_date.dt.month\n",
    "hotels['day'] = hotels.review_date.dt.day"
   ]
  },
  {
   "cell_type": "code",
   "execution_count": 19,
   "metadata": {},
   "outputs": [],
   "source": [
    "hotels.drop(columns=['review_date'], inplace=True)"
   ]
  },
  {
   "attachments": {},
   "cell_type": "markdown",
   "metadata": {},
   "source": [
    "Название отеля приведем к категориальному типу:"
   ]
  },
  {
   "cell_type": "code",
   "execution_count": 20,
   "metadata": {},
   "outputs": [],
   "source": [
    "hotels.hotel_name = hotels.hotel_name.astype('category')"
   ]
  },
  {
   "attachments": {},
   "cell_type": "markdown",
   "metadata": {},
   "source": [
    "Национальность оставивщего обзор тоже приведем к категориальному типу:"
   ]
  },
  {
   "cell_type": "code",
   "execution_count": 21,
   "metadata": {},
   "outputs": [],
   "source": [
    "hotels.reviewer_nationality = hotels.reviewer_nationality.astype('category')"
   ]
  },
  {
   "attachments": {},
   "cell_type": "markdown",
   "metadata": {},
   "source": [
    "Поработаем с негативной частью обзора:"
   ]
  },
  {
   "cell_type": "code",
   "execution_count": 22,
   "metadata": {},
   "outputs": [],
   "source": [
    "pd.set_option('display.max_rows', None)"
   ]
  },
  {
   "cell_type": "code",
   "execution_count": 23,
   "metadata": {},
   "outputs": [
    {
     "data": {
      "text/plain": [
       "No Negative                          95907\n",
       " Nothing                             10737\n",
       " Nothing                              3154\n",
       " nothing                              1660\n",
       " N A                                   802\n",
       " None                                  737\n",
       "                                       606\n",
       " N a                                   384\n",
       " Breakfast                             296\n",
       " Small room                            283\n",
       " Location                              281\n",
       " All good                              251\n",
       " Everything                            251\n",
       " Nothing really                        240\n",
       " none                                  223\n",
       " nothing                               219\n",
       " No complaints                         201\n",
       " Nil                                   197\n",
       " Nothing really                        195\n",
       " Price                                 192\n",
       " n a                                   176\n",
       " Nothing to dislike                    159\n",
       " Nothing at all                        154\n",
       " Nothing at all                        139\n",
       " Small rooms                           135\n",
       " None                                  134\n",
       " No complaints                         129\n",
       " All good                              116\n",
       " NA                                    109\n",
       " Expensive                             105\n",
       " Absolutely nothing                    104\n",
       " Can t think of anything               103\n",
       " Room size                             103\n",
       " Very small room                        98\n",
       " Everything was perfect                 97\n",
       " Nothing to dislike                     96\n",
       " Staff                                  93\n",
       " Everything was great                   89\n",
       " No                                     89\n",
       " Everything was perfect                 88\n",
       " Nothing to complain about              87\n",
       " Leaving                                83\n",
       " NOTHING                                82\n",
       " Leaving                                81\n",
       " Na                                     78\n",
       " Nothing not to like                    73\n",
       " See above                              72\n",
       " Everything was great                   72\n",
       " small room                             71\n",
       " Can t think of anything                68\n",
       " Liked everything                       68\n",
       " breakfast                              68\n",
       " Not much                               67\n",
       " location                               66\n",
       " Having to leave                        66\n",
       " Non                                    66\n",
       " Parking                                65\n",
       " Expensive breakfast                    65\n",
       " Everything was good                    64\n",
       " Pillows                                63\n",
       " All was good                           62\n",
       " The price                              61\n",
       " Absolutely nothing                     60\n",
       " Nothing not to like                    58\n",
       " I liked everything                     58\n",
       " Small room                             57\n",
       " No parking                             56\n",
       " As above                               56\n",
       " Size of room                           56\n",
       " Bathroom                               55\n",
       " Wifi                                   55\n",
       " Room too small                         55\n",
       " Not applicable                         54\n",
       " Room very small                        53\n",
       " Room was very small                    53\n",
       " Very small rooms                       53\n",
       " Nothing to complain about              52\n",
       " Size of the room                       51\n",
       " Everything was good                    51\n",
       " Nothing all good                       51\n",
       " No thing                               49\n",
       " Room                                   49\n",
       " I liked everything                     48\n",
       " Noise                                  48\n",
       " The breakfast                          47\n",
       " Small bathroom                         47\n",
       " Breakfast too expensive                47\n",
       " Breakfast not included                 47\n",
       " Poor breakfast                         46\n",
       " No gym                                 46\n",
       " Bed                                    46\n",
       " Small rooms                            45\n",
       " Everything was fine                    45\n",
       " Nothing in particular                  45\n",
       " small rooms                            43\n",
       " Room was small                         43\n",
       " nothing really                         42\n",
       " Location                               42\n",
       " There was nothing I didn t like        41\n",
       " Having to leave                        40\n",
       "Name: negative_review, dtype: int64"
      ]
     },
     "execution_count": 23,
     "metadata": {},
     "output_type": "execute_result"
    }
   ],
   "source": [
    "hotels.negative_review.value_counts().head(100)"
   ]
  },
  {
   "cell_type": "code",
   "execution_count": 24,
   "metadata": {},
   "outputs": [],
   "source": [
    "pd.set_option('display.max_rows', 10)"
   ]
  },
  {
   "attachments": {},
   "cell_type": "markdown",
   "metadata": {},
   "source": [
    "Первое, что мы видим - это необходимость избавиться от ведущих и замыкающих пробелов и привести все к нижнему регистру. Сделаем это:"
   ]
  },
  {
   "cell_type": "code",
   "execution_count": 25,
   "metadata": {},
   "outputs": [],
   "source": [
    "hotels.negative_review = hotels.negative_review.apply(lambda x: x.strip().lower())"
   ]
  },
  {
   "attachments": {},
   "cell_type": "markdown",
   "metadata": {},
   "source": [
    "Посмотрим на частоты вариантов негативных отзывов еще раз:"
   ]
  },
  {
   "cell_type": "code",
   "execution_count": 26,
   "metadata": {},
   "outputs": [
    {
     "data": {
      "text/plain": [
       "no negative         95907\n",
       "nothing             15882\n",
       "n a                  1392\n",
       "none                 1115\n",
       "                      606\n",
       "                    ...  \n",
       "nothing to say         52\n",
       "room a bit small       52\n",
       "no problems            52\n",
       "no comment             50\n",
       "no pool                49\n",
       "Name: negative_review, Length: 100, dtype: int64"
      ]
     },
     "execution_count": 26,
     "metadata": {},
     "output_type": "execute_result"
    }
   ],
   "source": [
    "hotels.negative_review.value_counts().head(100)\n"
   ]
  },
  {
   "attachments": {},
   "cell_type": "markdown",
   "metadata": {},
   "source": [
    "Сложность этого признака заключается в том, что он может носить как положительную, так и отрицательную окраску. Работа с этим признаком относится к задачам обработки естественных языков (NLP). Для решения этой задачи воспользуемся библиотекой nltk, как описано в <a href=\"https://towardsdatascience.com/sentiment-analysis-for-hotel-reviews-3fa0c287d82e\">статье</a>.\n",
    "\n",
    "Также видим, что есть очень часто повторяющиеся значения, а есть уникальные отзывы. К последним доверия больше. Хороший признак, который это учтёт - доля таких озывов от общего количества уникальных отзывов.\n",
    "\n",
    "Еще одним признаком станет количество слов в негативном отзыве."
   ]
  },
  {
   "cell_type": "code",
   "execution_count": 27,
   "metadata": {},
   "outputs": [],
   "source": [
    "from nltk.sentiment.vader import SentimentIntensityAnalyzer"
   ]
  },
  {
   "cell_type": "code",
   "execution_count": 28,
   "metadata": {},
   "outputs": [],
   "source": [
    "# Первым делов подправим явные выражения \n",
    "hotels['negative_review'] = hotels['negative_review'].apply(lambda x: x.replace('No Negative', 'Positive'))\n",
    "hotels['negative_review'] = hotels['negative_review'].apply(lambda x: x.replace('N A', 'Positive'))\n",
    "hotels['negative_review'] = hotels['negative_review'].apply(\n",
    "    lambda x: x.replace('All good', 'Positive'))\n",
    "hotels['negative_review'] = hotels['negative_review'].apply(\n",
    "    lambda x: x.replace('No complaints', 'Positive'))\n",
    "hotels['negative_review'] = hotels['negative_review'].apply(\n",
    "    lambda x: x.replace('Nothing to dislike', 'Positive'))\n",
    "hotels['positive_review'] = hotels['positive_review'].apply(\n",
    "    lambda x: x.replace('No Positive', 'Negative'))"
   ]
  },
  {
   "cell_type": "code",
   "execution_count": 29,
   "metadata": {},
   "outputs": [
    {
     "name": "stderr",
     "output_type": "stream",
     "text": [
      "[nltk_data] Downloading package vader_lexicon to\n",
      "[nltk_data]     /home/alexey/nltk_data...\n",
      "[nltk_data]   Package vader_lexicon is already up-to-date!\n"
     ]
    },
    {
     "data": {
      "text/plain": [
       "True"
      ]
     },
     "execution_count": 29,
     "metadata": {},
     "output_type": "execute_result"
    }
   ],
   "source": [
    "import nltk\n",
    "nltk.download('vader_lexicon')"
   ]
  },
  {
   "cell_type": "code",
   "execution_count": 31,
   "metadata": {},
   "outputs": [],
   "source": [
    "# создаем два экземпляра анализатора, чтобы разделить лексикон\n",
    "# для разной системы оценки положительных и отрицательных отзывов:\n",
    "sia_neg = SentimentIntensityAnalyzer()\n",
    "sia_pos = SentimentIntensityAnalyzer()\n",
    "\n",
    "hotels['neg_scores'] = hotels['negative_review'].apply(\n",
    "    lambda x: sia_neg.polarity_scores(x))\n",
    "hotels['pos_scores'] = hotels['positive_review'].apply(\n",
    "    lambda x: sia_pos.polarity_scores(x))\n",
    "\n",
    "# формируем новые признаки:\n",
    "hotels['n_review_sentiments_neg'] = hotels['neg_scores'].apply(lambda x: x['neg'])\n",
    "hotels['n_review_sentiments_neu'] = hotels['neg_scores'].apply(lambda x: x['neu'])\n",
    "hotels['n_review_sentiments_pos'] = hotels['neg_scores'].apply(lambda x: x['pos'])\n",
    "hotels['n_review_sentiments_compound'] = hotels['neg_scores'].apply(\n",
    "    lambda x: x['compound'])\n",
    "\n",
    "hotels['p_review_sentiments_neg'] = hotels['pos_scores'].apply(lambda x: x['neg'])\n",
    "hotels['p_review_sentiments_neu'] = hotels['pos_scores'].apply(lambda x: x['neu'])\n",
    "hotels['p_review_sentiments_pos'] = hotels['pos_scores'].apply(lambda x: x['pos'])\n",
    "hotels['p_review_sentiments_compound'] = hotels['pos_scores'].apply(\n",
    "    lambda x: x['compound'])\n"
   ]
  },
  {
   "cell_type": "code",
   "execution_count": 33,
   "metadata": {},
   "outputs": [
    {
     "name": "stdout",
     "output_type": "stream",
     "text": [
      "<class 'pandas.core.frame.DataFrame'>\n",
      "RangeIndex: 386803 entries, 0 to 386802\n",
      "Data columns (total 28 columns):\n",
      " #   Column                                      Non-Null Count   Dtype   \n",
      "---  ------                                      --------------   -----   \n",
      " 0   additional_number_of_scoring                386803 non-null  int64   \n",
      " 1   average_score                               386803 non-null  float64 \n",
      " 2   hotel_name                                  386803 non-null  category\n",
      " 3   reviewer_nationality                        386803 non-null  category\n",
      " 4   negative_review                             386803 non-null  object  \n",
      " 5   review_total_negative_word_counts           386803 non-null  int64   \n",
      " 6   total_number_of_reviews                     386803 non-null  int64   \n",
      " 7   positive_review                             386803 non-null  object  \n",
      " 8   review_total_positive_word_counts           386803 non-null  int64   \n",
      " 9   total_number_of_reviews_reviewer_has_given  386803 non-null  int64   \n",
      " 10  reviewer_score                              386803 non-null  float64 \n",
      " 11  tags                                        386803 non-null  object  \n",
      " 12  days_since_review                           386803 non-null  object  \n",
      " 13  lat                                         386803 non-null  float64 \n",
      " 14  lng                                         386803 non-null  float64 \n",
      " 15  year                                        386803 non-null  int64   \n",
      " 16  month                                       386803 non-null  int64   \n",
      " 17  day                                         386803 non-null  int64   \n",
      " 18  neg_scores                                  386803 non-null  object  \n",
      " 19  pos_scores                                  386803 non-null  object  \n",
      " 20  n_review_sentiments_neg                     386803 non-null  float64 \n",
      " 21  n_review_sentiments_neu                     386803 non-null  float64 \n",
      " 22  n_review_sentiments_pos                     386803 non-null  float64 \n",
      " 23  n_review_sentiments_compound                386803 non-null  float64 \n",
      " 24  p_review_sentiments_neg                     386803 non-null  float64 \n",
      " 25  p_review_sentiments_neu                     386803 non-null  float64 \n",
      " 26  p_review_sentiments_pos                     386803 non-null  float64 \n",
      " 27  p_review_sentiments_compound                386803 non-null  float64 \n",
      "dtypes: category(2), float64(12), int64(8), object(6)\n",
      "memory usage: 78.3+ MB\n"
     ]
    }
   ],
   "source": [
    "hotels.info()"
   ]
  },
  {
   "attachments": {},
   "cell_type": "markdown",
   "metadata": {},
   "source": [
    "В отличие от подхода в приведенной выше статье для экономии времени расчета мы подготовим словари, в которых ключами будут варианты отзывов из списка уникальных, а значениями будет метрика compund, которая дает отрицательные значения при негативной окраске, положительные при позитивной и близкие к нулю при нейтральной. Затем применим этот словарь для создания нового признака nr_sentiment_score."
   ]
  },
  {
   "cell_type": "code",
   "execution_count": 30,
   "metadata": {},
   "outputs": [],
   "source": [
    "# from tqdm import tqdm\n",
    "\n",
    "# nr_sentiment_dict = {}\n",
    "# negative_reviews = hotels.negative_review.unique()\n",
    "\n",
    "# for negative_review in tqdm(negative_reviews):\n",
    "#     nr_sentiment_dict[negative_review] = sia.polarity_scores(negative_review)['compound']\n"
   ]
  },
  {
   "cell_type": "code",
   "execution_count": 31,
   "metadata": {},
   "outputs": [
    {
     "name": "stderr",
     "output_type": "stream",
     "text": [
      "100%|██████████| 243719/243719 [01:16<00:00, 3189.36it/s]\n"
     ]
    }
   ],
   "source": [
    "# from tqdm import tqdm\n",
    "# from textblob import TextBlob\n",
    "\n",
    "# nr_sentiment_dict = {}\n",
    "# negative_reviews = hotels.negative_review.unique()\n",
    "\n",
    "# for negative_review in tqdm(negative_reviews):\n",
    "#     blob = TextBlob(negative_review)\n",
    "#     for sentence in blob.sentences:\n",
    "#         nr_sentiment_dict[negative_review] = sentence.sentiment.polarity"
   ]
  },
  {
   "cell_type": "code",
   "execution_count": 32,
   "metadata": {},
   "outputs": [],
   "source": [
    "# from itertools import islice"
   ]
  },
  {
   "cell_type": "code",
   "execution_count": 33,
   "metadata": {},
   "outputs": [
    {
     "data": {
      "text/plain": [
       "{'leaving': 0.0,\n",
       " 'poor breakfast': -0.4,\n",
       " 'no kettle in room': 0.0,\n",
       " 'no negative': 0.15,\n",
       " 'torn sheets': 0.0,\n",
       " 'nothing': 0.0,\n",
       " 'nothing it was lovely': 0.5,\n",
       " 'the communal areas are a bit soul less and the breakfast whilst very good is expensive but you can always use the cafe at the tram stop elise i think for breakfast and late night drinks we did': -0.014166666666666675,\n",
       " 'undergoing refurbishment no tea coffer in room room very small no ramp at entrance for wheeled suitcases no coffee available in lounge next morning early checkout at 11 00am': 0.043750000000000004,\n",
       " 'i advised it was for my husbands birthday and reception gave us a twin room when i booked a double i asked for little extras to be put in the room for his birthday and it was given too late and didnt make it special': -0.03258928571428571,\n",
       " 'they have lost their license and cannot sell alcohol or change your currency': 0.0,\n",
       " 'feel there isnt much to be improved upon with this hotel excellent all round': 0.3333333333333333,\n",
       " 'n a': 0.0,\n",
       " 'nothing hotel refurb great': 0.8,\n",
       " 'i got a room in basment 1 room 09 in same time next room 10 has some mantance work which made a noise early morning also it is not fair the check out at 10 30 am where there some hotel next to them has normal check out at 12': -0.016666666666666663,\n",
       " 'the gym was badly equipped i think the space could be put to better use there is no way it could be described as a gym': -0.09999999999999992,\n",
       " 'asked for a room over the thames but got the back of the hotel no view thought we would splash out for a 5 star hotel for our anniversary as a special treat thought a room with a view would have been prefect no bath in the room was offered another room with a bath for an extra 60 we declined the shower was cold in the morning we was given a free drinks voucher which was posted under our door in the early hours of the morning not much use when booking out at 11am': 0.022448979591836747,\n",
       " 'room wasn t exactly quiet when a large group of tourists was in the lobby and exiting as all the noise seemed to funnel straight up to the room same for the wedding party giveing a send off to the happy couple but nowhere would have been quiet for that one': 0.2023809523809524,\n",
       " 'no microwave and the size of bed is too small also no refrigerator for storing food and drinks': -0.25,\n",
       " 'the view even thaught specially asked for a good view': 0.5285714285714286}"
      ]
     },
     "execution_count": 33,
     "metadata": {},
     "output_type": "execute_result"
    }
   ],
   "source": [
    "# dict(islice(nr_sentiment_dict.items(), 0, 20))"
   ]
  },
  {
   "attachments": {},
   "cell_type": "markdown",
   "metadata": {},
   "source": [
    "Проделаем такую же работу для positive_review"
   ]
  },
  {
   "cell_type": "code",
   "execution_count": 34,
   "metadata": {},
   "outputs": [],
   "source": [
    "# hotels.positive_review = hotels.positive_review.apply(\n",
    "#     lambda x: x.strip().lower())"
   ]
  },
  {
   "cell_type": "code",
   "execution_count": 35,
   "metadata": {},
   "outputs": [
    {
     "name": "stderr",
     "output_type": "stream",
     "text": [
      "100%|██████████| 303584/303584 [01:30<00:00, 3351.23it/s]\n"
     ]
    }
   ],
   "source": [
    "# pr_sentiment_dict = {}\n",
    "# positive_reviews = hotels.positive_review.unique()\n",
    "\n",
    "# for positive_review in tqdm(positive_reviews):\n",
    "#     blob = TextBlob(positive_review)\n",
    "#     for sentence in blob.sentences:\n",
    "#         pr_sentiment_dict[positive_review] = sentence.sentiment.polarity"
   ]
  },
  {
   "attachments": {},
   "cell_type": "markdown",
   "metadata": {},
   "source": [
    "К сожалению констатируем, что оценки далеки от реальности. Видим, что nothing сильно портит картину. Попробуем включить его в стоп-слова."
   ]
  },
  {
   "cell_type": "code",
   "execution_count": 36,
   "metadata": {},
   "outputs": [],
   "source": [
    "hotels['nr_sentiment_score'] = hotels.negative_review.map(nr_sentiment_dict)\n",
    "hotels['pr_sentiment_score'] = hotels.positive_review.map(pr_sentiment_dict)"
   ]
  },
  {
   "cell_type": "code",
   "execution_count": 37,
   "metadata": {},
   "outputs": [],
   "source": [
    "nr_frequencies = hotels.negative_review.value_counts(normalize=True)\n",
    "nr_frequencies_dict = dict(zip(nr_frequencies.index, nr_frequencies.values))\n",
    "hotels['nr_frequency'] = hotels.negative_review.map(nr_frequencies_dict)\n",
    "\n",
    "pr_frequencies = hotels.positive_review.value_counts(normalize=True)\n",
    "pr_frequencies_dict = dict(zip(pr_frequencies.index, pr_frequencies.values))\n",
    "hotels['pr_frequency'] = hotels.positive_review.map(pr_frequencies_dict)"
   ]
  },
  {
   "attachments": {},
   "cell_type": "markdown",
   "metadata": {},
   "source": [
    "Удалим колонки с отзывами"
   ]
  },
  {
   "cell_type": "code",
   "execution_count": 41,
   "metadata": {},
   "outputs": [],
   "source": [
    "hotels.drop(columns=['negative_review', 'positive_review'], inplace=True)"
   ]
  },
  {
   "cell_type": "code",
   "execution_count": 42,
   "metadata": {},
   "outputs": [
    {
     "name": "stdout",
     "output_type": "stream",
     "text": [
      "<class 'pandas.core.frame.DataFrame'>\n",
      "RangeIndex: 386803 entries, 0 to 386802\n",
      "Data columns (total 1 columns):\n",
      " #   Column  Non-Null Count   Dtype \n",
      "---  ------  --------------   ----- \n",
      " 0   tags    386803 non-null  object\n",
      "dtypes: object(1)\n",
      "memory usage: 3.0+ MB\n"
     ]
    }
   ],
   "source": [
    "hotels.select_dtypes('object').info()"
   ]
  },
  {
   "attachments": {},
   "cell_type": "markdown",
   "metadata": {},
   "source": [
    "Обработаем признак days_since_rewiev"
   ]
  },
  {
   "cell_type": "code",
   "execution_count": 40,
   "metadata": {},
   "outputs": [],
   "source": [
    "hotels['days_since_review'] = hotels['days_since_review'].str.split().str[0]\n",
    "hotels['days_since_review'] = hotels['days_since_review'].astype('int')\n"
   ]
  },
  {
   "attachments": {},
   "cell_type": "markdown",
   "metadata": {},
   "source": [
    "Обработаем признак tags"
   ]
  },
  {
   "cell_type": "code",
   "execution_count": 43,
   "metadata": {},
   "outputs": [
    {
     "data": {
      "text/plain": [
       "0         [' Leisure trip ', ' Couple ', ' Studio Suite ...\n",
       "1         [' Business trip ', ' Couple ', ' Standard Dou...\n",
       "2         [' Leisure trip ', ' Solo traveler ', ' Modern...\n",
       "3         [' Leisure trip ', ' Solo traveler ', ' Standa...\n",
       "4         [' Business trip ', ' Couple ', ' Standard Dou...\n",
       "                                ...                        \n",
       "386798    [' Leisure trip ', ' Group ', ' Club Double or...\n",
       "386799    [' Leisure trip ', ' Couple ', ' Standard Doub...\n",
       "386800    [' Business trip ', ' Solo traveler ', ' Singl...\n",
       "386801    [' Leisure trip ', ' Solo traveler ', ' Deluxe...\n",
       "386802    [' Leisure trip ', ' Couple ', ' Bunk Bed Room...\n",
       "Name: tags, Length: 386803, dtype: object"
      ]
     },
     "execution_count": 43,
     "metadata": {},
     "output_type": "execute_result"
    }
   ],
   "source": [
    "hotels.tags"
   ]
  },
  {
   "cell_type": "code",
   "execution_count": 44,
   "metadata": {},
   "outputs": [],
   "source": [
    "def re_func(num_tags):\n",
    "    num_tags = num_tags[2:-2]\n",
    "    res = num_tags.strip().split(' \\', \\' ')\n",
    "    return res\n",
    "\n",
    "hotels['tags'] = hotels['tags'].apply(re_func)"
   ]
  },
  {
   "cell_type": "code",
   "execution_count": 45,
   "metadata": {},
   "outputs": [
    {
     "data": {
      "text/plain": [
       "0         [Leisure trip, Couple, Studio Suite, Stayed 2 ...\n",
       "1         [Business trip, Couple, Standard Double Room, ...\n",
       "2         [Leisure trip, Solo traveler, Modern Double Ro...\n",
       "3         [Leisure trip, Solo traveler, Standard Room wi...\n",
       "4         [Business trip, Couple, Standard Double or Twi...\n",
       "                                ...                        \n",
       "386798    [Leisure trip, Group, Club Double or Twin Room...\n",
       "386799    [Leisure trip, Couple, Standard Double Room, S...\n",
       "386800    [Business trip, Solo traveler, Single Room, St...\n",
       "386801    [Leisure trip, Solo traveler, Deluxe Double Ro...\n",
       "386802    [Leisure trip, Couple, Bunk Bed Room, Stayed 4...\n",
       "Name: tags, Length: 386803, dtype: object"
      ]
     },
     "execution_count": 45,
     "metadata": {},
     "output_type": "execute_result"
    }
   ],
   "source": [
    "hotels.tags"
   ]
  },
  {
   "cell_type": "code",
   "execution_count": 46,
   "metadata": {},
   "outputs": [],
   "source": [
    "hotels_copy = hotels.explode('tags')\n",
    "tags_counts = hotels_copy['tags'].value_counts()[:20]\n",
    "hotels_tags_counts = pd.DataFrame(tags_counts).reset_index()\n",
    "hotels_tags_counts.columns = ['unique_tags', 'counts_unique_tags']\n",
    "top_tags = set(hotels_tags_counts['unique_tags'])"
   ]
  },
  {
   "cell_type": "code",
   "execution_count": 48,
   "metadata": {},
   "outputs": [
    {
     "data": {
      "text/plain": [
       "2368"
      ]
     },
     "execution_count": 48,
     "metadata": {},
     "output_type": "execute_result"
    }
   ],
   "source": [
    "hotels_copy.tags.nunique()"
   ]
  },
  {
   "cell_type": "code",
   "execution_count": 52,
   "metadata": {},
   "outputs": [
    {
     "data": {
      "text/plain": [
       "tags            \n",
       "Stayed 1 night      145373\n",
       "Stayed 2 nights     100263\n",
       "Stayed 3 nights      72000\n",
       "Stayed 4 nights      35748\n",
       "Stayed 5 nights      15611\n",
       "                     ...  \n",
       "Stayed 26 nights         6\n",
       "Stayed 23 nights         6\n",
       "Stayed 24 nights         5\n",
       "Stayed 25 nights         4\n",
       "Stayed 29 nights         3\n",
       "Length: 30, dtype: int64"
      ]
     },
     "execution_count": 52,
     "metadata": {},
     "output_type": "execute_result"
    }
   ],
   "source": [
    "hotels_copy[hotels_copy.tags.apply(lambda x: 'Stayed' in x)][['tags']].value_counts()"
   ]
  },
  {
   "cell_type": "code",
   "execution_count": 49,
   "metadata": {},
   "outputs": [
    {
     "data": {
      "text/plain": [
       "Leisure trip                         313593\n",
       "Submitted from a mobile device       230778\n",
       "Couple                               189212\n",
       "Stayed 1 night                       145373\n",
       "Stayed 2 nights                      100263\n",
       "                                      ...  \n",
       "Studio with Spa Access                    1\n",
       "Comfort Family Room                       1\n",
       "Junior Suite Free Wifi                    1\n",
       "Design Suite                              1\n",
       "Executive Double Room Non Smoking         1\n",
       "Name: tags, Length: 2368, dtype: int64"
      ]
     },
     "execution_count": 49,
     "metadata": {},
     "output_type": "execute_result"
    }
   ],
   "source": [
    "hotels_copy.tags.value_counts()"
   ]
  },
  {
   "cell_type": "code",
   "execution_count": 53,
   "metadata": {},
   "outputs": [],
   "source": [
    "# Используем эти 20 тегов что бы создать в нашем датасете 20 новых признаков\n",
    "# 1 -  в отзыве есть этот тег, 0 - тега нет\n",
    "\n",
    "for tag in top_tags:\n",
    "    tag_name = str(tag)\n",
    "    hotels[tag_name] = hotels['tags'].apply(lambda x: 1 if tag_name in x else 0)\n"
   ]
  },
  {
   "cell_type": "code",
   "execution_count": 54,
   "metadata": {},
   "outputs": [
    {
     "name": "stdout",
     "output_type": "stream",
     "text": [
      "<class 'pandas.core.frame.DataFrame'>\n",
      "RangeIndex: 386803 entries, 0 to 386802\n",
      "Data columns (total 40 columns):\n",
      " #   Column                                      Non-Null Count   Dtype   \n",
      "---  ------                                      --------------   -----   \n",
      " 0   additional_number_of_scoring                386803 non-null  int64   \n",
      " 1   average_score                               386803 non-null  float64 \n",
      " 2   hotel_name                                  386803 non-null  category\n",
      " 3   reviewer_nationality                        386803 non-null  category\n",
      " 4   review_total_negative_word_counts           386803 non-null  int64   \n",
      " 5   total_number_of_reviews                     386803 non-null  int64   \n",
      " 6   review_total_positive_word_counts           386803 non-null  int64   \n",
      " 7   total_number_of_reviews_reviewer_has_given  386803 non-null  int64   \n",
      " 8   reviewer_score                              386803 non-null  float64 \n",
      " 9   tags                                        386803 non-null  object  \n",
      " 10  days_since_review                           386803 non-null  int64   \n",
      " 11  lat                                         386803 non-null  float64 \n",
      " 12  lng                                         386803 non-null  float64 \n",
      " 13  year                                        386803 non-null  int64   \n",
      " 14  month                                       386803 non-null  int64   \n",
      " 15  day                                         386803 non-null  int64   \n",
      " 16  nr_sentiment_score                          386197 non-null  float64 \n",
      " 17  pr_sentiment_score                          386675 non-null  float64 \n",
      " 18  nr_frequency                                386803 non-null  float64 \n",
      " 19  pr_frequency                                386803 non-null  float64 \n",
      " 20  Stayed 2 nights                             386803 non-null  int64   \n",
      " 21  Solo traveler                               386803 non-null  int64   \n",
      " 22  Standard Double or Twin Room                386803 non-null  int64   \n",
      " 23  Stayed 5 nights                             386803 non-null  int64   \n",
      " 24  Stayed 3 nights                             386803 non-null  int64   \n",
      " 25  Double or Twin Room                         386803 non-null  int64   \n",
      " 26  Group                                       386803 non-null  int64   \n",
      " 27  Standard Double Room                        386803 non-null  int64   \n",
      " 28  Leisure trip                                386803 non-null  int64   \n",
      " 29  Deluxe Double Room                          386803 non-null  int64   \n",
      " 30  Stayed 4 nights                             386803 non-null  int64   \n",
      " 31  Double Room                                 386803 non-null  int64   \n",
      " 32  Couple                                      386803 non-null  int64   \n",
      " 33  Family with older children                  386803 non-null  int64   \n",
      " 34  Family with young children                  386803 non-null  int64   \n",
      " 35  Stayed 1 night                              386803 non-null  int64   \n",
      " 36  Business trip                               386803 non-null  int64   \n",
      " 37  Classic Double Room                         386803 non-null  int64   \n",
      " 38  Superior Double Room                        386803 non-null  int64   \n",
      " 39  Submitted from a mobile device              386803 non-null  int64   \n",
      "dtypes: category(2), float64(8), int64(29), object(1)\n",
      "memory usage: 113.7+ MB\n"
     ]
    }
   ],
   "source": [
    "hotels.info()"
   ]
  },
  {
   "attachments": {},
   "cell_type": "markdown",
   "metadata": {},
   "source": [
    "Для тестирования промежуточного результата избавимся от оставщихся строковых данных."
   ]
  },
  {
   "cell_type": "code",
   "execution_count": 39,
   "metadata": {},
   "outputs": [],
   "source": [
    "hotels = hotels.select_dtypes([], ['object'])"
   ]
  },
  {
   "cell_type": "code",
   "execution_count": 40,
   "metadata": {},
   "outputs": [],
   "source": [
    "hotels.hotel_name = hotels.hotel_name.cat.codes\n",
    "hotels.reviewer_nationality = hotels.reviewer_nationality.cat.codes"
   ]
  },
  {
   "cell_type": "code",
   "execution_count": 41,
   "metadata": {},
   "outputs": [],
   "source": [
    "hotels.nr_sentiment_score.fillna(0, inplace=True)\n",
    "hotels.pr_sentiment_score.fillna(0, inplace=True)\n"
   ]
  },
  {
   "cell_type": "code",
   "execution_count": 42,
   "metadata": {},
   "outputs": [
    {
     "data": {
      "text/html": [
       "<div>\n",
       "<style scoped>\n",
       "    .dataframe tbody tr th:only-of-type {\n",
       "        vertical-align: middle;\n",
       "    }\n",
       "\n",
       "    .dataframe tbody tr th {\n",
       "        vertical-align: top;\n",
       "    }\n",
       "\n",
       "    .dataframe thead th {\n",
       "        text-align: right;\n",
       "    }\n",
       "</style>\n",
       "<table border=\"1\" class=\"dataframe\">\n",
       "  <thead>\n",
       "    <tr style=\"text-align: right;\">\n",
       "      <th></th>\n",
       "      <th>additional_number_of_scoring</th>\n",
       "      <th>average_score</th>\n",
       "      <th>hotel_name</th>\n",
       "      <th>reviewer_nationality</th>\n",
       "      <th>review_total_negative_word_counts</th>\n",
       "      <th>total_number_of_reviews</th>\n",
       "      <th>review_total_positive_word_counts</th>\n",
       "      <th>total_number_of_reviews_reviewer_has_given</th>\n",
       "      <th>reviewer_score</th>\n",
       "      <th>lat</th>\n",
       "      <th>lng</th>\n",
       "      <th>year</th>\n",
       "      <th>month</th>\n",
       "      <th>day</th>\n",
       "      <th>nr_sentiment_score</th>\n",
       "      <th>pr_sentiment_score</th>\n",
       "      <th>nr_frequency</th>\n",
       "      <th>pr_frequency</th>\n",
       "    </tr>\n",
       "  </thead>\n",
       "  <tbody>\n",
       "    <tr>\n",
       "      <th>0</th>\n",
       "      <td>581</td>\n",
       "      <td>8.4</td>\n",
       "      <td>1366</td>\n",
       "      <td>213</td>\n",
       "      <td>3</td>\n",
       "      <td>1994</td>\n",
       "      <td>4</td>\n",
       "      <td>7</td>\n",
       "      <td>10.0</td>\n",
       "      <td>51.507894</td>\n",
       "      <td>-0.143671</td>\n",
       "      <td>2016</td>\n",
       "      <td>2</td>\n",
       "      <td>19</td>\n",
       "      <td>0.00</td>\n",
       "      <td>0.600000</td>\n",
       "      <td>0.000460</td>\n",
       "      <td>0.000075</td>\n",
       "    </tr>\n",
       "    <tr>\n",
       "      <th>1</th>\n",
       "      <td>299</td>\n",
       "      <td>8.3</td>\n",
       "      <td>975</td>\n",
       "      <td>213</td>\n",
       "      <td>3</td>\n",
       "      <td>1361</td>\n",
       "      <td>2</td>\n",
       "      <td>14</td>\n",
       "      <td>6.3</td>\n",
       "      <td>51.521009</td>\n",
       "      <td>-0.123097</td>\n",
       "      <td>2017</td>\n",
       "      <td>1</td>\n",
       "      <td>12</td>\n",
       "      <td>-0.40</td>\n",
       "      <td>0.000000</td>\n",
       "      <td>0.000189</td>\n",
       "      <td>0.022862</td>\n",
       "    </tr>\n",
       "    <tr>\n",
       "      <th>2</th>\n",
       "      <td>32</td>\n",
       "      <td>8.9</td>\n",
       "      <td>909</td>\n",
       "      <td>42</td>\n",
       "      <td>6</td>\n",
       "      <td>406</td>\n",
       "      <td>0</td>\n",
       "      <td>14</td>\n",
       "      <td>7.5</td>\n",
       "      <td>48.845377</td>\n",
       "      <td>2.325643</td>\n",
       "      <td>2016</td>\n",
       "      <td>10</td>\n",
       "      <td>18</td>\n",
       "      <td>0.00</td>\n",
       "      <td>-0.113636</td>\n",
       "      <td>0.000047</td>\n",
       "      <td>0.069506</td>\n",
       "    </tr>\n",
       "    <tr>\n",
       "      <th>3</th>\n",
       "      <td>34</td>\n",
       "      <td>7.5</td>\n",
       "      <td>983</td>\n",
       "      <td>213</td>\n",
       "      <td>0</td>\n",
       "      <td>607</td>\n",
       "      <td>11</td>\n",
       "      <td>8</td>\n",
       "      <td>10.0</td>\n",
       "      <td>48.888697</td>\n",
       "      <td>2.394540</td>\n",
       "      <td>2015</td>\n",
       "      <td>9</td>\n",
       "      <td>22</td>\n",
       "      <td>0.15</td>\n",
       "      <td>0.428333</td>\n",
       "      <td>0.247948</td>\n",
       "      <td>0.000003</td>\n",
       "    </tr>\n",
       "    <tr>\n",
       "      <th>4</th>\n",
       "      <td>914</td>\n",
       "      <td>8.5</td>\n",
       "      <td>349</td>\n",
       "      <td>160</td>\n",
       "      <td>4</td>\n",
       "      <td>7586</td>\n",
       "      <td>20</td>\n",
       "      <td>10</td>\n",
       "      <td>9.6</td>\n",
       "      <td>52.385601</td>\n",
       "      <td>4.847060</td>\n",
       "      <td>2016</td>\n",
       "      <td>3</td>\n",
       "      <td>5</td>\n",
       "      <td>0.00</td>\n",
       "      <td>0.277500</td>\n",
       "      <td>0.000003</td>\n",
       "      <td>0.000003</td>\n",
       "    </tr>\n",
       "  </tbody>\n",
       "</table>\n",
       "</div>"
      ],
      "text/plain": [
       "   additional_number_of_scoring  average_score  hotel_name  \\\n",
       "0                           581            8.4        1366   \n",
       "1                           299            8.3         975   \n",
       "2                            32            8.9         909   \n",
       "3                            34            7.5         983   \n",
       "4                           914            8.5         349   \n",
       "\n",
       "   reviewer_nationality  review_total_negative_word_counts  \\\n",
       "0                   213                                  3   \n",
       "1                   213                                  3   \n",
       "2                    42                                  6   \n",
       "3                   213                                  0   \n",
       "4                   160                                  4   \n",
       "\n",
       "   total_number_of_reviews  review_total_positive_word_counts  \\\n",
       "0                     1994                                  4   \n",
       "1                     1361                                  2   \n",
       "2                      406                                  0   \n",
       "3                      607                                 11   \n",
       "4                     7586                                 20   \n",
       "\n",
       "   total_number_of_reviews_reviewer_has_given  reviewer_score        lat  \\\n",
       "0                                           7            10.0  51.507894   \n",
       "1                                          14             6.3  51.521009   \n",
       "2                                          14             7.5  48.845377   \n",
       "3                                           8            10.0  48.888697   \n",
       "4                                          10             9.6  52.385601   \n",
       "\n",
       "        lng  year  month  day  nr_sentiment_score  pr_sentiment_score  \\\n",
       "0 -0.143671  2016      2   19                0.00            0.600000   \n",
       "1 -0.123097  2017      1   12               -0.40            0.000000   \n",
       "2  2.325643  2016     10   18                0.00           -0.113636   \n",
       "3  2.394540  2015      9   22                0.15            0.428333   \n",
       "4  4.847060  2016      3    5                0.00            0.277500   \n",
       "\n",
       "   nr_frequency  pr_frequency  \n",
       "0      0.000460      0.000075  \n",
       "1      0.000189      0.022862  \n",
       "2      0.000047      0.069506  \n",
       "3      0.247948      0.000003  \n",
       "4      0.000003      0.000003  "
      ]
     },
     "execution_count": 42,
     "metadata": {},
     "output_type": "execute_result"
    }
   ],
   "source": [
    "hotels.head()"
   ]
  },
  {
   "cell_type": "code",
   "execution_count": 43,
   "metadata": {},
   "outputs": [],
   "source": [
    "# Разбиваем датафрейм на части, необходимые для обучения и тестирования модели  \n",
    "# Х - данные с информацией об отелях, у - целевая переменная (рейтинги отелей)  \n",
    "X = hotels.drop(columns=['reviewer_score'])  \n",
    "y = hotels['reviewer_score'] "
   ]
  },
  {
   "cell_type": "code",
   "execution_count": 44,
   "metadata": {},
   "outputs": [
    {
     "data": {
      "text/plain": [
       "additional_number_of_scoring                  0\n",
       "average_score                                 0\n",
       "hotel_name                                    0\n",
       "reviewer_nationality                          0\n",
       "review_total_negative_word_counts             0\n",
       "total_number_of_reviews                       0\n",
       "review_total_positive_word_counts             0\n",
       "total_number_of_reviews_reviewer_has_given    0\n",
       "lat                                           0\n",
       "lng                                           0\n",
       "year                                          0\n",
       "month                                         0\n",
       "day                                           0\n",
       "nr_sentiment_score                            0\n",
       "pr_sentiment_score                            0\n",
       "nr_frequency                                  0\n",
       "pr_frequency                                  0\n",
       "dtype: int64"
      ]
     },
     "execution_count": 44,
     "metadata": {},
     "output_type": "execute_result"
    }
   ],
   "source": [
    "X.isna().sum()"
   ]
  },
  {
   "attachments": {},
   "cell_type": "markdown",
   "metadata": {},
   "source": [
    "Отбор признаков"
   ]
  },
  {
   "cell_type": "code",
   "execution_count": 45,
   "metadata": {},
   "outputs": [
    {
     "name": "stdout",
     "output_type": "stream",
     "text": [
      "<class 'pandas.core.frame.DataFrame'>\n",
      "RangeIndex: 386803 entries, 0 to 386802\n",
      "Data columns (total 17 columns):\n",
      " #   Column                                      Non-Null Count   Dtype  \n",
      "---  ------                                      --------------   -----  \n",
      " 0   additional_number_of_scoring                386803 non-null  int64  \n",
      " 1   average_score                               386803 non-null  float64\n",
      " 2   hotel_name                                  386803 non-null  int16  \n",
      " 3   reviewer_nationality                        386803 non-null  int16  \n",
      " 4   review_total_negative_word_counts           386803 non-null  int64  \n",
      " 5   total_number_of_reviews                     386803 non-null  int64  \n",
      " 6   review_total_positive_word_counts           386803 non-null  int64  \n",
      " 7   total_number_of_reviews_reviewer_has_given  386803 non-null  int64  \n",
      " 8   lat                                         386803 non-null  float64\n",
      " 9   lng                                         386803 non-null  float64\n",
      " 10  year                                        386803 non-null  int64  \n",
      " 11  month                                       386803 non-null  int64  \n",
      " 12  day                                         386803 non-null  int64  \n",
      " 13  nr_sentiment_score                          386803 non-null  float64\n",
      " 14  pr_sentiment_score                          386803 non-null  float64\n",
      " 15  nr_frequency                                386803 non-null  float64\n",
      " 16  pr_frequency                                386803 non-null  float64\n",
      "dtypes: float64(7), int16(2), int64(8)\n",
      "memory usage: 45.7 MB\n"
     ]
    }
   ],
   "source": [
    "X.info()"
   ]
  },
  {
   "cell_type": "code",
   "execution_count": 46,
   "metadata": {},
   "outputs": [
    {
     "data": {
      "text/plain": [
       "480"
      ]
     },
     "execution_count": 46,
     "metadata": {},
     "output_type": "execute_result"
    }
   ],
   "source": [
    "X.additional_number_of_scoring.nunique()"
   ]
  },
  {
   "cell_type": "code",
   "execution_count": 47,
   "metadata": {},
   "outputs": [
    {
     "data": {
      "text/plain": [
       "34"
      ]
     },
     "execution_count": 47,
     "metadata": {},
     "output_type": "execute_result"
    }
   ],
   "source": [
    "X.average_score.nunique()"
   ]
  },
  {
   "cell_type": "code",
   "execution_count": 48,
   "metadata": {},
   "outputs": [
    {
     "data": {
      "text/plain": [
       "194"
      ]
     },
     "execution_count": 48,
     "metadata": {},
     "output_type": "execute_result"
    }
   ],
   "source": [
    "X.total_number_of_reviews_reviewer_has_given.nunique()"
   ]
  },
  {
   "cell_type": "code",
   "execution_count": 49,
   "metadata": {},
   "outputs": [
    {
     "data": {
      "text/plain": [
       "1488"
      ]
     },
     "execution_count": 49,
     "metadata": {},
     "output_type": "execute_result"
    }
   ],
   "source": [
    "X.lat.nunique()"
   ]
  },
  {
   "cell_type": "code",
   "execution_count": 50,
   "metadata": {},
   "outputs": [
    {
     "data": {
      "text/plain": [
       "1488"
      ]
     },
     "execution_count": 50,
     "metadata": {},
     "output_type": "execute_result"
    }
   ],
   "source": [
    "X.lng.nunique()"
   ]
  },
  {
   "cell_type": "code",
   "execution_count": 55,
   "metadata": {},
   "outputs": [
    {
     "data": {
      "text/plain": [
       "1492"
      ]
     },
     "execution_count": 55,
     "metadata": {},
     "output_type": "execute_result"
    }
   ],
   "source": [
    "X.hotel_name.nunique()"
   ]
  },
  {
   "cell_type": "code",
   "execution_count": 51,
   "metadata": {},
   "outputs": [],
   "source": [
    "y=y.astype('int')"
   ]
  },
  {
   "cell_type": "code",
   "execution_count": 52,
   "metadata": {},
   "outputs": [],
   "source": [
    "num_cols = [\n",
    "    'review_total_negative_word_counts',\n",
    "    'total_number_of_reviews',\n",
    "    'review_total_positive_word_counts',\n",
    "    'nr_sentiment_score',\n",
    "    'pr_sentiment_score',\n",
    "    'nr_frequency',\n",
    "    'pr_frequency',\n",
    "    'average_score',\n",
    "    'lat',\n",
    "    'lng',\n",
    "    'year',\n",
    "    'month',\n",
    "    'day',\n",
    "]\n",
    "\n",
    "cat_cols = [\n",
    "    'additional_number_of_scoring',\n",
    "    'hotel_name',\n",
    "    'reviewer_nationality',\n",
    "    'total_number_of_reviews_reviewer_has_given',\n",
    "]"
   ]
  },
  {
   "cell_type": "code",
   "execution_count": 61,
   "metadata": {},
   "outputs": [
    {
     "data": {
      "text/plain": [
       "array([[ 581, 1366],\n",
       "       [ 299,  975],\n",
       "       [  32,  909],\n",
       "       ...,\n",
       "       [ 457,  177],\n",
       "       [ 365, 1364],\n",
       "       [ 222, 1371]])"
      ]
     },
     "execution_count": 61,
     "metadata": {},
     "output_type": "execute_result"
    },
    {
     "data": {
      "image/png": "[encoded data removed]",
      "text/plain": [
       "<Figure size 640x480 with 1 Axes>"
      ]
     },
     "metadata": {},
     "output_type": "display_data"
    }
   ],
   "source": [
    "from sklearn.feature_selection import chi2, SelectKBest\n",
    "\n",
    "imp_cat = pd.Series(chi2(X[cat_cols], y)[0], index=cat_cols)\n",
    "imp_cat.sort_values(inplace=True)\n",
    "imp_cat.plot(kind='barh')\n",
    "\n",
    "X_cat = SelectKBest(chi2, k=2).fit_transform(X[cat_cols], y)\n",
    "X_cat\n"
   ]
  },
  {
   "cell_type": "code",
   "execution_count": 62,
   "metadata": {},
   "outputs": [
    {
     "data": {
      "text/plain": [
       "array([[3.00000000e+00, 1.99400000e+03, 4.00000000e+00, ...,\n",
       "        4.60182574e-04, 7.49735654e-05, 8.40000000e+00],\n",
       "       [3.00000000e+00, 1.36100000e+03, 2.00000000e+00, ...,\n",
       "        1.88726561e-04, 2.28617668e-02, 8.30000000e+00],\n",
       "       [6.00000000e+00, 4.06000000e+02, 0.00000000e+00, ...,\n",
       "        4.65353164e-05, 6.95056657e-02, 8.90000000e+00],\n",
       "       ...,\n",
       "       [1.20000000e+01, 2.75100000e+03, 9.00000000e+00, ...,\n",
       "        2.58529536e-06, 2.58529536e-06, 6.80000000e+00],\n",
       "       [0.00000000e+00, 1.56700000e+03, 6.00000000e+00, ...,\n",
       "        2.47947922e-01, 2.58529536e-06, 8.10000000e+00],\n",
       "       [2.00000000e+01, 1.20900000e+03, 2.00000000e+01, ...,\n",
       "        2.58529536e-06, 2.58529536e-06, 9.00000000e+00]])"
      ]
     },
     "execution_count": 62,
     "metadata": {},
     "output_type": "execute_result"
    },
    {
     "data": {
      "image/png": "[encoded data removed]",
      "text/plain": [
       "<Figure size 640x480 with 1 Axes>"
      ]
     },
     "metadata": {},
     "output_type": "display_data"
    }
   ],
   "source": [
    "from sklearn.feature_selection import f_classif  # anova\n",
    "\n",
    "imp_num = pd.Series(f_classif(X[num_cols], y)[0], index=num_cols)\n",
    "imp_num.sort_values(inplace=True)\n",
    "imp_num.plot(kind='barh')\n",
    "\n",
    "X_num = SelectKBest(f_classif, k=8).fit_transform(X[num_cols], y)\n",
    "X_num\n"
   ]
  },
  {
   "cell_type": "code",
   "execution_count": 63,
   "metadata": {},
   "outputs": [],
   "source": [
    "import numpy as np"
   ]
  },
  {
   "cell_type": "code",
   "execution_count": 65,
   "metadata": {},
   "outputs": [
    {
     "data": {
      "text/plain": [
       "(386803, 10)"
      ]
     },
     "execution_count": 65,
     "metadata": {},
     "output_type": "execute_result"
    }
   ],
   "source": [
    "X_best = np.concatenate((X_cat, X_num), axis=1)\n",
    "X_best.shape"
   ]
  },
  {
   "cell_type": "code",
   "execution_count": 66,
   "metadata": {},
   "outputs": [],
   "source": [
    "# Загружаем специальный инструмент для разбивки:  \n",
    "from sklearn.model_selection import train_test_split  "
   ]
  },
  {
   "cell_type": "code",
   "execution_count": 67,
   "metadata": {},
   "outputs": [],
   "source": [
    "# Наборы данных с меткой \"train\" будут использоваться для обучения модели, \"test\" - для тестирования.  \n",
    "# Для тестирования мы будем использовать 25% от исходного датасета.  \n",
    "X_train, X_test, y_train, y_test = train_test_split(X_best, y, test_size=0.25, random_state=42)"
   ]
  },
  {
   "cell_type": "code",
   "execution_count": 70,
   "metadata": {},
   "outputs": [],
   "source": [
    "# Импортируем необходимые библиотеки:  \n",
    "from sklearn.ensemble import RandomForestRegressor # инструмент для создания и обучения модели  \n",
    "from sklearn import metrics # инструменты для оценки точности модели  \n",
    "\n",
    "# Создаём модель  \n",
    "regr = RandomForestRegressor(n_estimators=100, n_jobs=-1)  \n",
    "\n",
    "# Обучаем модель на тестовом наборе данных  \n",
    "regr.fit(X_train, y_train)  \n",
    "\n",
    "# Используем обученную модель для предсказания рейтинга отелей в тестовой выборке.  \n",
    "# Предсказанные значения записываем в переменную y_pred  \n",
    "y_pred = regr.predict(X_test)  \n"
   ]
  },
  {
   "cell_type": "code",
   "execution_count": 71,
   "metadata": {},
   "outputs": [
    {
     "name": "stdout",
     "output_type": "stream",
     "text": [
      "MAPE: 0.15211122235965358\n"
     ]
    }
   ],
   "source": [
    "# Сравниваем предсказанные значения (y_pred) с реальными (y_test), и смотрим насколько они отличаются  \n",
    "# Метрика называется Mean Absolute Percentage Error (MAPE) и показывает среднюю абсолютную процентную ошибку предсказанных значений от фактических.  \n",
    "print('MAPE:', metrics.mean_absolute_percentage_error(y_test, y_pred))"
   ]
  },
  {
   "attachments": {},
   "cell_type": "markdown",
   "metadata": {},
   "source": [
    "Пока видим, что удалось снизить метрику до 0,13. Это уже хорошо."
   ]
  },
  {
   "cell_type": "code",
   "execution_count": null,
   "metadata": {},
   "outputs": [],
   "source": []
  }
 ],
 "metadata": {
  "kernelspec": {
   "display_name": "base",
   "language": "python",
   "name": "python3"
  },
  "language_info": {
   "codemirror_mode": {
    "name": "ipython",
    "version": 3
   },
   "file_extension": ".py",
   "mimetype": "text/x-python",
   "name": "python",
   "nbconvert_exporter": "python",
   "pygments_lexer": "ipython3",
   "version": "3.9.12"
  },
  "vscode": {
   "interpreter": {
    "hash": "c85ce5e063f82c52011c1c6414d7519d9975c8984a5fd91991e796841fee6f1b"
   }
  }
 },
 "nbformat": 4,
 "nbformat_minor": 2
}
