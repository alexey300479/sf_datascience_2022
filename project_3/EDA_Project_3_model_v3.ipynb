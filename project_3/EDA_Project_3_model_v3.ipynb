{
 "cells": [
  {
   "cell_type": "code",
   "execution_count": 1,
   "metadata": {},
   "outputs": [],
   "source": [
    "import json\n",
    "\n",
    "import pandas as pd"
   ]
  },
  {
   "cell_type": "code",
   "execution_count": 2,
   "metadata": {},
   "outputs": [
    {
     "data": {
      "text/html": [
       "<div>\n",
       "<style scoped>\n",
       "    .dataframe tbody tr th:only-of-type {\n",
       "        vertical-align: middle;\n",
       "    }\n",
       "\n",
       "    .dataframe tbody tr th {\n",
       "        vertical-align: top;\n",
       "    }\n",
       "\n",
       "    .dataframe thead th {\n",
       "        text-align: right;\n",
       "    }\n",
       "</style>\n",
       "<table border=\"1\" class=\"dataframe\">\n",
       "  <thead>\n",
       "    <tr style=\"text-align: right;\">\n",
       "      <th></th>\n",
       "      <th>hotel_address</th>\n",
       "      <th>additional_number_of_scoring</th>\n",
       "      <th>review_date</th>\n",
       "      <th>average_score</th>\n",
       "      <th>hotel_name</th>\n",
       "      <th>reviewer_nationality</th>\n",
       "      <th>negative_review</th>\n",
       "      <th>review_total_negative_word_counts</th>\n",
       "      <th>total_number_of_reviews</th>\n",
       "      <th>positive_review</th>\n",
       "      <th>review_total_positive_word_counts</th>\n",
       "      <th>total_number_of_reviews_reviewer_has_given</th>\n",
       "      <th>reviewer_score</th>\n",
       "      <th>tags</th>\n",
       "      <th>days_since_review</th>\n",
       "      <th>lat</th>\n",
       "      <th>lng</th>\n",
       "    </tr>\n",
       "  </thead>\n",
       "  <tbody>\n",
       "    <tr>\n",
       "      <th>0</th>\n",
       "      <td>Stratton Street Mayfair Westminster Borough Lo...</td>\n",
       "      <td>581</td>\n",
       "      <td>2/19/2016</td>\n",
       "      <td>8.4</td>\n",
       "      <td>The May Fair Hotel</td>\n",
       "      <td>United Kingdom</td>\n",
       "      <td>Leaving</td>\n",
       "      <td>3</td>\n",
       "      <td>1994</td>\n",
       "      <td>Staff were amazing</td>\n",
       "      <td>4</td>\n",
       "      <td>7</td>\n",
       "      <td>10.0</td>\n",
       "      <td>[' Leisure trip ', ' Couple ', ' Studio Suite ...</td>\n",
       "      <td>531 day</td>\n",
       "      <td>51.507894</td>\n",
       "      <td>-0.143671</td>\n",
       "    </tr>\n",
       "    <tr>\n",
       "      <th>1</th>\n",
       "      <td>130 134 Southampton Row Camden London WC1B 5AF...</td>\n",
       "      <td>299</td>\n",
       "      <td>1/12/2017</td>\n",
       "      <td>8.3</td>\n",
       "      <td>Mercure London Bloomsbury Hotel</td>\n",
       "      <td>United Kingdom</td>\n",
       "      <td>poor breakfast</td>\n",
       "      <td>3</td>\n",
       "      <td>1361</td>\n",
       "      <td>location</td>\n",
       "      <td>2</td>\n",
       "      <td>14</td>\n",
       "      <td>6.3</td>\n",
       "      <td>[' Business trip ', ' Couple ', ' Standard Dou...</td>\n",
       "      <td>203 day</td>\n",
       "      <td>51.521009</td>\n",
       "      <td>-0.123097</td>\n",
       "    </tr>\n",
       "    <tr>\n",
       "      <th>2</th>\n",
       "      <td>151 bis Rue de Rennes 6th arr 75006 Paris France</td>\n",
       "      <td>32</td>\n",
       "      <td>10/18/2016</td>\n",
       "      <td>8.9</td>\n",
       "      <td>Legend Saint Germain by Elegancia</td>\n",
       "      <td>China</td>\n",
       "      <td>No kettle in room</td>\n",
       "      <td>6</td>\n",
       "      <td>406</td>\n",
       "      <td>No Positive</td>\n",
       "      <td>0</td>\n",
       "      <td>14</td>\n",
       "      <td>7.5</td>\n",
       "      <td>[' Leisure trip ', ' Solo traveler ', ' Modern...</td>\n",
       "      <td>289 day</td>\n",
       "      <td>48.845377</td>\n",
       "      <td>2.325643</td>\n",
       "    </tr>\n",
       "  </tbody>\n",
       "</table>\n",
       "</div>"
      ],
      "text/plain": [
       "                                       hotel_address  \\\n",
       "0  Stratton Street Mayfair Westminster Borough Lo...   \n",
       "1  130 134 Southampton Row Camden London WC1B 5AF...   \n",
       "2   151 bis Rue de Rennes 6th arr 75006 Paris France   \n",
       "\n",
       "   additional_number_of_scoring review_date  average_score  \\\n",
       "0                           581   2/19/2016            8.4   \n",
       "1                           299   1/12/2017            8.3   \n",
       "2                            32  10/18/2016            8.9   \n",
       "\n",
       "                          hotel_name reviewer_nationality  \\\n",
       "0                 The May Fair Hotel      United Kingdom    \n",
       "1    Mercure London Bloomsbury Hotel      United Kingdom    \n",
       "2  Legend Saint Germain by Elegancia               China    \n",
       "\n",
       "       negative_review  review_total_negative_word_counts  \\\n",
       "0             Leaving                                   3   \n",
       "1       poor breakfast                                  3   \n",
       "2   No kettle in room                                   6   \n",
       "\n",
       "   total_number_of_reviews      positive_review  \\\n",
       "0                     1994   Staff were amazing   \n",
       "1                     1361             location   \n",
       "2                      406          No Positive   \n",
       "\n",
       "   review_total_positive_word_counts  \\\n",
       "0                                  4   \n",
       "1                                  2   \n",
       "2                                  0   \n",
       "\n",
       "   total_number_of_reviews_reviewer_has_given  reviewer_score  \\\n",
       "0                                           7            10.0   \n",
       "1                                          14             6.3   \n",
       "2                                          14             7.5   \n",
       "\n",
       "                                                tags days_since_review  \\\n",
       "0  [' Leisure trip ', ' Couple ', ' Studio Suite ...           531 day   \n",
       "1  [' Business trip ', ' Couple ', ' Standard Dou...           203 day   \n",
       "2  [' Leisure trip ', ' Solo traveler ', ' Modern...           289 day   \n",
       "\n",
       "         lat       lng  \n",
       "0  51.507894 -0.143671  \n",
       "1  51.521009 -0.123097  \n",
       "2  48.845377  2.325643  "
      ]
     },
     "execution_count": 2,
     "metadata": {},
     "output_type": "execute_result"
    }
   ],
   "source": [
    "hotels = pd.read_csv('hotels.csv')\n",
    "hotels.head(3)"
   ]
  },
  {
   "attachments": {},
   "cell_type": "markdown",
   "metadata": {},
   "source": [
    "Смотрим на пропуски"
   ]
  },
  {
   "cell_type": "code",
   "execution_count": 3,
   "metadata": {},
   "outputs": [
    {
     "data": {
      "text/plain": [
       "lng                                           2448\n",
       "lat                                           2448\n",
       "positive_review                                  0\n",
       "days_since_review                                0\n",
       "tags                                             0\n",
       "reviewer_score                                   0\n",
       "total_number_of_reviews_reviewer_has_given       0\n",
       "review_total_positive_word_counts                0\n",
       "hotel_address                                    0\n",
       "additional_number_of_scoring                     0\n",
       "review_total_negative_word_counts                0\n",
       "negative_review                                  0\n",
       "reviewer_nationality                             0\n",
       "hotel_name                                       0\n",
       "average_score                                    0\n",
       "review_date                                      0\n",
       "total_number_of_reviews                          0\n",
       "dtype: int64"
      ]
     },
     "execution_count": 3,
     "metadata": {},
     "output_type": "execute_result"
    }
   ],
   "source": [
    "hotels.isna().sum().sort_values(ascending=False)"
   ]
  },
  {
   "attachments": {},
   "cell_type": "markdown",
   "metadata": {},
   "source": [
    "Заполняем пропуски значениями из словарей, заранее подготовленных скриптом prepare_lat_lng_dicts.py с применением библиотеки geopy"
   ]
  },
  {
   "cell_type": "code",
   "execution_count": 4,
   "metadata": {},
   "outputs": [],
   "source": [
    "with open(\"lng_dict.json\", \"r\") as infile:\n",
    "    lng_dict = json.load(infile)"
   ]
  },
  {
   "cell_type": "code",
   "execution_count": 5,
   "metadata": {},
   "outputs": [],
   "source": [
    "with open(\"lat_dict.json\", \"r\") as infile:\n",
    "    lat_dict = json.load(infile)"
   ]
  },
  {
   "cell_type": "code",
   "execution_count": 6,
   "metadata": {},
   "outputs": [],
   "source": [
    "missings_idx = hotels[hotels.lng.isna()].index\n",
    "hotels.loc[missings_idx, 'lat'] = hotels.loc[missings_idx, 'hotel_address'].map(lat_dict)\n",
    "hotels.loc[missings_idx, 'lng'] = hotels.loc[missings_idx, 'hotel_address'].map(lng_dict)"
   ]
  },
  {
   "cell_type": "code",
   "execution_count": 7,
   "metadata": {},
   "outputs": [
    {
     "data": {
      "text/plain": [
       "0"
      ]
     },
     "execution_count": 7,
     "metadata": {},
     "output_type": "execute_result"
    }
   ],
   "source": [
    "hotels.isna().sum().sum()"
   ]
  },
  {
   "attachments": {},
   "cell_type": "markdown",
   "metadata": {},
   "source": [
    "От пропусков избавились. Обратим внимание на признаки, представленные в виде строк:"
   ]
  },
  {
   "cell_type": "code",
   "execution_count": 8,
   "metadata": {},
   "outputs": [
    {
     "name": "stdout",
     "output_type": "stream",
     "text": [
      "<class 'pandas.core.frame.DataFrame'>\n",
      "RangeIndex: 386803 entries, 0 to 386802\n",
      "Data columns (total 8 columns):\n",
      " #   Column                Non-Null Count   Dtype \n",
      "---  ------                --------------   ----- \n",
      " 0   hotel_address         386803 non-null  object\n",
      " 1   review_date           386803 non-null  object\n",
      " 2   hotel_name            386803 non-null  object\n",
      " 3   reviewer_nationality  386803 non-null  object\n",
      " 4   negative_review       386803 non-null  object\n",
      " 5   positive_review       386803 non-null  object\n",
      " 6   tags                  386803 non-null  object\n",
      " 7   days_since_review     386803 non-null  object\n",
      "dtypes: object(8)\n",
      "memory usage: 23.6+ MB\n"
     ]
    }
   ],
   "source": [
    "hotels.select_dtypes('object').info()"
   ]
  },
  {
   "attachments": {},
   "cell_type": "markdown",
   "metadata": {},
   "source": [
    "Начнём с hotel_address"
   ]
  },
  {
   "cell_type": "code",
   "execution_count": 9,
   "metadata": {},
   "outputs": [
    {
     "data": {
      "text/plain": [
       "count                                                386803\n",
       "unique                                                 1493\n",
       "top       163 Marsh Wall Docklands Tower Hamlets London ...\n",
       "freq                                                   3587\n",
       "Name: hotel_address, dtype: object"
      ]
     },
     "execution_count": 9,
     "metadata": {},
     "output_type": "execute_result"
    }
   ],
   "source": [
    "hotels.hotel_address.describe()"
   ]
  },
  {
   "attachments": {},
   "cell_type": "markdown",
   "metadata": {},
   "source": [
    "Сравним с hotel_name:"
   ]
  },
  {
   "cell_type": "code",
   "execution_count": 10,
   "metadata": {},
   "outputs": [
    {
     "data": {
      "text/plain": [
       "count                                         386803\n",
       "unique                                          1492\n",
       "top       Britannia International Hotel Canary Wharf\n",
       "freq                                            3587\n",
       "Name: hotel_name, dtype: object"
      ]
     },
     "execution_count": 10,
     "metadata": {},
     "output_type": "execute_result"
    }
   ],
   "source": [
    "hotels.hotel_name.describe()"
   ]
  },
  {
   "attachments": {},
   "cell_type": "markdown",
   "metadata": {},
   "source": [
    "Видим, что количество уникальных значений адресов и названий отелей практически совпадает. Разница в 1 единицу на весь датасет. Поэтому от одного из этих признаков можно избавиться, предварительно выделив из адреса, например, населенный пункт и страну.Но снасала выясним, с чем связана эта разница."
   ]
  },
  {
   "cell_type": "code",
   "execution_count": 17,
   "metadata": {},
   "outputs": [
    {
     "data": {
      "text/html": [
       "<div>\n",
       "<style scoped>\n",
       "    .dataframe tbody tr th:only-of-type {\n",
       "        vertical-align: middle;\n",
       "    }\n",
       "\n",
       "    .dataframe tbody tr th {\n",
       "        vertical-align: top;\n",
       "    }\n",
       "\n",
       "    .dataframe thead th {\n",
       "        text-align: right;\n",
       "    }\n",
       "</style>\n",
       "<table border=\"1\" class=\"dataframe\">\n",
       "  <thead>\n",
       "    <tr style=\"text-align: right;\">\n",
       "      <th></th>\n",
       "      <th>hotel_name</th>\n",
       "    </tr>\n",
       "    <tr>\n",
       "      <th>hotel_address</th>\n",
       "      <th></th>\n",
       "    </tr>\n",
       "  </thead>\n",
       "  <tbody>\n",
       "    <tr>\n",
       "      <th>8 Northumberland Avenue Westminster Borough London WC2N 5BY United Kingdom</th>\n",
       "      <td>2</td>\n",
       "    </tr>\n",
       "    <tr>\n",
       "      <th>Hernalser Hauptstra e 105 17 Hernals 1170 Vienna Austria</th>\n",
       "      <td>1</td>\n",
       "    </tr>\n",
       "    <tr>\n",
       "      <th>Hoffingergasse 26 28 12 Meidling 1120 Vienna Austria</th>\n",
       "      <td>1</td>\n",
       "    </tr>\n",
       "    <tr>\n",
       "      <th>Hobbemakade 50 Oud Zuid 1071 XL Amsterdam Netherlands</th>\n",
       "      <td>1</td>\n",
       "    </tr>\n",
       "    <tr>\n",
       "      <th>Hintschiggasse 1 10 Favoriten 1100 Vienna Austria</th>\n",
       "      <td>1</td>\n",
       "    </tr>\n",
       "    <tr>\n",
       "      <th>...</th>\n",
       "      <td>...</td>\n",
       "    </tr>\n",
       "    <tr>\n",
       "      <th>39 Avenue de l Op ra 2nd arr 75002 Paris France</th>\n",
       "      <td>1</td>\n",
       "    </tr>\n",
       "    <tr>\n",
       "      <th>39 Avenue de Wagram 17th arr 75017 Paris France</th>\n",
       "      <td>1</td>\n",
       "    </tr>\n",
       "    <tr>\n",
       "      <th>39 40 Dorset Square Hotel Westminster Borough London NW1 6QN United Kingdom</th>\n",
       "      <td>1</td>\n",
       "    </tr>\n",
       "    <tr>\n",
       "      <th>39 40 Cleveland Square Westminster Borough London W2 6DA United Kingdom</th>\n",
       "      <td>1</td>\n",
       "    </tr>\n",
       "    <tr>\n",
       "      <th>Wurzbachgasse 21 15 Rudolfsheim F nfhaus 1150 Vienna Austria</th>\n",
       "      <td>1</td>\n",
       "    </tr>\n",
       "  </tbody>\n",
       "</table>\n",
       "<p>1493 rows × 1 columns</p>\n",
       "</div>"
      ],
      "text/plain": [
       "                                                    hotel_name\n",
       "hotel_address                                                 \n",
       "8 Northumberland Avenue Westminster Borough Lon...           2\n",
       "Hernalser Hauptstra e 105 17 Hernals 1170 Vienn...           1\n",
       "Hoffingergasse 26 28 12 Meidling 1120 Vienna Au...           1\n",
       "Hobbemakade 50 Oud Zuid 1071 XL Amsterdam Nethe...           1\n",
       "Hintschiggasse 1 10 Favoriten 1100 Vienna Austria            1\n",
       "...                                                        ...\n",
       "39 Avenue de l Op ra 2nd arr 75002 Paris France              1\n",
       "39 Avenue de Wagram 17th arr 75017 Paris France              1\n",
       "39 40 Dorset Square Hotel Westminster Borough L...           1\n",
       "39 40 Cleveland Square Westminster Borough Lond...           1\n",
       "Wurzbachgasse 21 15 Rudolfsheim F nfhaus 1150 V...           1\n",
       "\n",
       "[1493 rows x 1 columns]"
      ]
     },
     "execution_count": 17,
     "metadata": {},
     "output_type": "execute_result"
    }
   ],
   "source": [
    "hotels.groupby('hotel_address')[['hotel_name']].nunique().sort_values(by='hotel_name', ascending=False)"
   ]
  },
  {
   "attachments": {},
   "cell_type": "markdown",
   "metadata": {},
   "source": [
    "Видим, что по адресу '8 Northumberland Avenue Westminster Borough London WC2N 5BY United Kingdom' значатся два различных отеля. Посмотрим на них:"
   ]
  },
  {
   "cell_type": "code",
   "execution_count": 19,
   "metadata": {},
   "outputs": [
    {
     "data": {
      "text/plain": [
       "array(['The Grand at Trafalgar Square',\n",
       "       'Club Quarters Hotel Trafalgar Square'], dtype=object)"
      ]
     },
     "execution_count": 19,
     "metadata": {},
     "output_type": "execute_result"
    }
   ],
   "source": [
    "hotels[hotels.hotel_address == '8 Northumberland Avenue Westminster Borough London WC2N 5BY United Kingdom'].hotel_name.unique()"
   ]
  },
  {
   "cell_type": "code",
   "execution_count": 21,
   "metadata": {},
   "outputs": [
    {
     "data": {
      "text/plain": [
       "array(['8 Northumberland Avenue Westminster Borough London WC2N 5BY United Kingdom'],\n",
       "      dtype=object)"
      ]
     },
     "execution_count": 21,
     "metadata": {},
     "output_type": "execute_result"
    }
   ],
   "source": [
    "hotels[hotels.hotel_name == 'The Grand at Trafalgar Square'].hotel_address.unique()\n"
   ]
  },
  {
   "cell_type": "code",
   "execution_count": 20,
   "metadata": {},
   "outputs": [
    {
     "data": {
      "text/plain": [
       "array(['8 Northumberland Avenue Westminster Borough London WC2N 5BY United Kingdom'],\n",
       "      dtype=object)"
      ]
     },
     "execution_count": 20,
     "metadata": {},
     "output_type": "execute_result"
    }
   ],
   "source": [
    "hotels[hotels.hotel_name == 'Club Quarters Hotel Trafalgar Square'].hotel_address.unique()"
   ]
  },
  {
   "attachments": {},
   "cell_type": "markdown",
   "metadata": {},
   "source": [
    "Да, видим, что действительно по одному адресу находятся два разных отеля. Проверка в интернет показала, что оба реальные и работают."
   ]
  },
  {
   "attachments": {},
   "cell_type": "markdown",
   "metadata": {},
   "source": [
    "Это говорит о том, что:\n",
    "1. Название отеля лучше определяет его чем адрес;\n",
    "2. От адреса можно будет избавиться после выделения из него страны и населенного пункта. Но сделать это гораздо легче, взяв информацию из lng и lat. Так что от адреса избавляемся однозначно.\n",
    "\n",
    "Сделаем это:"
   ]
  },
  {
   "cell_type": "code",
   "execution_count": 23,
   "metadata": {},
   "outputs": [],
   "source": [
    "hotels.drop(columns=['hotel_address'], inplace=True)"
   ]
  },
  {
   "attachments": {},
   "cell_type": "markdown",
   "metadata": {},
   "source": [
    "Теперь поработаем с review_date:"
   ]
  },
  {
   "cell_type": "code",
   "execution_count": 24,
   "metadata": {},
   "outputs": [],
   "source": [
    "hotels.review_date = pd.to_datetime(hotels.review_date)"
   ]
  },
  {
   "cell_type": "code",
   "execution_count": 25,
   "metadata": {},
   "outputs": [
    {
     "data": {
      "text/plain": [
       "0        2016-02-19\n",
       "1        2017-01-12\n",
       "2        2016-10-18\n",
       "3        2015-09-22\n",
       "4        2016-03-05\n",
       "            ...    \n",
       "386798   2017-04-19\n",
       "386799   2017-02-13\n",
       "386800   2016-02-07\n",
       "386801   2017-05-21\n",
       "386802   2016-08-05\n",
       "Name: review_date, Length: 386803, dtype: datetime64[ns]"
      ]
     },
     "execution_count": 25,
     "metadata": {},
     "output_type": "execute_result"
    }
   ],
   "source": [
    "hotels.review_date"
   ]
  },
  {
   "attachments": {},
   "cell_type": "markdown",
   "metadata": {},
   "source": [
    "Лучше этот признак сразу разбить на три числовых:\n",
    "1. year - год;\n",
    "2. month - месяц;\n",
    "3. day - день,\n",
    "\n",
    "а затем избавиться от него.\n",
    "\n",
    "Сделаем это:"
   ]
  },
  {
   "cell_type": "code",
   "execution_count": 26,
   "metadata": {},
   "outputs": [],
   "source": [
    "hotels['year'] = hotels.review_date.dt.year\n",
    "hotels['month'] = hotels.review_date.dt.month\n",
    "hotels['day'] = hotels.review_date.dt.day"
   ]
  },
  {
   "cell_type": "code",
   "execution_count": 28,
   "metadata": {},
   "outputs": [],
   "source": [
    "hotels.drop(columns=['review_date'], inplace=True)"
   ]
  },
  {
   "attachments": {},
   "cell_type": "markdown",
   "metadata": {},
   "source": [
    "Название отеля приведем к категориальному типу:"
   ]
  },
  {
   "cell_type": "code",
   "execution_count": 29,
   "metadata": {},
   "outputs": [],
   "source": [
    "hotels.hotel_name = hotels.hotel_name.astype('category')"
   ]
  },
  {
   "attachments": {},
   "cell_type": "markdown",
   "metadata": {},
   "source": [
    "Национальность оставивщего обзор тоже приведем к категориальному типу:"
   ]
  },
  {
   "cell_type": "code",
   "execution_count": 30,
   "metadata": {},
   "outputs": [],
   "source": [
    "hotels.reviewer_nationality = hotels.reviewer_nationality.astype('category')"
   ]
  },
  {
   "attachments": {},
   "cell_type": "markdown",
   "metadata": {},
   "source": [
    "Поработаем с негативной частью обзора:"
   ]
  },
  {
   "cell_type": "code",
   "execution_count": 41,
   "metadata": {},
   "outputs": [],
   "source": [
    "pd.set_option('display.max_rows', None)"
   ]
  },
  {
   "cell_type": "code",
   "execution_count": 43,
   "metadata": {},
   "outputs": [
    {
     "data": {
      "text/plain": [
       "No Negative                          95907\n",
       " Nothing                             10737\n",
       " Nothing                              3154\n",
       " nothing                              1660\n",
       " N A                                   802\n",
       " None                                  737\n",
       "                                       606\n",
       " N a                                   384\n",
       " Breakfast                             296\n",
       " Small room                            283\n",
       " Location                              281\n",
       " All good                              251\n",
       " Everything                            251\n",
       " Nothing really                        240\n",
       " none                                  223\n",
       " nothing                               219\n",
       " No complaints                         201\n",
       " Nil                                   197\n",
       " Nothing really                        195\n",
       " Price                                 192\n",
       " n a                                   176\n",
       " Nothing to dislike                    159\n",
       " Nothing at all                        154\n",
       " Nothing at all                        139\n",
       " Small rooms                           135\n",
       " None                                  134\n",
       " No complaints                         129\n",
       " All good                              116\n",
       " NA                                    109\n",
       " Expensive                             105\n",
       " Absolutely nothing                    104\n",
       " Can t think of anything               103\n",
       " Room size                             103\n",
       " Very small room                        98\n",
       " Everything was perfect                 97\n",
       " Nothing to dislike                     96\n",
       " Staff                                  93\n",
       " Everything was great                   89\n",
       " No                                     89\n",
       " Everything was perfect                 88\n",
       " Nothing to complain about              87\n",
       " Leaving                                83\n",
       " NOTHING                                82\n",
       " Leaving                                81\n",
       " Na                                     78\n",
       " Nothing not to like                    73\n",
       " See above                              72\n",
       " Everything was great                   72\n",
       " small room                             71\n",
       " Can t think of anything                68\n",
       " Liked everything                       68\n",
       " breakfast                              68\n",
       " Not much                               67\n",
       " location                               66\n",
       " Having to leave                        66\n",
       " Non                                    66\n",
       " Parking                                65\n",
       " Expensive breakfast                    65\n",
       " Everything was good                    64\n",
       " Pillows                                63\n",
       " All was good                           62\n",
       " The price                              61\n",
       " Absolutely nothing                     60\n",
       " Nothing not to like                    58\n",
       " I liked everything                     58\n",
       " Small room                             57\n",
       " No parking                             56\n",
       " As above                               56\n",
       " Size of room                           56\n",
       " Bathroom                               55\n",
       " Wifi                                   55\n",
       " Room too small                         55\n",
       " Not applicable                         54\n",
       " Room very small                        53\n",
       " Room was very small                    53\n",
       " Very small rooms                       53\n",
       " Nothing to complain about              52\n",
       " Size of the room                       51\n",
       " Everything was good                    51\n",
       " Nothing all good                       51\n",
       " No thing                               49\n",
       " Room                                   49\n",
       " I liked everything                     48\n",
       " Noise                                  48\n",
       " The breakfast                          47\n",
       " Small bathroom                         47\n",
       " Breakfast too expensive                47\n",
       " Breakfast not included                 47\n",
       " Poor breakfast                         46\n",
       " No gym                                 46\n",
       " Bed                                    46\n",
       " Small rooms                            45\n",
       " Everything was fine                    45\n",
       " Nothing in particular                  45\n",
       " small rooms                            43\n",
       " Room was small                         43\n",
       " nothing really                         42\n",
       " Location                               42\n",
       " There was nothing I didn t like        41\n",
       " Having to leave                        40\n",
       "Name: negative_review, dtype: int64"
      ]
     },
     "execution_count": 43,
     "metadata": {},
     "output_type": "execute_result"
    }
   ],
   "source": [
    "hotels.negative_review.value_counts().head(100)"
   ]
  },
  {
   "attachments": {},
   "cell_type": "markdown",
   "metadata": {},
   "source": [
    "Первое, что мы видим - это необходимость избавиться от ведущих и замыкающих пробелов и привести все к нижнему регистру. Сделаем это:"
   ]
  },
  {
   "cell_type": "code",
   "execution_count": 45,
   "metadata": {},
   "outputs": [],
   "source": [
    "hotels.negative_review = hotels.negative_review.apply(lambda x: x.strip().lower())"
   ]
  },
  {
   "attachments": {},
   "cell_type": "markdown",
   "metadata": {},
   "source": [
    "Посмотрим на частоты вариантов негативных отзывов еще раз:"
   ]
  },
  {
   "cell_type": "code",
   "execution_count": 46,
   "metadata": {},
   "outputs": [
    {
     "data": {
      "text/plain": [
       "no negative                         95907\n",
       "nothing                             15882\n",
       "n a                                  1392\n",
       "none                                 1115\n",
       "                                      606\n",
       "nothing really                        494\n",
       "small room                            424\n",
       "all good                              420\n",
       "breakfast                             396\n",
       "location                              393\n",
       "no complaints                         385\n",
       "everything                            330\n",
       "nothing at all                        329\n",
       "nothing to dislike                    288\n",
       "price                                 260\n",
       "nil                                   259\n",
       "small rooms                           229\n",
       "na                                    205\n",
       "everything was perfect                202\n",
       "absolutely nothing                    182\n",
       "can t think of anything               180\n",
       "leaving                               178\n",
       "everything was great                  174\n",
       "very small room                       167\n",
       "nothing to complain about             159\n",
       "expensive                             156\n",
       "room size                             148\n",
       "no                                    141\n",
       "nothing not to like                   140\n",
       "staff                                 132\n",
       "everything was good                   126\n",
       "nothing all good                      125\n",
       "having to leave                       122\n",
       "not much                              119\n",
       "i liked everything                    111\n",
       "liked everything                      111\n",
       "nothing everything was perfect        105\n",
       "see above                             104\n",
       "expensive breakfast                   101\n",
       "non                                   101\n",
       "the price                              99\n",
       "nothing it was perfect                 98\n",
       "room was very small                    96\n",
       "everything was fine                    92\n",
       "nothing everything was great           91\n",
       "all was good                           91\n",
       "parking                                90\n",
       "nothing in particular                  89\n",
       "pillows                                88\n",
       "room too small                         88\n",
       "not applicable                         81\n",
       "wifi                                   81\n",
       "room very small                        80\n",
       "size of room                           79\n",
       "room was small                         78\n",
       "there was nothing i didn t like        78\n",
       "very small rooms                       77\n",
       "no parking                             75\n",
       "no gym                                 74\n",
       "nothing comes to mind                  74\n",
       "breakfast too expensive                73\n",
       "poor breakfast                         73\n",
       "as above                               73\n",
       "breakfast not included                 72\n",
       "the room was very small                71\n",
       "size of the room                       70\n",
       "not a thing                            69\n",
       "nothing to report                      69\n",
       "the breakfast                          69\n",
       "bathroom                               68\n",
       "no complaints at all                   68\n",
       "no negatives                           67\n",
       "no free wifi                           66\n",
       "no thing                               66\n",
       "it was all good                        65\n",
       "small bathroom                         64\n",
       "there was nothing to dislike           64\n",
       "the weather                            63\n",
       "breakfast could be better              63\n",
       "nothing i didn t like                  62\n",
       "we liked everything                    62\n",
       "price of breakfast                     62\n",
       "room                                   60\n",
       "all ok                                 59\n",
       "loved everything                       58\n",
       "noise                                  57\n",
       "there was nothing we didn t like       57\n",
       "nothing to mention                     56\n",
       "bed                                    56\n",
       "rooms are very small                   55\n",
       "no swimming pool                       55\n",
       "no bar                                 54\n",
       "the location                           54\n",
       "very expensive                         54\n",
       "nothing i can think of                 52\n",
       "nothing to say                         52\n",
       "room a bit small                       52\n",
       "no problems                            52\n",
       "no comment                             50\n",
       "no pool                                49\n",
       "Name: negative_review, dtype: int64"
      ]
     },
     "execution_count": 46,
     "metadata": {},
     "output_type": "execute_result"
    }
   ],
   "source": [
    "hotels.negative_review.value_counts().head(100)\n"
   ]
  },
  {
   "attachments": {},
   "cell_type": "markdown",
   "metadata": {},
   "source": [
    "Сложность этого признака заключается в том, что он может носить как положительную, так и отрицательную окраску. Работа с этим признаком относится к задачам обработки естественных языков (NLP). Для решения этой задачи воспользуемся библиотекой nltk, как описано в <a href=\"https://towardsdatascience.com/sentiment-analysis-for-hotel-reviews-3fa0c287d82e\">статье</a>.\n",
    "\n",
    "Также видим, что есть очень часто повторяющиеся значения, а есть уникальные отзывы. К последним доверия больше. Хороший признак, который это учтёт - доля таких озывов от общего количества уникальных отзывов.\n",
    "\n",
    "Еще одним признаком станет количество слов в негативном отзыве."
   ]
  },
  {
   "cell_type": "code",
   "execution_count": 47,
   "metadata": {},
   "outputs": [],
   "source": [
    "from nltk.sentiment.vader import SentimentIntensityAnalyzer"
   ]
  },
  {
   "cell_type": "code",
   "execution_count": 50,
   "metadata": {},
   "outputs": [
    {
     "name": "stderr",
     "output_type": "stream",
     "text": [
      "[nltk_data] Downloading package vader_lexicon to\n",
      "[nltk_data]     /home/alexey/nltk_data...\n"
     ]
    },
    {
     "data": {
      "text/plain": [
       "True"
      ]
     },
     "execution_count": 50,
     "metadata": {},
     "output_type": "execute_result"
    }
   ],
   "source": [
    "import nltk\n",
    "nltk.download('vader_lexicon')"
   ]
  },
  {
   "cell_type": "code",
   "execution_count": 51,
   "metadata": {},
   "outputs": [],
   "source": [
    "sia = SentimentIntensityAnalyzer()"
   ]
  },
  {
   "attachments": {},
   "cell_type": "markdown",
   "metadata": {},
   "source": [
    "В отличие от подхода в приведенной выше статье для экономии времени расчета мы подготовим словари, в которых ключами будут варианты отзывов из списка уникальных, а значениями будет метрика compund, которая дает отрицательные значения при негативной окраске, положительные при позитивной и близкие к нулю при нейтральной. Затем применим этот словарь для создания нового признака nr_sentiment_score."
   ]
  },
  {
   "cell_type": "code",
   "execution_count": 54,
   "metadata": {},
   "outputs": [
    {
     "name": "stderr",
     "output_type": "stream",
     "text": [
      "100%|██████████| 243719/243719 [01:14<00:00, 3262.62it/s]\n"
     ]
    }
   ],
   "source": [
    "from tqdm import tqdm\n",
    "\n",
    "nr_sentiment_dict = {}\n",
    "negative_reviews = hotels.negative_review.unique()\n",
    "\n",
    "for negative_review in tqdm(negative_reviews):\n",
    "    nr_sentiment_dict[negative_review] = sia.polarity_scores(negative_review)['compound']\n"
   ]
  },
  {
   "cell_type": "code",
   "execution_count": 57,
   "metadata": {},
   "outputs": [],
   "source": [
    "from itertools import islice"
   ]
  },
  {
   "cell_type": "code",
   "execution_count": 60,
   "metadata": {},
   "outputs": [
    {
     "data": {
      "text/plain": [
       "{'leaving': 0.0,\n",
       " 'poor breakfast': -0.4767,\n",
       " 'no kettle in room': -0.296,\n",
       " 'no negative': -0.7096,\n",
       " 'torn sheets': -0.25,\n",
       " 'nothing': 0.0,\n",
       " 'nothing it was lovely': -0.4717,\n",
       " 'the communal areas are a bit soul less and the breakfast whilst very good is expensive but you can always use the cafe at the tram stop elise i think for breakfast and late night drinks we did': -0.1787,\n",
       " 'undergoing refurbishment no tea coffer in room room very small no ramp at entrance for wheeled suitcases no coffee available in lounge next morning early checkout at 11 00am': -0.6808,\n",
       " 'i advised it was for my husbands birthday and reception gave us a twin room when i booked a double i asked for little extras to be put in the room for his birthday and it was given too late and didnt make it special': -0.3089,\n",
       " 'they have lost their license and cannot sell alcohol or change your currency': -0.3182,\n",
       " 'feel there isnt much to be improved upon with this hotel excellent all round': 0.7783,\n",
       " 'n a': 0.0,\n",
       " 'nothing hotel refurb great': -0.5096,\n",
       " 'i got a room in basment 1 room 09 in same time next room 10 has some mantance work which made a noise early morning also it is not fair the check out at 10 30 am where there some hotel next to them has normal check out at 12': -0.2411,\n",
       " 'the gym was badly equipped i think the space could be put to better use there is no way it could be described as a gym': -0.34,\n",
       " 'asked for a room over the thames but got the back of the hotel no view thought we would splash out for a 5 star hotel for our anniversary as a special treat thought a room with a view would have been prefect no bath in the room was offered another room with a bath for an extra 60 we declined the shower was cold in the morning we was given a free drinks voucher which was posted under our door in the early hours of the morning not much use when booking out at 11am': 0.7876,\n",
       " 'room wasn t exactly quiet when a large group of tourists was in the lobby and exiting as all the noise seemed to funnel straight up to the room same for the wedding party giveing a send off to the happy couple but nowhere would have been quiet for that one': 0.5789,\n",
       " 'no microwave and the size of bed is too small also no refrigerator for storing food and drinks': -0.5267,\n",
       " 'the view even thaught specially asked for a good view': 0.4404}"
      ]
     },
     "execution_count": 60,
     "metadata": {},
     "output_type": "execute_result"
    }
   ],
   "source": [
    "dict(islice(nr_sentiment_dict.items(), 0, 20))"
   ]
  },
  {
   "attachments": {},
   "cell_type": "markdown",
   "metadata": {},
   "source": [
    "К сожалению констатируем, что оценки далеки от реальности, но попробуем сработать с тем, что есть."
   ]
  },
  {
   "cell_type": "code",
   "execution_count": 61,
   "metadata": {},
   "outputs": [],
   "source": [
    "hotels['nr_sentiment_score'] = hotels.negative_review.map(nr_sentiment_dict)"
   ]
  },
  {
   "cell_type": "code",
   "execution_count": 63,
   "metadata": {},
   "outputs": [],
   "source": [
    "nr_frequencies = hotels.negative_review.value_counts(normalize=True)\n",
    "nr_frequencies_dict = dict(zip(nr_frequencies.index, nr_frequencies.values))\n",
    "hotels['nr_frequency'] = hotels.negative_review.map(nr_frequencies_dict)"
   ]
  },
  {
   "attachments": {},
   "cell_type": "markdown",
   "metadata": {},
   "source": [
    "Для тестирования промежуточного результата избавимся от оставщихся строковых данных."
   ]
  },
  {
   "cell_type": "code",
   "execution_count": 64,
   "metadata": {},
   "outputs": [],
   "source": [
    "hotels = hotels.select_dtypes([], ['object'])"
   ]
  },
  {
   "cell_type": "code",
   "execution_count": 70,
   "metadata": {},
   "outputs": [],
   "source": [
    "hotels.hotel_name = hotels.hotel_name.cat.codes\n",
    "hotels.reviewer_nationality = hotels.reviewer_nationality.cat.codes"
   ]
  },
  {
   "cell_type": "code",
   "execution_count": 71,
   "metadata": {},
   "outputs": [
    {
     "data": {
      "text/html": [
       "<div>\n",
       "<style scoped>\n",
       "    .dataframe tbody tr th:only-of-type {\n",
       "        vertical-align: middle;\n",
       "    }\n",
       "\n",
       "    .dataframe tbody tr th {\n",
       "        vertical-align: top;\n",
       "    }\n",
       "\n",
       "    .dataframe thead th {\n",
       "        text-align: right;\n",
       "    }\n",
       "</style>\n",
       "<table border=\"1\" class=\"dataframe\">\n",
       "  <thead>\n",
       "    <tr style=\"text-align: right;\">\n",
       "      <th></th>\n",
       "      <th>additional_number_of_scoring</th>\n",
       "      <th>average_score</th>\n",
       "      <th>hotel_name</th>\n",
       "      <th>reviewer_nationality</th>\n",
       "      <th>review_total_negative_word_counts</th>\n",
       "      <th>total_number_of_reviews</th>\n",
       "      <th>review_total_positive_word_counts</th>\n",
       "      <th>total_number_of_reviews_reviewer_has_given</th>\n",
       "      <th>reviewer_score</th>\n",
       "      <th>lat</th>\n",
       "      <th>lng</th>\n",
       "      <th>year</th>\n",
       "      <th>month</th>\n",
       "      <th>day</th>\n",
       "      <th>nr_sentiment_score</th>\n",
       "      <th>nr_frequency</th>\n",
       "    </tr>\n",
       "  </thead>\n",
       "  <tbody>\n",
       "    <tr>\n",
       "      <th>0</th>\n",
       "      <td>581</td>\n",
       "      <td>8.4</td>\n",
       "      <td>1366</td>\n",
       "      <td>213</td>\n",
       "      <td>3</td>\n",
       "      <td>1994</td>\n",
       "      <td>4</td>\n",
       "      <td>7</td>\n",
       "      <td>10.0</td>\n",
       "      <td>51.507894</td>\n",
       "      <td>-0.143671</td>\n",
       "      <td>2016</td>\n",
       "      <td>2</td>\n",
       "      <td>19</td>\n",
       "      <td>0.0000</td>\n",
       "      <td>0.000460</td>\n",
       "    </tr>\n",
       "    <tr>\n",
       "      <th>1</th>\n",
       "      <td>299</td>\n",
       "      <td>8.3</td>\n",
       "      <td>975</td>\n",
       "      <td>213</td>\n",
       "      <td>3</td>\n",
       "      <td>1361</td>\n",
       "      <td>2</td>\n",
       "      <td>14</td>\n",
       "      <td>6.3</td>\n",
       "      <td>51.521009</td>\n",
       "      <td>-0.123097</td>\n",
       "      <td>2017</td>\n",
       "      <td>1</td>\n",
       "      <td>12</td>\n",
       "      <td>-0.4767</td>\n",
       "      <td>0.000189</td>\n",
       "    </tr>\n",
       "    <tr>\n",
       "      <th>2</th>\n",
       "      <td>32</td>\n",
       "      <td>8.9</td>\n",
       "      <td>909</td>\n",
       "      <td>42</td>\n",
       "      <td>6</td>\n",
       "      <td>406</td>\n",
       "      <td>0</td>\n",
       "      <td>14</td>\n",
       "      <td>7.5</td>\n",
       "      <td>48.845377</td>\n",
       "      <td>2.325643</td>\n",
       "      <td>2016</td>\n",
       "      <td>10</td>\n",
       "      <td>18</td>\n",
       "      <td>-0.2960</td>\n",
       "      <td>0.000047</td>\n",
       "    </tr>\n",
       "    <tr>\n",
       "      <th>3</th>\n",
       "      <td>34</td>\n",
       "      <td>7.5</td>\n",
       "      <td>983</td>\n",
       "      <td>213</td>\n",
       "      <td>0</td>\n",
       "      <td>607</td>\n",
       "      <td>11</td>\n",
       "      <td>8</td>\n",
       "      <td>10.0</td>\n",
       "      <td>48.888697</td>\n",
       "      <td>2.394540</td>\n",
       "      <td>2015</td>\n",
       "      <td>9</td>\n",
       "      <td>22</td>\n",
       "      <td>-0.7096</td>\n",
       "      <td>0.247948</td>\n",
       "    </tr>\n",
       "    <tr>\n",
       "      <th>4</th>\n",
       "      <td>914</td>\n",
       "      <td>8.5</td>\n",
       "      <td>349</td>\n",
       "      <td>160</td>\n",
       "      <td>4</td>\n",
       "      <td>7586</td>\n",
       "      <td>20</td>\n",
       "      <td>10</td>\n",
       "      <td>9.6</td>\n",
       "      <td>52.385601</td>\n",
       "      <td>4.847060</td>\n",
       "      <td>2016</td>\n",
       "      <td>3</td>\n",
       "      <td>5</td>\n",
       "      <td>-0.2500</td>\n",
       "      <td>0.000003</td>\n",
       "    </tr>\n",
       "  </tbody>\n",
       "</table>\n",
       "</div>"
      ],
      "text/plain": [
       "   additional_number_of_scoring  average_score  hotel_name  \\\n",
       "0                           581            8.4        1366   \n",
       "1                           299            8.3         975   \n",
       "2                            32            8.9         909   \n",
       "3                            34            7.5         983   \n",
       "4                           914            8.5         349   \n",
       "\n",
       "   reviewer_nationality  review_total_negative_word_counts  \\\n",
       "0                   213                                  3   \n",
       "1                   213                                  3   \n",
       "2                    42                                  6   \n",
       "3                   213                                  0   \n",
       "4                   160                                  4   \n",
       "\n",
       "   total_number_of_reviews  review_total_positive_word_counts  \\\n",
       "0                     1994                                  4   \n",
       "1                     1361                                  2   \n",
       "2                      406                                  0   \n",
       "3                      607                                 11   \n",
       "4                     7586                                 20   \n",
       "\n",
       "   total_number_of_reviews_reviewer_has_given  reviewer_score        lat  \\\n",
       "0                                           7            10.0  51.507894   \n",
       "1                                          14             6.3  51.521009   \n",
       "2                                          14             7.5  48.845377   \n",
       "3                                           8            10.0  48.888697   \n",
       "4                                          10             9.6  52.385601   \n",
       "\n",
       "        lng  year  month  day  nr_sentiment_score  nr_frequency  \n",
       "0 -0.143671  2016      2   19              0.0000      0.000460  \n",
       "1 -0.123097  2017      1   12             -0.4767      0.000189  \n",
       "2  2.325643  2016     10   18             -0.2960      0.000047  \n",
       "3  2.394540  2015      9   22             -0.7096      0.247948  \n",
       "4  4.847060  2016      3    5             -0.2500      0.000003  "
      ]
     },
     "execution_count": 71,
     "metadata": {},
     "output_type": "execute_result"
    }
   ],
   "source": [
    "hotels.head()"
   ]
  },
  {
   "cell_type": "code",
   "execution_count": 72,
   "metadata": {},
   "outputs": [],
   "source": [
    "# Разбиваем датафрейм на части, необходимые для обучения и тестирования модели  \n",
    "# Х - данные с информацией об отелях, у - целевая переменная (рейтинги отелей)  \n",
    "X = hotels.drop(columns=['reviewer_score'])  \n",
    "y = hotels['reviewer_score'] "
   ]
  },
  {
   "cell_type": "code",
   "execution_count": 73,
   "metadata": {},
   "outputs": [],
   "source": [
    "# Загружаем специальный инструмент для разбивки:  \n",
    "from sklearn.model_selection import train_test_split  "
   ]
  },
  {
   "cell_type": "code",
   "execution_count": 74,
   "metadata": {},
   "outputs": [],
   "source": [
    "# Наборы данных с меткой \"train\" будут использоваться для обучения модели, \"test\" - для тестирования.  \n",
    "# Для тестирования мы будем использовать 25% от исходного датасета.  \n",
    "X_train, X_test, y_train, y_test = train_test_split(X, y, test_size=0.25, random_state=42)"
   ]
  },
  {
   "cell_type": "code",
   "execution_count": 75,
   "metadata": {},
   "outputs": [],
   "source": [
    "# Импортируем необходимые библиотеки:  \n",
    "from sklearn.ensemble import RandomForestRegressor # инструмент для создания и обучения модели  \n",
    "from sklearn import metrics # инструменты для оценки точности модели  \n",
    "\n",
    "# Создаём модель  \n",
    "regr = RandomForestRegressor(n_estimators=100, n_jobs=-1)  \n",
    "\n",
    "# Обучаем модель на тестовом наборе данных  \n",
    "regr.fit(X_train, y_train)  \n",
    "\n",
    "# Используем обученную модель для предсказания рейтинга отелей в тестовой выборке.  \n",
    "# Предсказанные значения записываем в переменную y_pred  \n",
    "y_pred = regr.predict(X_test)  \n"
   ]
  },
  {
   "cell_type": "code",
   "execution_count": 76,
   "metadata": {},
   "outputs": [
    {
     "name": "stdout",
     "output_type": "stream",
     "text": [
      "MAPE: 0.13021103313824794\n"
     ]
    }
   ],
   "source": [
    "# Сравниваем предсказанные значения (y_pred) с реальными (y_test), и смотрим насколько они отличаются  \n",
    "# Метрика называется Mean Absolute Percentage Error (MAPE) и показывает среднюю абсолютную процентную ошибку предсказанных значений от фактических.  \n",
    "print('MAPE:', metrics.mean_absolute_percentage_error(y_test, y_pred))"
   ]
  },
  {
   "attachments": {},
   "cell_type": "markdown",
   "metadata": {},
   "source": [
    "Пока видим, что удалось снизить метрику до 0,13. Это уже хорошо."
   ]
  },
  {
   "cell_type": "code",
   "execution_count": null,
   "metadata": {},
   "outputs": [],
   "source": []
  }
 ],
 "metadata": {
  "kernelspec": {
   "display_name": "base",
   "language": "python",
   "name": "python3"
  },
  "language_info": {
   "codemirror_mode": {
    "name": "ipython",
    "version": 3
   },
   "file_extension": ".py",
   "mimetype": "text/x-python",
   "name": "python",
   "nbconvert_exporter": "python",
   "pygments_lexer": "ipython3",
   "version": "3.9.12"
  },
  "vscode": {
   "interpreter": {
    "hash": "c85ce5e063f82c52011c1c6414d7519d9975c8984a5fd91991e796841fee6f1b"
   }
  }
 },
 "nbformat": 4,
 "nbformat_minor": 2
}
