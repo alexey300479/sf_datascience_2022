{
 "cells": [
  {
   "cell_type": "code",
   "execution_count": 53,
   "metadata": {},
   "outputs": [],
   "source": [
    "import json\n",
    "\n",
    "import pandas as pd"
   ]
  },
  {
   "cell_type": "code",
   "execution_count": 54,
   "metadata": {},
   "outputs": [],
   "source": [
    "TARGET = 'reviewer_score'"
   ]
  },
  {
   "attachments": {},
   "cell_type": "markdown",
   "metadata": {},
   "source": [
    "Загружаем данные:"
   ]
  },
  {
   "cell_type": "code",
   "execution_count": 55,
   "metadata": {},
   "outputs": [],
   "source": [
    "hotels_train = pd.read_csv('hotels_train.csv.zip')\n",
    "hotels_test = pd.read_csv('hotels_test.csv.zip')\n",
    "sample_submission = pd.read_csv('submission.csv.zip')"
   ]
  },
  {
   "attachments": {},
   "cell_type": "markdown",
   "metadata": {},
   "source": [
    "Для работы с признаками объединяем тренировочный и тестовый датасеты:"
   ]
  },
  {
   "cell_type": "code",
   "execution_count": 56,
   "metadata": {},
   "outputs": [],
   "source": [
    "hotels_train['train'] = 1\n",
    "hotels_test['train'] = 0\n",
    "hotels = pd.concat([hotels_train, hotels_test])\n",
    "hotels.reset_index(drop=True, inplace=True)"
   ]
  },
  {
   "attachments": {},
   "cell_type": "markdown",
   "metadata": {},
   "source": [
    "Освобождаем память:"
   ]
  },
  {
   "cell_type": "code",
   "execution_count": 50,
   "metadata": {},
   "outputs": [],
   "source": [
    "del hotels_train\n",
    "del hotels_test"
   ]
  },
  {
   "attachments": {},
   "cell_type": "markdown",
   "metadata": {},
   "source": [
    "1. Разведывательный анализ данных"
   ]
  },
  {
   "attachments": {},
   "cell_type": "markdown",
   "metadata": {},
   "source": [
    "#### 1.1. Устранение пропусков"
   ]
  },
  {
   "attachments": {},
   "cell_type": "markdown",
   "metadata": {},
   "source": [
    "Посмотрим на пропуски:"
   ]
  },
  {
   "cell_type": "code",
   "execution_count": 11,
   "metadata": {},
   "outputs": [
    {
     "data": {
      "text/plain": [
       "lng                                           3268\n",
       "lat                                           3268\n",
       "hotel_address                                    0\n",
       "positive_review                                  0\n",
       "days_since_review                                0\n",
       "tags                                             0\n",
       "total_number_of_reviews_reviewer_has_given       0\n",
       "review_total_positive_word_counts                0\n",
       "total_number_of_reviews                          0\n",
       "additional_number_of_scoring                     0\n",
       "review_total_negative_word_counts                0\n",
       "negative_review                                  0\n",
       "reviewer_nationality                             0\n",
       "hotel_name                                       0\n",
       "average_score                                    0\n",
       "review_date                                      0\n",
       "train                                            0\n",
       "dtype: int64"
      ]
     },
     "execution_count": 11,
     "metadata": {},
     "output_type": "execute_result"
    }
   ],
   "source": [
    "hotels.drop(columns=[TARGET]).isna().sum().sort_values(ascending=False)"
   ]
  },
  {
   "attachments": {},
   "cell_type": "markdown",
   "metadata": {},
   "source": [
    "Для устранения пропусков создадим словари широты и долготы для каждого уникального адреса отеля для тех строк, в которых широта и долгота отсутствуют."
   ]
  },
  {
   "cell_type": "code",
   "execution_count": 33,
   "metadata": {},
   "outputs": [
    {
     "name": "stderr",
     "output_type": "stream",
     "text": [
      "100%|██████████| 1614/1614 [16:24<00:00,  1.64it/s]\n"
     ]
    }
   ],
   "source": [
    "from geopy.geocoders import ArcGIS\n",
    "from tqdm import tqdm\n",
    "\n",
    "addresses = hotels[hotels.lat.isna()].hotel_address.values\n",
    "\n",
    "locator = ArcGIS()\n",
    "lng_dict = {}\n",
    "lat_dict = {}\n",
    "\n",
    "for address in tqdm(addresses):\n",
    "    location = locator.geocode(address)\n",
    "    if location is None:\n",
    "        raise ValueError(f\"Latitude and longitude for address {address} can't be found\")\n",
    "    if location.latitude is None:\n",
    "        raise ValueError(f\"Latitude and longitude for address {address} can't be found\")\n",
    "    lng_dict[address] = location.longitude\n",
    "    lat_dict[address] = location.latitude"
   ]
  },
  {
   "attachments": {},
   "cell_type": "markdown",
   "metadata": {},
   "source": [
    "Заполняем пропуски значениями из словарей"
   ]
  },
  {
   "cell_type": "code",
   "execution_count": 57,
   "metadata": {},
   "outputs": [],
   "source": [
    "missings_idx = hotels[hotels.lng.isna()].index\n",
    "hotels.loc[missings_idx, 'lat'] = hotels.loc[missings_idx, 'hotel_address'].map(lat_dict)\n",
    "hotels.loc[missings_idx, 'lng'] = hotels.loc[missings_idx, 'hotel_address'].map(lng_dict)"
   ]
  },
  {
   "cell_type": "code",
   "execution_count": 58,
   "metadata": {},
   "outputs": [
    {
     "data": {
      "text/plain": [
       "hotel_address                                 0\n",
       "positive_review                               0\n",
       "lng                                           0\n",
       "lat                                           0\n",
       "days_since_review                             0\n",
       "tags                                          0\n",
       "total_number_of_reviews_reviewer_has_given    0\n",
       "review_total_positive_word_counts             0\n",
       "total_number_of_reviews                       0\n",
       "additional_number_of_scoring                  0\n",
       "review_total_negative_word_counts             0\n",
       "negative_review                               0\n",
       "reviewer_nationality                          0\n",
       "hotel_name                                    0\n",
       "average_score                                 0\n",
       "review_date                                   0\n",
       "train                                         0\n",
       "dtype: int64"
      ]
     },
     "execution_count": 58,
     "metadata": {},
     "output_type": "execute_result"
    }
   ],
   "source": [
    "hotels.drop(columns=[TARGET]).isna().sum().sort_values(ascending=False)"
   ]
  },
  {
   "attachments": {},
   "cell_type": "markdown",
   "metadata": {},
   "source": [
    "От пропусков избавились. Обратим внимание на признаки, представленные в виде строк:"
   ]
  },
  {
   "attachments": {},
   "cell_type": "markdown",
   "metadata": {},
   "source": [
    "Дополним датасет данными о стране и городе, в которых располагается отель"
   ]
  },
  {
   "cell_type": "code",
   "execution_count": 63,
   "metadata": {},
   "outputs": [],
   "source": [
    "def get_country(address):\n",
    "    country = address.split()[-1]\n",
    "    if country == 'Kingdom':\n",
    "        country = 'United Kingdom'\n",
    "    return country\n",
    "\n",
    "def get_city(address):\n",
    "    address_parts = address.split()\n",
    "    return (\n",
    "        address_parts[-5]\n",
    "        if address_parts[-1] == 'Kingdom'\n",
    "        else address_parts[-2]\n",
    "    )"
   ]
  },
  {
   "cell_type": "code",
   "execution_count": 65,
   "metadata": {},
   "outputs": [],
   "source": [
    "hotels['hotel_country'] = hotels.hotel_address.apply(get_country)\n",
    "hotels['hotel_city'] = hotels.hotel_address.apply(get_city)"
   ]
  },
  {
   "cell_type": "code",
   "execution_count": 66,
   "metadata": {},
   "outputs": [
    {
     "data": {
      "text/plain": [
       "United Kingdom    262301\n",
       "Spain              60149\n",
       "France             59928\n",
       "Netherlands        57214\n",
       "Austria            38939\n",
       "Italy              37207\n",
       "Name: hotel_country, dtype: int64"
      ]
     },
     "execution_count": 66,
     "metadata": {},
     "output_type": "execute_result"
    }
   ],
   "source": [
    "hotels.hotel_country.value_counts()"
   ]
  },
  {
   "cell_type": "code",
   "execution_count": 67,
   "metadata": {},
   "outputs": [
    {
     "data": {
      "text/plain": [
       "London       262301\n",
       "Barcelona     60149\n",
       "Paris         59928\n",
       "Amsterdam     57214\n",
       "Vienna        38939\n",
       "Milan         37207\n",
       "Name: hotel_city, dtype: int64"
      ]
     },
     "execution_count": 67,
     "metadata": {},
     "output_type": "execute_result"
    }
   ],
   "source": [
    "hotels.hotel_city.value_counts()"
   ]
  },
  {
   "cell_type": "code",
   "execution_count": 69,
   "metadata": {},
   "outputs": [
    {
     "data": {
      "text/plain": [
       "0"
      ]
     },
     "execution_count": 69,
     "metadata": {},
     "output_type": "execute_result"
    }
   ],
   "source": [
    "hotels.drop(columns=[TARGET]).isna().sum().sum()"
   ]
  },
  {
   "attachments": {},
   "cell_type": "markdown",
   "metadata": {},
   "source": [
    "Пропусков нет"
   ]
  },
  {
   "attachments": {},
   "cell_type": "markdown",
   "metadata": {},
   "source": [
    "#### 1.2. Добавление признака расстояния от отеля до центра города, в котором он расположен"
   ]
  },
  {
   "cell_type": "code",
   "execution_count": 70,
   "metadata": {},
   "outputs": [],
   "source": [
    "from geopy.distance import geodesic"
   ]
  },
  {
   "cell_type": "code",
   "execution_count": 78,
   "metadata": {},
   "outputs": [],
   "source": [
    "def get_distance(lat1, lng1, lat2, lng2):\n",
    "    return geodesic((lat1, lng1), (lat2, lng2)).kilometers"
   ]
  },
  {
   "cell_type": "code",
   "execution_count": 71,
   "metadata": {},
   "outputs": [],
   "source": [
    "hotels['hotel_location'] = hotels.hotel_city + ',' + hotels.hotel_country"
   ]
  },
  {
   "cell_type": "code",
   "execution_count": 72,
   "metadata": {},
   "outputs": [
    {
     "data": {
      "text/plain": [
       "0         London,United Kingdom\n",
       "1         London,United Kingdom\n",
       "2                  Paris,France\n",
       "3                  Paris,France\n",
       "4         Amsterdam,Netherlands\n",
       "                  ...          \n",
       "515733              Milan,Italy\n",
       "515734          Barcelona,Spain\n",
       "515735           Vienna,Austria\n",
       "515736              Milan,Italy\n",
       "515737             Paris,France\n",
       "Name: hotel_location, Length: 515738, dtype: object"
      ]
     },
     "execution_count": 72,
     "metadata": {},
     "output_type": "execute_result"
    }
   ],
   "source": [
    "hotels.hotel_location"
   ]
  },
  {
   "cell_type": "code",
   "execution_count": 74,
   "metadata": {},
   "outputs": [
    {
     "data": {
      "text/plain": [
       "London,United Kingdom    262301\n",
       "Barcelona,Spain           60149\n",
       "Paris,France              59928\n",
       "Amsterdam,Netherlands     57214\n",
       "Vienna,Austria            38939\n",
       "Milan,Italy               37207\n",
       "Name: hotel_location, dtype: int64"
      ]
     },
     "execution_count": 74,
     "metadata": {},
     "output_type": "execute_result"
    }
   ],
   "source": [
    "hotels.hotel_location.value_counts()"
   ]
  },
  {
   "cell_type": "code",
   "execution_count": 73,
   "metadata": {},
   "outputs": [
    {
     "name": "stderr",
     "output_type": "stream",
     "text": [
      "100%|██████████| 6/6 [00:06<00:00,  1.02s/it]\n"
     ]
    }
   ],
   "source": [
    "hotels_cities_centers_lats = {}\n",
    "hotels_cities_centers_lngs = {}\n",
    "\n",
    "for location in tqdm(hotels.hotel_location.unique()):\n",
    "    city_center_coordinates = locator.geocode(location)\n",
    "    hotels_cities_centers_lats[location] = city_center_coordinates.latitude\n",
    "    hotels_cities_centers_lngs[location] = city_center_coordinates.longitude\n"
   ]
  },
  {
   "cell_type": "code",
   "execution_count": 75,
   "metadata": {},
   "outputs": [],
   "source": [
    "hotels['city_center_lat'] = hotels['hotel_location'].map(hotels_cities_centers_lats)\n",
    "hotels['city_center_lng'] = hotels['hotel_location'].map(hotels_cities_centers_lngs)\n"
   ]
  },
  {
   "cell_type": "code",
   "execution_count": 76,
   "metadata": {},
   "outputs": [],
   "source": [
    "tqdm.pandas()"
   ]
  },
  {
   "cell_type": "code",
   "execution_count": 79,
   "metadata": {},
   "outputs": [
    {
     "name": "stderr",
     "output_type": "stream",
     "text": [
      "100%|██████████| 515738/515738 [01:47<00:00, 4798.02it/s]\n"
     ]
    }
   ],
   "source": [
    "hotels['dist_to_center'] = hotels[['city_center_lat', 'city_center_lng', 'lat', 'lng']].progress_apply(\n",
    "    lambda x: get_distance(\n",
    "        x['city_center_lat'],\n",
    "        x['city_center_lng'],\n",
    "        x['lat'],\n",
    "        x['lng']\n",
    "    ),\n",
    "    axis=1\n",
    ")"
   ]
  },
  {
   "attachments": {},
   "cell_type": "markdown",
   "metadata": {},
   "source": [
    "#### 1.3. Работа с признаками, представленными строковыми данными"
   ]
  },
  {
   "cell_type": "code",
   "execution_count": 81,
   "metadata": {},
   "outputs": [
    {
     "name": "stdout",
     "output_type": "stream",
     "text": [
      "<class 'pandas.core.frame.DataFrame'>\n",
      "RangeIndex: 515738 entries, 0 to 515737\n",
      "Data columns (total 11 columns):\n",
      " #   Column                Non-Null Count   Dtype \n",
      "---  ------                --------------   ----- \n",
      " 0   hotel_address         515738 non-null  object\n",
      " 1   review_date           515738 non-null  object\n",
      " 2   hotel_name            515738 non-null  object\n",
      " 3   reviewer_nationality  515738 non-null  object\n",
      " 4   negative_review       515738 non-null  object\n",
      " 5   positive_review       515738 non-null  object\n",
      " 6   tags                  515738 non-null  object\n",
      " 7   days_since_review     515738 non-null  object\n",
      " 8   hotel_country         515738 non-null  object\n",
      " 9   hotel_city            515738 non-null  object\n",
      " 10  hotel_location        515738 non-null  object\n",
      "dtypes: object(11)\n",
      "memory usage: 43.3+ MB\n"
     ]
    }
   ],
   "source": [
    "hotels.select_dtypes('object').info()"
   ]
  },
  {
   "attachments": {},
   "cell_type": "markdown",
   "metadata": {},
   "source": [
    "#### 1.3.1. Обработка hotel_address"
   ]
  },
  {
   "attachments": {},
   "cell_type": "markdown",
   "metadata": {},
   "source": [
    "Посмотрим на количество уникальных значений адреса и названия отеля:"
   ]
  },
  {
   "cell_type": "code",
   "execution_count": 87,
   "metadata": {},
   "outputs": [
    {
     "data": {
      "text/plain": [
       "hotel_address    1493\n",
       "hotel_name       1492\n",
       "dtype: int64"
      ]
     },
     "execution_count": 87,
     "metadata": {},
     "output_type": "execute_result"
    }
   ],
   "source": [
    "hotels[['hotel_address', 'hotel_name']].nunique()"
   ]
  },
  {
   "attachments": {},
   "cell_type": "markdown",
   "metadata": {},
   "source": [
    "Видим, что количество уникальных значений адресов и названий отелей практически совпадает. Разница в 1 единицу на весь датасет в пользу названий отелей. От признака адреса теперь можно избавиться. Но снасала выясним, с чем связана эта разница."
   ]
  },
  {
   "cell_type": "code",
   "execution_count": 88,
   "metadata": {},
   "outputs": [
    {
     "data": {
      "text/html": [
       "<div>\n",
       "<style scoped>\n",
       "    .dataframe tbody tr th:only-of-type {\n",
       "        vertical-align: middle;\n",
       "    }\n",
       "\n",
       "    .dataframe tbody tr th {\n",
       "        vertical-align: top;\n",
       "    }\n",
       "\n",
       "    .dataframe thead th {\n",
       "        text-align: right;\n",
       "    }\n",
       "</style>\n",
       "<table border=\"1\" class=\"dataframe\">\n",
       "  <thead>\n",
       "    <tr style=\"text-align: right;\">\n",
       "      <th></th>\n",
       "      <th>hotel_name</th>\n",
       "    </tr>\n",
       "    <tr>\n",
       "      <th>hotel_address</th>\n",
       "      <th></th>\n",
       "    </tr>\n",
       "  </thead>\n",
       "  <tbody>\n",
       "    <tr>\n",
       "      <th>8 Northumberland Avenue Westminster Borough London WC2N 5BY United Kingdom</th>\n",
       "      <td>2</td>\n",
       "    </tr>\n",
       "  </tbody>\n",
       "</table>\n",
       "</div>"
      ],
      "text/plain": [
       "                                                    hotel_name\n",
       "hotel_address                                                 \n",
       "8 Northumberland Avenue Westminster Borough Lon...           2"
      ]
     },
     "execution_count": 88,
     "metadata": {},
     "output_type": "execute_result"
    }
   ],
   "source": [
    "hotels.groupby('hotel_address')[['hotel_name']].nunique().sort_values(by='hotel_name', ascending=False).head(1)"
   ]
  },
  {
   "attachments": {},
   "cell_type": "markdown",
   "metadata": {},
   "source": [
    "Видим, что по адресу '8 Northumberland Avenue Westminster Borough London WC2N 5BY United Kingdom' значатся два различных отеля. Посмотрим на них:"
   ]
  },
  {
   "cell_type": "code",
   "execution_count": 89,
   "metadata": {},
   "outputs": [
    {
     "data": {
      "text/plain": [
       "array(['The Grand at Trafalgar Square',\n",
       "       'Club Quarters Hotel Trafalgar Square'], dtype=object)"
      ]
     },
     "execution_count": 89,
     "metadata": {},
     "output_type": "execute_result"
    }
   ],
   "source": [
    "hotels[hotels.hotel_address == '8 Northumberland Avenue Westminster Borough London WC2N 5BY United Kingdom'].hotel_name.unique()"
   ]
  },
  {
   "attachments": {},
   "cell_type": "markdown",
   "metadata": {},
   "source": [
    "Видим два названия отеля по этому адресу. Проверим, а есть ли другие адреса для таких названий отелей."
   ]
  },
  {
   "cell_type": "code",
   "execution_count": 90,
   "metadata": {},
   "outputs": [
    {
     "data": {
      "text/plain": [
       "array(['8 Northumberland Avenue Westminster Borough London WC2N 5BY United Kingdom'],\n",
       "      dtype=object)"
      ]
     },
     "execution_count": 90,
     "metadata": {},
     "output_type": "execute_result"
    }
   ],
   "source": [
    "hotels[hotels.hotel_name == 'The Grand at Trafalgar Square'].hotel_address.unique()\n"
   ]
  },
  {
   "cell_type": "code",
   "execution_count": 91,
   "metadata": {},
   "outputs": [
    {
     "data": {
      "text/plain": [
       "array(['8 Northumberland Avenue Westminster Borough London WC2N 5BY United Kingdom'],\n",
       "      dtype=object)"
      ]
     },
     "execution_count": 91,
     "metadata": {},
     "output_type": "execute_result"
    }
   ],
   "source": [
    "hotels[hotels.hotel_name == 'Club Quarters Hotel Trafalgar Square'].hotel_address.unique()"
   ]
  },
  {
   "attachments": {},
   "cell_type": "markdown",
   "metadata": {},
   "source": [
    "Да, видим, что других адресов у этих отелей нет и действительно по одному адресу находятся два разных отеля. Проверка в интернет показала, что оба отеля реальные и работают."
   ]
  },
  {
   "attachments": {},
   "cell_type": "markdown",
   "metadata": {},
   "source": [
    "Это говорит о том, что:\n",
    "1. Название отеля лучше определяет его чем адрес;\n",
    "2. От адреса можно избавиться.\n",
    "\n",
    "Сделаем это:"
   ]
  },
  {
   "cell_type": "code",
   "execution_count": 92,
   "metadata": {},
   "outputs": [],
   "source": [
    "hotels.drop(columns=['hotel_address'], inplace=True)"
   ]
  },
  {
   "attachments": {},
   "cell_type": "markdown",
   "metadata": {},
   "source": [
    "#### 1.3.2. Теперь поработаем с review_date:"
   ]
  },
  {
   "cell_type": "code",
   "execution_count": 94,
   "metadata": {},
   "outputs": [
    {
     "data": {
      "text/plain": [
       "count                           515738\n",
       "mean     2016-08-13 13:23:37.096277760\n",
       "min                2015-08-04 00:00:00\n",
       "25%                2016-02-23 00:00:00\n",
       "50%                2016-08-15 00:00:00\n",
       "75%                2017-02-09 00:00:00\n",
       "max                2017-08-03 00:00:00\n",
       "Name: review_date, dtype: object"
      ]
     },
     "execution_count": 94,
     "metadata": {},
     "output_type": "execute_result"
    }
   ],
   "source": [
    "hotels.review_date = pd.to_datetime(hotels.review_date)\n",
    "hotels.review_date.describe(datetime_is_numeric=True)"
   ]
  },
  {
   "attachments": {},
   "cell_type": "markdown",
   "metadata": {},
   "source": [
    "Лучше этот признак сразу разбить на три числовых:\n",
    "1. year - год;\n",
    "2. month - месяц;\n",
    "3. day - день,\n",
    "\n",
    "а затем избавиться от него.\n",
    "\n",
    "Сделаем это:"
   ]
  },
  {
   "cell_type": "code",
   "execution_count": 96,
   "metadata": {},
   "outputs": [],
   "source": [
    "hotels['year'] = hotels.review_date.dt.year\n",
    "hotels['month'] = hotels.review_date.dt.month\n",
    "hotels['day'] = hotels.review_date.dt.day"
   ]
  },
  {
   "cell_type": "code",
   "execution_count": 97,
   "metadata": {},
   "outputs": [],
   "source": [
    "hotels.drop(columns=['review_date'], inplace=True)"
   ]
  },
  {
   "attachments": {},
   "cell_type": "markdown",
   "metadata": {},
   "source": [
    "#### 1.3.3. Обработка названия отеля:"
   ]
  },
  {
   "attachments": {},
   "cell_type": "markdown",
   "metadata": {},
   "source": [
    "Посмотрим еще раз на количество уникальных значений этого признака:"
   ]
  },
  {
   "cell_type": "code",
   "execution_count": 99,
   "metadata": {},
   "outputs": [
    {
     "data": {
      "text/plain": [
       "1492"
      ]
     },
     "execution_count": 99,
     "metadata": {},
     "output_type": "execute_result"
    }
   ],
   "source": [
    "hotels.hotel_name.nunique()"
   ]
  },
  {
   "attachments": {},
   "cell_type": "markdown",
   "metadata": {},
   "source": [
    "Уникальных значений слишком много для применения OneHotEncoder. Сделаем этот признак категориальным:"
   ]
  },
  {
   "cell_type": "code",
   "execution_count": 100,
   "metadata": {},
   "outputs": [],
   "source": [
    "hotels.hotel_name = hotels.hotel_name.astype('category')"
   ]
  },
  {
   "attachments": {},
   "cell_type": "markdown",
   "metadata": {},
   "source": [
    "Посмотрим на частоты упоминаний названий отелей в датасете:"
   ]
  },
  {
   "cell_type": "code",
   "execution_count": 104,
   "metadata": {},
   "outputs": [
    {
     "data": {
      "text/plain": [
       "Britannia International Hotel Canary Wharf           0.928572\n",
       "Strand Palace Hotel                                  0.825225\n",
       "Park Plaza Westminster Bridge London                 0.808356\n",
       "Copthorne Tara Hotel London Kensington               0.693763\n",
       "DoubleTree by Hilton Hotel London Tower of London    0.622797\n",
       "                                                       ...   \n",
       "Hotel Eitlj rg                                       0.002327\n",
       "Le Lavoisier                                         0.002327\n",
       "Hotel Wagner                                         0.001939\n",
       "Mercure Paris Porte d Orleans                        0.001939\n",
       "Hotel Gallitzinberg                                  0.001551\n",
       "Name: hotel_name, Length: 1492, dtype: float64"
      ]
     },
     "execution_count": 104,
     "metadata": {},
     "output_type": "execute_result"
    }
   ],
   "source": [
    "hotel_reviews_freqs = hotels.hotel_name.value_counts(normalize=True) * 100\n",
    "hotel_reviews_freqs"
   ]
  },
  {
   "attachments": {},
   "cell_type": "markdown",
   "metadata": {},
   "source": [
    "Видим, что есть очень популярные отели, а есть те, по которым количество отзывов не велико. Добавим признак частот упоминания отелей:"
   ]
  },
  {
   "cell_type": "code",
   "execution_count": 105,
   "metadata": {},
   "outputs": [],
   "source": [
    "hotels['hotel_revies_freq'] = hotels.hotel_name.map(hotel_reviews_freqs)"
   ]
  },
  {
   "attachments": {},
   "cell_type": "markdown",
   "metadata": {},
   "source": [
    "#### 1.3.4. Обработка национальности оставившего отзыв"
   ]
  },
  {
   "attachments": {},
   "cell_type": "markdown",
   "metadata": {},
   "source": [
    "Посмотрим на количество уникальных значений:"
   ]
  },
  {
   "cell_type": "code",
   "execution_count": 106,
   "metadata": {},
   "outputs": [
    {
     "data": {
      "text/plain": [
       "227"
      ]
     },
     "execution_count": 106,
     "metadata": {},
     "output_type": "execute_result"
    }
   ],
   "source": [
    "hotels.reviewer_nationality.nunique()"
   ]
  },
  {
   "attachments": {},
   "cell_type": "markdown",
   "metadata": {},
   "source": [
    "Посмотрим на их частоты:"
   ]
  },
  {
   "cell_type": "code",
   "execution_count": 167,
   "metadata": {},
   "outputs": [
    {
     "data": {
      "text/plain": [
       " United Kingdom               245246\n",
       " United States of America      35437\n",
       " Australia                     21686\n",
       " Ireland                       14827\n",
       " United Arab Emirates          10235\n",
       " Saudi Arabia                   8951\n",
       " Netherlands                    8772\n",
       " Switzerland                    8678\n",
       " Germany                        7941\n",
       " Canada                         7894\n",
       " France                         7296\n",
       " Israel                         6610\n",
       " Italy                          6114\n",
       " Belgium                        6031\n",
       " Turkey                         5444\n",
       " Kuwait                         4920\n",
       " Spain                          4737\n",
       " Romania                        4552\n",
       " Russia                         3900\n",
       " South Africa                   3821\n",
       " India                          3437\n",
       " Greece                         3406\n",
       " China                          3400\n",
       " Sweden                         3368\n",
       " New Zealand                    3237\n",
       " Singapore                      3091\n",
       " Hong Kong                      3013\n",
       " Poland                         2891\n",
       " Qatar                          2757\n",
       " Austria                        2412\n",
       " Egypt                          2388\n",
       " Norway                         2383\n",
       " Czech Republic                 2311\n",
       " Lebanon                        2261\n",
       " Hungary                        2185\n",
       " Malaysia                       1883\n",
       " Thailand                       1880\n",
       " Brazil                         1865\n",
       " Portugal                       1839\n",
       " Finland                        1829\n",
       " Denmark                        1724\n",
       " Malta                          1685\n",
       " Bahrain                        1592\n",
       " Indonesia                      1548\n",
       " Cyprus                         1381\n",
       " Luxembourg                     1359\n",
       " Croatia                        1340\n",
       " Oman                           1334\n",
       " Bulgaria                       1314\n",
       " Japan                          1279\n",
       " Serbia                         1124\n",
       " Ukraine                        1102\n",
       " Iran                           1086\n",
       " South Korea                    1078\n",
       " Philippines                    1073\n",
       " Nigeria                         977\n",
       " Iceland                         933\n",
       " Taiwan                          923\n",
       " Pakistan                        916\n",
       " Slovakia                        903\n",
       "Name: reviewer_nationality, dtype: int64"
      ]
     },
     "execution_count": 167,
     "metadata": {},
     "output_type": "execute_result"
    }
   ],
   "source": [
    "hotels.reviewer_nationality.value_counts().head(60)"
   ]
  },
  {
   "attachments": {},
   "cell_type": "markdown",
   "metadata": {},
   "source": [
    "Видим, что разных национальностей много и встречаются многие из них часто, поэтому национальность оставившего обзор тоже приведем к категориальному типу:"
   ]
  },
  {
   "cell_type": "code",
   "execution_count": 107,
   "metadata": {},
   "outputs": [],
   "source": [
    "hotels.reviewer_nationality = hotels.reviewer_nationality.astype('category')"
   ]
  },
  {
   "attachments": {},
   "cell_type": "markdown",
   "metadata": {},
   "source": [
    "#### 1.3.5. Обработка отзывов"
   ]
  },
  {
   "attachments": {},
   "cell_type": "markdown",
   "metadata": {},
   "source": [
    "Проведем оценку эмоциональной окраски отзывов:"
   ]
  },
  {
   "attachments": {},
   "cell_type": "markdown",
   "metadata": {},
   "source": [
    "Для начала посмотрим на частоты отрицательных и положительных отзывов:"
   ]
  },
  {
   "cell_type": "code",
   "execution_count": 109,
   "metadata": {},
   "outputs": [
    {
     "data": {
      "text/plain": [
       "No Negative    127890\n",
       " Nothing        14295\n",
       " Nothing         4236\n",
       " nothing         2225\n",
       " N A             1037\n",
       "Name: negative_review, dtype: int64"
      ]
     },
     "execution_count": 109,
     "metadata": {},
     "output_type": "execute_result"
    }
   ],
   "source": [
    "hotels.negative_review.value_counts().head()"
   ]
  },
  {
   "attachments": {},
   "cell_type": "markdown",
   "metadata": {},
   "source": [
    "Сразу видим необходимость избавиться от лишних пробелов в начале и конце отзывов, а также приведения текста к нижнему регистру. Сделаем это:"
   ]
  },
  {
   "cell_type": "code",
   "execution_count": 118,
   "metadata": {},
   "outputs": [],
   "source": [
    "hotels.negative_review = hotels.negative_review.apply(str.strip)\n",
    "hotels.negative_review = hotels.negative_review.apply(str.lower)\n",
    "hotels.positive_review = hotels.positive_review.apply(str.strip)\n",
    "hotels.positive_review = hotels.positive_review.apply(str.lower)\n"
   ]
  },
  {
   "attachments": {},
   "cell_type": "markdown",
   "metadata": {},
   "source": [
    "Посмотрим частоты отзывов еще раз:"
   ]
  },
  {
   "cell_type": "code",
   "execution_count": 125,
   "metadata": {},
   "outputs": [
    {
     "data": {
      "text/plain": [
       "no negative                        127890\n",
       "nothing                             21185\n",
       "n a                                  1815\n",
       "none                                 1501\n",
       "                                      849\n",
       "nothing really                        656\n",
       "small room                            570\n",
       "all good                              545\n",
       "breakfast                             545\n",
       "no complaints                         523\n",
       "location                              502\n",
       "nothing at all                        467\n",
       "everything                            420\n",
       "nothing to dislike                    373\n",
       "price                                 348\n",
       "nil                                   332\n",
       "small rooms                           307\n",
       "everything was perfect                276\n",
       "na                                    272\n",
       "can t think of anything               250\n",
       "leaving                               244\n",
       "absolutely nothing                    242\n",
       "everything was great                  222\n",
       "expensive                             206\n",
       "nothing to complain about             205\n",
       "no                                    200\n",
       "room size                             200\n",
       "very small room                       200\n",
       "nothing not to like                   185\n",
       "staff                                 181\n",
       "nothing all good                      181\n",
       "having to leave                       176\n",
       "not much                              159\n",
       "everything was good                   153\n",
       "i liked everything                    153\n",
       "liked everything                      148\n",
       "see above                             141\n",
       "expensive breakfast                   138\n",
       "nothing it was perfect                136\n",
       "non                                   134\n",
       "nothing everything was perfect        133\n",
       "the price                             132\n",
       "room too small                        127\n",
       "room was very small                   126\n",
       "nothing in particular                 121\n",
       "nothing everything was great          120\n",
       "everything was fine                   120\n",
       "not applicable                        115\n",
       "all was good                          114\n",
       "wifi                                  112\n",
       "pillows                               111\n",
       "parking                               110\n",
       "very small rooms                      109\n",
       "size of room                          109\n",
       "room very small                       103\n",
       "breakfast not included                103\n",
       "nothing comes to mind                 102\n",
       "room was small                        102\n",
       "size of the room                      100\n",
       "there was nothing i didn t like        99\n",
       "Name: negative_review, dtype: int64"
      ]
     },
     "execution_count": 125,
     "metadata": {},
     "output_type": "execute_result"
    }
   ],
   "source": [
    "hotels.negative_review.value_counts().head(60)\n"
   ]
  },
  {
   "attachments": {},
   "cell_type": "markdown",
   "metadata": {},
   "source": [
    "В негативных отзывах видим, что 'no negative', 'nothing', 'n a', 'none', пустая строка, 'nothing really', 'no complaints', 'nothing at all',  'nothing to dislike ', 'nil', 'na', 'can t think of anything', 'absolutely nothing', 'nothing to complain about', 'no', 'nothing not to like', 'see above', 'non', 'nothing in particular', 'nothing comes to mind', 'there was nothing i didn t like' носят положительный характер. Приведем их к значению everything is great."
   ]
  },
  {
   "attachments": {},
   "cell_type": "markdown",
   "metadata": {},
   "source": [
    "А что с позитивными отзывами? Посмотрим:"
   ]
  },
  {
   "cell_type": "code",
   "execution_count": 126,
   "metadata": {},
   "outputs": [
    {
     "data": {
      "text/plain": [
       "no positive                        35946\n",
       "location                           11945\n",
       "everything                          3314\n",
       "nothing                             1731\n",
       "great location                      1687\n",
       "the location                        1606\n",
       "good location                       1496\n",
       "breakfast                            795\n",
       "friendly staff                       733\n",
       "excellent location                   639\n",
       "staff                                553\n",
       "location and staff                   452\n",
       "location staff                       432\n",
       "location location location           345\n",
       "location was great                   328\n",
       "everything was perfect               316\n",
       "good breakfast                       316\n",
       "location was good                    312\n",
       "comfy bed                            303\n",
       "perfect location                     287\n",
       "the staff                            281\n",
       "location is great                    280\n",
       "location is good                     256\n",
       "all                                  250\n",
       "clean                                237\n",
       "every thing                          235\n",
       "very friendly staff                  233\n",
       "great breakfast                      222\n",
       "breakfast was good                   220\n",
       "excellent breakfast                  218\n",
       "location was excellent               205\n",
       "comfortable bed                      202\n",
       "very good location                   198\n",
       "cleanliness                          193\n",
       "location breakfast                   188\n",
       "                                     183\n",
       "location is perfect                  175\n",
       "helpful staff                        172\n",
       "great location friendly staff        172\n",
       "location only                        168\n",
       "great staff                          167\n",
       "everything was great                 163\n",
       "location is excellent                163\n",
       "central location                     157\n",
       "friendly helpful staff               156\n",
       "staff and location                   156\n",
       "the bed                              155\n",
       "convenient location                  151\n",
       "position                             149\n",
       "location and breakfast               148\n",
       "very friendly and helpful staff      146\n",
       "location and friendly staff          146\n",
       "location friendly staff              146\n",
       "good location friendly staff         146\n",
       "not much                             145\n",
       "location was perfect                 142\n",
       "very helpful staff                   141\n",
       "the bed was very comfortable         139\n",
       "all good                             135\n",
       "staff were excellent                 133\n",
       "Name: positive_review, dtype: int64"
      ]
     },
     "execution_count": 126,
     "metadata": {},
     "output_type": "execute_result"
    }
   ],
   "source": [
    "hotels.positive_review.value_counts().head(60)"
   ]
  },
  {
   "attachments": {},
   "cell_type": "markdown",
   "metadata": {},
   "source": [
    "Здесь 'no positive' и пустые строки приведем к отрицательному варианту 'everything is bad'."
   ]
  },
  {
   "cell_type": "code",
   "execution_count": 132,
   "metadata": {},
   "outputs": [],
   "source": [
    "negative_to_positive = {\n",
    "    'no negative',\n",
    "    'nothing',\n",
    "    'n a',\n",
    "    'none',\n",
    "    '',\n",
    "    'nothing really',\n",
    "    'no complaints',\n",
    "    'nothing at all',\n",
    "    'nothing to dislike ',\n",
    "    'nil',\n",
    "    'na',\n",
    "    'can t think of anything',\n",
    "    'absolutely nothing',\n",
    "    'nothing to complain about',\n",
    "    'no',\n",
    "    'nothing not to like',\n",
    "    'see above',\n",
    "    'non',\n",
    "    'nothing in particular',\n",
    "    'nothing comes to mind',\n",
    "    'there was nothing i didn t like'\n",
    "}"
   ]
  },
  {
   "cell_type": "code",
   "execution_count": 133,
   "metadata": {},
   "outputs": [],
   "source": [
    "hotels.negative_review = hotels.negative_review.apply(\n",
    "    lambda x: 'everithing is great' if x in negative_to_positive else x\n",
    ")"
   ]
  },
  {
   "cell_type": "code",
   "execution_count": 134,
   "metadata": {},
   "outputs": [],
   "source": [
    "hotels.positive_review = hotels.positive_review.apply(\n",
    "    lambda x: 'everithing is bad' if x in {'', 'no positive'} else x\n",
    ")"
   ]
  },
  {
   "attachments": {},
   "cell_type": "markdown",
   "metadata": {},
   "source": [
    "Теперь добавим признаки эмоционально окраски используя nltk.sentiment.vader.SentimentIntensityAnalyzer()"
   ]
  },
  {
   "cell_type": "code",
   "execution_count": 138,
   "metadata": {},
   "outputs": [],
   "source": [
    "from nltk.sentiment.vader import SentimentIntensityAnalyzer"
   ]
  },
  {
   "cell_type": "code",
   "execution_count": 136,
   "metadata": {},
   "outputs": [
    {
     "name": "stderr",
     "output_type": "stream",
     "text": [
      "[nltk_data] Downloading package vader_lexicon to\n",
      "[nltk_data]     /home/alexey/nltk_data...\n",
      "[nltk_data]   Package vader_lexicon is already up-to-date!\n"
     ]
    },
    {
     "data": {
      "text/plain": [
       "True"
      ]
     },
     "execution_count": 136,
     "metadata": {},
     "output_type": "execute_result"
    }
   ],
   "source": [
    "import nltk\n",
    "nltk.download('vader_lexicon')"
   ]
  },
  {
   "cell_type": "code",
   "execution_count": 139,
   "metadata": {},
   "outputs": [
    {
     "name": "stdout",
     "output_type": "stream",
     "text": [
      "Оценка эмоциональной окраски негативных отзывов:\n"
     ]
    },
    {
     "name": "stderr",
     "output_type": "stream",
     "text": [
      "100%|██████████| 515738/515738 [01:44<00:00, 4922.75it/s]\n"
     ]
    },
    {
     "name": "stdout",
     "output_type": "stream",
     "text": [
      "Оценка эмоциональной окраски негативных отзывов:\n"
     ]
    },
    {
     "name": "stderr",
     "output_type": "stream",
     "text": [
      "100%|██████████| 515738/515738 [01:42<00:00, 5015.33it/s]\n"
     ]
    },
    {
     "name": "stdout",
     "output_type": "stream",
     "text": [
      "Формирование новых признаков:\n"
     ]
    },
    {
     "name": "stderr",
     "output_type": "stream",
     "text": [
      "100%|██████████| 515738/515738 [00:00<00:00, 988239.76it/s] \n",
      "100%|██████████| 515738/515738 [00:00<00:00, 1044577.85it/s]\n",
      "100%|██████████| 515738/515738 [00:00<00:00, 1069719.39it/s]\n",
      "100%|██████████| 515738/515738 [00:00<00:00, 775462.50it/s]\n",
      "100%|██████████| 515738/515738 [00:00<00:00, 1014648.19it/s]\n",
      "100%|██████████| 515738/515738 [00:00<00:00, 1010648.13it/s]\n",
      "100%|██████████| 515738/515738 [00:00<00:00, 1044008.67it/s]\n",
      "100%|██████████| 515738/515738 [00:00<00:00, 1040313.81it/s]\n"
     ]
    }
   ],
   "source": [
    "# создаем два экземпляра анализатора, чтобы разделить лексикон\n",
    "# для разной системы оценки положительных и отрицательных отзывов:\n",
    "sia_neg = SentimentIntensityAnalyzer()\n",
    "sia_pos = SentimentIntensityAnalyzer()\n",
    "\n",
    "print('Оценка эмоциональной окраски негативных отзывов:')\n",
    "hotels['neg_scores'] = hotels['negative_review'].progress_apply(\n",
    "    lambda x: sia_neg.polarity_scores(x))\n",
    "print('Оценка эмоциональной окраски негативных отзывов:')\n",
    "hotels['pos_scores'] = hotels['positive_review'].progress_apply(\n",
    "    lambda x: sia_pos.polarity_scores(x))\n",
    "\n",
    "# формируем новые признаки:\n",
    "print('Формирование новых признаков:')\n",
    "hotels['n_review_sentiments_neg'] = hotels['neg_scores'].progress_apply(lambda x: x['neg'])\n",
    "hotels['n_review_sentiments_neu'] = hotels['neg_scores'].progress_apply(lambda x: x['neu'])\n",
    "hotels['n_review_sentiments_pos'] = hotels['neg_scores'].progress_apply(lambda x: x['pos'])\n",
    "hotels['n_review_sentiments_compound'] = hotels['neg_scores'].progress_apply(\n",
    "    lambda x: x['compound'])\n",
    "\n",
    "hotels['p_review_sentiments_neg'] = hotels['pos_scores'].progress_apply(lambda x: x['neg'])\n",
    "hotels['p_review_sentiments_neu'] = hotels['pos_scores'].progress_apply(lambda x: x['neu'])\n",
    "hotels['p_review_sentiments_pos'] = hotels['pos_scores'].progress_apply(lambda x: x['pos'])\n",
    "hotels['p_review_sentiments_compound'] = hotels['pos_scores'].progress_apply(\n",
    "    lambda x: x['compound'])\n"
   ]
  },
  {
   "attachments": {},
   "cell_type": "markdown",
   "metadata": {},
   "source": [
    "Добавим информацию о частотах отзывов (есть часто повторяющиеся, а есть уникальные)"
   ]
  },
  {
   "cell_type": "code",
   "execution_count": 140,
   "metadata": {},
   "outputs": [],
   "source": [
    "nr_frequencies = hotels.negative_review.value_counts(normalize=True)\n",
    "nr_frequencies_dict = dict(zip(nr_frequencies.index, nr_frequencies.values))\n",
    "hotels['nr_frequency'] = hotels.negative_review.map(nr_frequencies_dict)\n",
    "\n",
    "pr_frequencies = hotels.positive_review.value_counts(normalize=True)\n",
    "pr_frequencies_dict = dict(zip(pr_frequencies.index, pr_frequencies.values))\n",
    "hotels['pr_frequency'] = hotels.positive_review.map(pr_frequencies_dict)"
   ]
  },
  {
   "attachments": {},
   "cell_type": "markdown",
   "metadata": {},
   "source": [
    "Удалим признаки с отзывами"
   ]
  },
  {
   "cell_type": "code",
   "execution_count": 141,
   "metadata": {},
   "outputs": [],
   "source": [
    "hotels.drop(columns=['negative_review', 'positive_review'], inplace=True)"
   ]
  },
  {
   "attachments": {},
   "cell_type": "markdown",
   "metadata": {},
   "source": [
    "#### 1.3.6. Обработка признака days_since_rewiev"
   ]
  },
  {
   "cell_type": "code",
   "execution_count": 152,
   "metadata": {},
   "outputs": [],
   "source": [
    "hotels['days_since_review'] = hotels['days_since_review'].apply(lambda x: int(x.split()[0]))"
   ]
  },
  {
   "attachments": {},
   "cell_type": "markdown",
   "metadata": {},
   "source": [
    "#### 1.3.7. Обработка признака tags"
   ]
  },
  {
   "attachments": {},
   "cell_type": "markdown",
   "metadata": {},
   "source": [
    "Видим структуру, похожую на список строковых значений. Преобразуем данные в список строк:"
   ]
  },
  {
   "cell_type": "code",
   "execution_count": 181,
   "metadata": {},
   "outputs": [],
   "source": [
    "hotels.tags = hotels.tags.apply(lambda x: x[2:-2].strip().split(' \\', \\' '))"
   ]
  },
  {
   "attachments": {},
   "cell_type": "markdown",
   "metadata": {},
   "source": [
    "Посмотрим на частоты тегов в разрезе количества:"
   ]
  },
  {
   "cell_type": "code",
   "execution_count": 218,
   "metadata": {},
   "outputs": [
    {
     "data": {
      "text/plain": [
       "6       755\n",
       "5    297823\n",
       "4    211564\n",
       "3      5505\n",
       "2        85\n",
       "1         6\n",
       "Name: tags, dtype: int64"
      ]
     },
     "execution_count": 218,
     "metadata": {},
     "output_type": "execute_result"
    }
   ],
   "source": [
    "hotels.tags.apply(len).value_counts().sort_index(ascending=False)"
   ]
  },
  {
   "attachments": {},
   "cell_type": "markdown",
   "metadata": {},
   "source": [
    "Видим, что максимально могут быть 6 тегов в одном отзыве. Посмотрим на такие теги:"
   ]
  },
  {
   "cell_type": "code",
   "execution_count": 220,
   "metadata": {},
   "outputs": [
    {
     "data": {
      "text/plain": [
       "698                         [With a pet, Leisure trip, Solo traveler, Standard Double Room, Stayed 2 nights, Submitted from a mobile device]\n",
       "1276                                  [With a pet, Leisure trip, Group, Superior Twin Room, Stayed 3 nights, Submitted from a mobile device]\n",
       "1407                    [With a pet, Leisure trip, Family with young children, Family Room, Stayed 3 nights, Submitted from a mobile device]\n",
       "2102               [With a pet, Business trip, Couple, King Room with City View Top floors, Stayed 2 nights, Submitted from a mobile device]\n",
       "2281                                             [With a pet, Leisure trip, Group, 2 rooms, Stayed 3 nights, Submitted from a mobile device]\n",
       "2827            [With a pet, Leisure trip, Family with young children, Double or Twin Room, Stayed 5 nights, Submitted from a mobile device]\n",
       "6175                        [With a pet, Leisure trip, Group, Double or Twin Room with View, Stayed 1 night, Submitted from a mobile device]\n",
       "6314             [With a pet, Leisure trip, Couple, Superior Double or Twin Room with View, Stayed 2 nights, Submitted from a mobile device]\n",
       "6966                                              [With a pet, Leisure trip, Couple, Suite, Stayed 2 nights, Submitted from a mobile device]\n",
       "7236                                 [With a pet, Leisure trip, Solo traveler, Double Room, Stayed 2 nights, Submitted from a mobile device]\n",
       "8493                                 [With a pet, Leisure trip, Group, Executive Twin Room, Stayed 4 nights, Submitted from a mobile device]\n",
       "9967                                [With a pet, Business trip, Couple, Classic Queen Room, Stayed 3 nights, Submitted from a mobile device]\n",
       "11507                  [With a pet, Leisure trip, Couple, Classic Room with Courtyard View, Stayed 5 nights, Submitted from a mobile device]\n",
       "11600                    [With a pet, Business trip, Family with young children, Twin Room, Stayed 4 nights, Submitted from a mobile device]\n",
       "12046                                       [With a pet, Leisure trip, Couple, Classic Room, Stayed 1 night, Submitted from a mobile device]\n",
       "12077                     [With a pet, Leisure trip, Solo traveler, Twin Hilton Guest Room, Stayed 2 nights, Submitted from a mobile device]\n",
       "12366           [With a pet, Leisure trip, Family with young children, Comfort Family Room, Stayed 3 nights, Submitted from a mobile device]\n",
       "12599                        [With a pet, Leisure trip, Family with older children, 2 rooms, Stayed 1 night, Submitted from a mobile device]\n",
       "12673             [With a pet, Leisure trip, Family with older children, Standard Twin Room, Stayed 1 night, Submitted from a mobile device]\n",
       "12680                        [With a pet, Business trip, Solo traveler, Deluxe Double Room, Stayed 2 nights, Submitted from a mobile device]\n",
       "13623                                           [With a pet, Leisure trip, Group, Twin Room, Stayed 1 night, Submitted from a mobile device]\n",
       "14728                                [With a pet, Leisure trip, Group, Standard Double Room, Stayed 1 night, Submitted from a mobile device]\n",
       "14832           [With a pet, Leisure trip, Family with young children, Superior Double Room, Stayed 1 night, Submitted from a mobile device]\n",
       "14996                                 [With a pet, Leisure trip, Couple, Large Double Room, Stayed 3 nights, Submitted from a mobile device]\n",
       "15700                                [With a pet, Leisure trip, Couple, Double or Twin Room, Stayed 1 night, Submitted from a mobile device]\n",
       "15726                               [With a pet, Leisure trip, Couple, Double or Twin Room, Stayed 4 nights, Submitted from a mobile device]\n",
       "15847                     [With a pet, Leisure trip, Couple, Executive Double or Twin Room, Stayed 3 nights, Submitted from a mobile device]\n",
       "16821                                      [With a pet, Leisure trip, Couple, Junior Suite, Stayed 4 nights, Submitted from a mobile device]\n",
       "17549      [With a pet, Leisure trip, Couple, Special Offer Double Twin Room Stay and Park, Stayed 4 nights, Submitted from a mobile device]\n",
       "17968       [With a pet, Leisure trip, Couple, Superior Double or Twin Room with Free Wifi, Stayed 2 nights, Submitted from a mobile device]\n",
       "18320                   [With a pet, Leisure trip, Family with young children, Classic Room, Stayed 1 night, Submitted from a mobile device]\n",
       "19194                                             [With a pet, Leisure trip, Couple, Suite, Stayed 3 nights, Submitted from a mobile device]\n",
       "19529                                 [With a pet, Leisure trip, Couple, Classic Twin Room, Stayed 2 nights, Submitted from a mobile device]\n",
       "19743                        [With a pet, Leisure trip, Couple, Classic Double or Twin Room, Stayed 1 night, Submitted from a mobile device]\n",
       "19760                               [With a pet, Leisure trip, Couple, penta Standard Room, Stayed 2 nights, Submitted from a mobile device]\n",
       "20569                                      [With a pet, Leisure trip, Couple, Junior Suite, Stayed 3 nights, Submitted from a mobile device]\n",
       "21669                               [With a pet, Leisure trip, Couple, Double or Twin Room, Stayed 5 nights, Submitted from a mobile device]\n",
       "23353                       [With a pet, Leisure trip, Family with young children, 2 rooms, Stayed 2 nights, Submitted from a mobile device]\n",
       "24992                          [With a pet, Leisure trip, Solo traveler, Classic Twin Room, Stayed 2 nights, Submitted from a mobile device]\n",
       "25169              [With a pet, Leisure trip, Couple, Superior Double Room with Spa Access, Stayed 3 nights, Submitted from a mobile device]\n",
       "25504                                       [With a pet, Leisure trip, Couple, Deluxe Suite, Stayed 1 night, Submitted from a mobile device]\n",
       "28346                       [With a pet, Leisure trip, Couple, Classic Double or Twin Room, Stayed 4 nights, Submitted from a mobile device]\n",
       "29369          [With a pet, Leisure trip, Family with older children, Superior Double Room, Stayed 3 nights, Submitted from a mobile device]\n",
       "29801    [With a pet, Leisure trip, Family with young children, Luxury Room with Spa Access, Stayed 1 night, Submitted from a mobile device]\n",
       "30092                        [With a pet, Leisure trip, Couple, Deluxe Double or Twin Room, Stayed 3 nights, Submitted from a mobile device]\n",
       "30608                             [With a pet, Leisure trip, Couple, King Hilton Guest Room, Stayed 1 night, Submitted from a mobile device]\n",
       "32269                       [With a pet, Leisure trip, Couple, Superior Double or Twin Room, Stayed 1 night, Submitted from a mobile device]\n",
       "34162                              [With a pet, Leisure trip, Couple, Executive Double Room, Stayed 1 night, Submitted from a mobile device]\n",
       "34263                [With a pet, Leisure trip, Solo traveler, Premium Double or Twin Room, Stayed 3 nights, Submitted from a mobile device]\n",
       "34580                                [With a pet, Leisure trip, Couple, Classic Double Room, Stayed 1 night, Submitted from a mobile device]\n",
       "34696                       [With a pet, Business trip, Solo traveler, Standard Double Room, Stayed 1 night, Submitted from a mobile device]\n",
       "34939                 [With a pet, Leisure trip, Family with young children, Superior Room, Stayed 6 nights, Submitted from a mobile device]\n",
       "35055                                      [With a pet, Leisure trip, Group, Standard Room, Stayed 2 nights, Submitted from a mobile device]\n",
       "35271                                         [With a pet, Leisure trip, Group, Double Room, Stayed 1 night, Submitted from a mobile device]\n",
       "35572                   [With a pet, Leisure trip, Family with young children, Junior Suite, Stayed 1 night, Submitted from a mobile device]\n",
       "35825                         [With a pet, Leisure trip, Solo traveler, Deluxe Single Room, Stayed 5 nights, Submitted from a mobile device]\n",
       "35893                                         [With a pet, Leisure trip, Group, Triple Room, Stayed 1 night, Submitted from a mobile device]\n",
       "36475                              [With a pet, Leisure trip, Couple, Standard Double Room, Stayed 2 nights, Submitted from a mobile device]\n",
       "36702               [With a pet, Leisure trip, Family with young children, Twin Guest Room, Stayed 4 nights, Submitted from a mobile device]\n",
       "38932                   [With a pet, Leisure trip, Family with older children, Triple Room, Stayed 3 nights, Submitted from a mobile device]\n",
       "Name: tags, dtype: object"
      ]
     },
     "execution_count": 220,
     "metadata": {},
     "output_type": "execute_result"
    }
   ],
   "source": [
    "pd.set_option('display.max_rows', 100)\n",
    "pd.set_option('display.max_colwidth', 200)\n",
    "hotels[hotels.tags.apply(len) == 6].tags.head(60)"
   ]
  },
  {
   "attachments": {},
   "cell_type": "markdown",
   "metadata": {},
   "source": [
    "Посмотрим на частоты первого из таких тегов:"
   ]
  },
  {
   "cell_type": "code",
   "execution_count": 221,
   "metadata": {},
   "outputs": [
    {
     "data": {
      "text/plain": [
       "With a pet    755\n",
       "Name: tags, dtype: int64"
      ]
     },
     "execution_count": 221,
     "metadata": {},
     "output_type": "execute_result"
    }
   ],
   "source": [
    "hotels[hotels.tags.apply(len) == 6].tags.apply(lambda x: x[0]).value_counts()"
   ]
  },
  {
   "attachments": {},
   "cell_type": "markdown",
   "metadata": {},
   "source": [
    "Видим, что первым может идти только тег 'With a pet', значающий, что постоялец/постояльци приезжали с домашним животным. Создадим соответствующий бинарный признак:"
   ]
  },
  {
   "cell_type": "code",
   "execution_count": 222,
   "metadata": {},
   "outputs": [],
   "source": [
    "def get_with_a_pet(tags):\n",
    "    return next((1 for tag in tags if tag == 'With a pet'), 0)"
   ]
  },
  {
   "cell_type": "code",
   "execution_count": 223,
   "metadata": {},
   "outputs": [
    {
     "name": "stderr",
     "output_type": "stream",
     "text": [
      "100%|██████████| 515738/515738 [00:00<00:00, 558816.08it/s]\n"
     ]
    }
   ],
   "source": [
    "hotels['with_a_pet'] = hotels.tags.progress_apply(get_with_a_pet)"
   ]
  },
  {
   "attachments": {},
   "cell_type": "markdown",
   "metadata": {},
   "source": [
    "Посмотрим на частоты этого признака:"
   ]
  },
  {
   "cell_type": "code",
   "execution_count": 233,
   "metadata": {},
   "outputs": [
    {
     "data": {
      "text/plain": [
       "0    514333\n",
       "1      1405\n",
       "Name: with_a_pet, dtype: int64"
      ]
     },
     "execution_count": 233,
     "metadata": {},
     "output_type": "execute_result"
    }
   ],
   "source": [
    "hotels.with_a_pet.value_counts()"
   ]
  },
  {
   "attachments": {},
   "cell_type": "markdown",
   "metadata": {},
   "source": [
    "Посмотрим на частоты второго элемента списка тегов:"
   ]
  },
  {
   "cell_type": "code",
   "execution_count": 224,
   "metadata": {},
   "outputs": [
    {
     "data": {
      "text/plain": [
       "Leisure trip     661\n",
       "Business trip     94\n",
       "Name: tags, dtype: int64"
      ]
     },
     "execution_count": 224,
     "metadata": {},
     "output_type": "execute_result"
    }
   ],
   "source": [
    "hotels[hotels.tags.apply(len) == 6].tags.apply(lambda x: x[1]).value_counts()\n"
   ]
  },
  {
   "attachments": {},
   "cell_type": "markdown",
   "metadata": {},
   "source": [
    "Видим, что есть только 2 значения: Leisure trip и Business trip. И тот и другой содержат слово trip. Создадим на основе этого признак trip_type:"
   ]
  },
  {
   "cell_type": "code",
   "execution_count": 234,
   "metadata": {},
   "outputs": [],
   "source": [
    "def get_trip_type(tags):\n",
    "    return next((tag for tag in tags if tag in ['Leisure trip', 'Business trip']), 'Unknown')"
   ]
  },
  {
   "cell_type": "code",
   "execution_count": 235,
   "metadata": {},
   "outputs": [
    {
     "name": "stderr",
     "output_type": "stream",
     "text": [
      "100%|██████████| 515738/515738 [00:00<00:00, 710276.02it/s]\n"
     ]
    }
   ],
   "source": [
    "hotels['trip_type'] = hotels.tags.progress_apply(get_trip_type)"
   ]
  },
  {
   "attachments": {},
   "cell_type": "markdown",
   "metadata": {},
   "source": [
    "Переведем этот признак к категориальному типу и посмотрим на частоты этого признака:"
   ]
  },
  {
   "cell_type": "code",
   "execution_count": 241,
   "metadata": {},
   "outputs": [
    {
     "data": {
      "text/plain": [
       "Leisure trip     417778\n",
       "Business trip     82939\n",
       "Unknown           15021\n",
       "Name: trip_type, dtype: int64"
      ]
     },
     "execution_count": 241,
     "metadata": {},
     "output_type": "execute_result"
    }
   ],
   "source": [
    "hotels.trip_type = hotels.trip_type.astype('category')\n",
    "hotels.trip_type.value_counts()"
   ]
  },
  {
   "attachments": {},
   "cell_type": "markdown",
   "metadata": {},
   "source": [
    "Посмотрим на частоты третьего элемента:"
   ]
  },
  {
   "cell_type": "code",
   "execution_count": 237,
   "metadata": {},
   "outputs": [
    {
     "data": {
      "text/plain": [
       "Couple                        398\n",
       "Family with young children    131\n",
       "Solo traveler                 101\n",
       "Group                          84\n",
       "Family with older children     41\n",
       "Name: tags, dtype: int64"
      ]
     },
     "execution_count": 237,
     "metadata": {},
     "output_type": "execute_result"
    }
   ],
   "source": [
    "hotels[hotels.tags.apply(len) == 6].tags.apply(lambda x: x[2]).value_counts()"
   ]
  },
  {
   "attachments": {},
   "cell_type": "markdown",
   "metadata": {},
   "source": [
    "Видим, что эта часть даёт признак типа гостей. Соберем различные варианты в множество и создадим новый признак guest_type:"
   ]
  },
  {
   "cell_type": "code",
   "execution_count": 239,
   "metadata": {},
   "outputs": [
    {
     "name": "stderr",
     "output_type": "stream",
     "text": [
      "100%|██████████| 515738/515738 [00:00<00:00, 550428.63it/s]\n"
     ]
    }
   ],
   "source": [
    "guest_types = set(hotels[hotels.tags.apply(len) == 6].tags.apply(lambda x: x[2]).unique())\n",
    "\n",
    "def get_guest_type(tags):\n",
    "    return next((tag for tag in tags if tag in guest_types), 'Unknown')\n",
    "\n",
    "hotels['guest_type'] = hotels.tags.progress_apply(get_guest_type)"
   ]
  },
  {
   "attachments": {},
   "cell_type": "markdown",
   "metadata": {},
   "source": [
    "Сделаем этот признак категориальным и посмотрим на частоты его значений:"
   ]
  },
  {
   "cell_type": "code",
   "execution_count": 243,
   "metadata": {},
   "outputs": [
    {
     "data": {
      "text/plain": [
       "Leisure trip     417778\n",
       "Business trip     82939\n",
       "Unknown           15021\n",
       "Name: guest_type, dtype: int64"
      ]
     },
     "execution_count": 243,
     "metadata": {},
     "output_type": "execute_result"
    }
   ],
   "source": [
    "hotels.guest_type = hotels.trip_type.astype('category')\n",
    "hotels.guest_type.value_counts()"
   ]
  },
  {
   "attachments": {},
   "cell_type": "markdown",
   "metadata": {},
   "source": [
    "Посмотрим на частоты в четвертом элементе тегов:"
   ]
  },
  {
   "cell_type": "code",
   "execution_count": 247,
   "metadata": {},
   "outputs": [],
   "source": [
    "fourth_tag_elements = hotels[hotels.tags.apply(len) == 6].tags.apply(lambda x: x[3])"
   ]
  },
  {
   "cell_type": "code",
   "execution_count": 248,
   "metadata": {},
   "outputs": [
    {
     "data": {
      "text/plain": [
       "Superior Double Room             49\n",
       "Standard Double Room             48\n",
       "Double or Twin Room              48\n",
       "Double Room                      40\n",
       "Deluxe Double Room               29\n",
       "                                 ..\n",
       "Deluxe Room Barlow Wing           1\n",
       "Superior Triple Room              1\n",
       "Executive Room with City View     1\n",
       "Sextuple Room                     1\n",
       "Deluxe Studio Suite               1\n",
       "Name: tags, Length: 209, dtype: int64"
      ]
     },
     "execution_count": 248,
     "metadata": {},
     "output_type": "execute_result"
    }
   ],
   "source": [
    "fourth_tag_elements.value_counts()"
   ]
  },
  {
   "attachments": {},
   "cell_type": "markdown",
   "metadata": {},
   "source": [
    "Похоже на то, что этот признак отвечает за тип номера и обязательно содержит Room. Проверим это:"
   ]
  },
  {
   "cell_type": "code",
   "execution_count": 250,
   "metadata": {},
   "outputs": [
    {
     "data": {
      "text/plain": [
       "2 rooms                                             28\n",
       "Junior Suite                                         9\n",
       "Suite                                                4\n",
       "Studio                                               3\n",
       "Suite with Spa Access 2 Adults                       2\n",
       "Chelsea Double Suite                                 2\n",
       "Standard                                             2\n",
       "Deluxe Junior Suite                                  2\n",
       "Family Suite                                         1\n",
       "Junior Triple Suite                                  1\n",
       "Junior Suite Courtyard                               1\n",
       "Junior Suite 3 Adults                                1\n",
       "Duplex Suite with Spa Access                         1\n",
       "Cool Corner Suite                                    1\n",
       "Suite with Terrace                                   1\n",
       "Junior Suite with Executive Lounge Access            1\n",
       "Gallery Suite                                        1\n",
       "Deluxe                                               1\n",
       "Large Garden View King                               1\n",
       "Park Deluxe Suite                                    1\n",
       "Classic Suite                                        1\n",
       "Classic Guest room 1 King or 2 Twin Single Bed s     1\n",
       "One Bedroom Suite                                    1\n",
       "Marina Double Suite                                  1\n",
       "4 Person Suite                                       1\n",
       "Standard Suite                                       1\n",
       "Studio Apartment                                     1\n",
       "Executive Studio City View Family                    1\n",
       "Studio Double Family                                 1\n",
       "Executive King                                       1\n",
       "Standard Apartment                                   1\n",
       "Deluxe Suite                                         1\n",
       "Deluxe Studio Suite                                  1\n",
       "Name: tags, dtype: int64"
      ]
     },
     "execution_count": 250,
     "metadata": {},
     "output_type": "execute_result"
    }
   ],
   "source": [
    "room_in_tag_mask = fourth_tag_elements.apply(lambda x: 'Room' in x)\n",
    "fourth_tag_elements[~room_in_tag_mask].value_counts()"
   ]
  },
  {
   "attachments": {},
   "cell_type": "markdown",
   "metadata": {},
   "source": [
    "Видим, что нужно добавить к Room еще rooms, Suite и Studio для более точного детектирования признака типа номера room_type. Создадим этот признак:"
   ]
  },
  {
   "cell_type": "code",
   "execution_count": 252,
   "metadata": {},
   "outputs": [
    {
     "name": "stderr",
     "output_type": "stream",
     "text": [
      "100%|██████████| 515738/515738 [00:01<00:00, 321199.68it/s]\n"
     ]
    },
    {
     "data": {
      "text/plain": [
       "Double Room                                  35207\n",
       "Standard Double Room                         32248\n",
       "Superior Double Room                         31393\n",
       "Deluxe Double Room                           24823\n",
       "Double or Twin Room                          22393\n",
       "                                             ...  \n",
       "Suite with Club Lounge Access                    1\n",
       "Superior Suite 4 Adults                          1\n",
       "One Bedroom Suite with Courtyard View            1\n",
       "Family Room Two connecting Rooms 3 Adults        1\n",
       "King Master Suite                                1\n",
       "Name: room_type, Length: 2190, dtype: int64"
      ]
     },
     "execution_count": 252,
     "metadata": {},
     "output_type": "execute_result"
    }
   ],
   "source": [
    "room_type_features = [\n",
    "    'Room',\n",
    "    'rooms',\n",
    "    'Suite',\n",
    "    'Studio'\n",
    "]\n",
    "\n",
    "def room_type_present(tag):\n",
    "    return any(room_type in tag for room_type in room_type_features)\n",
    "\n",
    "def get_room_type(tags):\n",
    "    return next((tag for tag in tags if room_type_present(tag)), 'Unknown')\n",
    "\n",
    "hotels['room_type'] = hotels.tags.progress_apply(get_room_type)\n",
    "\n",
    "hotels.room_type.value_counts()"
   ]
  },
  {
   "attachments": {},
   "cell_type": "markdown",
   "metadata": {},
   "source": [
    "Видим, что вариантов масса, поэтому приведем этот признак к категориальному типу:"
   ]
  },
  {
   "cell_type": "code",
   "execution_count": 253,
   "metadata": {},
   "outputs": [],
   "source": [
    "hotels.room_type = hotels.room_type.astype('category')"
   ]
  },
  {
   "attachments": {},
   "cell_type": "markdown",
   "metadata": {},
   "source": [
    "Проанализируем пятый элемент тегов:"
   ]
  },
  {
   "cell_type": "code",
   "execution_count": 254,
   "metadata": {},
   "outputs": [
    {
     "data": {
      "text/plain": [
       "Stayed 1 night      311\n",
       "Stayed 2 nights     197\n",
       "Stayed 3 nights     127\n",
       "Stayed 4 nights      59\n",
       "Stayed 5 nights      28\n",
       "Stayed 7 nights      11\n",
       "Stayed 6 nights      10\n",
       "Stayed 8 nights       3\n",
       "Stayed 9 nights       2\n",
       "Stayed 10 nights      2\n",
       "Stayed 11 nights      2\n",
       "Stayed 20 nights      1\n",
       "Stayed 14 nights      1\n",
       "Stayed 18 nights      1\n",
       "Name: tags, dtype: int64"
      ]
     },
     "execution_count": 254,
     "metadata": {},
     "output_type": "execute_result"
    }
   ],
   "source": [
    "hotels[hotels.tags.apply(len) == 6].tags.apply(lambda x: x[4]).value_counts()\n"
   ]
  },
  {
   "attachments": {},
   "cell_type": "markdown",
   "metadata": {},
   "source": [
    "Видим, что это признак, обозначающий количество ночей, на которые заселялись гости. Выделим его, ставя 0 там, где этот тег отсутствует:"
   ]
  },
  {
   "cell_type": "code",
   "execution_count": 255,
   "metadata": {},
   "outputs": [],
   "source": [
    "def get_nights_count(tags):\n",
    "    return next((int(tag.split()[1]) for tag in tags if 'Stayed' in tag), 0)"
   ]
  },
  {
   "cell_type": "code",
   "execution_count": 257,
   "metadata": {},
   "outputs": [
    {
     "name": "stderr",
     "output_type": "stream",
     "text": [
      "100%|██████████| 515738/515738 [00:00<00:00, 552947.31it/s]\n"
     ]
    }
   ],
   "source": [
    "hotels['nights_count'] = hotels.tags.progress_apply(get_nights_count)"
   ]
  },
  {
   "attachments": {},
   "cell_type": "markdown",
   "metadata": {},
   "source": [
    "Посмотрим на частоты этого признака после извлечения:"
   ]
  },
  {
   "cell_type": "code",
   "execution_count": 259,
   "metadata": {},
   "outputs": [
    {
     "data": {
      "text/plain": [
       "1     193645\n",
       "2     133937\n",
       "3      95821\n",
       "4      47817\n",
       "5      20845\n",
       "6       9776\n",
       "7       7399\n",
       "8       2502\n",
       "9       1293\n",
       "10       889\n",
       "11       418\n",
       "12       316\n",
       "14       247\n",
       "13       246\n",
       "0        192\n",
       "15       117\n",
       "16        57\n",
       "17        42\n",
       "18        33\n",
       "19        29\n",
       "21        23\n",
       "20        19\n",
       "30        11\n",
       "27        11\n",
       "22        10\n",
       "23        10\n",
       "28         7\n",
       "26         7\n",
       "25         7\n",
       "24         6\n",
       "29         5\n",
       "31         1\n",
       "Name: nights_count, dtype: int64"
      ]
     },
     "execution_count": 259,
     "metadata": {},
     "output_type": "execute_result"
    }
   ],
   "source": [
    "hotels.nights_count.value_counts()\n"
   ]
  },
  {
   "attachments": {},
   "cell_type": "markdown",
   "metadata": {},
   "source": [
    "Видим, что нули есть, но их относительно немного."
   ]
  },
  {
   "attachments": {},
   "cell_type": "markdown",
   "metadata": {},
   "source": [
    "Проанализируем 6-й элемент тегов:"
   ]
  },
  {
   "cell_type": "code",
   "execution_count": 260,
   "metadata": {},
   "outputs": [
    {
     "data": {
      "text/plain": [
       "Submitted from a mobile device    755\n",
       "Name: tags, dtype: int64"
      ]
     },
     "execution_count": 260,
     "metadata": {},
     "output_type": "execute_result"
    }
   ],
   "source": [
    "hotels[hotels.tags.apply(len) == 6].tags.apply(lambda x: x[5]).value_counts()"
   ]
  },
  {
   "attachments": {},
   "cell_type": "markdown",
   "metadata": {},
   "source": [
    "Видим, что это признак того, что отзыв отправлен с мобильного устройства."
   ]
  },
  {
   "attachments": {},
   "cell_type": "markdown",
   "metadata": {},
   "source": [
    "Превратим наличие или отсутствие тега \"Submitted from a mobile device\" в бинарный признак from_mobile"
   ]
  },
  {
   "cell_type": "code",
   "execution_count": 261,
   "metadata": {},
   "outputs": [],
   "source": [
    "def get_from_mobile(tags):\n",
    "    return next((1 for tag in tags if tag == 'Submitted from a mobile device'), 0)\n"
   ]
  },
  {
   "cell_type": "code",
   "execution_count": 262,
   "metadata": {},
   "outputs": [
    {
     "name": "stderr",
     "output_type": "stream",
     "text": [
      "100%|██████████| 515738/515738 [00:00<00:00, 564793.06it/s]\n"
     ]
    }
   ],
   "source": [
    "hotels['from_mobile'] = hotels.tags.progress_apply(get_from_mobile)"
   ]
  },
  {
   "cell_type": "code",
   "execution_count": 263,
   "metadata": {},
   "outputs": [
    {
     "data": {
      "text/plain": [
       "1    307640\n",
       "0    208098\n",
       "Name: from_mobile, dtype: int64"
      ]
     },
     "execution_count": 263,
     "metadata": {},
     "output_type": "execute_result"
    }
   ],
   "source": [
    "hotels.from_mobile.value_counts()"
   ]
  },
  {
   "attachments": {},
   "cell_type": "markdown",
   "metadata": {},
   "source": [
    "#### 1.3.8. Преобразование строковых признаков в категориальные, удаление лишних признаков"
   ]
  },
  {
   "attachments": {},
   "cell_type": "markdown",
   "metadata": {},
   "source": [
    "Посмотрим на оставшиеся строковые признаки:"
   ]
  },
  {
   "cell_type": "code",
   "execution_count": 265,
   "metadata": {},
   "outputs": [
    {
     "name": "stdout",
     "output_type": "stream",
     "text": [
      "<class 'pandas.core.frame.DataFrame'>\n",
      "RangeIndex: 515738 entries, 0 to 515737\n",
      "Data columns (total 6 columns):\n",
      " #   Column          Non-Null Count   Dtype \n",
      "---  ------          --------------   ----- \n",
      " 0   tags            515738 non-null  object\n",
      " 1   hotel_country   515738 non-null  object\n",
      " 2   hotel_city      515738 non-null  object\n",
      " 3   hotel_location  515738 non-null  object\n",
      " 4   neg_scores      515738 non-null  object\n",
      " 5   pos_scores      515738 non-null  object\n",
      "dtypes: object(6)\n",
      "memory usage: 23.6+ MB\n"
     ]
    }
   ],
   "source": [
    "hotels.select_dtypes('object').info()"
   ]
  },
  {
   "attachments": {},
   "cell_type": "markdown",
   "metadata": {},
   "source": [
    "### 2. Отбор признаков"
   ]
  },
  {
   "attachments": {},
   "cell_type": "markdown",
   "metadata": {},
   "source": [
    "Переведем hotel_country, hotel_city к категориальному типу:"
   ]
  },
  {
   "cell_type": "code",
   "execution_count": 266,
   "metadata": {},
   "outputs": [],
   "source": [
    "hotels.hotel_country = hotels.hotel_country.astype('category')\n",
    "hotels.hotel_city = hotels.hotel_city.astype('category')"
   ]
  },
  {
   "attachments": {},
   "cell_type": "markdown",
   "metadata": {},
   "source": [
    "Для тестирования промежуточного результата избавимся от оставщихся строковых данных."
   ]
  },
  {
   "cell_type": "code",
   "execution_count": 267,
   "metadata": {},
   "outputs": [],
   "source": [
    "hotels = hotels.select_dtypes([], ['object'])"
   ]
  },
  {
   "attachments": {},
   "cell_type": "markdown",
   "metadata": {},
   "source": [
    "Перед отбором признаков проверим датасет на пропуски:"
   ]
  },
  {
   "cell_type": "code",
   "execution_count": 269,
   "metadata": {},
   "outputs": [
    {
     "data": {
      "text/plain": [
       "0"
      ]
     },
     "execution_count": 269,
     "metadata": {},
     "output_type": "execute_result"
    }
   ],
   "source": [
    "hotels.drop(columns=[TARGET]).isna().sum().sum()"
   ]
  },
  {
   "attachments": {},
   "cell_type": "markdown",
   "metadata": {},
   "source": [
    "Удалим промежуточные признаки city_center_lat, city_center_lng, необходимость в которых отпала после вычисления расстояния от отеля до центра города"
   ]
  },
  {
   "cell_type": "code",
   "execution_count": 281,
   "metadata": {},
   "outputs": [],
   "source": [
    "hotels.drop(columns=[\n",
    "    'city_center_lat',\n",
    "    'city_center_lng',\n",
    "], inplace=True)"
   ]
  },
  {
   "attachments": {},
   "cell_type": "markdown",
   "metadata": {},
   "source": [
    "Проведем анализ мультиколлинеарности признаков"
   ]
  },
  {
   "cell_type": "code",
   "execution_count": 283,
   "metadata": {},
   "outputs": [],
   "source": [
    "import seaborn as sns"
   ]
  },
  {
   "cell_type": "code",
   "execution_count": 284,
   "metadata": {},
   "outputs": [],
   "source": [
    "pd.set_option('display.max_rows', 100)"
   ]
  },
  {
   "cell_type": "code",
   "execution_count": 304,
   "metadata": {},
   "outputs": [],
   "source": [
    "def show_corr(min_corr = 0.75, show_heatmap=True):\n",
    "    corr = hotels.drop(columns=['train', TARGET]).corr(numeric_only=True)\n",
    "    if show_heatmap:\n",
    "        sns.set(rc={'figure.figsize':(20, 10)})\n",
    "        ax = sns.heatmap(\n",
    "            corr, \n",
    "            vmin=-1, \n",
    "            vmax=1, \n",
    "            center=0,\n",
    "            cmap=sns.diverging_palette(20, 220, n=200),\n",
    "            square=True,\n",
    "        );\n",
    "    corr_unstack = corr.abs().unstack().reset_index()\n",
    "    corr_unstack = corr_unstack.sort_values(by=[0], ascending=False)\n",
    "    mask = corr_unstack['level_0'] != corr_unstack['level_1']\n",
    "    corr_unstack = corr_unstack[mask]\n",
    "    corr_unstack['pr1'] = corr_unstack['level_0'] + corr_unstack['level_1']\n",
    "    corr_unstack['pr1'] = corr_unstack['pr1'].apply(lambda x: ''.join(sorted(list(x))))\n",
    "    corr_unstack = corr_unstack.drop_duplicates(subset=['pr1'])\n",
    "    corr_unstack = corr_unstack.drop(['pr1'], axis=1)\n",
    "    print('Наиболее высокая корреляция между признаками:')\n",
    "    print(corr_unstack[corr_unstack[0] >= min_corr])"
   ]
  },
  {
   "attachments": {},
   "cell_type": "markdown",
   "metadata": {},
   "source": [
    "Посмотрим на корреляцию между признаками:"
   ]
  },
  {
   "cell_type": "code",
   "execution_count": 294,
   "metadata": {},
   "outputs": [
    {
     "name": "stdout",
     "output_type": "stream",
     "text": [
      "Наиболее высокая корреляция между признаками:\n",
      "                          level_0                       level_1         0\n",
      "13   additional_number_of_scoring             hotel_revies_freq  0.983634\n",
      "160             days_since_review                          year  0.917266\n",
      "391       n_review_sentiments_neu       n_review_sentiments_pos  0.892428\n",
      "328             hotel_revies_freq       total_number_of_reviews  0.832445\n",
      "75        total_number_of_reviews  additional_number_of_scoring  0.824884\n",
      "441  n_review_sentiments_compound       n_review_sentiments_pos  0.779952\n",
      "495       p_review_sentiments_neu       p_review_sentiments_pos  0.759999\n"
     ]
    },
    {
     "data": {
      "image/png": "[encoded data removed]",
      "text/plain": [
       "<Figure size 2000x1000 with 2 Axes>"
      ]
     },
     "metadata": {},
     "output_type": "display_data"
    }
   ],
   "source": [
    "show_corr()"
   ]
  },
  {
   "attachments": {},
   "cell_type": "markdown",
   "metadata": {},
   "source": [
    "Удалим часть сильно скорррелированных признаков:"
   ]
  },
  {
   "cell_type": "code",
   "execution_count": 300,
   "metadata": {},
   "outputs": [],
   "source": [
    "hotels.drop(columns=[\n",
    "    'nr_frequency',\n",
    "    'pr_frequency',\n",
    "    'year',\n",
    "    'hotel_revies_freq',\n",
    "    'n_review_sentiments_neu',\n",
    "    'total_number_of_reviews',\n",
    "    'p_review_sentiments_neu',\n",
    "    'n_review_sentiments_compound'\n",
    "], inplace=True)"
   ]
  },
  {
   "attachments": {},
   "cell_type": "markdown",
   "metadata": {},
   "source": [
    "Посмотрим на корреляции еще раз:"
   ]
  },
  {
   "cell_type": "code",
   "execution_count": 305,
   "metadata": {},
   "outputs": [
    {
     "name": "stdout",
     "output_type": "stream",
     "text": [
      "Наиболее высокая корреляция между признаками:\n",
      "Empty DataFrame\n",
      "Columns: [level_0, level_1, 0]\n",
      "Index: []\n"
     ]
    }
   ],
   "source": [
    "show_corr(show_heatmap=False)"
   ]
  },
  {
   "attachments": {},
   "cell_type": "markdown",
   "metadata": {},
   "source": [
    "Видим, что сильно скоррелированных признаков не осталось."
   ]
  },
  {
   "attachments": {},
   "cell_type": "markdown",
   "metadata": {},
   "source": [
    "### 3. Анализ целевой переменной"
   ]
  },
  {
   "attachments": {},
   "cell_type": "markdown",
   "metadata": {},
   "source": [
    "Посмотрим на то, как целевая переменная представлена в sample_submission:"
   ]
  },
  {
   "cell_type": "code",
   "execution_count": 311,
   "metadata": {},
   "outputs": [
    {
     "data": {
      "text/html": [
       "<div>\n",
       "<style scoped>\n",
       "    .dataframe tbody tr th:only-of-type {\n",
       "        vertical-align: middle;\n",
       "    }\n",
       "\n",
       "    .dataframe tbody tr th {\n",
       "        vertical-align: top;\n",
       "    }\n",
       "\n",
       "    .dataframe thead th {\n",
       "        text-align: right;\n",
       "    }\n",
       "</style>\n",
       "<table border=\"1\" class=\"dataframe\">\n",
       "  <thead>\n",
       "    <tr style=\"text-align: right;\">\n",
       "      <th></th>\n",
       "      <th>reviewer_score</th>\n",
       "      <th>id</th>\n",
       "    </tr>\n",
       "  </thead>\n",
       "  <tbody>\n",
       "    <tr>\n",
       "      <th>0</th>\n",
       "      <td>1</td>\n",
       "      <td>488440</td>\n",
       "    </tr>\n",
       "    <tr>\n",
       "      <th>1</th>\n",
       "      <td>10</td>\n",
       "      <td>274649</td>\n",
       "    </tr>\n",
       "    <tr>\n",
       "      <th>2</th>\n",
       "      <td>3</td>\n",
       "      <td>374688</td>\n",
       "    </tr>\n",
       "    <tr>\n",
       "      <th>3</th>\n",
       "      <td>10</td>\n",
       "      <td>404352</td>\n",
       "    </tr>\n",
       "    <tr>\n",
       "      <th>4</th>\n",
       "      <td>9</td>\n",
       "      <td>451596</td>\n",
       "    </tr>\n",
       "  </tbody>\n",
       "</table>\n",
       "</div>"
      ],
      "text/plain": [
       "   reviewer_score      id\n",
       "0               1  488440\n",
       "1              10  274649\n",
       "2               3  374688\n",
       "3              10  404352\n",
       "4               9  451596"
      ]
     },
     "execution_count": 311,
     "metadata": {},
     "output_type": "execute_result"
    }
   ],
   "source": [
    "sample_submission.head()"
   ]
  },
  {
   "attachments": {},
   "cell_type": "markdown",
   "metadata": {},
   "source": [
    "Видим, что переменная представлена в целочисленном виде. Посмотрим подробнее:"
   ]
  },
  {
   "cell_type": "code",
   "execution_count": 312,
   "metadata": {},
   "outputs": [
    {
     "data": {
      "text/plain": [
       "count    128935.000000\n",
       "mean          5.504270\n",
       "std           2.873259\n",
       "min           1.000000\n",
       "25%           3.000000\n",
       "50%           6.000000\n",
       "75%           8.000000\n",
       "max          10.000000\n",
       "Name: reviewer_score, dtype: float64"
      ]
     },
     "execution_count": 312,
     "metadata": {},
     "output_type": "execute_result"
    }
   ],
   "source": [
    "sample_submission.reviewer_score.describe()"
   ]
  },
  {
   "cell_type": "markdown",
   "metadata": {},
   "source": [
    "Видим, что минимальная оценцка 1, а максимальная 10. Однако при score более 44 по такому предсказанию, ориентироваться на него не стоит."
   ]
  },
  {
   "attachments": {},
   "cell_type": "markdown",
   "metadata": {},
   "source": [
    "Посмотрим на целевую переменную в тренировочном датасете:"
   ]
  },
  {
   "cell_type": "code",
   "execution_count": 308,
   "metadata": {},
   "outputs": [
    {
     "data": {
      "text/plain": [
       "count    386803.000000\n",
       "mean          8.396906\n",
       "std           1.636090\n",
       "min           2.500000\n",
       "25%           7.500000\n",
       "50%           8.800000\n",
       "75%           9.600000\n",
       "max          10.000000\n",
       "Name: reviewer_score, dtype: float64"
      ]
     },
     "execution_count": 308,
     "metadata": {},
     "output_type": "execute_result"
    }
   ],
   "source": [
    "hotels[hotels.train == 1][TARGET].describe()"
   ]
  },
  {
   "cell_type": "code",
   "execution_count": 309,
   "metadata": {},
   "outputs": [
    {
     "data": {
      "text/plain": [
       "<AxesSubplot: xlabel='reviewer_score', ylabel='Density'>"
      ]
     },
     "execution_count": 309,
     "metadata": {},
     "output_type": "execute_result"
    },
    {
     "data": {
      "image/png": "[encoded data removed]",
      "text/plain": [
       "<Figure size 2000x1000 with 1 Axes>"
      ]
     },
     "metadata": {},
     "output_type": "display_data"
    }
   ],
   "source": [
    "sns.kdeplot(hotels[hotels.train == 1][TARGET])"
   ]
  },
  {
   "cell_type": "code",
   "execution_count": null,
   "metadata": {},
   "outputs": [],
   "source": [
    "sns.boxplot()"
   ]
  },
  {
   "attachments": {},
   "cell_type": "markdown",
   "metadata": {},
   "source": [
    "Проведем обучение модели с помощью LAMA"
   ]
  },
  {
   "cell_type": "code",
   "execution_count": 319,
   "metadata": {},
   "outputs": [],
   "source": [
    "from lightautoml.automl.presets.tabular_presets import TabularAutoML\n",
    "from lightautoml.tasks import Task\n",
    "import numpy as np\n",
    "\n",
    "# Определение констант для lightautoml\n",
    "N_THREADS = 12\n",
    "N_FOLDS = 10\n",
    "RANDOM_STATE = 42\n",
    "TEST_SIZE = 0.3\n",
    "TIMEOUT = 200000 # equal to 10 hours\n",
    "TARGET_NAME = 'reviewer_score'\n",
    "\n",
    "np.random.seed(RANDOM_STATE)"
   ]
  },
  {
   "cell_type": "code",
   "execution_count": 320,
   "metadata": {},
   "outputs": [],
   "source": [
    "train_data = hotels[hotels.train == 1].drop(columns=['train'])\n",
    "test_data = hotels[hotels.train == 0].drop(columns=['train'])"
   ]
  },
  {
   "cell_type": "code",
   "execution_count": 321,
   "metadata": {},
   "outputs": [],
   "source": [
    "from sklearn.model_selection import train_test_split"
   ]
  },
  {
   "cell_type": "code",
   "execution_count": 322,
   "metadata": {},
   "outputs": [],
   "source": [
    "# разбиение на тренировочную и валидационную модели\n",
    "# tr_data - тренеровочные данные\n",
    "# te_data - холдаут\n",
    "\n",
    "tr_data, te_data = train_test_split(\n",
    "    train_data,\n",
    "    test_size=TEST_SIZE,\n",
    "    random_state=RANDOM_STATE\n",
    ")\n"
   ]
  },
  {
   "cell_type": "code",
   "execution_count": 323,
   "metadata": {},
   "outputs": [
    {
     "name": "stdout",
     "output_type": "stream",
     "text": [
      "[14:35:15] Stdout logging level is INFO.\n",
      "[14:35:15] Copying TaskTimer may affect the parent PipelineTimer, so copy will create new unlimited TaskTimer\n",
      "[14:35:15] Task: reg\n",
      "\n",
      "[14:35:15] Start automl preset with listed constraints:\n",
      "[14:35:15] - time: 200000.00 seconds\n",
      "[14:35:15] - CPU: 12 cores\n",
      "[14:35:15] - memory: 16 GB\n",
      "\n",
      "[14:35:15] \u001b[1mTrain data shape: (270762, 27)\u001b[0m\n",
      "\n"
     ]
    },
    {
     "name": "stderr",
     "output_type": "stream",
     "text": [
      "/home/alexey/anaconda3/lib/python3.9/site-packages/lightautoml/transformers/categorical.py:1029: FutureWarning: The series.append method is deprecated and will be removed from pandas in a future version. Use pandas.concat instead.\n",
      "  cnts = cnts.append(Series([cnts.shape[0] + 1], index=[np.nan]))\n",
      "/home/alexey/anaconda3/lib/python3.9/site-packages/lightautoml/transformers/categorical.py:1029: FutureWarning: The series.append method is deprecated and will be removed from pandas in a future version. Use pandas.concat instead.\n",
      "  cnts = cnts.append(Series([cnts.shape[0] + 1], index=[np.nan]))\n",
      "/home/alexey/anaconda3/lib/python3.9/site-packages/lightautoml/transformers/categorical.py:1029: FutureWarning: The series.append method is deprecated and will be removed from pandas in a future version. Use pandas.concat instead.\n",
      "  cnts = cnts.append(Series([cnts.shape[0] + 1], index=[np.nan]))\n",
      "/home/alexey/anaconda3/lib/python3.9/site-packages/lightautoml/transformers/categorical.py:1029: FutureWarning: The series.append method is deprecated and will be removed from pandas in a future version. Use pandas.concat instead.\n",
      "  cnts = cnts.append(Series([cnts.shape[0] + 1], index=[np.nan]))\n",
      "/home/alexey/anaconda3/lib/python3.9/site-packages/lightautoml/transformers/categorical.py:1029: FutureWarning: The series.append method is deprecated and will be removed from pandas in a future version. Use pandas.concat instead.\n",
      "  cnts = cnts.append(Series([cnts.shape[0] + 1], index=[np.nan]))\n",
      "/home/alexey/anaconda3/lib/python3.9/site-packages/lightautoml/transformers/categorical.py:1029: FutureWarning: The series.append method is deprecated and will be removed from pandas in a future version. Use pandas.concat instead.\n",
      "  cnts = cnts.append(Series([cnts.shape[0] + 1], index=[np.nan]))\n",
      "/home/alexey/anaconda3/lib/python3.9/site-packages/lightautoml/transformers/categorical.py:1029: FutureWarning: The series.append method is deprecated and will be removed from pandas in a future version. Use pandas.concat instead.\n",
      "  cnts = cnts.append(Series([cnts.shape[0] + 1], index=[np.nan]))\n"
     ]
    },
    {
     "name": "stdout",
     "output_type": "stream",
     "text": [
      "[14:35:28] Layer \u001b[1m1\u001b[0m train process start. Time left 199986.81 secs\n",
      "[14:35:40] Start fitting \u001b[1mLvl_0_Pipe_0_Mod_0_LinearL2\u001b[0m ...\n",
      "[14:37:42] Fitting \u001b[1mLvl_0_Pipe_0_Mod_0_LinearL2\u001b[0m finished. score = \u001b[1m-0.9201184528247484\u001b[0m\n",
      "[14:37:42] \u001b[1mLvl_0_Pipe_0_Mod_0_LinearL2\u001b[0m fitting and predicting completed\n",
      "[14:37:42] Time left 199852.97 secs\n",
      "\n"
     ]
    },
    {
     "name": "stderr",
     "output_type": "stream",
     "text": [
      "/home/alexey/anaconda3/lib/python3.9/site-packages/lightautoml/transformers/categorical.py:1029: FutureWarning: The series.append method is deprecated and will be removed from pandas in a future version. Use pandas.concat instead.\n",
      "  cnts = cnts.append(Series([cnts.shape[0] + 1], index=[np.nan]))\n",
      "/home/alexey/anaconda3/lib/python3.9/site-packages/lightautoml/transformers/categorical.py:1029: FutureWarning: The series.append method is deprecated and will be removed from pandas in a future version. Use pandas.concat instead.\n",
      "  cnts = cnts.append(Series([cnts.shape[0] + 1], index=[np.nan]))\n",
      "/home/alexey/anaconda3/lib/python3.9/site-packages/lightautoml/transformers/categorical.py:1029: FutureWarning: The series.append method is deprecated and will be removed from pandas in a future version. Use pandas.concat instead.\n",
      "  cnts = cnts.append(Series([cnts.shape[0] + 1], index=[np.nan]))\n",
      "/home/alexey/anaconda3/lib/python3.9/site-packages/lightautoml/transformers/categorical.py:1029: FutureWarning: The series.append method is deprecated and will be removed from pandas in a future version. Use pandas.concat instead.\n",
      "  cnts = cnts.append(Series([cnts.shape[0] + 1], index=[np.nan]))\n",
      "/home/alexey/anaconda3/lib/python3.9/site-packages/lightautoml/transformers/categorical.py:1029: FutureWarning: The series.append method is deprecated and will be removed from pandas in a future version. Use pandas.concat instead.\n",
      "  cnts = cnts.append(Series([cnts.shape[0] + 1], index=[np.nan]))\n",
      "/home/alexey/anaconda3/lib/python3.9/site-packages/lightautoml/transformers/categorical.py:1029: FutureWarning: The series.append method is deprecated and will be removed from pandas in a future version. Use pandas.concat instead.\n",
      "  cnts = cnts.append(Series([cnts.shape[0] + 1], index=[np.nan]))\n",
      "/home/alexey/anaconda3/lib/python3.9/site-packages/lightautoml/transformers/categorical.py:1029: FutureWarning: The series.append method is deprecated and will be removed from pandas in a future version. Use pandas.concat instead.\n",
      "  cnts = cnts.append(Series([cnts.shape[0] + 1], index=[np.nan]))\n"
     ]
    },
    {
     "name": "stdout",
     "output_type": "stream",
     "text": [
      "[14:38:31] \u001b[1mSelector_LightGBM\u001b[0m fitting and predicting completed\n",
      "[14:38:44] Start fitting \u001b[1mLvl_0_Pipe_1_Mod_0_LightGBM\u001b[0m ...\n"
     ]
    },
    {
     "name": "stderr",
     "output_type": "stream",
     "text": [
      "/home/alexey/anaconda3/lib/python3.9/site-packages/lightautoml/transformers/categorical.py:1029: FutureWarning: The series.append method is deprecated and will be removed from pandas in a future version. Use pandas.concat instead.\n",
      "  cnts = cnts.append(Series([cnts.shape[0] + 1], index=[np.nan]))\n",
      "/home/alexey/anaconda3/lib/python3.9/site-packages/lightautoml/transformers/categorical.py:1029: FutureWarning: The series.append method is deprecated and will be removed from pandas in a future version. Use pandas.concat instead.\n",
      "  cnts = cnts.append(Series([cnts.shape[0] + 1], index=[np.nan]))\n"
     ]
    },
    {
     "name": "stdout",
     "output_type": "stream",
     "text": [
      "[14:53:10] Fitting \u001b[1mLvl_0_Pipe_1_Mod_0_LightGBM\u001b[0m finished. score = \u001b[1m-0.8280448119044626\u001b[0m\n",
      "[14:53:10] \u001b[1mLvl_0_Pipe_1_Mod_0_LightGBM\u001b[0m fitting and predicting completed\n",
      "[14:53:10] Start hyperparameters optimization for \u001b[1mLvl_0_Pipe_1_Mod_1_Tuned_LightGBM\u001b[0m ... Time budget is 300.00 secs\n",
      "[14:59:22] Hyperparameters optimization for \u001b[1mLvl_0_Pipe_1_Mod_1_Tuned_LightGBM\u001b[0m completed\n",
      "[14:59:22] Start fitting \u001b[1mLvl_0_Pipe_1_Mod_1_Tuned_LightGBM\u001b[0m ...\n",
      "[15:12:53] Fitting \u001b[1mLvl_0_Pipe_1_Mod_1_Tuned_LightGBM\u001b[0m finished. score = \u001b[1m-0.8277943623670794\u001b[0m\n",
      "[15:12:53] \u001b[1mLvl_0_Pipe_1_Mod_1_Tuned_LightGBM\u001b[0m fitting and predicting completed\n",
      "[15:12:53] Start fitting \u001b[1mLvl_0_Pipe_1_Mod_2_CatBoost\u001b[0m ...\n"
     ]
    },
    {
     "name": "stderr",
     "output_type": "stream",
     "text": [
      "Default metric period is 5 because MAE is/are not implemented for GPU\n",
      "Default metric period is 5 because MAE is/are not implemented for GPU\n",
      "Default metric period is 5 because MAE is/are not implemented for GPU\n",
      "Default metric period is 5 because MAE is/are not implemented for GPU\n",
      "Default metric period is 5 because MAE is/are not implemented for GPU\n",
      "Default metric period is 5 because MAE is/are not implemented for GPU\n",
      "Default metric period is 5 because MAE is/are not implemented for GPU\n",
      "Default metric period is 5 because MAE is/are not implemented for GPU\n",
      "Default metric period is 5 because MAE is/are not implemented for GPU\n",
      "Default metric period is 5 because MAE is/are not implemented for GPU\n"
     ]
    },
    {
     "name": "stdout",
     "output_type": "stream",
     "text": [
      "[15:14:42] Fitting \u001b[1mLvl_0_Pipe_1_Mod_2_CatBoost\u001b[0m finished. score = \u001b[1m-0.8288178349446395\u001b[0m\n",
      "[15:14:42] \u001b[1mLvl_0_Pipe_1_Mod_2_CatBoost\u001b[0m fitting and predicting completed\n",
      "[15:14:42] Start hyperparameters optimization for \u001b[1mLvl_0_Pipe_1_Mod_3_Tuned_CatBoost\u001b[0m ... Time budget is 300.00 secs\n"
     ]
    },
    {
     "name": "stderr",
     "output_type": "stream",
     "text": [
      "Default metric period is 5 because MAE is/are not implemented for GPU\n",
      "Default metric period is 5 because MAE is/are not implemented for GPU\n",
      "Default metric period is 5 because MAE is/are not implemented for GPU\n",
      "Default metric period is 5 because MAE is/are not implemented for GPU\n",
      "Default metric period is 5 because MAE is/are not implemented for GPU\n",
      "Default metric period is 5 because MAE is/are not implemented for GPU\n",
      "Default metric period is 5 because MAE is/are not implemented for GPU\n",
      "Default metric period is 5 because MAE is/are not implemented for GPU\n",
      "Default metric period is 5 because MAE is/are not implemented for GPU\n",
      "Default metric period is 5 because MAE is/are not implemented for GPU\n",
      "Default metric period is 5 because MAE is/are not implemented for GPU\n",
      "Default metric period is 5 because MAE is/are not implemented for GPU\n",
      "Default metric period is 5 because MAE is/are not implemented for GPU\n",
      "Default metric period is 5 because MAE is/are not implemented for GPU\n",
      "Default metric period is 5 because MAE is/are not implemented for GPU\n",
      "Default metric period is 5 because MAE is/are not implemented for GPU\n",
      "Default metric period is 5 because MAE is/are not implemented for GPU\n",
      "Default metric period is 5 because MAE is/are not implemented for GPU\n",
      "Default metric period is 5 because MAE is/are not implemented for GPU\n",
      "Default metric period is 5 because MAE is/are not implemented for GPU\n",
      "Default metric period is 5 because MAE is/are not implemented for GPU\n",
      "Default metric period is 5 because MAE is/are not implemented for GPU\n",
      "Default metric period is 5 because MAE is/are not implemented for GPU\n",
      "Default metric period is 5 because MAE is/are not implemented for GPU\n",
      "Default metric period is 5 because MAE is/are not implemented for GPU\n",
      "Default metric period is 5 because MAE is/are not implemented for GPU\n",
      "Default metric period is 5 because MAE is/are not implemented for GPU\n"
     ]
    },
    {
     "name": "stdout",
     "output_type": "stream",
     "text": [
      "[15:19:49] Hyperparameters optimization for \u001b[1mLvl_0_Pipe_1_Mod_3_Tuned_CatBoost\u001b[0m completed\n",
      "[15:19:49] Start fitting \u001b[1mLvl_0_Pipe_1_Mod_3_Tuned_CatBoost\u001b[0m ...\n"
     ]
    },
    {
     "name": "stderr",
     "output_type": "stream",
     "text": [
      "Default metric period is 5 because MAE is/are not implemented for GPU\n",
      "Default metric period is 5 because MAE is/are not implemented for GPU\n",
      "Default metric period is 5 because MAE is/are not implemented for GPU\n",
      "Default metric period is 5 because MAE is/are not implemented for GPU\n",
      "Default metric period is 5 because MAE is/are not implemented for GPU\n",
      "Default metric period is 5 because MAE is/are not implemented for GPU\n",
      "Default metric period is 5 because MAE is/are not implemented for GPU\n",
      "Default metric period is 5 because MAE is/are not implemented for GPU\n",
      "Default metric period is 5 because MAE is/are not implemented for GPU\n",
      "Default metric period is 5 because MAE is/are not implemented for GPU\n"
     ]
    },
    {
     "name": "stdout",
     "output_type": "stream",
     "text": [
      "[15:22:27] Fitting \u001b[1mLvl_0_Pipe_1_Mod_3_Tuned_CatBoost\u001b[0m finished. score = \u001b[1m-0.8280104385970938\u001b[0m\n",
      "[15:22:27] \u001b[1mLvl_0_Pipe_1_Mod_3_Tuned_CatBoost\u001b[0m fitting and predicting completed\n",
      "[15:22:27] Time left 197167.76 secs\n",
      "\n",
      "[15:22:27] \u001b[1mLayer 1 training completed.\u001b[0m\n",
      "\n",
      "[15:22:27] Blending: optimization starts with equal weights and score \u001b[1m-0.8319554023359954\u001b[0m\n",
      "[15:22:28] Blending: iteration \u001b[1m0\u001b[0m: score = \u001b[1m-0.825983609883205\u001b[0m, weights = \u001b[1m[0.         0.2290154  0.32820553 0.14306954 0.2997096 ]\u001b[0m\n",
      "[15:22:28] Blending: iteration \u001b[1m1\u001b[0m: score = \u001b[1m-0.825961162949916\u001b[0m, weights = \u001b[1m[0.         0.21464776 0.354009   0.0849406  0.34640265]\u001b[0m\n",
      "[15:22:29] Blending: iteration \u001b[1m2\u001b[0m: score = \u001b[1m-0.8259559635790016\u001b[0m, weights = \u001b[1m[0.         0.21763274 0.3546664  0.0620648  0.36563608]\u001b[0m\n",
      "[15:22:29] Blending: iteration \u001b[1m3\u001b[0m: score = \u001b[1m-0.825955814405325\u001b[0m, weights = \u001b[1m[0.         0.21680626 0.35568103 0.06134424 0.3661685 ]\u001b[0m\n",
      "[15:22:30] Blending: iteration \u001b[1m4\u001b[0m: score = \u001b[1m-0.8259556863561394\u001b[0m, weights = \u001b[1m[0.         0.21712503 0.355692   0.06065777 0.36652526]\u001b[0m\n",
      "[15:22:30] \u001b[1mAutoml preset training completed in 2834.68 seconds\u001b[0m\n",
      "\n",
      "[15:22:30] Model description:\n",
      "Final prediction for new objects (level 0) = \n",
      "\t 0.21713 * (10 averaged models Lvl_0_Pipe_1_Mod_0_LightGBM) +\n",
      "\t 0.35569 * (10 averaged models Lvl_0_Pipe_1_Mod_1_Tuned_LightGBM) +\n",
      "\t 0.06066 * (10 averaged models Lvl_0_Pipe_1_Mod_2_CatBoost) +\n",
      "\t 0.36653 * (10 averaged models Lvl_0_Pipe_1_Mod_3_Tuned_CatBoost) \n",
      "\n"
     ]
    }
   ],
   "source": [
    "# Task - объект из lightautoml\n",
    "# Определяем какую задачу мы решаем: бинарную 'binary', регрессии 'reg', мультикласс 'multiclass'\n",
    "# В данном случае регрессия - так как предсказываем вещественное число\n",
    "\n",
    "task = Task('reg', loss='mae', metric='mae')\n",
    "\n",
    "# какая колонка является целевой? и какие колонки лишние\n",
    "roles = {\n",
    "    'target': TARGET_NAME,\n",
    "    'drop': []\n",
    "}\n",
    "\n",
    "# Создаем объект TabularAutoML\n",
    "\n",
    "automl = TabularAutoML(\n",
    "    task=task,\n",
    "    timeout=TIMEOUT,\n",
    "    cpu_limit=N_THREADS,\n",
    "    reader_params={\n",
    "        'n_jobs': N_THREADS,\n",
    "        'cv': N_FOLDS, 'random_state': RANDOM_STATE}\n",
    ")\n",
    "\n",
    "\n",
    "# Начало обучения модели (на каких данных обучаем, какой target, уровень отображения)\n",
    "# После выполнения обучения мы получаем Out OF Folde пердсказание\n",
    "\n",
    "oof_pred = automl.fit_predict(tr_data, roles=roles, verbose=1)\n"
   ]
  },
  {
   "cell_type": "code",
   "execution_count": 324,
   "metadata": {},
   "outputs": [
    {
     "name": "stdout",
     "output_type": "stream",
     "text": [
      "CPU times: user 230 ms, sys: 3.63 ms, total: 234 ms\n",
      "Wall time: 233 ms\n"
     ]
    },
    {
     "data": {
      "text/plain": [
       "<AxesSubplot: xlabel='Feature'>"
      ]
     },
     "execution_count": 324,
     "metadata": {},
     "output_type": "execute_result"
    },
    {
     "data": {
      "image/png": "[encoded data removed]",
      "text/plain": [
       "<Figure size 3000x1000 with 1 Axes>"
      ]
     },
     "metadata": {},
     "output_type": "display_data"
    }
   ],
   "source": [
    "%%time\n",
    "# Оцениваем важность признаков в графическом виде\n",
    "fast_fi = automl.get_feature_scores('fast')\n",
    "fast_fi.set_index('Feature')['Importance'].plot.bar(figsize = (30, 10), grid = True)"
   ]
  },
  {
   "cell_type": "code",
   "execution_count": 325,
   "metadata": {},
   "outputs": [
    {
     "name": "stdout",
     "output_type": "stream",
     "text": [
      "Prediction for te_data:\n",
      "array([[5.2227993],\n",
      "       [8.134073 ],\n",
      "       [9.373009 ],\n",
      "       ...,\n",
      "       [9.622196 ],\n",
      "       [7.631895 ],\n",
      "       [9.852285 ]], dtype=float32)\n",
      "Shape = (116041, 1)\n"
     ]
    }
   ],
   "source": [
    "# Получаем предсказание на валидационой выборке с помощью функции automl.predict\n",
    "te_pred = automl.predict(te_data)\n",
    "print(f'Prediction for te_data:\\n{te_pred}\\nShape = {te_pred.shape}')"
   ]
  },
  {
   "cell_type": "code",
   "execution_count": 326,
   "metadata": {},
   "outputs": [
    {
     "name": "stdout",
     "output_type": "stream",
     "text": [
      "MAPE: 0.12104257245207856\n"
     ]
    }
   ],
   "source": [
    "from sklearn import metrics  # инструменты для оценки точности модели\n",
    "#print(f'TRAIN  score: {mean_absolute_error(tr_data[TARGET_NAME].values, oof_pred.data[:, 0])}')\n",
    "print('MAPE:', metrics.mean_absolute_percentage_error(\n",
    "    te_data[TARGET_NAME].values, te_pred.data[:, 0]))\n"
   ]
  },
  {
   "cell_type": "code",
   "execution_count": 327,
   "metadata": {},
   "outputs": [
    {
     "name": "stdout",
     "output_type": "stream",
     "text": [
      "Prediction for te_data:\n",
      "array([[8.785935 ],\n",
      "       [7.7450438],\n",
      "       [8.010721 ],\n",
      "       ...,\n",
      "       [8.197106 ],\n",
      "       [9.788731 ],\n",
      "       [7.775855 ]], dtype=float32)\n",
      "Shape = (128935, 1)\n"
     ]
    }
   ],
   "source": [
    "test_pred = automl.predict(test_data)\n",
    "print(f'Prediction for te_data:\\n{test_pred}\\nShape = {test_pred.shape}')\n"
   ]
  },
  {
   "cell_type": "code",
   "execution_count": 330,
   "metadata": {},
   "outputs": [],
   "source": [
    "sample_submission[TARGET_NAME] = test_pred.data[:, 0]\n",
    "sample_submission.to_csv('lightautoml_tabularautoml_01.csv', index = False)"
   ]
  },
  {
   "cell_type": "markdown",
   "metadata": {},
   "source": [
    "Округляем до целых в большу сторону"
   ]
  },
  {
   "cell_type": "code",
   "execution_count": 350,
   "metadata": {},
   "outputs": [
    {
     "data": {
      "text/plain": [
       "array([ 9,  8,  8, ...,  8, 10,  8], dtype=uint8)"
      ]
     },
     "execution_count": 350,
     "metadata": {},
     "output_type": "execute_result"
    }
   ],
   "source": [
    "test_pred.data[:, 0].round().astype(np.uint8)"
   ]
  },
  {
   "cell_type": "code",
   "execution_count": 351,
   "metadata": {},
   "outputs": [],
   "source": [
    "sample_submission[TARGET_NAME] = test_pred.data[:, 0].round().astype(np.uint8)\n",
    "sample_submission.to_csv('lightautoml_tabularautoml_02_int.csv', index=False)"
   ]
  },
  {
   "attachments": {},
   "cell_type": "markdown",
   "metadata": {},
   "source": [
    "В соревновании достигнута позиция 31 с оценкой 12.22017"
   ]
  },
  {
   "cell_type": "code",
   "execution_count": null,
   "metadata": {},
   "outputs": [],
   "source": []
  }
 ],
 "metadata": {
  "kernelspec": {
   "display_name": "base",
   "language": "python",
   "name": "python3"
  },
  "language_info": {
   "codemirror_mode": {
    "name": "ipython",
    "version": 3
   },
   "file_extension": ".py",
   "mimetype": "text/x-python",
   "name": "python",
   "nbconvert_exporter": "python",
   "pygments_lexer": "ipython3",
   "version": "3.9.12"
  },
  "vscode": {
   "interpreter": {
    "hash": "c85ce5e063f82c52011c1c6414d7519d9975c8984a5fd91991e796841fee6f1b"
   }
  }
 },
 "nbformat": 4,
 "nbformat_minor": 2
}
